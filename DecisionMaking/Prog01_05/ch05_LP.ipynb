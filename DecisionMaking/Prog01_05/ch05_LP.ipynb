{
 "cells": [
  {
   "cell_type": "markdown",
   "metadata": {},
   "source": [
    "# LP　( Linear Programming)\n",
    "PuLP<br>\n",
    "https://coin-or.github.io/pulp/  \n",
    "https://docs.pyq.jp/python/math_opt/pulp.html<br>"
   ]
  },
  {
   "cell_type": "markdown",
   "metadata": {},
   "source": [
    "#### Colabで実行する場合は次のセルの中をコメントアウトしてパッケージをインストールする。"
   ]
  },
  {
   "cell_type": "code",
   "execution_count": null,
   "metadata": {},
   "outputs": [],
   "source": [
    "#!pip install PuLP"
   ]
  },
  {
   "cell_type": "code",
   "execution_count": null,
   "metadata": {},
   "outputs": [],
   "source": [
    "# -*- coding: utf-8 -*- \n",
    "import numpy as np\n",
    "import pulp\n",
    "\n",
    "import matplotlib.pyplot as plt\n",
    "%matplotlib inline"
   ]
  },
  {
   "cell_type": "markdown",
   "metadata": {},
   "source": [
    "## ミックスジュース"
   ]
  },
  {
   "cell_type": "code",
   "execution_count": null,
   "metadata": {},
   "outputs": [],
   "source": [
    "prob = pulp.LpProblem(\"Juice\", pulp.LpMaximize)\n",
    "x1 = pulp.LpVariable(\"x1\", 0, None, cat=\"Integer\")\n",
    "x2 = pulp.LpVariable(\"x2\", 0, None, cat=\"Integer\")\n",
    "x3 = pulp.LpVariable(\"x3\", 0, None, cat=\"Integer\")\n",
    "\n",
    "prob += 40*x1 + 5*x2 + 20*x3 <= 2000\n",
    "prob += 30*x1 + 50*x2 + 10*x3 <= 3000\n",
    "prob += 5*x1 + 10*x2 + 50*x3 <= 1000\n",
    "prob += 300*x1 + 280*x2 + 420*x3\n",
    "\n",
    "status = prob.solve()\n",
    "print(pulp.LpStatus[status])\n",
    "print(\"x1=\", x1.value())\n",
    "print(\"x2=\", x2.value())\n",
    "print(\"x3=\", x3.value())\n",
    "print(\"f(x)= %f\" % (pulp.value(prob.objective)))"
   ]
  }
 ],
 "metadata": {
  "kernelspec": {
   "display_name": "Python 3 (ipykernel)",
   "language": "python",
   "name": "python3"
  },
  "language_info": {
   "codemirror_mode": {
    "name": "ipython",
    "version": 3
   },
   "file_extension": ".py",
   "mimetype": "text/x-python",
   "name": "python",
   "nbconvert_exporter": "python",
   "pygments_lexer": "ipython3",
   "version": "3.9.12"
  }
 },
 "nbformat": 4,
 "nbformat_minor": 2
}
