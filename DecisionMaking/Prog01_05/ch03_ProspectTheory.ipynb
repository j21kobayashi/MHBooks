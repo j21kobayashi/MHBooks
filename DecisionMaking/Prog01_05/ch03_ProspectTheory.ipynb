{
 "cells": [
  {
   "cell_type": "markdown",
   "metadata": {},
   "source": [
    "# プロスペクト理論\n",
    "関数のパラメータを同定する（求める）のに，カーブフィッティングを用いる。<br>\n",
    "scipy.optimize.curve_fit<br>\n",
    "https://docs.scipy.org/doc/scipy/reference/generated/scipy.optimize.curve_fit.html<br>"
   ]
  },
  {
   "cell_type": "code",
   "execution_count": null,
   "metadata": {},
   "outputs": [],
   "source": [
    "# -*- coding: utf-8 -*-\n",
    "import numpy as np\n",
    "import scipy.optimize as opt\n",
    "\n",
    "import matplotlib.pyplot as plt\n",
    "%matplotlib inline"
   ]
  },
  {
   "cell_type": "markdown",
   "metadata": {},
   "source": [
    "#### 確率加重関数（probability weighting function）\n",
    "$$\n",
    "w(p) = \\frac{{{p^\\gamma }}}{{{{\\left\\{ {{p^\\gamma } + {{\\left( {1 - p} \\right)}^\\gamma }} \\right\\}}^{1/\\gamma }}}}\n",
    "$$"
   ]
  },
  {
   "cell_type": "code",
   "execution_count": null,
   "metadata": {},
   "outputs": [],
   "source": [
    "def pwfun(p, g):\n",
    "    return p**g/pow((p**g+(1-p)**g), 1/g)"
   ]
  },
  {
   "cell_type": "code",
   "execution_count": null,
   "metadata": {
    "scrolled": true
   },
   "outputs": [],
   "source": [
    "p = np.linspace(0.0, 1.0, 100)\n",
    "w1 = pwfun(p, 1)\n",
    "w2 = pwfun(p, 2)\n",
    "w09 = pwfun(p, 0.9)\n",
    "w08 = pwfun(p, 0.8)\n",
    "w07 = pwfun(p, 0.7)\n",
    "w06 = pwfun(p, 0.6)\n",
    "w05 = pwfun(p, 0.5)\n",
    "w03 = pwfun(p, 0.3)\n",
    "w02 = pwfun(p, 0.2)\n",
    "\n",
    "\n",
    "fig = plt.subplots(figsize=(5,5))\n",
    "plt.plot(p, w1, label=\"g=1\", color='k')\n",
    "plt.plot(p, w2, label=\"g=2\")\n",
    "plt.plot(p, w07, label=\"g=0.7\")\n",
    "plt.plot(p, w05, label=\"g=0.5\")\n",
    "plt.plot(p, w03, label=\"g=0.3\")\n",
    "#plt.plot(p, w02, label=\"g=0.2\")\n",
    "plt.legend()\n",
    "plt.grid()\n",
    "plt.xlabel('p')\n",
    "plt.ylabel('w(p)')\n",
    "#plt.savefig('fig_DE_Prospect01.pdf', bbox_inches='tight')"
   ]
  },
  {
   "cell_type": "markdown",
   "metadata": {},
   "source": [
    "#### 期待効用の計算\n",
    "問題１：u1a, u1bは，それぞれ，くじ1-a，くじ1-bに対する期待効用"
   ]
  },
  {
   "cell_type": "code",
   "execution_count": null,
   "metadata": {
    "scrolled": true
   },
   "outputs": [],
   "source": [
    "gamma = 0.5\n",
    "u1a = pwfun(1.0, gamma)*(1.0*(10**5))\n",
    "u1b = pwfun(0.2, gamma)*(1.0*(10**5)) + pwfun(0.79, gamma)*(1.2*(10**5))\n",
    "print('u1a=',u1a, '   u1b=',u1b)"
   ]
  },
  {
   "cell_type": "markdown",
   "metadata": {},
   "source": [
    "問題２：u2a, u2bは，それぞれ，くじ2-a，くじ2-bに対する期待効用"
   ]
  },
  {
   "cell_type": "code",
   "execution_count": null,
   "metadata": {},
   "outputs": [],
   "source": [
    "u2a = pwfun(0.11, gamma)*(10**5)\n",
    "u2b = pwfun(0.1, gamma)*(2.5*10**5)\n",
    "print('u2a=',u2a, '   u2b=',u2b)"
   ]
  },
  {
   "cell_type": "markdown",
   "metadata": {},
   "source": [
    "## パラメータ同定\n",
    "パラメータ推定ともいう。論文 Tversky, A., & Kahneman, D. (1992). Advances in prospect theory: Cumulative representation of uncertainty. Journal of Risk and Uncertainty, 5, 297-323.\n",
    "のデータを下記のように用いている。"
   ]
  },
  {
   "cell_type": "code",
   "execution_count": null,
   "metadata": {},
   "outputs": [],
   "source": [
    "prob_a = np.array([0,  1,  2,5,10,20,50,80,90,95,98,99,100])\n",
    "prob_s = np.array([0,5.5,8.1,13.2,18.6,26.1,42.1,60.1,71.2,79.3,87.1,91.2,100])"
   ]
  },
  {
   "cell_type": "code",
   "execution_count": null,
   "metadata": {
    "scrolled": true
   },
   "outputs": [],
   "source": [
    "print(len(prob_a),len(prob_s))"
   ]
  },
  {
   "cell_type": "code",
   "execution_count": null,
   "metadata": {},
   "outputs": [],
   "source": [
    "prob_an = prob_a/100\n",
    "prob_sn = prob_s/100\n",
    "p = np.linspace(0.0, 1.0, 100)"
   ]
  },
  {
   "cell_type": "markdown",
   "metadata": {},
   "source": [
    "#### データのプロット\n",
    "matplotlib.markers: https://matplotlib.org/stable/api/markers_api.html"
   ]
  },
  {
   "cell_type": "code",
   "execution_count": null,
   "metadata": {
    "scrolled": false
   },
   "outputs": [],
   "source": [
    "fig = plt.subplots(figsize=(4,4))\n",
    "plt.scatter(prob_an, prob_sn)\n",
    "plt.plot(p, p, color='k')\n",
    "plt.grid()\n",
    "plt.xlabel('p')\n",
    "plt.ylabel('w(p)')\n",
    "#plt.savefig('fig_DE_Prospect02.pdf', bbox_inches='tight')"
   ]
  },
  {
   "cell_type": "markdown",
   "metadata": {},
   "source": [
    "#### パラメータ同定"
   ]
  },
  {
   "cell_type": "code",
   "execution_count": null,
   "metadata": {
    "scrolled": true
   },
   "outputs": [],
   "source": [
    "param, cov = opt.curve_fit(pwfun, prob_an, prob_sn, p0=[0.5,])"
   ]
  },
  {
   "cell_type": "code",
   "execution_count": null,
   "metadata": {
    "scrolled": false
   },
   "outputs": [],
   "source": [
    "param"
   ]
  },
  {
   "cell_type": "code",
   "execution_count": null,
   "metadata": {},
   "outputs": [],
   "source": [
    "param[0]"
   ]
  },
  {
   "cell_type": "markdown",
   "metadata": {},
   "source": [
    "#### 同定した関数のプロット"
   ]
  },
  {
   "cell_type": "code",
   "execution_count": null,
   "metadata": {
    "scrolled": true
   },
   "outputs": [],
   "source": [
    "wo = pwfun(p, param[0])\n",
    "\n",
    "fig = plt.subplots(figsize=(5,5))\n",
    "plt.plot(p,wo)\n",
    "plt.plot(p,w1, color='k')\n",
    "plt.scatter(prob_an, prob_sn)\n",
    "plt.grid()\n",
    "plt.xlabel('p')\n",
    "plt.ylabel('w(p)')\n",
    "#plt.savefig('fig_DE_Prospect_CurveFit01.pdf', bbox_inches='tight')"
   ]
  },
  {
   "cell_type": "markdown",
   "metadata": {},
   "source": [
    "#### 期待効用の計算"
   ]
  },
  {
   "cell_type": "code",
   "execution_count": null,
   "metadata": {},
   "outputs": [],
   "source": [
    "gamma = param[0]\n",
    "u1a = pwfun(1.0, gamma)*(1.0*(10**5))\n",
    "u1b = pwfun(0.2, gamma)*(1.0*(10**5)) + pwfun(0.79, gamma)*(1.2*(10**5))\n",
    "print('u1a=',u1a, '   u1b=',u1b)\n",
    "\n",
    "u2a = pwfun(0.11, gamma)*(10**5)\n",
    "u2b = pwfun(0.1, gamma)*(2.5*10**5)\n",
    "print('u2a=',u2a, '   u2b=',u2b)"
   ]
  },
  {
   "cell_type": "markdown",
   "metadata": {},
   "source": [
    "## 3次関数のカーブフィッティング"
   ]
  },
  {
   "cell_type": "code",
   "execution_count": null,
   "metadata": {},
   "outputs": [],
   "source": [
    "def funCube(p, a, b, c, d):\n",
    "    return a*(p**3)+b*(p**2)+c*p+d\n",
    "\n",
    "param2, cov = opt.curve_fit(funCube, prob_an, prob_sn)\n",
    "print(param2)"
   ]
  },
  {
   "cell_type": "code",
   "execution_count": null,
   "metadata": {
    "scrolled": true
   },
   "outputs": [],
   "source": [
    "y = param2[0]*(p**3)+param2[1]*(p**2)+param2[2]*p+param2[3]\n",
    "\n",
    "fig = plt.subplots(figsize=(5,5))\n",
    "plt.plot(p, y)\n",
    "plt.plot(p, w1, color='k')\n",
    "plt.scatter(prob_an, prob_sn)\n",
    "plt.grid()\n",
    "plt.xlabel('p')\n",
    "plt.ylabel('w(p)')\n",
    "#plt.savefig('fig_DE_Prospect_CurveFit02.pdf', bbox_inches='tight')"
   ]
  },
  {
   "cell_type": "markdown",
   "metadata": {},
   "source": [
    "## 別の確率加重関数\n",
    "$$\n",
    "w(p) = \\exp \\left\\{ { - \\alpha {{\\left( { - {{\\log }_e}p} \\right)}^\\gamma }} \\right\\}\n",
    "$$"
   ]
  },
  {
   "cell_type": "code",
   "execution_count": null,
   "metadata": {},
   "outputs": [],
   "source": [
    "def funExp(p, g, alp):\n",
    "    return np.exp( -alp*((-np.log(p))**g))"
   ]
  },
  {
   "cell_type": "code",
   "execution_count": null,
   "metadata": {},
   "outputs": [],
   "source": [
    "alp = 0.8\n",
    "v1 = funExp(p, 1, alp)\n",
    "v2 = funExp(p, 2, alp)\n",
    "v09 = funExp(p, 0.9, alp)\n",
    "v08 = funExp(p, 0.8, alp)\n",
    "v07 = funExp(p, 0.7, alp)\n",
    "v06 = funExp(p, 0.6, alp)\n",
    "v05 = funExp(p, 0.5, alp)\n",
    "v03 = funExp(p, 0.3, alp)\n",
    "\n",
    "fig = plt.subplots(figsize=(5,5))\n",
    "plt.plot(p, p, color='k')\n",
    "plt.plot(p, v1, label=\"g=1\")\n",
    "plt.plot(p, v2, label=\"g=2\")\n",
    "plt.plot(p, v07, label=\"g=0.7\")\n",
    "plt.plot(p, v05, label=\"g=0.5\")\n",
    "plt.plot(p, v03, label=\"g=0.3\")\n",
    "plt.legend()\n",
    "plt.grid()\n",
    "plt.xlabel('p')\n",
    "plt.ylabel('w(p)')"
   ]
  },
  {
   "cell_type": "code",
   "execution_count": null,
   "metadata": {},
   "outputs": [],
   "source": []
  }
 ],
 "metadata": {
  "kernelspec": {
   "display_name": "Python 3 (ipykernel)",
   "language": "python",
   "name": "python3"
  },
  "language_info": {
   "codemirror_mode": {
    "name": "ipython",
    "version": 3
   },
   "file_extension": ".py",
   "mimetype": "text/x-python",
   "name": "python",
   "nbconvert_exporter": "python",
   "pygments_lexer": "ipython3",
   "version": "3.7.11"
  }
 },
 "nbformat": 4,
 "nbformat_minor": 2
}
