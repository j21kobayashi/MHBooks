{
 "cells": [
  {
   "cell_type": "markdown",
   "metadata": {},
   "source": [
    "# PERT\n",
    "critical path: https://pypi.org/project/criticalpath/  <br>\n",
    "Wikipedia: https://ja.wikipedia.org/wiki/クリティカルパス法"
   ]
  },
  {
   "cell_type": "markdown",
   "metadata": {},
   "source": [
    "#### Colabで実行する場合は次のセルの中をコメントアウトしてパッケージをインストールする。"
   ]
  },
  {
   "cell_type": "code",
   "execution_count": null,
   "metadata": {},
   "outputs": [],
   "source": [
    "#!pip install criticalpath"
   ]
  },
  {
   "cell_type": "code",
   "execution_count": null,
   "metadata": {},
   "outputs": [],
   "source": [
    "# -*- coding: utf-8 -*- \n",
    "from criticalpath import Node\n",
    "\n",
    "#import matplotlib.pyplot as plt\n",
    "#%matplotlib inline"
   ]
  },
  {
   "cell_type": "markdown",
   "metadata": {},
   "source": [
    "## カレーライスを作る"
   ]
  },
  {
   "cell_type": "code",
   "execution_count": null,
   "metadata": {},
   "outputs": [],
   "source": [
    "p = Node('project_Curry_and_Rice')\n",
    "a = p.add(Node('A', duration=3))\n",
    "b = p.add(Node('B', duration=4))\n",
    "c = p.add(Node('C', duration=5))\n",
    "d = p.add(Node('D', duration=8))\n",
    "e = p.add(Node('E', duration=45))\n",
    "f = p.add(Node('F', duration=2))\n",
    "g = p.add(Node('G', duration=7))\n",
    "h = p.add(Node('H', duration=15))\n",
    "i = p.add(Node('I', duration=1))\n",
    "p.link(a,g).link(b,c).link(c,g).link(d,e).link(e,f).link(g,h).link(h,i).link(f,i)"
   ]
  },
  {
   "cell_type": "code",
   "execution_count": null,
   "metadata": {},
   "outputs": [],
   "source": [
    "p.update_all()"
   ]
  },
  {
   "cell_type": "code",
   "execution_count": null,
   "metadata": {},
   "outputs": [],
   "source": [
    "print(p.get_critical_path())\n",
    "print(p.duration)"
   ]
  },
  {
   "cell_type": "code",
   "execution_count": null,
   "metadata": {},
   "outputs": [],
   "source": []
  }
 ],
 "metadata": {
  "kernelspec": {
   "display_name": "Python 3 (ipykernel)",
   "language": "python",
   "name": "python3"
  },
  "language_info": {
   "codemirror_mode": {
    "name": "ipython",
    "version": 3
   },
   "file_extension": ".py",
   "mimetype": "text/x-python",
   "name": "python",
   "nbconvert_exporter": "python",
   "pygments_lexer": "ipython3",
   "version": "3.9.12"
  }
 },
 "nbformat": 4,
 "nbformat_minor": 2
}
