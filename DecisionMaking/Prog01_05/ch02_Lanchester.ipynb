{
 "cells": [
  {
   "cell_type": "markdown",
   "metadata": {},
   "source": [
    "# ランチェスターの法則\n",
    "https://ja.wikipedia.org/wiki/ランチェスターの法則"
   ]
  },
  {
   "cell_type": "markdown",
   "metadata": {},
   "source": [
    "#### ODEの数値解法パッケージの選択\n",
    "SciPy.orgのIntegratin and ODEs(scipy.ntegrate) https://docs.scipy.org/doc/scipy/reference/integrate.html<br>\n",
    "は古典的APIを持つodeint()よりもsolve_ivp()を勧めている。<br>\n",
    "scipy.integrate.solve_ivp: https://docs.scipy.org/doc/scipy/reference/generated/scipy.integrate.solve_ivp.html<br>\n",
    "しかし，odeint()は，信頼性の高いODEPACKを用いており，また，その解の出力形式がシンプルで使いやすい。そのため，solve_ivp()の代わりにodeint()を用いても良い。"
   ]
  },
  {
   "cell_type": "markdown",
   "metadata": {},
   "source": [
    "### 解法：\n",
    "解法のディフォルト（何も方法を指定しなければ）はRK45を用いる。これは，Fehlbergが考案したので，ルンゲ＝クッタ＝フェールベルグ法とも言われ，4次の手法だが5次精度を実現できるという特徴を持つ。大抵の場合は，この方法で十分である。<br>\n",
    "https://ja.wikipedia.org/wiki/ルンゲ＝クッタ法\n",
    "\n",
    "Stiff（固く解きにくい）な微分方程式はRadau法などを検討されたい。<br>\n",
    "Radau:https://ja.wikipedia.org/wiki/ルンゲ＝クッタ法のリスト<br>"
   ]
  },
  {
   "cell_type": "code",
   "execution_count": null,
   "metadata": {},
   "outputs": [],
   "source": [
    "# -*- coding: utf-8 -*-\n",
    "import numpy as np  \n",
    "from scipy.integrate import solve_ivp  \n",
    "import matplotlib.pyplot as plt  \n",
    "\n",
    "%matplotlib inline"
   ]
  },
  {
   "cell_type": "markdown",
   "metadata": {},
   "source": [
    "## ランチェスターの1次法則"
   ]
  },
  {
   "cell_type": "code",
   "execution_count": null,
   "metadata": {},
   "outputs": [],
   "source": [
    "def odeLan1(t, z, cx, cy):\n",
    "    dx = -cy\n",
    "    dy = -cx\n",
    "    return [dx, dy]"
   ]
  },
  {
   "cell_type": "code",
   "execution_count": null,
   "metadata": {},
   "outputs": [],
   "source": [
    "x0, y0 = 5.0, 7.0\n",
    "\n",
    "Tend = 5.0 # any be reduced to zero\n",
    "cx, cy = 1.0, 1.0\n",
    "sol = solve_ivp(odeLan1, t_span=[0, Tend], y0=[x0, y0], args=(cx, cy,), dense_output=True)\n",
    "tc1 = np.linspace(0, Tend, 100)  \n",
    "yc1 = sol.sol(tc1)\n",
    "\n",
    "Tend = 2.5\n",
    "#cx, cy = 2.0, 1.0\n",
    "cx, cy = 3.0, 1.0\n",
    "sol = solve_ivp(odeLan1, t_span=[0, Tend], y0=[x0, y0], args=(cx, cy,), dense_output=True)\n",
    "tc2 = np.linspace(0, Tend, 100)  \n",
    "yc2 = sol.sol(tc2)"
   ]
  },
  {
   "cell_type": "code",
   "execution_count": null,
   "metadata": {},
   "outputs": [],
   "source": [
    "fig, ax = plt.subplots(ncols=2, figsize=(14,4))\n",
    "\n",
    "ax[0].plot(tc1, yc1[0].T, label='x')\n",
    "ax[0].plot(tc1, yc1[1].T, label='y')\n",
    "ax[0].grid()\n",
    "ax[0].legend()\n",
    "ax[0].set_xlabel('time')\n",
    "ax[0].set_ylabel('number of forces')\n",
    "\n",
    "ax[1].plot(tc2, yc2[0].T, label='x')\n",
    "ax[1].plot(tc2, yc2[1].T, label='y')\n",
    "ax[1].grid()\n",
    "ax[1].legend()\n",
    "ax[1].set_xlabel('time')\n",
    "ax[1].set_ylabel('number of forces')\n",
    "\n",
    "#plt.savefig('fig_DE_Lanchester_01.pdf', bbox_inches='tight')\n",
    "plt.show()"
   ]
  },
  {
   "cell_type": "markdown",
   "metadata": {},
   "source": [
    "## ランチェスターの2次法則\n",
    "1次法則との比較"
   ]
  },
  {
   "cell_type": "code",
   "execution_count": null,
   "metadata": {},
   "outputs": [],
   "source": [
    "def odeLan2(t, z, cx, cy):\n",
    "    dx = -cy*z[1]\n",
    "    dy = -cx*z[0]\n",
    "    return [dx, dy]"
   ]
  },
  {
   "cell_type": "code",
   "execution_count": null,
   "metadata": {},
   "outputs": [],
   "source": [
    "x0, y0 = 5.0, 7.0\n",
    "\n",
    "Tend = 0.9 # any be reduced to zero\n",
    "cx, cy = 1.0, 1.0\n",
    "sol = solve_ivp(odeLan2, t_span=[0, Tend], y0=[x0, y0], args=(cx, cy,), dense_output=True)\n",
    "tc3 = np.linspace(0, Tend, 100)  \n",
    "yc3 = sol.sol(tc3)\n",
    "\n",
    "Tend = 0.65\n",
    "#cx, cy = 2.0, 1.0\n",
    "cx, cy = 3.0, 1.0\n",
    "sol = solve_ivp(odeLan2, t_span=[0, Tend], y0=[x0, y0], args=(cx, cy,), dense_output=True)\n",
    "tc4 = np.linspace(0, Tend, 100)  \n",
    "yc4 = sol.sol(tc4)"
   ]
  },
  {
   "cell_type": "code",
   "execution_count": null,
   "metadata": {},
   "outputs": [],
   "source": [
    "fig, ax = plt.subplots(ncols=2, figsize=(14,4))\n",
    "\n",
    "ax[0].plot(tc3, yc3[0].T, label='x')\n",
    "ax[0].plot(tc3, yc3[1].T, label='y')\n",
    "ax[0].grid()\n",
    "ax[0].legend()\n",
    "ax[0].set_xlabel('time')\n",
    "ax[0].set_ylabel('number of forces')\n",
    "\n",
    "ax[1].plot(tc4, yc4[0].T, label='x')\n",
    "ax[1].plot(tc4, yc4[1].T, label='y')\n",
    "ax[1].grid()\n",
    "ax[1].legend()\n",
    "ax[1].set_xlabel('time')\n",
    "ax[1].set_ylabel('number of forces')\n",
    "\n",
    "#plt.savefig('fig_DE_Lanchester_02.pdf', bbox_inches='tight')\n",
    "plt.show()"
   ]
  },
  {
   "cell_type": "markdown",
   "metadata": {},
   "source": [
    "## ランチェスターの2次法則\n",
    "2次法則の中での考察，その１"
   ]
  },
  {
   "cell_type": "code",
   "execution_count": null,
   "metadata": {},
   "outputs": [],
   "source": [
    "x0, y0 = 100, 300\n",
    "\n",
    "Tend = 0.35\n",
    "cx, cy = 1.0, 1.0\n",
    "sol = solve_ivp(odeLan2, t_span=[0, Tend], y0=[x0, y0], args=(cx, cy,), dense_output=True) \n",
    "tc5 = np.linspace(0, Tend, 100)  \n",
    "yc5 = sol.sol(tc5)\n",
    "\n",
    "Tend = 0.43\n",
    "cx, cy = 5.0, 1.0\n",
    "sol = solve_ivp(odeLan2, t_span=[0, Tend], y0=[x0, y0], args=(cx, cy,), dense_output=True) \n",
    "tc6 = np.linspace(0, Tend, 100)  \n",
    "yc6 = sol.sol(tc6)"
   ]
  },
  {
   "cell_type": "code",
   "execution_count": null,
   "metadata": {},
   "outputs": [],
   "source": [
    "fig, ax = plt.subplots(ncols=2, figsize=(14,4))\n",
    "\n",
    "ax[0].plot(tc5, yc5[0].T, label='x')\n",
    "ax[0].plot(tc5, yc5[1].T, label='y')\n",
    "ax[0].grid()\n",
    "ax[0].legend()\n",
    "ax[0].set_xlabel('time')\n",
    "ax[0].set_ylabel('number of forces')\n",
    "\n",
    "ax[1].plot(tc6, yc6[0].T, label='x')\n",
    "ax[1].plot(tc6, yc6[1].T, label='y')\n",
    "ax[1].grid()\n",
    "ax[1].legend()\n",
    "ax[1].set_xlabel('time')\n",
    "ax[1].set_ylabel('number of forces')\n",
    "\n",
    "#plt.savefig('fig_DE_Lanchester_03.pdf', bbox_inches='tight')\n",
    "plt.show()"
   ]
  },
  {
   "cell_type": "code",
   "execution_count": null,
   "metadata": {},
   "outputs": [],
   "source": [
    "print(yc5[1][len(yc5[1])-1])\n",
    "print(yc6[1][len(yc6[1])-1])"
   ]
  },
  {
   "cell_type": "markdown",
   "metadata": {},
   "source": [
    "## ランチェスターの2次法則\n",
    "2次法則の中での考察，その２"
   ]
  },
  {
   "cell_type": "markdown",
   "metadata": {},
   "source": [
    "$$\n",
    "\\left( x_0^{2} - x^{2} \\right) = R \\left( y_0^{2} - y^{2} \\right)\n",
    "$$\n",
    "$$\n",
    " y = \\sqrt{y_0^{2} - \\frac{x_0^{2}}{R}}\n",
    "$$\n",
    "$x_0=300$, $y_0=300$：$y$は，全勢力を$x$の$1/3$に集中して，撃破の後に次の$x$と対戦する。また，武器性能は等しい，すなわち，武器性能比$R=1$とする。"
   ]
  },
  {
   "cell_type": "code",
   "execution_count": null,
   "metadata": {},
   "outputs": [],
   "source": [
    "x0, y0 = 300, 300\n",
    "# 1回目\n",
    "y = np.sqrt(y0**2 - (x0/3)**2)\n",
    "print(y)\n",
    "\n",
    "# 2回目\n",
    "y = np.sqrt(y**2 - (x0/3)**2)\n",
    "print(y)\n",
    "\n",
    "# 3回目\n",
    "y = np.sqrt(y**2 - (x0/3)**2)\n",
    "print(y)\n"
   ]
  },
  {
   "cell_type": "code",
   "execution_count": null,
   "metadata": {},
   "outputs": [],
   "source": []
  }
 ],
 "metadata": {
  "kernelspec": {
   "display_name": "Python 3 (ipykernel)",
   "language": "python",
   "name": "python3"
  },
  "language_info": {
   "codemirror_mode": {
    "name": "ipython",
    "version": 3
   },
   "file_extension": ".py",
   "mimetype": "text/x-python",
   "name": "python",
   "nbconvert_exporter": "python",
   "pygments_lexer": "ipython3",
   "version": "3.9.12"
  }
 },
 "nbformat": 4,
 "nbformat_minor": 4
}
