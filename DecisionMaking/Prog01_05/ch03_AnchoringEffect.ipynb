{
 "cells": [
  {
   "cell_type": "markdown",
   "metadata": {},
   "source": [
    "# アンカリング効果の分析\n",
    "架空の人々の架空のアンケート（人工データのこと）を基に，統計での信頼区間（CI:Confidence Interval）などを用いてアンカリング効果の分析方法を説明します。"
   ]
  },
  {
   "cell_type": "markdown",
   "metadata": {},
   "source": [
    "## 箱ひげ図(box plot），エラーバー（error bar）などの関数の説明\n",
    "seabornを用いる，これは，matplotlibはエラーバーに信頼区間が無いため。<br>\n",
    "seaborn.boxplot : https://seaborn.pydata.org/generated/seaborn.boxplot.html<br>\n",
    "　・最小，最大値を表現し，箱は下位より第一四分位数（25%），中央値（50%），第三四分位数（75%）を表す。<br>\n",
    "　・外れ値（outliers）は，上記の説明より四分位数間（the inter-quartile rang）に基づき決定される。<br>\n",
    "　・四分位数間の計算：https://en.wikipedia.org/wiki/Box_plot<br>\n",
    "seaborn.barplot : https://seaborn.pydata.org/generated/seaborn.barplot.html<br>\n",
    "　・データの平均値と信頼区間を表す。ディフォルトで95%信頼区間を用いる。<br>\n",
    "seaborn.displot : https://seaborn.pydata.org/generated/seaborn.displot.html<br>\n",
    "　・ヒストグラムとKDE(kernel density estimation)をプロットする。<br>\n",
    "　・KDE <br>\n",
    " 　　- https://ja.wikipedia.org/wiki/カーネル密度推定<br>\n",
    " 　　- https://seaborn.pydata.org/generated/seaborn.kdeplot.html"
   ]
  },
  {
   "cell_type": "code",
   "execution_count": null,
   "metadata": {},
   "outputs": [],
   "source": [
    "# -*- coding: utf-8 -*-\n",
    "import numpy as np\n",
    "import scipy.stats as stats\n",
    "\n",
    "import matplotlib.pyplot as plt\n",
    "import pandas as pd\n",
    "import seaborn as sns\n",
    "\n",
    "%matplotlib inline"
   ]
  },
  {
   "cell_type": "markdown",
   "metadata": {},
   "source": [
    "#### 人工データの作成\n",
    "二つのグループLとグループH，それぞれ100人ずつに，ある土地の降水量が前年の同月よりどれくらい増えたかの質問を行ったと想定。<br>\n",
    "L(ow), H(igh)<br>\n",
    "グループLには，「前年より3\\%より増えたでしょうか，減ったでしょうか？　増減は何\\% くらいでしょうか？」<br>\n",
    "グループHには，「前年より5\\%より増えたでしょうか，減ったでしょうか？　増減は何\\% くらいでしょうか？」<br>\n",
    "そのアンケート結果は人工的に生成。生成の仕方は，各グループは，各meanを中心に回答したとするデータ生成を行います。<br>\n",
    "ただし，グループLは3\\%は安すぎと考えてbiasLだけ上積みして回答したと想定（この仮説も様々に変更してください）。<br>\n",
    "注意：<br>\n",
    "・負の値は，前年より減ったとの回答とみなします。<br>\n",
    "・正規分布を用い，標準偏差について，stdL < stdH とした意味は特にありません。<br>\n",
    "これらについては，読者で様々な変更して確かめてください。"
   ]
  },
  {
   "cell_type": "code",
   "execution_count": null,
   "metadata": {},
   "outputs": [],
   "source": [
    "np.random.seed(123)\n",
    "num = 100\n",
    "meanL, stdL = 3, 2.0\n",
    "biasL = 0.5\n",
    "meanH, stdH = 5, 3.0\n",
    "xL = stats.norm.rvs(loc=meanL+biasL, scale=stdL, size=num)\n",
    "xH = stats.norm.rvs(loc=meanH, scale=stdH, size=num)"
   ]
  },
  {
   "cell_type": "markdown",
   "metadata": {},
   "source": [
    "### seabornはpandasのdataframeを使用\n",
    "pandas.melt  https://pandas.pydata.org/docs/reference/api/pandas.melt.html<br>\n",
    "はデータの格納形式を変更する"
   ]
  },
  {
   "cell_type": "code",
   "execution_count": null,
   "metadata": {
    "scrolled": false
   },
   "outputs": [],
   "source": [
    "df_tmp = pd.DataFrame({'L':xL, 'H':xH})\n",
    "print(df_tmp.head())\n",
    "df = df_tmp.melt(var_name='class', value_name='data')"
   ]
  },
  {
   "cell_type": "markdown",
   "metadata": {},
   "source": [
    "ラベル：'class', 'data'を与えて，下記のように'class'がLとHで縦に並べる。"
   ]
  },
  {
   "cell_type": "code",
   "execution_count": null,
   "metadata": {
    "scrolled": true
   },
   "outputs": [],
   "source": [
    "df"
   ]
  },
  {
   "cell_type": "markdown",
   "metadata": {},
   "source": [
    "#### Color Palettes\n",
    "次を参照<br>\n",
    "Choosing color palettes https://seaborn.pydata.org/tutorial/color_palettes.html<br>"
   ]
  },
  {
   "cell_type": "code",
   "execution_count": null,
   "metadata": {},
   "outputs": [],
   "source": [
    "sns.set_theme(style='whitegrid', font_scale=1.5)\n",
    "\n",
    "plt.figure(figsize=(7,4))\n",
    "sns_boxplot = sns.boxplot(x=\"class\", y=\"data\", data=df, width=0.5, palette='pastel')\n",
    "\n",
    "#図の保存は2つの2行を用いる\n",
    "#figure = sns_boxplot.get_figure()\n",
    "#figure.savefig('fig_SD_Anchoring_BoxPlot.pdf', bbox_inches='tight')"
   ]
  },
  {
   "cell_type": "code",
   "execution_count": null,
   "metadata": {},
   "outputs": [],
   "source": [
    "plt.figure(figsize=(7,4))\n",
    "sns_barplot = sns.barplot(x='class', y='data', data=df, capsize=0.2, errwidth=2.0, \n",
    "                          palette='pastel')\n",
    "\n",
    "#図の保存は2つの2行を用いる\n",
    "#figure = sns_barplot.get_figure()\n",
    "#figure.savefig('fig_SD_Anchoring_BarPlot.pdf', bbox_inches='tight')"
   ]
  },
  {
   "cell_type": "code",
   "execution_count": null,
   "metadata": {
    "scrolled": true
   },
   "outputs": [],
   "source": [
    "plt.figure(figsize=(12,4))\n",
    "sns_displot = sns.displot(data=df, x='data', hue='class', col='class', bins=range(-5, 15, 1), kde=True, palette='pastel')\n",
    "sns_displot.set_ylabels('Frequency')\n",
    "\n",
    "#plt.savefig('fig_SD_Anchoring_DisPlot.pdf', bbox_inches='tight')"
   ]
  },
  {
   "cell_type": "code",
   "execution_count": null,
   "metadata": {},
   "outputs": [],
   "source": [
    "g = sns.displot(data=df, x='data', hue='class', bins=range(-5,15,1), element='step', kde=True, palette='pastel', height=4, aspect=1.5)\n",
    "g.set_ylabels('Frequency', fontsize=20)"
   ]
  },
  {
   "cell_type": "markdown",
   "metadata": {},
   "source": [
    "#### seaborn，binsのサイズ\n",
    "ビンのサイズは重要なパラメータである。間違ったビンのサイズを使用すると、データの重要な特徴を不明瞭にする、ランダムな分散から見かけの特徴を作成するなど、誤解を招く可能性がある。デフォルトでは、displot() / histplot() は、データの分散とオブザベーションの数に基づき、デフォルトのビン・サイズを選択する。しかし、自動アプローチは、データの構造に関する特定の仮定に依存するため、過度に依存すべきではない。分布の印象が、異なるビン・サイズの間で一貫していることを常にチェックするべきである。サイズを直接選択するには、binwidthパラメータを設定する。<br>\n",
    "参考URL：<br>\n",
    "https://hawk-tech-blog.com/python-learn-seaborn-tutorial-plotting-function-distributions-of-data-1/<br>\n",
    "https://hawk-tech-blog.com/python-learn-seaborn-tutorial-api-overview-function-overview-2/"
   ]
  },
  {
   "cell_type": "code",
   "execution_count": null,
   "metadata": {},
   "outputs": [],
   "source": []
  }
 ],
 "metadata": {
  "kernelspec": {
   "display_name": "Python 3 (ipykernel)",
   "language": "python",
   "name": "python3"
  },
  "language_info": {
   "codemirror_mode": {
    "name": "ipython",
    "version": 3
   },
   "file_extension": ".py",
   "mimetype": "text/x-python",
   "name": "python",
   "nbconvert_exporter": "python",
   "pygments_lexer": "ipython3",
   "version": "3.7.11"
  }
 },
 "nbformat": 4,
 "nbformat_minor": 2
}
