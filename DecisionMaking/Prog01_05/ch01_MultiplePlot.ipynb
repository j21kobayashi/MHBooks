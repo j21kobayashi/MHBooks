{
 "cells": [
  {
   "cell_type": "markdown",
   "metadata": {},
   "source": [
    "# matplotlibを用いて複数のプロット，グラフを描く\n",
    "subplotsのパラメータ:<br>\n",
    "https://matplotlib.org/api/_as_gen/matplotlib.pyplot.subplots.html <br>\n",
    "\n",
    "このパラメータのうち，更なるもの（figsize[inch, inch], facecolor, edgecolorなど）は次：<br>\n",
    "https://matplotlib.org/api/_as_gen/matplotlib.pyplot.figure.html<br>\n"
   ]
  },
  {
   "cell_type": "markdown",
   "metadata": {},
   "source": []
  },
  {
   "cell_type": "code",
   "execution_count": null,
   "metadata": {},
   "outputs": [],
   "source": [
    "# -*- coding: utf-8 -*-\n",
    "import numpy as np\n",
    "\n",
    "import matplotlib.pyplot as plt\n",
    "%matplotlib inline"
   ]
  },
  {
   "cell_type": "markdown",
   "metadata": {},
   "source": [
    "### Notebook（Jupyter Notebook）のマジックコマンド（magic commands）\n",
    "上記の\"%matplotlib inline\"は、Notebookのマジックコマンドで、プロット実行文のあるセルの直後にグラフを描くことを宣言する。<br>\n",
    "次を参照：サイト　https://ipython.readthedocs.io/ の中から\"Built-in magic commands\"を検索"
   ]
  },
  {
   "cell_type": "code",
   "execution_count": null,
   "metadata": {},
   "outputs": [],
   "source": [
    "x = np.linspace(-3, 3, 20)\n",
    "y1 = x\n",
    "y2 = x ** 2\n",
    "y3 = x ** 3\n",
    "y4 = x ** 4"
   ]
  },
  {
   "cell_type": "code",
   "execution_count": null,
   "metadata": {},
   "outputs": [],
   "source": [
    "fig = plt.subplots(figsize=(10,3)) # size [inch,inch]\n",
    "plt.plot(x,y2)\n",
    "plt.plot(x,y3)\n",
    "\n",
    "plt.grid()\n",
    "plt.xlabel('x')\n",
    "plt.ylabel('y')\n",
    "plt.title('Example')\n",
    "\n",
    "#plt.tight_layout() # xlabelの欠落を防ぐ方法１\n",
    "#plt.savefig('fig_PLT_MultipleGraph_1.pdf', bbox_inches='tight') # 方法2\n",
    "plt.show()"
   ]
  },
  {
   "cell_type": "code",
   "execution_count": null,
   "metadata": {},
   "outputs": [],
   "source": [
    "fig, axs = plt.subplots(nrows=2, ncols=2, figsize=(6, 4))\n",
    " \n",
    "axs[0, 0].plot(x, y1) # upper left\n",
    "axs[0, 1].plot(x, y2) # upper right\n",
    "axs[1, 0].plot(x, y3) # lower left\n",
    "axs[1, 1].plot(x, y4) # lower right\n",
    "\n",
    "#plt.savefig('fig_PLT_MultipleGraph_2.pdf', bbox_inches='tight')\n",
    "plt.show()"
   ]
  },
  {
   "cell_type": "code",
   "execution_count": null,
   "metadata": {},
   "outputs": [],
   "source": [
    "fig, ((ax1, ax2), (ax3, ax4)) = plt.subplots(nrows=2, ncols=2, figsize=(6,4))\n",
    "\n",
    "ax1.plot(x, y1) # upper left\n",
    "ax2.plot(x, y2) # upper right\n",
    "ax3.plot(x, y3) # lower left\n",
    "ax4.plot(x, y4) # lower right\n",
    " \n",
    "plt.show()"
   ]
  },
  {
   "cell_type": "code",
   "execution_count": null,
   "metadata": {},
   "outputs": [],
   "source": []
  }
 ],
 "metadata": {
  "kernelspec": {
   "display_name": "Python 3 (ipykernel)",
   "language": "python",
   "name": "python3"
  },
  "language_info": {
   "codemirror_mode": {
    "name": "ipython",
    "version": 3
   },
   "file_extension": ".py",
   "mimetype": "text/x-python",
   "name": "python",
   "nbconvert_exporter": "python",
   "pygments_lexer": "ipython3",
   "version": "3.9.12"
  }
 },
 "nbformat": 4,
 "nbformat_minor": 2
}
