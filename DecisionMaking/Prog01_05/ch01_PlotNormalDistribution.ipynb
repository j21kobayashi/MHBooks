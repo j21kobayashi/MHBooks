{
 "cells": [
  {
   "cell_type": "markdown",
   "metadata": {},
   "source": [
    "# Scipyのstatsの使い方\n",
    "https://docs.scipy.org/doc/scipy/reference/stats.html"
   ]
  },
  {
   "cell_type": "code",
   "execution_count": null,
   "metadata": {},
   "outputs": [],
   "source": [
    "# -*- coding: utf-8 -*-\n",
    "import numpy as np\n",
    "import scipy.stats as stats\n",
    "\n",
    "import matplotlib.pyplot as plt\n",
    "%matplotlib inline"
   ]
  },
  {
   "cell_type": "markdown",
   "metadata": {},
   "source": [
    "## 正規分布を知る\n",
    "scipy.stats.norm https://docs.scipy.org/doc/scipy/reference/generated/scipy.stats.norm.html<br>\n",
    "$$   \n",
    "f(x) = \\frac{1}{\\sqrt{2 \\pi \\sigma^2}}  \\exp\\left\\{ - \\frac{ (x-\\mu)^2 }{ 2 \\sigma^2} \\right\\}\n",
    "$$\n",
    "この正規分布に従う確率変数のヒストグラム，pdf, cdfをプロットする。"
   ]
  },
  {
   "cell_type": "code",
   "execution_count": null,
   "metadata": {
    "scrolled": true
   },
   "outputs": [],
   "source": [
    "np.random.seed(123)\n",
    "\n",
    "m, std = 5, 2   # mean,standard deviation\n",
    "x = np.arange( -5, 15, 0.01)\n",
    "rvs = stats.norm.rvs(loc=m, scale=std, size=1000)\n",
    "pdf = stats.norm.pdf(x, loc=m, scale=std)\n",
    "cdf = stats.norm.cdf(x, loc=m, scale=std)\n",
    "print('mean=',rvs.mean(),'  std=',rvs.std())\n",
    "\n",
    "fig, ax = plt.subplots(ncols=2, figsize=(12,4))\n",
    "ax[0].plot(x, pdf, color='k', label='pdf')\n",
    "ax[0].hist(rvs, bins=40, density=True, label='rvs', color='lightgray')\n",
    "ax[0].set_xlabel('x')\n",
    "ax[0].set_ylabel('probabiity density')\n",
    "ax[0].legend()\n",
    "ax[0].grid()\n",
    "\n",
    "ax[1].plot(x, pdf, color='k', label='pdf')\n",
    "ax[1].plot(x, cdf, color='r', label='cdf')\n",
    "ax[1].set_xlabel('x')\n",
    "ax[1].set_ylabel('probabiity density')\n",
    "ax[1].legend()\n",
    "ax[1].grid()\n",
    "\n",
    "#plt.savefig('fig_NC_Prob_Normal.pdf', bbox_inches='tight')\n",
    "plt.show()"
   ]
  },
  {
   "cell_type": "markdown",
   "metadata": {},
   "source": [
    "上の左図：pdfと多数生成した確率変数のヒストグラム，　右図：pdfとcdfのプロット，ある$x$でのcdfの値は確率を意味する。これは，$[-\\infty, x]$のpdfの面積と等しい。"
   ]
  },
  {
   "cell_type": "markdown",
   "metadata": {},
   "source": [
    "メソッドintervalは，指定した確率（alpha）に対応する値の範囲[lower, upper]を返す"
   ]
  },
  {
   "cell_type": "code",
   "execution_count": null,
   "metadata": {},
   "outputs": [],
   "source": [
    "lower, upper = stats.norm.interval(alpha=0.95, loc=0, scale=1)\n",
    "print(lower, upper)"
   ]
  },
  {
   "cell_type": "markdown",
   "metadata": {},
   "source": [
    "上記のalphaと[lower, upper]の検証を行う。このため，上記のcdfを用いる。<br>\n",
    "upperの点のcdf値は,[$-\\infty$, upper]のpdfの面積，すなわち確率を表す。<br>\n",
    "lopwerに関しても同様である。よって，下記のようにpa$-$pabは上記のalphaを表す。\n",
    "すなわち，下記の計算は上記の逆を行っている。"
   ]
  },
  {
   "cell_type": "markdown",
   "metadata": {},
   "source": [
    "## 他の確率分布"
   ]
  },
  {
   "cell_type": "markdown",
   "metadata": {},
   "source": [
    "#### 二項分布\n",
    "成功確率$p=0.5$の硬貨を3回投げるときの確率分布を求める。"
   ]
  },
  {
   "cell_type": "code",
   "execution_count": null,
   "metadata": {},
   "outputs": [],
   "source": [
    "n = 3\n",
    "k = np.arange(0,n+1) #各成功回数\n",
    "pmf = stats.binom.pmf(k, n, p=0.5)\n",
    "pmf"
   ]
  },
  {
   "cell_type": "markdown",
   "metadata": {},
   "source": [
    "サイコロを8回振るとき，2以下の目の出た回数を$X$とするとき，$P(X \\ge 3)$の値を求める。"
   ]
  },
  {
   "cell_type": "code",
   "execution_count": null,
   "metadata": {},
   "outputs": [],
   "source": [
    "n = 8\n",
    "k = np.arange(0,n+1) #各成功回数\n",
    "prob = stats.binom.pmf(k, n, p=2/6)\n",
    "print(prob)\n",
    "sol =  1-(prob[0]+prob[1]+prob[2])\n",
    "print(sol)"
   ]
  },
  {
   "cell_type": "markdown",
   "metadata": {},
   "source": [
    "#### ポアソン分布\n",
    "ある都市の交通事故は1日平均2.4件ある。1日に起こる交通事故の件数がポアソン分布に従うと仮定したとき，1日の交通事故が2件以下になる確率を求める。"
   ]
  },
  {
   "cell_type": "code",
   "execution_count": null,
   "metadata": {},
   "outputs": [],
   "source": [
    "lamda = 2.4\n",
    "k = np.arange(0,3)\n",
    "prob = stats.poisson.pmf(k, lamda)\n",
    "print(prob)\n",
    "print(prob.sum())"
   ]
  },
  {
   "cell_type": "markdown",
   "metadata": {},
   "source": [
    "確率分布は離散確率であるから確率質量関数（pmf）となる。ポアソン分布の例を示す。"
   ]
  },
  {
   "cell_type": "code",
   "execution_count": null,
   "metadata": {},
   "outputs": [],
   "source": [
    "fig, ax = plt.subplots(figsize=(8,3))\n",
    "\n",
    "x = np.arange(0, 11, 1)\n",
    "for lam in range(1, 6):\n",
    "    pmf = stats.poisson.pmf(x, lam)\n",
    "    plt.plot(x, pmf, marker='o', label='lamda='+str(lam))\n",
    "\n",
    "plt.legend()\n",
    "plt.grid()\n",
    "\n",
    "#plt.savefig('fig_NC_Prob_Poisson.png')\n",
    "plt.show()"
   ]
  },
  {
   "cell_type": "code",
   "execution_count": null,
   "metadata": {},
   "outputs": [],
   "source": []
  }
 ],
 "metadata": {
  "kernelspec": {
   "display_name": "Python 3 (ipykernel)",
   "language": "python",
   "name": "python3"
  },
  "language_info": {
   "codemirror_mode": {
    "name": "ipython",
    "version": 3
   },
   "file_extension": ".py",
   "mimetype": "text/x-python",
   "name": "python",
   "nbconvert_exporter": "python",
   "pygments_lexer": "ipython3",
   "version": "3.9.12"
  }
 },
 "nbformat": 4,
 "nbformat_minor": 4
}
