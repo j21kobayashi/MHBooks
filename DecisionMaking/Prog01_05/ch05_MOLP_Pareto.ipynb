{
 "cells": [
  {
   "cell_type": "markdown",
   "metadata": {},
   "source": [
    "# 多目的線形計画法\n",
    "Multiobjective Linear Programming Problem"
   ]
  },
  {
   "cell_type": "markdown",
   "metadata": {},
   "source": [
    "#### Colabで実行する場合は次のセルの中をコメントアウトしてパッケージをインストールする。"
   ]
  },
  {
   "cell_type": "code",
   "execution_count": null,
   "metadata": {},
   "outputs": [],
   "source": [
    "#!pip install PuLP"
   ]
  },
  {
   "cell_type": "markdown",
   "metadata": {},
   "source": [
    "## パレート最適解\n",
    "参考文献<br>\n",
    "NTT Data, 中山弘隆，谷野哲三，多目的最適化の理論と応用，コロナ社，1994 https://www.msi.co.jp/nuopt/glossary/term_5d18c904686aee357546769d71b75d14dc4a7fb0.html  \n",
    "数学記号　https://ja.wikipedia.org/wiki/数学記号の表  \n",
    "オペレーションズリサーチ　https://www.orsj.or.jp/archive2/or63-3/or63_3_146.pdf  "
   ]
  },
  {
   "cell_type": "code",
   "execution_count": null,
   "metadata": {},
   "outputs": [],
   "source": [
    "# -*- coding: utf-8 -*- \n",
    "import numpy as np\n",
    "import pulp\n",
    "\n",
    "import matplotlib.pyplot as plt\n",
    "%matplotlib inline"
   ]
  },
  {
   "cell_type": "markdown",
   "metadata": {},
   "source": [
    "#### パレート最適を求める"
   ]
  },
  {
   "cell_type": "code",
   "execution_count": null,
   "metadata": {},
   "outputs": [],
   "source": [
    "#xFrom, xTo = 95.0, 130.0\n",
    "wFrom, wTo = 110.0, 150.0\n",
    "nStep = 10\n",
    "stepSize = (wTo - wFrom)/nStep\n",
    "print(stepSize)\n",
    "record = np.zeros((8,nStep+1)) #record results\n",
    "\n",
    "for i in range(0, nStep+1):\n",
    "    w3 = wFrom + stepSize*i\n",
    "    print(i,w3)\n",
    "    prob = pulp.LpProblem(\"Mixture\", pulp.LpMinimize)\n",
    "    x1 = pulp.LpVariable(\"x1\", 0, None)\n",
    "    x2 = pulp.LpVariable(\"x2\", 0, None)\n",
    "    x3 = pulp.LpVariable(\"x3\", 0, None)\n",
    "    x4 = pulp.LpVariable(\"x4\", 0, None)\n",
    "    x5 = pulp.LpVariable(\"x5\", 0, None)\n",
    "    x6 = pulp.LpVariable(\"x6\", 0, None)\n",
    "\n",
    "    prob += x1 + x4 == 18\n",
    "    prob += x2 + x5 == 14\n",
    "    prob += x3 + x6 == 10\n",
    "    prob += x1 + x2 + x3 <= 20\n",
    "    prob += x4 + x5 + x6 <= 22\n",
    "#    prob += w*(125*x1 + 160*x2 + 175*x3 + 145*x4 + 92*x5 + 125*x6) + (1-w)*(125*x1 + 10*x2 + 175*x3 + 10*x4 + 92*x5 + 125*x6)\n",
    "#    prob += 125*x1 + 160*x2 + w3*x3 + 145*x4 + 92*x5 + 125*x6\n",
    "#    prob += 125*x1 + 90*x2 + w3*x3 + 145*x4 + 95*x5 + 125*x6\n",
    "    prob += 140*x1 + 98*x2 + w3*x3 + 135*x4 + 95*x5 + 125*x6\n",
    "    \n",
    "    sol = prob.solve()\n",
    "    print(pulp.LpStatus[sol]) # 毎回，解けたか否かの確認\n",
    "    record[0][i] = w3\n",
    "    record[1][i] = x1.value()\n",
    "    record[2][i] = x2.value()\n",
    "    record[3][i] = x3.value()\n",
    "    record[4][i] = x4.value()\n",
    "    record[5][i] = x5.value()\n",
    "    record[6][i] = x6.value()\n",
    "    record[7][i] = prob.objective.value()\n",
    "\n",
    "print(record)\n",
    "print(prob)"
   ]
  },
  {
   "cell_type": "code",
   "execution_count": null,
   "metadata": {
    "scrolled": true
   },
   "outputs": [],
   "source": [
    "fig = plt.subplots(figsize=(7,4))\n",
    "plt.plot(record[0], record[7], marker='o')\n",
    "plt.xlabel('w3', fontsize=18)\n",
    "plt.ylabel('value of objective function', fontsize=18)\n",
    "plt.grid()\n",
    "#plt.savefig('fig_OR_LP_Pareto.pdf')\n",
    "plt.show()"
   ]
  },
  {
   "cell_type": "code",
   "execution_count": null,
   "metadata": {},
   "outputs": [],
   "source": []
  }
 ],
 "metadata": {
  "kernelspec": {
   "display_name": "Python 3 (ipykernel)",
   "language": "python",
   "name": "python3"
  },
  "language_info": {
   "codemirror_mode": {
    "name": "ipython",
    "version": 3
   },
   "file_extension": ".py",
   "mimetype": "text/x-python",
   "name": "python",
   "nbconvert_exporter": "python",
   "pygments_lexer": "ipython3",
   "version": "3.9.12"
  }
 },
 "nbformat": 4,
 "nbformat_minor": 2
}
