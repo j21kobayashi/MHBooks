{
 "cells": [
  {
   "cell_type": "markdown",
   "metadata": {},
   "source": [
    "# 気象と家計支出の相関（Correlation）とヒートマップ"
   ]
  },
  {
   "cell_type": "markdown",
   "metadata": {},
   "source": [
    "### Colaboratory上で実行する場合\n",
    "この場合，ファイルをGoogle Driveに置くことを勧めます。この方法は次を参照してください。<br>\n",
    "本書のサポートサイト:https://github.com/ohmsha/MHBooks → Tips → UsageIDE → \"Colabの使い方\"<br>\n",
    "このページに，Goodle Driveに置いたファイルの読込み方の説明があります。"
   ]
  },
  {
   "cell_type": "markdown",
   "metadata": {},
   "source": [
    "## 相関係数と無相関の検定\n",
    "相関係数$\\hat{\\rho}$には次の性質がある。\n",
    "$$\n",
    "- 1 \\le \\hat{\\rho}  \\le 1\n",
    "$$\n",
    "統計検定量は次を用いる\n",
    "$$\n",
    "t_{uc} = \\frac{{ |\\hat \\rho _{xy} | \\sqrt {N - 2} }}{{\\sqrt {1 - \\hat \\rho _{xy} ^2 } }}\n",
    "$$\n",
    "これは，自由度$(N-2)$の$t$分布に従う\n",
    "\n",
    "ピアソンの相関係数と帰無仮説(無相関)と設定した場合のp値　の両方を同時に計算する  \n",
    "scipy.stats.pearsonr  \n",
    "https://docs.scipy.org/doc/scipy-0.14.0/reference/generated/scipy.stats.pearsonr.html"
   ]
  },
  {
   "cell_type": "code",
   "execution_count": null,
   "metadata": {},
   "outputs": [],
   "source": [
    "import numpy as np\n",
    "from scipy import stats\n",
    "import pandas as pd\n",
    "import matplotlib.pyplot as plt\n",
    "import seaborn as sns\n",
    "%matplotlib inline"
   ]
  },
  {
   "cell_type": "markdown",
   "metadata": {},
   "source": [
    "#### 親子の身長の相関の検定\n"
   ]
  },
  {
   "cell_type": "code",
   "execution_count": null,
   "metadata": {},
   "outputs": [],
   "source": [
    "x = np.array([168, 172, 181, 179, 166, 185, 177, 176, 169, 161])\n",
    "y = np.array([111, 125, 129, 120, 126, 133, 130, 116, 118, 115])\n",
    "corr, pvalue = stats.pearsonr(x,y)\n",
    "print('corr. coef.=',corr, '  pvalue=',pvalue)"
   ]
  },
  {
   "cell_type": "markdown",
   "metadata": {},
   "source": [
    "alp = 0.05 のとき，pvalue < alp より，H0（無相関）を棄却，alp = 0.01のとき棄却できない"
   ]
  },
  {
   "cell_type": "code",
   "execution_count": null,
   "metadata": {
    "scrolled": false
   },
   "outputs": [],
   "source": [
    "plt.scatter(x,y)\n",
    "plt.xlabel('Height of Faters')\n",
    "plt.ylabel('Height of Sons')\n",
    "#plt.savefig('fig_SD_CorrelationEx01.pdf')"
   ]
  },
  {
   "cell_type": "markdown",
   "metadata": {},
   "source": [
    "## stats.pearsonrのpvalueの計算を検証する\n",
    "上記のstats.pearsonr(x,y)の計算過程を見る。このため，下記の統計検討量tucをまず計算する。"
   ]
  },
  {
   "cell_type": "code",
   "execution_count": null,
   "metadata": {
    "scrolled": true
   },
   "outputs": [],
   "source": [
    "n = x.size\n",
    "tuc = corr*np.sqrt((n-2)/(1-corr*corr))\n",
    "tuc"
   ]
  },
  {
   "cell_type": "markdown",
   "metadata": {},
   "source": [
    "#### tucが自由度$N-2$の$t$分布に従うこと，および，tucの問題設定では両側検定であることに留意\n",
    "両側検定ゆえ，probを2倍している。"
   ]
  },
  {
   "cell_type": "code",
   "execution_count": null,
   "metadata": {
    "scrolled": true
   },
   "outputs": [],
   "source": [
    "prob = 1-stats.t.cdf(tuc,n-2)\n",
    "2*prob "
   ]
  },
  {
   "cell_type": "markdown",
   "metadata": {},
   "source": [
    "上記の結果は，pvalueと一致しているとみなしてよく，pvalueの計算の過程がわかる。"
   ]
  },
  {
   "cell_type": "markdown",
   "metadata": {},
   "source": [
    "## 気象と家計支出の相関行列とヒートマップ\n",
    "2年分、月毎のデータ"
   ]
  },
  {
   "cell_type": "code",
   "execution_count": null,
   "metadata": {},
   "outputs": [],
   "source": [
    "fname = 'weather_items.csv'\n",
    "df = pd.read_csv(fname, index_col='date', parse_dates=[0], comment='#', encoding='SHIFT-JIS')\n",
    "df.head()"
   ]
  },
  {
   "cell_type": "code",
   "execution_count": null,
   "metadata": {
    "scrolled": false
   },
   "outputs": [],
   "source": [
    "corr_mat = df.corr()\n",
    "corr_mat"
   ]
  },
  {
   "cell_type": "markdown",
   "metadata": {},
   "source": [
    "### Seabornのカラーマップ\n",
    "http://seaborn.pydata.org/tutorial/color_palettes.html<br>\n",
    "カラーマップ http://seaborn.pydata.org/tutorial/color_palettes.html<br>\n",
    "ちょっと古いカラーマップ https://matplotlib.org/2.0.2/examples/color/colormaps_reference.html<br>"
   ]
  },
  {
   "cell_type": "code",
   "execution_count": null,
   "metadata": {},
   "outputs": [],
   "source": [
    "fig = plt.subplots(figsize=(10,10))\n",
    "heatmap = sns.heatmap(corr_mat, annot=True, square=True, cmap='bwr')\n",
    "#plt.savefig('fig_SD_CorrelationHeatmap.pdf')\n",
    "#plt.show()"
   ]
  },
  {
   "cell_type": "code",
   "execution_count": null,
   "metadata": {},
   "outputs": [],
   "source": [
    "#fig = plt.subplots(figsize=(6,4))\n",
    "pg = sns.pairplot(corr_mat, height=1, aspect=1)\n",
    "#plt.savefig('fig_SD_ScatterMatrix.pdf')\n",
    "#plt.show()"
   ]
  },
  {
   "cell_type": "code",
   "execution_count": null,
   "metadata": {},
   "outputs": [],
   "source": [
    "df.plot(subplots=True, figsize=(12,12))"
   ]
  },
  {
   "cell_type": "markdown",
   "metadata": {},
   "source": [
    "クロス集計を行うために，気象データを削除する\n",
    "次に，groupby機能を用いて，四季毎にデータをまとめる"
   ]
  },
  {
   "cell_type": "code",
   "execution_count": null,
   "metadata": {},
   "outputs": [],
   "source": [
    "df_1 = df.drop(['max_temperature', 'sum_rainfall', 'mean_humidity'], axis=1)\n",
    "df_season = df_1.groupby('season')"
   ]
  },
  {
   "cell_type": "markdown",
   "metadata": {},
   "source": [
    "メンバ関数sum()を用いて，クロス集計を行う（あまり意味が認められない）"
   ]
  },
  {
   "cell_type": "code",
   "execution_count": null,
   "metadata": {
    "scrolled": true
   },
   "outputs": [],
   "source": [
    "df_season_sum = df_season.sum()\n",
    "df_season_sum"
   ]
  },
  {
   "cell_type": "markdown",
   "metadata": {},
   "source": [
    "季節ごとの家計支出を見る"
   ]
  },
  {
   "cell_type": "code",
   "execution_count": null,
   "metadata": {},
   "outputs": [],
   "source": [
    "df_season.plot.bar(rot=0, figsize=(12,4))"
   ]
  },
  {
   "cell_type": "code",
   "execution_count": null,
   "metadata": {},
   "outputs": [],
   "source": []
  }
 ],
 "metadata": {
  "kernelspec": {
   "display_name": "Python 3 (ipykernel)",
   "language": "python",
   "name": "python3"
  },
  "language_info": {
   "codemirror_mode": {
    "name": "ipython",
    "version": 3
   },
   "file_extension": ".py",
   "mimetype": "text/x-python",
   "name": "python",
   "nbconvert_exporter": "python",
   "pygments_lexer": "ipython3",
   "version": "3.9.12"
  }
 },
 "nbformat": 4,
 "nbformat_minor": 2
}
