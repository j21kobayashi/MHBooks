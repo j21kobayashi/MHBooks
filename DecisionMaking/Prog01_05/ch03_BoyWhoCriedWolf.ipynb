{
 "cells": [
  {
   "cell_type": "markdown",
   "metadata": {},
   "source": [
    "# 羊飼いと狼の分析\n",
    "英語では\"The Boy Who Cried Wolf\"と言われる。https://en.wikipedia.org/wiki/The_Boy_Who_Cried_Wolf<br>\n",
    "イソップ寓話の「羊飼いと狼」が原典と言われる。"
   ]
  },
  {
   "cell_type": "markdown",
   "metadata": {},
   "source": [
    "村はずれの牧場で羊の世話をしている羊飼いの少年が、いつも一人ぼっちで淋しいし退屈なので、 いたずらして大人たちを脅かしてやろうと考え、狼が来てもいないのに、「狼が来たぞ～」 と叫ぶ。 その声に驚いて、大勢の村人たちが手に手に棒を持って駆けつけてきたが、どこにも狼は居ないので、やがて帰ってゆく。 面白がった少年は、来る日も来る日も嘘をついて 「狼が来たぞ～」 と叫ぶ。 初めのうちはその度ごとに村人たちが駆けつけて来たが、そのうちに、村人は少年を信用しなくなり、 「狼が来た」 と叫んでも、どうせまた嘘だろうと思って、誰も駆けつけて来なくなってしまう。\n",
    "　ところが、ある日、本当に狼がやって来た。 少年は 「狼が来た」 と必死で叫ぶが、村人は誰も来てくれず、少年は狼に襲われて喰われてしまった。 と云うお話である。"
   ]
  },
  {
   "cell_type": "code",
   "execution_count": null,
   "metadata": {},
   "outputs": [],
   "source": [
    "# -*- coding: utf-8 -*-\n",
    "import numpy as np\n",
    "import matplotlib.pyplot as plt\n",
    "\n",
    "%matplotlib inline"
   ]
  },
  {
   "cell_type": "code",
   "execution_count": null,
   "metadata": {},
   "outputs": [],
   "source": [
    "np.random.seed(123)\n",
    "PYX,    PnotYX    = 1/3, 2/3\n",
    "PYnotX, PnotYnotX = 3/4, 1/4"
   ]
  },
  {
   "cell_type": "markdown",
   "metadata": {},
   "source": [
    "Bayes_Y：（狼が来た）のときの条件付き確率$P(X|Y)$を計算<br>\n",
    "Bayes_notY：（狼が来なかった）ときの条件付き確率$P(X|\\bar{Y})$: を計算<br>"
   ]
  },
  {
   "cell_type": "code",
   "execution_count": null,
   "metadata": {},
   "outputs": [],
   "source": [
    "def Bayes_Y(pX, pnotX):\n",
    "    return PYX * pX /(PYX*pX + PYnotX*pnotX)\n",
    "\n",
    "def Bayes_notY(pX, pnotX):\n",
    "    return PnotYX * pX /(PnotYX*pX + PnotYnotX*pnotX)"
   ]
  },
  {
   "cell_type": "markdown",
   "metadata": {},
   "source": [
    "pLiarは嘘つきと思われる確率。pLiarY, pLiarnotYは，それぞれ，Yの事象，notYの事象に基づく。"
   ]
  },
  {
   "cell_type": "code",
   "execution_count": null,
   "metadata": {
    "scrolled": true
   },
   "outputs": [],
   "source": [
    "num = 6\n",
    "pLiarY = np.zeros(num)\n",
    "pLiarnotY = np.zeros(num)\n",
    "\n",
    "pX = 1/2 ; pnotX = 1 - pX\n",
    "pLiarY[0], pLiarnotY[0] = pX, pnotX\n",
    "\n",
    "for k in range(1,num):\n",
    "    pxy = Bayes_Y(pX, pnotX)\n",
    "    pLiarY[k] = pxy \n",
    "#    print(k,pxy)\n",
    "    pX = pxy ; pnotX = 1 - pX\n",
    "    \n",
    "pX = pLiarY[0]\n",
    "pnotX = 1 - pX\n",
    "for k in range(1,num):\n",
    "    pxnoty = Bayes_notY(pX, pnotX)\n",
    "    pLiarnotY[k] = pxnoty\n",
    "#    print(k, pxnoty)\n",
    "    pX = pxnoty ; pnotX = 1 - pX"
   ]
  },
  {
   "cell_type": "code",
   "execution_count": null,
   "metadata": {},
   "outputs": [],
   "source": [
    "fig = plt.subplots(figsize=(6,4))\n",
    "plt.plot(pLiarY, label='Coming')\n",
    "plt.plot(pLiarnotY, label='Not coming')\n",
    "plt.xlabel('number of times')\n",
    "plt.ylabel('probability')\n",
    "plt.legend()\n",
    "plt.grid()\n",
    "\n",
    "#plt.savefig('fig_SD_BoyWhoCriedWolf_01.pdf', bbox_inches='tight')\n",
    "plt.show()"
   ]
  },
  {
   "cell_type": "markdown",
   "metadata": {},
   "source": [
    "## 嘘をランダムにつくという設定\n",
    "rand > threshとおいたとき，threshが小さいとif文の実行が多くなる。すなわち，「狼が来た！」と叫んで「実際に狼が来た（すなわち正直）」であるから，pの値は減少する。その逆も同じである。<br>\n",
    "thres が 0.45 以上ならば，嘘つきと思われる結果となる。"
   ]
  },
  {
   "cell_type": "code",
   "execution_count": null,
   "metadata": {},
   "outputs": [],
   "source": [
    "np.random.seed(123)\n",
    "num = 50\n",
    "thresh = 0.45\n",
    "\n",
    "pX = 1/2 ; pnotX = 1 - pX\n",
    "pLiar = np.zeros(num)\n",
    "pLiar[0] = pX\n",
    "for k in range(1,num):\n",
    "    rand = np.random.random()\n",
    "    if rand > thresh:\n",
    "        p = Bayes_Y(pX, pnotX)\n",
    "    else:\n",
    "        p = Bayes_notY(pX, pnotX)\n",
    "\n",
    "    pLiar[k] = p\n",
    "#    print(k,rand, p)\n",
    "    pX = p ; pnotX = 1 - pX\n",
    "\n",
    "    \n",
    "fig = plt.subplots(figsize=(6,4))\n",
    "plt.plot(pLiar)\n",
    "plt.ylim([0,1])\n",
    "plt.xlabel('number of times')\n",
    "plt.ylabel('probability')\n",
    "plt.grid()\n",
    "#plt.savefig('fig_SD_BoyWhoCriedWolf_02.pdf', bbox_inches='tight')\n",
    "plt.show()"
   ]
  },
  {
   "cell_type": "code",
   "execution_count": null,
   "metadata": {},
   "outputs": [],
   "source": []
  }
 ],
 "metadata": {
  "kernelspec": {
   "display_name": "Python 3 (ipykernel)",
   "language": "python",
   "name": "python3"
  },
  "language_info": {
   "codemirror_mode": {
    "name": "ipython",
    "version": 3
   },
   "file_extension": ".py",
   "mimetype": "text/x-python",
   "name": "python",
   "nbconvert_exporter": "python",
   "pygments_lexer": "ipython3",
   "version": "3.7.11"
  }
 },
 "nbformat": 4,
 "nbformat_minor": 2
}
