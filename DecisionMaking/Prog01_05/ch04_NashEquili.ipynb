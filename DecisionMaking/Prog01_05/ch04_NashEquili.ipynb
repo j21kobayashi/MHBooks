{
 "cells": [
  {
   "cell_type": "markdown",
   "metadata": {},
   "source": [
    "# ナッシュ均衡をnashpyで見つける\n",
    "https://nashpy.readthedocs.io/en/stable/"
   ]
  },
  {
   "cell_type": "markdown",
   "metadata": {},
   "source": [
    "#### Colabで実行する場合は次のセルの中をコメントアウトしてパッケージをインストールする。"
   ]
  },
  {
   "cell_type": "code",
   "execution_count": null,
   "metadata": {},
   "outputs": [],
   "source": [
    "#!pip install nashpy "
   ]
  },
  {
   "cell_type": "code",
   "execution_count": null,
   "metadata": {},
   "outputs": [],
   "source": [
    "import nashpy as nash\n",
    "import numpy as np\n",
    "import scipy as sp\n",
    "from scipy.stats import bernoulli\n",
    "import matplotlib.pyplot as plt  \n",
    "\n",
    "%matplotlib inline"
   ]
  },
  {
   "cell_type": "markdown",
   "metadata": {},
   "source": [
    "## 囚人のジレンマ\n",
    "https://ja.wikipedia.org/wiki/囚人のジレンマ"
   ]
  },
  {
   "cell_type": "code",
   "execution_count": null,
   "metadata": {
    "scrolled": true
   },
   "outputs": [],
   "source": [
    "A = np.array([[-2, -10],[0, -5]]) # A is the row player\n",
    "B = np.array([[-2, 0],[-10, -5]]) # B is the column player\n",
    "prisoners_dilemma = nash.Game(A,B)\n",
    "prisoners_dilemma"
   ]
  },
  {
   "cell_type": "code",
   "execution_count": null,
   "metadata": {},
   "outputs": [],
   "source": [
    "equili = prisoners_dilemma.support_enumeration()\n",
    "for sol in equili:\n",
    "    print(sol)"
   ]
  },
  {
   "cell_type": "markdown",
   "metadata": {},
   "source": [
    "## 調整ゲーム\n",
    "この考えの原型は次にある<br>\n",
    "https://en.wikipedia.org/wiki/Battle_of_the_sexes_(game_theory)"
   ]
  },
  {
   "cell_type": "code",
   "execution_count": null,
   "metadata": {},
   "outputs": [],
   "source": [
    "A = np.array([[3, 0],[0, 2]])\n",
    "B = np.array([[2, 0],[0, 3]])\n",
    "battle = nash.Game(A, B)\n",
    "equili2 = battle.support_enumeration()\n",
    "for eq in equili2:\n",
    "    print(eq)"
   ]
  }
 ],
 "metadata": {
  "kernelspec": {
   "display_name": "Python 3 (ipykernel)",
   "language": "python",
   "name": "python3"
  },
  "language_info": {
   "codemirror_mode": {
    "name": "ipython",
    "version": 3
   },
   "file_extension": ".py",
   "mimetype": "text/x-python",
   "name": "python",
   "nbconvert_exporter": "python",
   "pygments_lexer": "ipython3",
   "version": "3.9.7"
  }
 },
 "nbformat": 4,
 "nbformat_minor": 4
}
