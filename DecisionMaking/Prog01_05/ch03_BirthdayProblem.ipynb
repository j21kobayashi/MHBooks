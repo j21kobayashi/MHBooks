{
 "cells": [
  {
   "cell_type": "markdown",
   "metadata": {},
   "source": [
    "# Birthday Problem\n",
    "Ref:  https://en.wikipedia.org/wiki/Birthday_problem  "
   ]
  },
  {
   "cell_type": "code",
   "execution_count": null,
   "metadata": {},
   "outputs": [],
   "source": [
    "# -*- coding: utf-8 -*-\n",
    "import numpy as np\n",
    "import matplotlib.pyplot as plt\n",
    "\n",
    "%matplotlib inline"
   ]
  },
  {
   "cell_type": "markdown",
   "metadata": {},
   "source": [
    "#### 配列prob[i]に確率を格納，要素番号iは人数を表す。よって，i=0,1の確率はゼロとした。\n",
    "maxNは365以下であれば良く（366以上ならばこの問題の確率は必ず1となる），グラフが70人で飽和するので，次の値とした。"
   ]
  },
  {
   "cell_type": "code",
   "execution_count": null,
   "metadata": {},
   "outputs": [],
   "source": [
    "maxN = 70\n",
    "prob = np.zeros(maxN+1)\n",
    "sum = 1\n",
    "for n in range(2,maxN+1):\n",
    "    sum = sum*(365-(n-1))/365\n",
    "    prob[n] = 1-sum"
   ]
  },
  {
   "cell_type": "code",
   "execution_count": null,
   "metadata": {},
   "outputs": [],
   "source": [
    "prob"
   ]
  },
  {
   "cell_type": "code",
   "execution_count": null,
   "metadata": {},
   "outputs": [],
   "source": [
    "fig = plt.subplots(figsize=(8,4))\n",
    "plt.plot(prob)\n",
    "\n",
    "plt.grid()\n",
    "plt.xlabel('Number of people')\n",
    "plt.ylabel('Probability of sharing')\n",
    "plt.title('at least two people sharing a birthday')\n",
    "#plt.savefig('fig_result.png')"
   ]
  },
  {
   "cell_type": "code",
   "execution_count": null,
   "metadata": {},
   "outputs": [],
   "source": [
    "plt.xlim(0,30)\n",
    "plt.plot(prob)\n",
    "plt.grid()\n",
    "plt.xlabel('Number of people')\n",
    "plt.ylabel('Probability of sharing')\n",
    "plt.title('at least two people sharing a birthday')\n",
    "#plt.savefig('fig_result.png')"
   ]
  },
  {
   "cell_type": "code",
   "execution_count": null,
   "metadata": {},
   "outputs": [],
   "source": [
    "prob[30]"
   ]
  },
  {
   "cell_type": "code",
   "execution_count": null,
   "metadata": {},
   "outputs": [],
   "source": [
    "fig, ax = plt.subplots(nrows=1, ncols=2, figsize=(14,4))\n",
    "ax[0].plot(prob)\n",
    "\n",
    "ax[0].grid()\n",
    "ax[0].set_xlabel('Number of people')\n",
    "ax[0].set_ylabel('Probability of sharing')\n",
    "ax[0].set_title('at least two people sharing a birthday')\n",
    "\n",
    "ax[1].set_xlim(0,30)\n",
    "ax[1].plot(prob)\n",
    "ax[1].grid()\n",
    "ax[1].set_xlabel('Number of people')\n",
    "ax[1].set_ylabel('Probability of sharing')\n",
    "ax[1].set_title('at least two people sharing a birthday')\n",
    "\n",
    "#plt.savefig('fig_SD_BirthdayProb01.pdf', bbox_inches='tight')\n",
    "plt.show()"
   ]
  },
  {
   "cell_type": "code",
   "execution_count": null,
   "metadata": {},
   "outputs": [],
   "source": [
    "prob[30]"
   ]
  },
  {
   "cell_type": "code",
   "execution_count": null,
   "metadata": {},
   "outputs": [],
   "source": []
  }
 ],
 "metadata": {
  "kernelspec": {
   "display_name": "Python 3 (ipykernel)",
   "language": "python",
   "name": "python3"
  },
  "language_info": {
   "codemirror_mode": {
    "name": "ipython",
    "version": 3
   },
   "file_extension": ".py",
   "mimetype": "text/x-python",
   "name": "python",
   "nbconvert_exporter": "python",
   "pygments_lexer": "ipython3",
   "version": "3.7.11"
  }
 },
 "nbformat": 4,
 "nbformat_minor": 2
}
