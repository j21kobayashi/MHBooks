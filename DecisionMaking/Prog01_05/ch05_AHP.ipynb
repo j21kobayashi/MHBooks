{
 "cells": [
  {
   "cell_type": "markdown",
   "metadata": {},
   "source": [
    "# AHP\n",
    "評価基準：出塁率$c_1$, 長打率$c_2$,守備率$c_3$, 盗塁成功率$c_4$<br>\n",
    "代替案：選手A$_1, a_1$, 選手A$_2, a_2$, 選手A$_3, a_3$<br> "
   ]
  },
  {
   "cell_type": "markdown",
   "metadata": {},
   "source": [
    "### 変数の名前の説明\n",
    "mat : 2次元または3次元の配列であることを明示するための接頭語<br>\n",
    "P   : 比較一対行列（Pairwise compare matrix）<br>\n",
    "語尾のc : criteria （評価基準）に関連することを表す<br>\n",
    "eigv : eigen-valueの略称"
   ]
  },
  {
   "cell_type": "code",
   "execution_count": null,
   "metadata": {},
   "outputs": [],
   "source": [
    "# -*- coding: utf-8 -*- \n",
    "import numpy as np\n",
    "import scipy.stats\n",
    "\n",
    "import matplotlib.pyplot as plt\n",
    "%matplotlib inline"
   ]
  },
  {
   "cell_type": "markdown",
   "metadata": {},
   "source": [
    "評価基準に対する比較一対行列matPCで表す。<br>\n",
    "各評価基準の項目（4つ）毎の比較一対行列を3次元配列matPにまとめることで，アルゴリズムの簡潔さを図る。<br>\n",
    "変数L, Mは，それぞれの行列（正方行列であることに留意）の次元を表す。"
   ]
  },
  {
   "cell_type": "code",
   "execution_count": null,
   "metadata": {},
   "outputs": [],
   "source": [
    "L = 4\n",
    "matPc = np.array( [[1, 7, 1/3, 3], [1/7, 1, 1/5, 1/3], [3, 5, 1, 7], [1/3, 3, 1/7, 1]])\n",
    "M = 3\n",
    "matP1 = np.array( [[1, 1, 1/3], [1, 1, 1/5], [3, 5, 1]])\n",
    "matP2 = np.array( [[1, 3, 7], [1/3, 1, 5], [1/7, 1/5, 1]])\n",
    "matP3 = np.array( [[1, 5, 9], [1/5, 1, 5], [1/9, 1/5, 1]])\n",
    "matP4 = np.array( [[1, 1/5, 3], [5, 1, 7], [1/3, 1/7, 1]])\n",
    "matP = np.array([matP1, matP2, matP3, matP4]) "
   ]
  },
  {
   "cell_type": "markdown",
   "metadata": {},
   "source": [
    "## 固有値法\n",
    "正方行列$\\boldsymbol{P}$に対する固有値，固有ベクトルとの関係は次式で表される。\n",
    "$$\n",
    "\\boldsymbol{P}\\boldsymbol{w} = \\lambda \\boldsymbol{w}\n",
    "$$\n",
    "固有値，固有ベクトルを求める関数は次を使う<br>\n",
    "numpy.linalg.eig: https://numpy.org/doc/stable/reference/generated/numpy.linalg.eig.html"
   ]
  },
  {
   "cell_type": "markdown",
   "metadata": {},
   "source": [
    "次の関数は，最大固有値とそれに対応する固有ベクトルを求め，固有ベクトルは要素の総和が1となるように正規化する。"
   ]
  },
  {
   "cell_type": "code",
   "execution_count": null,
   "metadata": {},
   "outputs": [],
   "source": [
    "def getWeightVecEigen(mat):\n",
    "    eig_val, eig_vec = np.linalg.eig(mat)\n",
    "    abs_eig_val = np.abs(eig_val)  # In case of complex number\n",
    "    idx = np.argmax(abs_eig_val)   # max eigenvalue\n",
    "    max_eig_val = abs_eig_val[idx]\n",
    "    abs_v = np.abs(eig_vec[:,idx]) # \n",
    "    return max_eig_val, abs_v/abs_v.sum()      # Normalization so that the sum is one. "
   ]
  },
  {
   "cell_type": "markdown",
   "metadata": {},
   "source": [
    "評価基準の一対比較行列matPcと，その最大固有値eigvmax_cと正規化した重みベクトルvcを求める。<br>"
   ]
  },
  {
   "cell_type": "code",
   "execution_count": null,
   "metadata": {
    "scrolled": true
   },
   "outputs": [],
   "source": [
    "eigvmax_c, v_c = getWeightVecEigen(matPc)\n",
    "print(\"max of eigen value :\",eigvmax_c)\n",
    "print(\"its eigen vector:\", v_c)"
   ]
  },
  {
   "cell_type": "markdown",
   "metadata": {},
   "source": [
    "#### 評価基準の整合度（CI: Consistency Index）の確認\n",
    "CI $\\le 0.1 \\sim 0.15$程度であれば良いとされている。<br>"
   ]
  },
  {
   "cell_type": "code",
   "execution_count": null,
   "metadata": {},
   "outputs": [],
   "source": [
    "CI_c = (eigvmax_c - L)/(L-1)\n",
    "print(\"CI_c=\",CI_c)"
   ]
  },
  {
   "cell_type": "markdown",
   "metadata": {},
   "source": [
    "#### 重要度ベクトルの棒グラフ化\n",
    "List of named colors : https://matplotlib.org/stable/gallery/color/named_colors.html"
   ]
  },
  {
   "cell_type": "code",
   "execution_count": null,
   "metadata": {
    "scrolled": true
   },
   "outputs": [],
   "source": [
    "fig = plt.subplots(figsize=(6,3))\n",
    "xtic = list(range(1,L+1))\n",
    "plt.bar(x=xtic, height=v_c, width=0.3, color=\"b\")\n",
    "plt.xticks(xtic)\n",
    "plt.xlabel('Criteria c_i', size=15)\n",
    "plt.ylabel('Weight', size=15)\n",
    "plt.grid()\n",
    "#plt.savefig('fig_OR_AHP_Eigen_Weight_01.pdf', bbox_inches='tight')\n",
    "plt.show()"
   ]
  },
  {
   "cell_type": "markdown",
   "metadata": {},
   "source": [
    "各一対比較行列に対する最大固有値max_eigv[i]と正規化された重みベクトルv[i]を求める。さらに，CIの値を確認する。<br>\n",
    "重みベクトルから重み行列matWを作る。"
   ]
  },
  {
   "cell_type": "code",
   "execution_count": null,
   "metadata": {
    "scrolled": true
   },
   "outputs": [],
   "source": [
    "v = np.zeros((L, M))\n",
    "max_eigv = np.zeros(L)\n",
    "for i in range(L):\n",
    "    max_eigv[i], v[i] = getWeightVecEigen(matP[i])\n",
    "    CI = (max_eigv[i] - M)/(M-1)\n",
    "    print(\"CI=\",CI, \" max_eig_val=\",max_eigv[i])\n",
    "\n",
    "matW = v.T\n",
    "matW"
   ]
  },
  {
   "cell_type": "code",
   "execution_count": null,
   "metadata": {},
   "outputs": [],
   "source": [
    "matW[0]"
   ]
  },
  {
   "cell_type": "code",
   "execution_count": null,
   "metadata": {},
   "outputs": [],
   "source": [
    "fig = plt.subplots(figsize=(8,4))\n",
    "#x_1, x_2, x_3は棒グラフを並べてプロットするための棒グラフの位置\n",
    "x_1 = [0.85, 0.95, 1.05, 1.15]\n",
    "x_2 = [1.85, 1.95, 2.05, 2.15]\n",
    "x_3 = [2.85, 2.95, 3.05, 3.15]\n",
    "\n",
    "colors=[\"silver\", \"orangered\", \"royalblue\", \"lime\"]\n",
    "labels=[\"c1\", \"c2\", \"c3\", \"c4\"]\n",
    "xtic = list(range(1,M+1))\n",
    "\n",
    "plt.bar(x=x_1, height=matW[0], width=0.1, color=colors, edgecolor=\"black\")\n",
    "plt.bar(x=x_2, height=matW[1], width=0.1, color=colors, edgecolor=\"black\")\n",
    "plt.bar(x=x_3, height=matW[2], width=0.1, color=colors, edgecolor=\"black\")\n",
    "plt.xticks(xtic)\n",
    "plt.xlabel('Alternatives A_i', size=15)\n",
    "plt.ylabel('Weight', size=15)\n",
    "#plt.savefig('fig_OR_AHP_Eigen_Weight_02.pdf', bbox_inches='tight')\n",
    "plt.grid()\n"
   ]
  },
  {
   "cell_type": "markdown",
   "metadata": {},
   "source": [
    "#### 総合評価"
   ]
  },
  {
   "cell_type": "code",
   "execution_count": null,
   "metadata": {},
   "outputs": [],
   "source": [
    "a = np.dot(matW, v_c)\n",
    "print(\"a=\",a)"
   ]
  },
  {
   "cell_type": "markdown",
   "metadata": {},
   "source": [
    "これより，a[0] が最も良さそうであると言える。このグラフ化が次である。"
   ]
  },
  {
   "cell_type": "code",
   "execution_count": null,
   "metadata": {},
   "outputs": [],
   "source": [
    "fig = plt.subplots(figsize=(6,3))\n",
    "xtic = list(range(1,M+1))\n",
    "plt.bar(x=xtic, height=a, width=0.3, color=\"cyan\", edgecolor=\"black\")\n",
    "plt.xticks(xtic)\n",
    "plt.xlabel('Alternatives A_i', size=15)\n",
    "plt.ylabel('Total Score', size=15)\n",
    "plt.grid()\n",
    "#plt.savefig('fig_OR_AHP_Eigen_Weight_03.pdf', bbox_inches='tight')\n",
    "plt.show()"
   ]
  },
  {
   "cell_type": "markdown",
   "metadata": {},
   "source": [
    "## 幾何平均　（geometric mean）\n",
    "$$\n",
    "\\bar{x}_G = \\sqrt[n]{x_1 \\times \\cdots \\times x_n}  = \\left( \\prod_{i=1}^{n} x_i  \\right)^{\\frac{1}{n}}\n",
    "$$\n",
    "比較一対行列の行方向に幾何平均をとり，ベクトルを得る。このベクトルを総和が１となる意味での正規化を行う。<br>\n",
    "この計算はSciPyの次を使う。<br>\n",
    "https://docs.scipy.org/doc/scipy/reference/generated/scipy.stats.mstats.gmean.html"
   ]
  },
  {
   "cell_type": "code",
   "execution_count": null,
   "metadata": {},
   "outputs": [],
   "source": [
    "def getWeightVecGmean(mat):\n",
    "    n, m = mat.shape\n",
    "#    print('---', n, m)\n",
    "    xg = np.zeros(n)\n",
    "    for i in range(n):\n",
    "        xg[i] = scipy.stats.gmean(mat[i])\n",
    "#        print(i, \"\\n\", mat[i], \"\\n\", xg[i])\n",
    "    return np.abs(xg)/np.abs(xg.sum())"
   ]
  },
  {
   "cell_type": "markdown",
   "metadata": {},
   "source": [
    "評価基準の重みベクトルを得る。"
   ]
  },
  {
   "cell_type": "code",
   "execution_count": null,
   "metadata": {},
   "outputs": [],
   "source": [
    "vg_c = getWeightVecGmean(matPc)\n",
    "vg_c"
   ]
  },
  {
   "cell_type": "markdown",
   "metadata": {},
   "source": [
    "評価基準の整合度（CI: Consistency Index）を確認する。CI  ≤0.1∼0.15 程度であれば良いとされている。<br>\n",
    "vv = matPC vg_c を計算して，要素ごとの除算 vv/vg_cにより正規化して，全要素に対する平均を求める。<br>\n",
    "これを最大固有値の推定値とする。"
   ]
  },
  {
   "cell_type": "code",
   "execution_count": null,
   "metadata": {},
   "outputs": [],
   "source": [
    "vPvgc = np.dot(matPc, vg_c)\n",
    "vdivc = np.divide(vPvgc, vg_c)\n",
    "est_eigv = vdivc.mean()\n",
    "CI_c = (est_eigv - L)/(L-1)\n",
    "print(est_eigv, CI_c)"
   ]
  },
  {
   "cell_type": "markdown",
   "metadata": {},
   "source": [
    "各一対比較行列に対し，幾何平均を用いた重みベクトルvg[i]を求める。<br>\n",
    "さらに，CIの値を確認する。<br>\n",
    "重みベクトルから重み行列matWを作る。"
   ]
  },
  {
   "cell_type": "code",
   "execution_count": null,
   "metadata": {},
   "outputs": [],
   "source": [
    "vg = np.zeros((L, M))\n",
    "for i in range(L):\n",
    "    vg[i] = getWeightVecGmean(matP[i])\n",
    "    vPvg = np.dot(matP[i], vg[i])\n",
    "    vdiv = np.divide(vPvg, vg[i])\n",
    "    est_eigv = vdiv.mean()\n",
    "    CI = (est_eigv - M)/(M-1)\n",
    "    print(CI, est_eigv)\n",
    "\n",
    "matW = vg.T\n",
    "matW"
   ]
  },
  {
   "cell_type": "markdown",
   "metadata": {},
   "source": [
    "#### 総合評価"
   ]
  },
  {
   "cell_type": "code",
   "execution_count": null,
   "metadata": {},
   "outputs": [],
   "source": [
    "ag = np.dot(matW, vg_c)\n",
    "print(\"ag=\",ag)"
   ]
  },
  {
   "cell_type": "markdown",
   "metadata": {},
   "source": [
    "これより，ag[0] が最も良さそうであると言える。"
   ]
  },
  {
   "cell_type": "code",
   "execution_count": null,
   "metadata": {},
   "outputs": [],
   "source": []
  }
 ],
 "metadata": {
  "kernelspec": {
   "display_name": "Python 3 (ipykernel)",
   "language": "python",
   "name": "python3"
  },
  "language_info": {
   "codemirror_mode": {
    "name": "ipython",
    "version": 3
   },
   "file_extension": ".py",
   "mimetype": "text/x-python",
   "name": "python",
   "nbconvert_exporter": "python",
   "pygments_lexer": "ipython3",
   "version": "3.9.7"
  }
 },
 "nbformat": 4,
 "nbformat_minor": 2
}
