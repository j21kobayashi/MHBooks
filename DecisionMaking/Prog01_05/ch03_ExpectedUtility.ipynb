{
 "cells": [
  {
   "cell_type": "markdown",
   "metadata": {},
   "source": [
    "# 期待効用（expected utility）\n",
    "2つの例題：サンクトペテルブルクのパラドックス，リスク態度と期待効用を示す。<br>\n",
    "https://ja.wikipedia.org/wiki/サンクトペテルブルクのパラドックス<br>"
   ]
  },
  {
   "cell_type": "markdown",
   "metadata": {},
   "source": [
    "## Colaboratoryでの実行の場合\n",
    "次のセルをコメントアウトして実行してインストールを行ってください。<br>\n",
    "参照：<br>\n",
    "・Colabがインストールを促さない場合<br>\n",
    "　https://github.com/ohmsha/MHBooks/blob/master/Tips/UsageIDE/UsageColab.md <br>\n",
    "・パッケージのインストール<br>\n",
    "　https://github.com/ohmsha/MHBooks/tree/master/Tips/InstallPackages"
   ]
  },
  {
   "cell_type": "code",
   "execution_count": null,
   "metadata": {},
   "outputs": [],
   "source": [
    "#!pip install japanize-matplotlib"
   ]
  },
  {
   "cell_type": "code",
   "execution_count": null,
   "metadata": {},
   "outputs": [],
   "source": [
    "# -*- coding: utf-8 -*-\n",
    "import numpy as np  \n",
    "import scipy as sp\n",
    "import sympy\n",
    "import matplotlib.pyplot as plt\n",
    "import japanize_matplotlib\n",
    "\n",
    "%matplotlib inline"
   ]
  },
  {
   "cell_type": "markdown",
   "metadata": {},
   "source": [
    "## サンクトペテルブルクのパラドックス\n",
    "期待値をexpectで表し\n",
    "$$\n",
    "expect = \\left(\\frac{1}{2}\\right) \\times 2 +  \\left(\\frac{1}{2}\\right)^2 \\times 2^2 + \\cdots + \\left(\\frac{1}{2}\\right)^n \\times 2^n + \\cdots\n",
    "= 1 + 1 + \\cdots \\rightarrow \\infty\n",
    "$$\n",
    "これを次のグラフに表す。当然，発散する。"
   ]
  },
  {
   "cell_type": "code",
   "execution_count": null,
   "metadata": {},
   "outputs": [],
   "source": [
    "maxN = 70\n",
    "expect = np.zeros(maxN+1)\n",
    "sum = 1\n",
    "for i in range(1,maxN+1):\n",
    "    expect[i] = expect[i-1] + 1\n",
    "    \n",
    "fig = plt.subplots(figsize=(6,3))\n",
    "plt.plot(expect)\n",
    "plt.grid()"
   ]
  },
  {
   "cell_type": "markdown",
   "metadata": {},
   "source": [
    "## 効用関数"
   ]
  },
  {
   "cell_type": "code",
   "execution_count": null,
   "metadata": {
    "scrolled": false
   },
   "outputs": [],
   "source": [
    "fig, ax = plt.subplots(nrows=1, ncols=2, figsize=(14,4))\n",
    "x = range(1,10**6)\n",
    "u = np.log10(x)\n",
    "\n",
    "n=10\n",
    "ax[0].plot(x[:n], u[:n])\n",
    "ax[0].grid()\n",
    "ax[0].set_xlabel('x')\n",
    "ax[0].set_ylabel('効用, $u(x)=log_{10}(x)$')\n",
    "\n",
    "ax[1].plot(x, u)\n",
    "ax[1].grid()\n",
    "ax[1].set_xlabel('x')\n",
    "ax[1].set_ylabel('効用, $u(x)=log_{10}(x)$')\n",
    "\n",
    "#plt.savefig('fig_DE_StPeterburg.pdf', bbox_inches='tight')\n",
    "plt.show()"
   ]
  },
  {
   "cell_type": "markdown",
   "metadata": {},
   "source": [
    "## 無限級数和\n",
    "次の無限級数和がある一定値になることの証明を行う。\n",
    "$$\n",
    "S = \\sum_{k=1}^{\\infty} \\frac{k}{2^{k}} \\hspace{30mm} (1)\n",
    "$$\n",
    "初めに，本証明で用いる二項定理を掲載する。"
   ]
  },
  {
   "cell_type": "markdown",
   "metadata": {},
   "source": [
    "#### 二項定理"
   ]
  },
  {
   "cell_type": "markdown",
   "metadata": {},
   "source": [
    "$$\n",
    "(x+y)^{n} = {}_n C_n x^{n} + {}_n C_{n-1} x^{n-1} y + {}_n C_{n-2} x^{n-2} y^{2} + \\cdots + {}_n C_{k} x^{k} y^{n-k} + \\cdots + {}_n C_{1} x y^{n-1} + {}_n C_{0} y^{n}    \n",
    "\\hspace{20mm} (2)\n",
    "$$"
   ]
  },
  {
   "cell_type": "markdown",
   "metadata": {},
   "source": [
    "これを利用して，$r = 1 + h$， $(h>0)$を考える。当然，$r>1$である。\n",
    "$$\n",
    "r^{n} = \\left( 1+h \\right)^{n} =  {}_n C_n  + {}_n C_{n-1} h + {}_n C_{n-2} h^{2} + \\cdots + {}_n C_{k}  h^{n-k} + \\cdots + {}_n C_{1} h^{n-1} + {}_n C_{0} h^{n} \\\\\n",
    "\\ge 1 + nh + \\frac{1}{2} n (n-1) h^2\n",
    "\\ge 1 + nh    \\hspace{20mm} (3)\n",
    "$$\n"
   ]
  },
  {
   "cell_type": "markdown",
   "metadata": {},
   "source": [
    "(1)式で$n$までの有限和を$S_n$と表現して，また，(1)式の一般項が（等差数列）$\\times$（等比数列）の形をしているから\n",
    "次を考える\n",
    "$$\n",
    "S_n - \\mbox{（公比）} \\times S_n\n",
    "$$"
   ]
  },
  {
   "cell_type": "markdown",
   "metadata": {},
   "source": [
    "$$\n",
    "S_{n} = \\frac{1}{2} + 2\\frac{1}{2^2} + 3 \\frac{1}{2^3} + 4\\frac{1}{2^4} + \\cdots + n \\frac{1}{2^n} \\\\\n",
    "\\frac{1}{2} S_{n} = \\frac{1}{2^2} + 2\\frac{1}{2^3} + 3 \\frac{1}{2^4} + 4\\frac{1}{2^5} + \\cdots + n \\frac{1}{2^{n+1}} \n",
    "$$"
   ]
  },
  {
   "cell_type": "markdown",
   "metadata": {},
   "source": [
    "辺々引いて\n",
    "$$\n",
    "\\frac{1}{2} S_n = \\frac{1}{2} + \\frac{1}{2^2} + \\cdots + \\frac{1}{2^n} - n \\frac{1}{2^{n+1}}  = 1 - \\frac{1}{2^n} - n\\frac{1}{2^{n+1}}  \\hspace{20mm} (4)\\\\\n",
    "\\therefore S_n = 2 - 2 \\frac{1}{2^{n}} - n \\frac{1}{2^{n}} \n",
    "\\hspace{40mm} (5)\n",
    "$$"
   ]
  },
  {
   "cell_type": "markdown",
   "metadata": {},
   "source": [
    "(4)式の最後の導出は，次の等比数列の和の公式を用いた。たたし，$r \\ne 1$\n",
    "$$\n",
    "S_n = a + a r + a r^2 + \\cdots + a r^{n-1} = \\frac{a (r^n - 1 )}{r - 1}\n",
    "$$"
   ]
  },
  {
   "cell_type": "markdown",
   "metadata": {},
   "source": [
    "(5)式の極限を求めるには，(5)式の第3項がゼロに収束することを言わなければならない。そのため，この分母に上記の二項定理 (3)式を利用する。すなわち，$h=1$とおいて\n",
    "$$\n",
    "2^{n} = (1+1)^{n} \\ge 1 + n + \\frac{1}{2} n(n-1) > \\frac{1}{2} n^2 > 0\n",
    "$$"
   ]
  },
  {
   "cell_type": "markdown",
   "metadata": {},
   "source": [
    "これを変形して\n",
    "$$\n",
    " 0 < n \\frac{1}{2^n} < 2 \\frac{1}{n} \\rightarrow 0 \\hspace{10mm} (n \\rightarrow \\infty)\n",
    "$$"
   ]
  },
  {
   "cell_type": "markdown",
   "metadata": {},
   "source": [
    "よって，(5)式より，$n \\rightarrow \\infty$のとき， $S_n \\rightarrow 2$を得る。"
   ]
  },
  {
   "cell_type": "markdown",
   "metadata": {},
   "source": [
    "## リスク態度と期待効用"
   ]
  },
  {
   "cell_type": "markdown",
   "metadata": {},
   "source": [
    "#### 投資の期待効用の式\n",
    "$$\n",
    "y = \\frac{1}{2}\\sqrt{100+1.5 x} + \\frac{1}{2}\\sqrt{100-x}, \\hspace{3mm} (0 \\le x \\le 100)\n",
    "$$"
   ]
  },
  {
   "cell_type": "code",
   "execution_count": null,
   "metadata": {},
   "outputs": [],
   "source": [
    "x = np.arange(0,101)\n",
    "y = 0.5*(np.sqrt(100+1.5*x) + np.sqrt(100-x))\n",
    "fig = plt.subplots(figsize=(6,3))\n",
    "plt.plot(x,y)\n",
    "plt.grid()\n",
    "plt.xlabel('x', size=20)\n",
    "plt.ylabel('y', size=20)\n",
    "#plt.savefig('fig_DE_AttitudeTowardRisk.pdf', bbox_inches='tight')\n",
    "plt.show()"
   ]
  },
  {
   "cell_type": "code",
   "execution_count": null,
   "metadata": {},
   "outputs": [],
   "source": [
    "X = sympy.Symbol('X')\n",
    "Y = sympy.Symbol('Y')\n",
    "eq = (sympy.sqrt(100+1.5*X) + sympy.sqrt(100-X))/2\n",
    "deq = sympy.diff(eq)\n",
    "deq"
   ]
  },
  {
   "cell_type": "code",
   "execution_count": null,
   "metadata": {},
   "outputs": [],
   "source": [
    "sympy.solve(deq)"
   ]
  },
  {
   "cell_type": "code",
   "execution_count": null,
   "metadata": {},
   "outputs": [],
   "source": []
  }
 ],
 "metadata": {
  "kernelspec": {
   "display_name": "Python 3 (ipykernel)",
   "language": "python",
   "name": "python3"
  },
  "language_info": {
   "codemirror_mode": {
    "name": "ipython",
    "version": 3
   },
   "file_extension": ".py",
   "mimetype": "text/x-python",
   "name": "python",
   "nbconvert_exporter": "python",
   "pygments_lexer": "ipython3",
   "version": "3.9.12"
  }
 },
 "nbformat": 4,
 "nbformat_minor": 4
}
