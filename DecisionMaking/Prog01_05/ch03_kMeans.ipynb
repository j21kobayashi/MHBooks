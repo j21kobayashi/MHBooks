{
 "cells": [
  {
   "cell_type": "markdown",
   "metadata": {},
   "source": [
    "# kMeansを用いたクラスタリング\n",
    "アクセサリーとお菓子の売上を模擬したシミュレーション<br>\n",
    "#### make_blobsを用いたクラスタリング（教師なし）\n",
    "kMeans http://scikit-learn.org/stable/modules/generated/sklearn.cluster.KMeans.html<br>\n",
    "make_blobs() サンプルデータの生成　sklearn.datasets.make_blobs<br>\n",
    "http://scikit-learn.org/stable/modules/generated/sklearn.datasets.make_blobs.html"
   ]
  },
  {
   "cell_type": "code",
   "execution_count": null,
   "metadata": {},
   "outputs": [],
   "source": [
    "# -*- coding: utf-8 -*-\n",
    "import numpy as np\n",
    "import matplotlib.pyplot as plt\n",
    "%matplotlib inline\n",
    "from matplotlib import cm\n",
    "\n",
    "from sklearn.datasets import make_blobs\n",
    "from sklearn.cluster import KMeans\n",
    "from sklearn.metrics import  accuracy_score, classification_report"
   ]
  },
  {
   "cell_type": "code",
   "execution_count": null,
   "metadata": {
    "scrolled": true
   },
   "outputs": [],
   "source": [
    "X, y = make_blobs(  #今回，目的変数（教師データ）yは用いない\n",
    "    n_samples=600,  # サンプル数\n",
    "    n_features=2,    # データの特徴量の種類\n",
    "    centers=4,       # クラスタ数\n",
    "    cluster_std=1.0, # データのばらつきの標準偏差\n",
    "    random_state=2,  # 確率変数の再現性を設定\n",
    "    center_box=(2,10))  # クラスタの中心位置の領域を定める\n",
    "\n",
    "plt.scatter(X[:,0], X[:,1])\n",
    "plt.xlabel('Bread', fontsize=18)\n",
    "plt.ylabel('Milk', fontsize=18)\n",
    "\n",
    "#plt.savefig('fig_SD_kMeans_Blobs.pdf')\n",
    "plt.show()"
   ]
  },
  {
   "cell_type": "markdown",
   "metadata": {},
   "source": [
    "散布図を見ると3つのグループ（クラスタ）に見えるので，クラスタを3つとして分類"
   ]
  },
  {
   "cell_type": "code",
   "execution_count": null,
   "metadata": {},
   "outputs": [],
   "source": [
    "kmeans = KMeans(n_clusters=3)\n",
    "y_predict = kmeans.fit_predict(X)\n",
    "plt.scatter(X[:,0], X[:,1], c=y_predict, cmap=cm.bwr, edgecolors='k')\n",
    "plt.xlabel('Bread', fontsize=18)\n",
    "plt.ylabel('Milk', fontsize=18)\n",
    "#plt.colorbar()\n",
    "#plt.savefig('fig_SD_kMeans_Blobs_clustering1.pdf')\n",
    "plt.show()"
   ]
  },
  {
   "cell_type": "markdown",
   "metadata": {},
   "source": [
    "クラスタを4つとして分類"
   ]
  },
  {
   "cell_type": "code",
   "execution_count": null,
   "metadata": {
    "scrolled": true
   },
   "outputs": [],
   "source": [
    "kmeans = KMeans(n_clusters=4)\n",
    "y_predict = kmeans.fit_predict(X)\n",
    "plt.scatter(X[:,0], X[:,1], c=y_predict, cmap=cm.bwr, edgecolors='k')\n",
    "plt.xlabel('Bread', fontsize=18)\n",
    "plt.ylabel('Milk', fontsize=18)\n",
    "\n",
    "#plt.savefig('fig_SD_kMeans_Blobs_clustering2.pdf')\n",
    "plt.show()"
   ]
  },
  {
   "cell_type": "markdown",
   "metadata": {},
   "source": [
    "上記の2つの結果を見て，クラスタ数が３または４なのか，どちらが正しいかは不明としか言いようがない。"
   ]
  }
 ],
 "metadata": {
  "kernelspec": {
   "display_name": "Python 3 (ipykernel)",
   "language": "python",
   "name": "python3"
  },
  "language_info": {
   "codemirror_mode": {
    "name": "ipython",
    "version": 3
   },
   "file_extension": ".py",
   "mimetype": "text/x-python",
   "name": "python",
   "nbconvert_exporter": "python",
   "pygments_lexer": "ipython3",
   "version": "3.7.11"
  }
 },
 "nbformat": 4,
 "nbformat_minor": 2
}
