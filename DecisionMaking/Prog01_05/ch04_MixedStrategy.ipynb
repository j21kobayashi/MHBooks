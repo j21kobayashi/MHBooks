{
 "cells": [
  {
   "cell_type": "markdown",
   "metadata": {},
   "source": [
    "# 混合戦略\n",
    "https://nashpy.readthedocs.io/en/stable/"
   ]
  },
  {
   "cell_type": "markdown",
   "metadata": {},
   "source": [
    "#### Colabで実行する場合は次のセルの中をコメントアウトしてパッケージをインストールする。"
   ]
  },
  {
   "cell_type": "code",
   "execution_count": null,
   "metadata": {},
   "outputs": [],
   "source": [
    "#!pip install nashpy "
   ]
  },
  {
   "cell_type": "code",
   "execution_count": null,
   "metadata": {},
   "outputs": [],
   "source": [
    "import numpy as np\n",
    "import scipy as sp\n",
    "from scipy.stats import bernoulli\n",
    "import matplotlib.pyplot as plt\n",
    "\n",
    "import nashpy as nash\n",
    "\n",
    "# for controling 3D plot by mouse motion\n",
    "%matplotlib notebook \n",
    "# Instead of the above,for saving the figures\n",
    "#%matplotlib inline "
   ]
  },
  {
   "cell_type": "code",
   "execution_count": null,
   "metadata": {},
   "outputs": [],
   "source": [
    "# matplotlibのバージョンを調べる\n",
    "import matplotlib\n",
    "matplotlib.__version__"
   ]
  },
  {
   "cell_type": "markdown",
   "metadata": {},
   "source": [
    "## ナッシュ均衡を求める"
   ]
  },
  {
   "cell_type": "code",
   "execution_count": null,
   "metadata": {
    "scrolled": true
   },
   "outputs": [],
   "source": [
    "A = np.array([[7, 4],[5, 6]])\n",
    "B = np.array([[3, 6],[5, 4]])\n",
    "mixed_strat = nash.Game(A,B)\n",
    "#print(mixed_strat)\n",
    "equili = mixed_strat.support_enumeration()\n",
    "for sol in equili:\n",
    "    print(sol)"
   ]
  },
  {
   "cell_type": "code",
   "execution_count": null,
   "metadata": {},
   "outputs": [],
   "source": [
    "p = q = np.arange(0, 1, 0.01)\n",
    "P, Q = np.meshgrid(p, q)\n",
    "nashp, nashq = 1/4, 1/2"
   ]
  },
  {
   "cell_type": "markdown",
   "metadata": {},
   "source": [
    "### 3D Plots\n",
    "mplot3d tutorial https://matplotlib.org/2.0.2/mpl_toolkits/mplot3d/tutorial.html<br>\n",
    "matplotlib.pyplot.subplots https://matplotlib.org/3.5.0/api/_as_gen/matplotlib.pyplot.subplots.html"
   ]
  },
  {
   "cell_type": "code",
   "execution_count": null,
   "metadata": {
    "scrolled": false
   },
   "outputs": [],
   "source": [
    "def funMua(p, q):\n",
    "#    return 4*p*q - 2*p - q + 6\n",
    "    return (p*(4*q - 2) - q + 6)\n",
    "\n",
    "fig, ax = plt.subplots(figsize=(6, 6), subplot_kw={'projection' : '3d'})\n",
    "#fig = plt.figure(figsize=(6,6))\n",
    "#ax = fig.add_subplot(projection='3d')\n",
    "\n",
    "surface = ax.plot_surface(P, Q, funMua(P, Q), rstride=1, cstride=10, cmap='jet', alpha=0.4)\n",
    "fig.colorbar(surface, ax=ax, shrink=0.5)\n",
    "\n",
    "ax.plot_wireframe(P, Q, funMua(P,Q), rstride=10, cstride=10, linewidth=0.5)\n",
    "\n",
    "q_tmp = np.full(p.size, nashq) # for drawing the line at nash q as Best response\n",
    "ax.plot(p, q_tmp, funMua(p, q_tmp), \"-\", color='k', ms=1, mew=1)\n",
    "\n",
    "ax.plot([nashp], [nashq], [funMua(nashp,nashq)], 'o', color='r', ms=10, mew=0.3)\n",
    "\n",
    "\n",
    "ax.set_xlabel('p', size=14)\n",
    "ax.set_ylabel('q', size=14)\n",
    "ax.set_zlabel('E.P.', size=14)\n",
    "#plt.savefig('fig_GT_MixedStrategy_Mua.pdf', bbox_inches='tight')\n",
    "plt.show()"
   ]
  },
  {
   "cell_type": "code",
   "execution_count": null,
   "metadata": {},
   "outputs": [],
   "source": [
    "Q.size"
   ]
  },
  {
   "cell_type": "code",
   "execution_count": null,
   "metadata": {
    "scrolled": true
   },
   "outputs": [],
   "source": [
    "def funMub(p, q):\n",
    "    return -4*p*q + 2*p + q + 4\n",
    "\n",
    "fig, ax = plt.subplots(figsize=(6, 6), subplot_kw={'projection' : '3d'})\n",
    "\n",
    "surface = ax.plot_surface(P, Q, funMub(P, Q), rstride=1, cstride=10, cmap='jet', alpha=0.4)\n",
    "fig.colorbar(surface, ax=ax, shrink=0.5)\n",
    "\n",
    "ax.plot_wireframe(P, Q, funMub(P,Q), rstride=10, cstride=10, linewidth=0.5)\n",
    "\n",
    "p_tmp = np.full(q.size, nashp) # for drawing the line at nash p as Best response\n",
    "ax.plot(p_tmp, q, funMub(p_tmp, q), \"-\", color='k', ms=1, mew=1)\n",
    "\n",
    "ax.plot([nashp], [nashq], [funMub(nashp, nashq)], \"o\", color='r', ms=10, mew=1)\n",
    "\n",
    "ax.set_xlabel('p', size=14)\n",
    "ax.set_ylabel('q', size=14)\n",
    "ax.set_zlabel('E.P.', size=14)\n",
    "#plt.savefig('fig_GT_MixedStrategy_Mub.pdf', bbox_inches='tight')\n",
    "plt.show()"
   ]
  },
  {
   "cell_type": "code",
   "execution_count": null,
   "metadata": {},
   "outputs": [],
   "source": [
    "p,q = 0.9, 0.1\n",
    "p = 1-p ; q = 1-q\n",
    "print(p,q)"
   ]
  },
  {
   "cell_type": "markdown",
   "metadata": {},
   "source": [
    "## 期待利得の過程を見る"
   ]
  },
  {
   "cell_type": "code",
   "execution_count": null,
   "metadata": {
    "scrolled": false
   },
   "outputs": [],
   "source": [
    "np.random.seed(333)\n",
    "N = 50\n",
    "arr_a, arr_b = np.zeros((2,N))\n",
    "\n",
    "PayOff = np.array([[[7, 3],[4, 6]],[[5, 5],[6, 4]]])\n",
    "fig = plt.subplots(figsize=(12,4))\n",
    "plt.xlabel('times')\n",
    "plt.ylabel('mua, mub')\n",
    "plt.grid()\n",
    "\n",
    "#q = nashq\n",
    "q = 0.2\n",
    "\n",
    "for p in [0.1, 0.25, 0.4, 0.8]:\n",
    "    mua, mub = 0, 0\n",
    "    for k in range(N):\n",
    "        i = bernoulli.rvs(1-p)\n",
    "        j = bernoulli.rvs(1-q)\n",
    "        ga, gb = PayOff[i, j]\n",
    "#    print(i, pa, pb, ':', ga, gb)\n",
    "        mua += ga\n",
    "        mub += gb\n",
    "        arr_a[k] = mua/(k+1)\n",
    "        arr_b[k] = mub/(k+1)\n",
    "\n",
    "    print('(p,q)=',p,q,' mua, mub:', funMua(p,q), funMub(p,q), '|  Est. mua, mub:',mua/N, mub/N)\n",
    "\n",
    "    plt.plot(arr_a, label='mua:'+str(p))\n",
    "    plt.plot(arr_b, label='mub:'+str(p))\n",
    "    plt.legend(loc='upper right')\n",
    "\n",
    "#plt.savefig('fig_GT_MixedStrategy_EP_process.pdf', bbox_inches='tight')\n",
    "plt.show()"
   ]
  },
  {
   "cell_type": "code",
   "execution_count": null,
   "metadata": {},
   "outputs": [],
   "source": []
  }
 ],
 "metadata": {
  "kernelspec": {
   "display_name": "Python 3 (ipykernel)",
   "language": "python",
   "name": "python3"
  },
  "language_info": {
   "codemirror_mode": {
    "name": "ipython",
    "version": 3
   },
   "file_extension": ".py",
   "mimetype": "text/x-python",
   "name": "python",
   "nbconvert_exporter": "python",
   "pygments_lexer": "ipython3",
   "version": "3.9.7"
  }
 },
 "nbformat": 4,
 "nbformat_minor": 4
}
