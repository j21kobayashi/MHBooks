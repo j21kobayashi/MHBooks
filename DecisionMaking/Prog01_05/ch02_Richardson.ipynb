{
 "cells": [
  {
   "cell_type": "markdown",
   "metadata": {},
   "source": [
    "# リチャードソンの軍拡競争モデル\n",
    "https://ja.wikipedia.org/wiki/ルイス・フライ・リチャードソン<br>\n",
    "https://www.jstage.jst.go.jp/article/ojjams/30/1/30_37/_pdf"
   ]
  },
  {
   "cell_type": "code",
   "execution_count": null,
   "metadata": {},
   "outputs": [],
   "source": [
    "# -*- coding: utf-8 -*-\n",
    "import numpy as np  \n",
    "from scipy.integrate import solve_ivp  \n",
    "import matplotlib.pyplot as plt  \n",
    "\n",
    "%matplotlib inline"
   ]
  },
  {
   "cell_type": "markdown",
   "metadata": {},
   "source": [
    "## 軍拡競争モデル"
   ]
  },
  {
   "cell_type": "code",
   "execution_count": null,
   "metadata": {},
   "outputs": [],
   "source": [
    "def odeRichard(t, z, k, l, alpha, beta, g, h):\n",
    "    dx = k*z[1] - alpha*z[0] + g\n",
    "    dy = l*z[0] - beta*z[1] + h\n",
    "    return [dx, dy]"
   ]
  },
  {
   "cell_type": "markdown",
   "metadata": {},
   "source": [
    "#### 戦力均衡状態"
   ]
  },
  {
   "cell_type": "code",
   "execution_count": null,
   "metadata": {},
   "outputs": [],
   "source": [
    "k, l = 1, 1\n",
    "alpha, beta = 2, 2\n",
    "g, h = 2, 3\n",
    "\n",
    "x0, y0 = 10.0, -4.0\n",
    "Tend = 7.0\n",
    "\n",
    "sol = solve_ivp(odeRichard, t_span=[0, Tend], y0=[x0, y0], args=(k, l, alpha, beta, g, h,), dense_output=True)\n",
    "tc1 = np.linspace(0, Tend, 100)  \n",
    "yc1 = sol.sol(tc1)"
   ]
  },
  {
   "cell_type": "code",
   "execution_count": null,
   "metadata": {
    "scrolled": false
   },
   "outputs": [],
   "source": [
    "fig, ax = plt.subplots(ncols=2, figsize=(14,4))\n",
    "\n",
    "ax[0].plot(tc1, yc1[0].T, label='x')\n",
    "ax[0].plot(tc1, yc1[1].T, label='y')\n",
    "ax[0].grid()\n",
    "ax[0].legend()\n",
    "ax[0].set_xlabel('time')\n",
    "ax[0].set_ylabel('amount of armaments')\n",
    "\n",
    "ax[1].plot(yc1[0].T, yc1[1].T, label='x-y')\n",
    "ax[1].grid()\n",
    "ax[1].legend()\n",
    "ax[1].set_xlabel('x')\n",
    "ax[1].set_ylabel('y')\n",
    "\n",
    "#plt.savefig('fig_DE_Richardson_01.pdf', bbox_inches='tight')\n",
    "plt.show()"
   ]
  },
  {
   "cell_type": "markdown",
   "metadata": {},
   "source": [
    "#### 平衡点の検証\n",
    "$$\n",
    "\\bar{x}= \\frac{{hk + \\beta g}}{{\\alpha \\beta  - kl}} , \\quad\n",
    "\\bar y = \\frac{{gl + \\alpha h}}{{\\alpha \\beta  - kl}}\n",
    "$$"
   ]
  },
  {
   "cell_type": "code",
   "execution_count": null,
   "metadata": {
    "scrolled": true
   },
   "outputs": [],
   "source": [
    "barx = (h*k + beta*g)/(alpha*beta - k*l)\n",
    "bary = (g*l + alpha*h)/(alpha*beta - k*l)\n",
    "print('barx=',barx, 'bary=',bary)"
   ]
  },
  {
   "cell_type": "markdown",
   "metadata": {},
   "source": [
    "##### 数値計算の最終値を見て，上記と比較する"
   ]
  },
  {
   "cell_type": "code",
   "execution_count": null,
   "metadata": {},
   "outputs": [],
   "source": [
    "len = yc1[0].size\n",
    "print('barx = ',yc1[0][len-1], ' bary =',yc1[1][len-1])"
   ]
  },
  {
   "cell_type": "markdown",
   "metadata": {},
   "source": [
    "## 微係数のベクトル場\n",
    "次を用いる。\n",
    "matplotlib.quiver: https://matplotlib.org/stable/api/_as_gen/matplotlib.pyplot.quiver.html<br>"
   ]
  },
  {
   "cell_type": "code",
   "execution_count": null,
   "metadata": {
    "scrolled": false
   },
   "outputs": [],
   "source": [
    "k, l = 1, 1\n",
    "alpha, beta = 2, 2\n",
    "g, h = 2, 3\n",
    "\n",
    "Xmin, Xmax = -5, 12\n",
    "Ymin, Ymax = -5, 12\n",
    "gridwidth = 2\n",
    "X, Y= np.meshgrid(np.arange(Xmin, Xmax, gridwidth), np.arange(Ymin, Ymax, gridwidth))\n",
    "\n",
    "fig = plt.subplots(figsize=(6,6))\n",
    "\n",
    "x0 = (h*k + beta*g)/(alpha*beta - k*l)\n",
    "y0 = (g*l + alpha*h)/(alpha*beta - k*l)\n",
    "plt.plot(x0, y0, marker='o', color='red', markersize=12)\n",
    "\n",
    "dx = k*Y - alpha*X + g\n",
    "dy = l*X - beta*Y + h\n",
    "U = dx\n",
    "V = dy\n",
    "plt.quiver(X,Y,U,V, color='black')\n",
    "plt.xlabel('x')\n",
    "plt.ylabel('y')\n",
    "plt.grid()\n",
    "\n",
    "#plt.savefig('fig_DE_Richardson_vec_01.pdf', bbox_inches='tight')\n",
    "plt.show()"
   ]
  },
  {
   "cell_type": "code",
   "execution_count": null,
   "metadata": {},
   "outputs": [],
   "source": [
    "k, l = 2, 2\n",
    "alpha, beta = 1, 1\n",
    "g, h = 2, 3\n",
    "\n",
    "Xmin, Xmax = -10, 10\n",
    "Ymin, Ymax = -10, 10\n",
    "gridwidth = 2.0\n",
    "X, Y= np.meshgrid(np.arange(Xmin, Xmax, gridwidth), np.arange(Ymin, Ymax, gridwidth))\n",
    "\n",
    "fig = plt.subplots(figsize=(6,6))\n",
    "\n",
    "x0 = (h*k + beta*g)/(alpha*beta - k*l)\n",
    "y0 = (g*l + alpha*h)/(alpha*beta - k*l)\n",
    "plt.plot(x0, y0, marker='o', color='red', markersize=12)\n",
    "\n",
    "dx = k*Y - alpha*X + g\n",
    "dy = l*X - beta*Y + h\n",
    "U = dx\n",
    "V = dy\n",
    "plt.quiver(X,Y,U,V)\n",
    "plt.xlabel('x')\n",
    "plt.ylabel('y')\n",
    "plt.grid()\n",
    "\n",
    "#plt.savefig('fig_DE_Richardson_vec_02.pdf', bbox_inches='tight')\n",
    "plt.show()"
   ]
  },
  {
   "cell_type": "code",
   "execution_count": null,
   "metadata": {},
   "outputs": [],
   "source": []
  }
 ],
 "metadata": {
  "kernelspec": {
   "display_name": "Python 3 (ipykernel)",
   "language": "python",
   "name": "python3"
  },
  "language_info": {
   "codemirror_mode": {
    "name": "ipython",
    "version": 3
   },
   "file_extension": ".py",
   "mimetype": "text/x-python",
   "name": "python",
   "nbconvert_exporter": "python",
   "pygments_lexer": "ipython3",
   "version": "3.9.12"
  }
 },
 "nbformat": 4,
 "nbformat_minor": 4
}
