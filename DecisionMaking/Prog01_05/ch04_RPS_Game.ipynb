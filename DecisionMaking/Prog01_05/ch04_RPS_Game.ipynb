{
 "cells": [
  {
   "cell_type": "markdown",
   "metadata": {},
   "source": [
    "# じゃんけんゲーム\n",
    "rock, paper, scissors game<br>\n",
    "https://nashpy.readthedocs.io/en/stable/discussion/strategies.html<br>\n",
    "https://nashpy.readthedocs.io/en/v0.0.22/tutorial/index.html<br>"
   ]
  },
  {
   "cell_type": "markdown",
   "metadata": {},
   "source": [
    "#### Colabで実行する場合は次のセルの中をコメントアウトしてパッケージをインストールする。"
   ]
  },
  {
   "cell_type": "code",
   "execution_count": null,
   "metadata": {},
   "outputs": [],
   "source": [
    "#!pip install nashpy "
   ]
  },
  {
   "cell_type": "code",
   "execution_count": null,
   "metadata": {},
   "outputs": [],
   "source": [
    "import numpy as np\n",
    "import scipy as sp\n",
    "import matplotlib.pyplot as plt\n",
    "\n",
    "import nashpy as nash\n",
    "\n",
    "%matplotlib inline"
   ]
  },
  {
   "cell_type": "code",
   "execution_count": null,
   "metadata": {
    "scrolled": true
   },
   "outputs": [],
   "source": [
    "A = np.array([[0, 1, -1], [-1, 0, 1], [1, -1, 0]])\n",
    "B = - A\n",
    "rps = nash.Game(A, B)\n",
    "eqs = rps.support_enumeration()\n",
    "for sol in eqs:\n",
    "    print(sol)"
   ]
  },
  {
   "cell_type": "code",
   "execution_count": null,
   "metadata": {},
   "outputs": [],
   "source": [
    "rps"
   ]
  },
  {
   "cell_type": "code",
   "execution_count": null,
   "metadata": {},
   "outputs": [],
   "source": [
    "PayOff = np.array([ [[0, 0],[1, -1],[-1, 1]], [[-1, 1],[0, 0],[1, -1]], [[1, -1],[-1, 1],[0, 0]] ])"
   ]
  },
  {
   "cell_type": "markdown",
   "metadata": {},
   "source": [
    "### 統計量の計算\n",
    "勝つ確率：Probability of winning<br>\n",
    "期待利得：Expected payoff"
   ]
  },
  {
   "cell_type": "markdown",
   "metadata": {},
   "source": [
    "#### numpy.random.choice\n",
    "https://numpy.org/doc/stable/reference/random/generated/numpy.random.choice.html"
   ]
  },
  {
   "cell_type": "code",
   "execution_count": null,
   "metadata": {},
   "outputs": [],
   "source": [
    "np.random.seed(123)\n",
    "\n",
    "p1, p2, p3 = 0.1, 0.1, 0.8\n",
    "q1, q2, q3 = 1/3, 1/3, 1/3\n",
    "\n",
    "N = 20\n",
    "arr_pA, arr_pB = np.zeros((2,N))\n",
    "arr_muA, arr_muB = np.zeros((2,N))\n",
    "\n",
    "i_table=[0, 1, 2]\n",
    "s_table=['G', 'C', 'P']\n",
    "\n",
    "pA, pB = 0, 0 # Probability of winning\n",
    "muA, muB = 0, 0 # Expected payoff\n",
    "\n",
    "for i in range(N):\n",
    "    ia = np.random.choice(i_table, p=[p1, p2, p3])\n",
    "    ib = np.random.choice(i_table, p=[q1, q2, q3])\n",
    "# Probability of winning\n",
    "    A = s_table[ia] ; B = s_table[ib]\n",
    "    if A==B:\n",
    "        pass\n",
    "    elif A=='G' and B=='C':\n",
    "        pA += 1\n",
    "    elif A=='G' and B=='P':\n",
    "        pB += 1\n",
    "    elif A=='C' and B=='G':\n",
    "        pB += 1\n",
    "    elif A=='C' and B=='P':\n",
    "        pA += 1\n",
    "    elif A=='P' and B=='G':\n",
    "        pA += 1\n",
    "    else:\n",
    "        pB += 1\n",
    "    \n",
    "#    print(i, 'A, B=',A, B, '  pA=',pA, '  pB=',pB)\n",
    "\n",
    "#Expected payoff\n",
    "    ga, gb = PayOff[ia, ib]\n",
    "    muA += ga ; muB += gb\n",
    "    arr_pA[i]  = pA/(i+1)  ; arr_pB[i] = pB/(i+1)\n",
    "    arr_muA[i] = muA/(i+1) ; arr_muB[i] = muB/(i+1)\n",
    "    \n",
    "\n",
    "    \n",
    "    \n",
    "print('pA=',pA/N,' pB=', pB/N)\n",
    "print('muA=',muA/N, ' muB=',muB/N)\n",
    "\n",
    "\n",
    "fig = plt.subplots(figsize=(10,4))\n",
    "plt.plot(arr_pA, label='A')\n",
    "plt.plot(arr_pB, label='B')\n",
    "plt.xlabel('times')\n",
    "plt.ylabel('pA, pB')\n",
    "plt.grid()\n",
    "plt.legend()\n",
    "#plt.savefig('fig_GT_RPS_ProbWing_01.pdf', bbox_inches='tight')\n",
    "plt.show()"
   ]
  },
  {
   "cell_type": "code",
   "execution_count": null,
   "metadata": {},
   "outputs": [],
   "source": [
    "fig = plt.subplots(figsize=(10,4))\n",
    "plt.plot(arr_muA, label='A')\n",
    "plt.plot(arr_muB, label='B')\n",
    "plt.xlabel('times')\n",
    "plt.ylabel('muA, muB')\n",
    "plt.grid()\n",
    "plt.legend()\n",
    "#plt.savefig('fig_GT_RPS_ExpectedPayOff_01.pdf', bbox_inches='tight')\n",
    "plt.show()"
   ]
  },
  {
   "cell_type": "code",
   "execution_count": null,
   "metadata": {},
   "outputs": [],
   "source": []
  }
 ],
 "metadata": {
  "kernelspec": {
   "display_name": "Python 3 (ipykernel)",
   "language": "python",
   "name": "python3"
  },
  "language_info": {
   "codemirror_mode": {
    "name": "ipython",
    "version": 3
   },
   "file_extension": ".py",
   "mimetype": "text/x-python",
   "name": "python",
   "nbconvert_exporter": "python",
   "pygments_lexer": "ipython3",
   "version": "3.9.12"
  }
 },
 "nbformat": 4,
 "nbformat_minor": 4
}
