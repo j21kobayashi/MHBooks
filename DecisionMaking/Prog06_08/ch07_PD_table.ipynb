{
 "cells": [
  {
   "cell_type": "markdown",
   "id": "0c24df7e",
   "metadata": {
    "id": "0c24df7e"
   },
   "source": [
    "# 囚人のジレンマの利得表の変更"
   ]
  },
  {
   "cell_type": "markdown",
   "id": "98239260",
   "metadata": {
    "id": "98239260"
   },
   "source": [
    "## Axelrodパッケージのインストール"
   ]
  },
  {
   "cell_type": "code",
   "execution_count": 1,
   "id": "9353d7b2",
   "metadata": {
    "colab": {
     "base_uri": "https://localhost:8080/",
     "height": 1000
    },
    "id": "9353d7b2",
    "outputId": "8e8c8bdf-831e-47f2-d747-a3af532a9048",
    "scrolled": true
   },
   "outputs": [
    {
     "name": "stdout",
     "output_type": "stream",
     "text": [
      "Requirement already satisfied: axelrod in c:\\users\\makino\\anaconda3\\envs\\decision\\lib\\site-packages (4.12.0)\n",
      "Requirement already satisfied: matplotlib>=3.0.3 in c:\\users\\makino\\anaconda3\\envs\\decision\\lib\\site-packages (from axelrod) (3.5.1)\n",
      "Requirement already satisfied: cloudpickle>=0.2.2 in c:\\users\\makino\\anaconda3\\envs\\decision\\lib\\site-packages (from axelrod) (2.0.0)\n",
      "Requirement already satisfied: docutils<=0.17 in c:\\users\\makino\\anaconda3\\envs\\decision\\lib\\site-packages (from axelrod) (0.17)\n",
      "Requirement already satisfied: pyyaml>=5.1 in c:\\users\\makino\\anaconda3\\envs\\decision\\lib\\site-packages (from axelrod) (6.0)\n",
      "Requirement already satisfied: numpy>=1.17.4 in c:\\users\\makino\\anaconda3\\envs\\decision\\lib\\site-packages (from axelrod) (1.22.1)\n",
      "Requirement already satisfied: pandas>=1.0.0 in c:\\users\\makino\\anaconda3\\envs\\decision\\lib\\site-packages (from axelrod) (1.3.5)\n",
      "Requirement already satisfied: fsspec>=0.6.0 in c:\\users\\makino\\anaconda3\\envs\\decision\\lib\\site-packages (from axelrod) (2021.11.1)\n",
      "Requirement already satisfied: tqdm>=4.39.0 in c:\\users\\makino\\anaconda3\\envs\\decision\\lib\\site-packages (from axelrod) (4.62.3)\n",
      "Requirement already satisfied: prompt-toolkit>=3.0 in c:\\users\\makino\\anaconda3\\envs\\decision\\lib\\site-packages (from axelrod) (3.0.20)\n",
      "Requirement already satisfied: dask>=2.9.2 in c:\\users\\makino\\anaconda3\\envs\\decision\\lib\\site-packages (from axelrod) (2021.12.0)\n",
      "Requirement already satisfied: scipy>=1.3.3 in c:\\users\\makino\\anaconda3\\envs\\decision\\lib\\site-packages (from axelrod) (1.7.3)\n",
      "Requirement already satisfied: toolz>=0.8.2 in c:\\users\\makino\\anaconda3\\envs\\decision\\lib\\site-packages (from axelrod) (0.11.2)\n",
      "Requirement already satisfied: packaging>=20.0 in c:\\users\\makino\\anaconda3\\envs\\decision\\lib\\site-packages (from dask>=2.9.2->axelrod) (21.3)\n",
      "Requirement already satisfied: partd>=0.3.10 in c:\\users\\makino\\anaconda3\\envs\\decision\\lib\\site-packages (from dask>=2.9.2->axelrod) (1.2.0)\n",
      "Requirement already satisfied: cycler>=0.10 in c:\\users\\makino\\anaconda3\\envs\\decision\\lib\\site-packages (from matplotlib>=3.0.3->axelrod) (0.11.0)\n",
      "Requirement already satisfied: kiwisolver>=1.0.1 in c:\\users\\makino\\anaconda3\\envs\\decision\\lib\\site-packages (from matplotlib>=3.0.3->axelrod) (1.3.2)\n",
      "Requirement already satisfied: python-dateutil>=2.7 in c:\\users\\makino\\anaconda3\\envs\\decision\\lib\\site-packages (from matplotlib>=3.0.3->axelrod) (2.8.2)\n",
      "Requirement already satisfied: pyparsing>=2.2.1 in c:\\users\\makino\\anaconda3\\envs\\decision\\lib\\site-packages (from matplotlib>=3.0.3->axelrod) (3.0.4)\n",
      "Requirement already satisfied: fonttools>=4.22.0 in c:\\users\\makino\\anaconda3\\envs\\decision\\lib\\site-packages (from matplotlib>=3.0.3->axelrod) (4.29.1)\n",
      "Requirement already satisfied: pillow>=6.2.0 in c:\\users\\makino\\anaconda3\\envs\\decision\\lib\\site-packages (from matplotlib>=3.0.3->axelrod) (8.4.0)\n",
      "Requirement already satisfied: pytz>=2017.3 in c:\\users\\makino\\anaconda3\\envs\\decision\\lib\\site-packages (from pandas>=1.0.0->axelrod) (2021.3)\n",
      "Requirement already satisfied: locket in c:\\users\\makino\\anaconda3\\envs\\decision\\lib\\site-packages (from partd>=0.3.10->dask>=2.9.2->axelrod) (0.2.1)\n",
      "Requirement already satisfied: wcwidth in c:\\users\\makino\\anaconda3\\envs\\decision\\lib\\site-packages (from prompt-toolkit>=3.0->axelrod) (0.2.5)\n",
      "Requirement already satisfied: six>=1.5 in c:\\users\\makino\\anaconda3\\envs\\decision\\lib\\site-packages (from python-dateutil>=2.7->matplotlib>=3.0.3->axelrod) (1.16.0)\n",
      "Requirement already satisfied: colorama in c:\\users\\makino\\anaconda3\\envs\\decision\\lib\\site-packages (from tqdm>=4.39.0->axelrod) (0.4.4)\n"
     ]
    }
   ],
   "source": [
    "!pip install axelrod"
   ]
  },
  {
   "cell_type": "markdown",
   "id": "3f99c368",
   "metadata": {
    "id": "3f99c368"
   },
   "source": [
    "## Axelrodのインポート"
   ]
  },
  {
   "cell_type": "code",
   "execution_count": 2,
   "id": "69319a80",
   "metadata": {
    "id": "69319a80"
   },
   "outputs": [],
   "source": [
    "import axelrod as axl"
   ]
  },
  {
   "cell_type": "markdown",
   "id": "415c85eb",
   "metadata": {
    "id": "415c85eb"
   },
   "source": [
    "## デフォルトの利得"
   ]
  },
  {
   "cell_type": "code",
   "execution_count": 3,
   "id": "65a1e79f",
   "metadata": {
    "colab": {
     "base_uri": "https://localhost:8080/"
    },
    "id": "65a1e79f",
    "outputId": "4e58dacb-b93c-4154-fb90-77866cd4dbed"
   },
   "outputs": [
    {
     "name": "stdout",
     "output_type": "stream",
     "text": [
      "Axelrod game: (R,P,S,T) = (3, 1, 0, 5)\n"
     ]
    }
   ],
   "source": [
    "pd = axl.game.Game()\n",
    "print(pd)"
   ]
  },
  {
   "cell_type": "markdown",
   "id": "43ac9189",
   "metadata": {
    "id": "43ac9189"
   },
   "source": [
    "## 利得表の変更\n",
    "チキンゲーム用"
   ]
  },
  {
   "cell_type": "code",
   "execution_count": 4,
   "id": "b5b073d9",
   "metadata": {
    "colab": {
     "base_uri": "https://localhost:8080/"
    },
    "id": "b5b073d9",
    "outputId": "d51e7aee-c18e-4369-d725-522181b50735"
   },
   "outputs": [
    {
     "name": "stdout",
     "output_type": "stream",
     "text": [
      "Axelrod game: (R,P,S,T) = (0, -10, -1, 1)\n"
     ]
    }
   ],
   "source": [
    "chicken = axl.game.Game(r=0, s=-1, t=1, p=-10)\n",
    "print(chicken)"
   ]
  },
  {
   "cell_type": "markdown",
   "id": "d13b4b0f",
   "metadata": {
    "id": "d13b4b0f"
   },
   "source": [
    "## しっぺ返し戦略とランダム戦略の対戦\n",
    "game=chichenとすることで設定した利得を使う"
   ]
  },
  {
   "cell_type": "code",
   "execution_count": 5,
   "id": "6136c3a7",
   "metadata": {
    "colab": {
     "base_uri": "https://localhost:8080/"
    },
    "id": "6136c3a7",
    "outputId": "e2c91a5f-a8f5-4425-d8c2-e6a1819ad8ec"
   },
   "outputs": [
    {
     "name": "stdout",
     "output_type": "stream",
     "text": [
      "[(C, D), (D, D), (D, D), (D, D), (D, D)]\n",
      "(-41, -39)\n"
     ]
    }
   ],
   "source": [
    "match = axl.Match([axl.TitForTat(),axl.Random()], 5, game=chicken)\n",
    "print(match.play())\n",
    "print(match.final_score())"
   ]
  },
  {
   "cell_type": "code",
   "execution_count": null,
   "id": "pX0F9c7K8Vae",
   "metadata": {
    "id": "pX0F9c7K8Vae"
   },
   "outputs": [],
   "source": []
  }
 ],
 "metadata": {
  "colab": {
   "collapsed_sections": [],
   "name": "ch07_PD_table.ipynb",
   "provenance": []
  },
  "kernelspec": {
   "display_name": "Python 3 (ipykernel)",
   "language": "python",
   "name": "python3"
  },
  "language_info": {
   "codemirror_mode": {
    "name": "ipython",
    "version": 3
   },
   "file_extension": ".py",
   "mimetype": "text/x-python",
   "name": "python",
   "nbconvert_exporter": "python",
   "pygments_lexer": "ipython3",
   "version": "3.8.12"
  }
 },
 "nbformat": 4,
 "nbformat_minor": 5
}
