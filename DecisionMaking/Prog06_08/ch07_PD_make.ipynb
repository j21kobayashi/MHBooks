{
 "cells": [
  {
   "cell_type": "markdown",
   "id": "0c24df7e",
   "metadata": {
    "id": "0c24df7e"
   },
   "source": [
    "# 囚人のジレンマの利得表の変更"
   ]
  },
  {
   "cell_type": "markdown",
   "id": "98239260",
   "metadata": {
    "id": "98239260"
   },
   "source": [
    "## Axelrodパッケージのインストール"
   ]
  },
  {
   "cell_type": "code",
   "execution_count": 1,
   "id": "9353d7b2",
   "metadata": {
    "colab": {
     "base_uri": "https://localhost:8080/",
     "height": 1000
    },
    "id": "9353d7b2",
    "outputId": "af8031b5-962c-4bf8-ce14-0df450dcf1a6",
    "scrolled": true
   },
   "outputs": [
    {
     "name": "stdout",
     "output_type": "stream",
     "text": [
      "Requirement already satisfied: axelrod in c:\\users\\makino\\anaconda3\\envs\\decision\\lib\\site-packages (4.12.0)\n",
      "Requirement already satisfied: dask>=2.9.2 in c:\\users\\makino\\anaconda3\\envs\\decision\\lib\\site-packages (from axelrod) (2021.12.0)\n",
      "Requirement already satisfied: scipy>=1.3.3 in c:\\users\\makino\\anaconda3\\envs\\decision\\lib\\site-packages (from axelrod) (1.7.3)\n",
      "Requirement already satisfied: numpy>=1.17.4 in c:\\users\\makino\\anaconda3\\envs\\decision\\lib\\site-packages (from axelrod) (1.22.1)\n",
      "Requirement already satisfied: pyyaml>=5.1 in c:\\users\\makino\\anaconda3\\envs\\decision\\lib\\site-packages (from axelrod) (6.0)\n",
      "Requirement already satisfied: prompt-toolkit>=3.0 in c:\\users\\makino\\anaconda3\\envs\\decision\\lib\\site-packages (from axelrod) (3.0.20)\n",
      "Requirement already satisfied: pandas>=1.0.0 in c:\\users\\makino\\anaconda3\\envs\\decision\\lib\\site-packages (from axelrod) (1.3.5)\n",
      "Requirement already satisfied: matplotlib>=3.0.3 in c:\\users\\makino\\anaconda3\\envs\\decision\\lib\\site-packages (from axelrod) (3.5.1)\n",
      "Requirement already satisfied: fsspec>=0.6.0 in c:\\users\\makino\\anaconda3\\envs\\decision\\lib\\site-packages (from axelrod) (2021.11.1)\n",
      "Requirement already satisfied: docutils<=0.17 in c:\\users\\makino\\anaconda3\\envs\\decision\\lib\\site-packages (from axelrod) (0.17)\n",
      "Requirement already satisfied: toolz>=0.8.2 in c:\\users\\makino\\anaconda3\\envs\\decision\\lib\\site-packages (from axelrod) (0.11.2)\n",
      "Requirement already satisfied: tqdm>=4.39.0 in c:\\users\\makino\\anaconda3\\envs\\decision\\lib\\site-packages (from axelrod) (4.62.3)\n",
      "Requirement already satisfied: cloudpickle>=0.2.2 in c:\\users\\makino\\anaconda3\\envs\\decision\\lib\\site-packages (from axelrod) (2.0.0)\n",
      "Requirement already satisfied: packaging>=20.0 in c:\\users\\makino\\anaconda3\\envs\\decision\\lib\\site-packages (from dask>=2.9.2->axelrod) (21.3)\n",
      "Requirement already satisfied: partd>=0.3.10 in c:\\users\\makino\\anaconda3\\envs\\decision\\lib\\site-packages (from dask>=2.9.2->axelrod) (1.2.0)\n",
      "Requirement already satisfied: pyparsing>=2.2.1 in c:\\users\\makino\\anaconda3\\envs\\decision\\lib\\site-packages (from matplotlib>=3.0.3->axelrod) (3.0.4)\n",
      "Requirement already satisfied: cycler>=0.10 in c:\\users\\makino\\anaconda3\\envs\\decision\\lib\\site-packages (from matplotlib>=3.0.3->axelrod) (0.11.0)\n",
      "Requirement already satisfied: fonttools>=4.22.0 in c:\\users\\makino\\anaconda3\\envs\\decision\\lib\\site-packages (from matplotlib>=3.0.3->axelrod) (4.29.1)\n",
      "Requirement already satisfied: kiwisolver>=1.0.1 in c:\\users\\makino\\anaconda3\\envs\\decision\\lib\\site-packages (from matplotlib>=3.0.3->axelrod) (1.3.2)\n",
      "Requirement already satisfied: pillow>=6.2.0 in c:\\users\\makino\\anaconda3\\envs\\decision\\lib\\site-packages (from matplotlib>=3.0.3->axelrod) (8.4.0)\n",
      "Requirement already satisfied: python-dateutil>=2.7 in c:\\users\\makino\\anaconda3\\envs\\decision\\lib\\site-packages (from matplotlib>=3.0.3->axelrod) (2.8.2)\n",
      "Requirement already satisfied: pytz>=2017.3 in c:\\users\\makino\\anaconda3\\envs\\decision\\lib\\site-packages (from pandas>=1.0.0->axelrod) (2021.3)\n",
      "Requirement already satisfied: locket in c:\\users\\makino\\anaconda3\\envs\\decision\\lib\\site-packages (from partd>=0.3.10->dask>=2.9.2->axelrod) (0.2.1)\n",
      "Requirement already satisfied: wcwidth in c:\\users\\makino\\anaconda3\\envs\\decision\\lib\\site-packages (from prompt-toolkit>=3.0->axelrod) (0.2.5)\n",
      "Requirement already satisfied: six>=1.5 in c:\\users\\makino\\anaconda3\\envs\\decision\\lib\\site-packages (from python-dateutil>=2.7->matplotlib>=3.0.3->axelrod) (1.16.0)\n",
      "Requirement already satisfied: colorama in c:\\users\\makino\\anaconda3\\envs\\decision\\lib\\site-packages (from tqdm>=4.39.0->axelrod) (0.4.4)\n"
     ]
    }
   ],
   "source": [
    "!pip install axelrod"
   ]
  },
  {
   "cell_type": "markdown",
   "id": "3f99c368",
   "metadata": {
    "id": "3f99c368"
   },
   "source": [
    "## Axelrodのインポート"
   ]
  },
  {
   "cell_type": "code",
   "execution_count": 2,
   "id": "69319a80",
   "metadata": {
    "id": "69319a80"
   },
   "outputs": [],
   "source": [
    "import axelrod as axl"
   ]
  },
  {
   "cell_type": "markdown",
   "id": "415c85eb",
   "metadata": {
    "id": "415c85eb"
   },
   "source": [
    "## 戦略の作成\n",
    "\n",
    "1回目と4回目（len(self.history)が0と3に相当）の手はC（協調）\n",
    "\n",
    "5回目（len(self.history)が4に相当）の手は相手の4回目の手\n",
    "\n",
    "それ以外はD（裏切り）"
   ]
  },
  {
   "cell_type": "code",
   "execution_count": 3,
   "id": "65a1e79f",
   "metadata": {
    "id": "65a1e79f"
   },
   "outputs": [],
   "source": [
    "from axelrod.strategy_transformers import *\n",
    "class MyStrategy(Player):\n",
    "    name = \"MyStrategy\"\n",
    "    def strategy(self, opponent: Player) -> Action:\n",
    "        if len(self.history) == 0 or len(self.history) == 3:\n",
    "            return C\n",
    "        elif len(self.history) == 4:\n",
    "            return opponent.history[3]\n",
    "        return D"
   ]
  },
  {
   "cell_type": "markdown",
   "id": "d13b4b0f",
   "metadata": {
    "id": "d13b4b0f"
   },
   "source": [
    "## 上記で作成した戦略とランダム戦略の対戦"
   ]
  },
  {
   "cell_type": "code",
   "execution_count": 4,
   "id": "6136c3a7",
   "metadata": {
    "colab": {
     "base_uri": "https://localhost:8080/"
    },
    "id": "6136c3a7",
    "outputId": "14f97961-a786-46f5-ebfd-52549fab3193"
   },
   "outputs": [
    {
     "name": "stdout",
     "output_type": "stream",
     "text": [
      "[(C, D), (D, D), (D, C), (C, C), (C, D)]\n",
      "(9, 14)\n"
     ]
    }
   ],
   "source": [
    "match = axl.Match([MyStrategy(),axl.Random()], 5)\n",
    "print(match.play())\n",
    "print(match.final_score())"
   ]
  },
  {
   "cell_type": "code",
   "execution_count": null,
   "id": "PE1B7u1j-FRE",
   "metadata": {
    "id": "PE1B7u1j-FRE"
   },
   "outputs": [],
   "source": []
  }
 ],
 "metadata": {
  "colab": {
   "collapsed_sections": [],
   "name": "ch07_PD_make.ipynb",
   "provenance": []
  },
  "kernelspec": {
   "display_name": "Python 3 (ipykernel)",
   "language": "python",
   "name": "python3"
  },
  "language_info": {
   "codemirror_mode": {
    "name": "ipython",
    "version": 3
   },
   "file_extension": ".py",
   "mimetype": "text/x-python",
   "name": "python",
   "nbconvert_exporter": "python",
   "pygments_lexer": "ipython3",
   "version": "3.8.12"
  }
 },
 "nbformat": 4,
 "nbformat_minor": 5
}
