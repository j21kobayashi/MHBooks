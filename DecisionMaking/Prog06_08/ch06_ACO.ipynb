{
 "cells": [
  {
   "cell_type": "markdown",
   "id": "6e63c71a",
   "metadata": {
    "id": "6e63c71a"
   },
   "source": [
    "# アントコロニー最適化（巡回セールスマン問題）"
   ]
  },
  {
   "cell_type": "markdown",
   "id": "92e36f39",
   "metadata": {
    "id": "92e36f39"
   },
   "source": [
    "## インストールが必要なライブラリ"
   ]
  },
  {
   "cell_type": "code",
   "execution_count": 1,
   "id": "f596577e",
   "metadata": {
    "colab": {
     "base_uri": "https://localhost:8080/"
    },
    "id": "f596577e",
    "outputId": "c991c51b-f248-45a1-8079-8a3287726655"
   },
   "outputs": [
    {
     "name": "stdout",
     "output_type": "stream",
     "text": [
      "Requirement already satisfied: ACO-Pants in c:\\users\\makino\\anaconda3\\envs\\decision\\lib\\site-packages (0.5.2)\n"
     ]
    }
   ],
   "source": [
    "!pip install ACO-Pants"
   ]
  },
  {
   "cell_type": "markdown",
   "id": "c33ebc88",
   "metadata": {
    "id": "c33ebc88"
   },
   "source": [
    "## ライブラリのインポート"
   ]
  },
  {
   "cell_type": "code",
   "execution_count": 2,
   "id": "6119ac8f",
   "metadata": {
    "id": "6119ac8f"
   },
   "outputs": [],
   "source": [
    "import pants\n",
    "import math\n",
    "import random\n",
    "import matplotlib.pyplot as plt "
   ]
  },
  {
   "cell_type": "markdown",
   "id": "d1174d36",
   "metadata": {
    "id": "d1174d36"
   },
   "source": [
    "## 経由地の設定\n",
    "正8角形の頂点に経由地を設定"
   ]
  },
  {
   "cell_type": "code",
   "execution_count": 3,
   "id": "dea9b53c",
   "metadata": {
    "id": "dea9b53c"
   },
   "outputs": [],
   "source": [
    "NUM_CITIES  = 8\n",
    "nodes = []\n",
    "for i in range(NUM_CITIES):\n",
    "    x = 10 * math.cos(i*math.pi*2/NUM_CITIES)\n",
    "    y = 10 * math.sin(i*math.pi*2/NUM_CITIES)\n",
    "    nodes.append((x, y))"
   ]
  },
  {
   "cell_type": "markdown",
   "id": "0e8b15bc",
   "metadata": {
    "id": "0e8b15bc"
   },
   "source": [
    "## 評価\n",
    "設定した地点間の距離"
   ]
  },
  {
   "cell_type": "code",
   "execution_count": 4,
   "id": "d4bee79d",
   "metadata": {
    "id": "d4bee79d"
   },
   "outputs": [],
   "source": [
    "def euclidean(a, b):\n",
    "    return math.sqrt(pow(a[1] - b[1], 2) + pow(a[0] - b[0], 2))"
   ]
  },
  {
   "cell_type": "markdown",
   "id": "5cbae19c",
   "metadata": {
    "id": "5cbae19c"
   },
   "source": [
    "## シミュレーション"
   ]
  },
  {
   "cell_type": "code",
   "execution_count": 5,
   "id": "6e3e0d62",
   "metadata": {
    "id": "6e3e0d62"
   },
   "outputs": [],
   "source": [
    "world = pants.World(nodes, euclidean)\n",
    "solver = pants.Solver(limit=1000)\n",
    "solution = solver.solve(world)"
   ]
  },
  {
   "cell_type": "markdown",
   "id": "37d13738",
   "metadata": {
    "id": "37d13738"
   },
   "source": [
    "## 求まった中で最適な解を表示\n",
    "\n",
    "経路長\n",
    "\n",
    "経由順"
   ]
  },
  {
   "cell_type": "code",
   "execution_count": 6,
   "id": "32668855",
   "metadata": {
    "colab": {
     "base_uri": "https://localhost:8080/"
    },
    "id": "32668855",
    "outputId": "aa4ccde7-e0bc-4679-e3a1-bb87bc75ba7f"
   },
   "outputs": [
    {
     "name": "stdout",
     "output_type": "stream",
     "text": [
      "61.22934917841435\n",
      "0,7,6,5,4,3,2,1,"
     ]
    }
   ],
   "source": [
    "print(solution.distance)\n",
    "for t in solution.tour:\n",
    "    print(nodes.index(t), end=',')\n"
   ]
  },
  {
   "cell_type": "markdown",
   "id": "e61a8f89",
   "metadata": {
    "id": "e61a8f89"
   },
   "source": [
    "## グラフで経由を確認"
   ]
  },
  {
   "cell_type": "code",
   "execution_count": 7,
   "id": "feaf37ac",
   "metadata": {
    "colab": {
     "base_uri": "https://localhost:8080/",
     "height": 283
    },
    "id": "feaf37ac",
    "outputId": "c4a4f535-99d0-403d-ffc0-8d09bd2fd397"
   },
   "outputs": [
    {
     "data": {
      "text/plain": [
       "[<matplotlib.lines.Line2D at 0x28d11eb62b0>]"
      ]
     },
     "execution_count": 7,
     "metadata": {},
     "output_type": "execute_result"
    },
    {
     "data": {
      "image/png": "[encoded data removed]",
      "text/plain": [
       "<Figure size 432x288 with 1 Axes>"
      ]
     },
     "metadata": {
      "needs_background": "light"
     },
     "output_type": "display_data"
    }
   ],
   "source": [
    "px, py = [], []\n",
    "for t in solution.tour:\n",
    "    px.append(t[0])\n",
    "    py.append(t[1])\n",
    "\n",
    "fig, ax = plt.subplots()\n",
    "ax.set_xlim(-12,12)\n",
    "ax.set_ylim(-12,12)\n",
    "ax.set_aspect('equal')\n",
    "ax.plot(px,py, marker=\"o\", color='k', markersize=8)"
   ]
  },
  {
   "cell_type": "markdown",
   "id": "1f4864c4",
   "metadata": {
    "id": "1f4864c4"
   },
   "source": [
    "## 経由地の設定\n",
    "20箇所の地点をランダムに設定"
   ]
  },
  {
   "cell_type": "code",
   "execution_count": 8,
   "id": "c2c15344",
   "metadata": {
    "id": "c2c15344"
   },
   "outputs": [],
   "source": [
    "NUM_CITIES  = 20\n",
    "nodes = []\n",
    "for i in range(NUM_CITIES):\n",
    "    x = random.uniform(-10, 10)\n",
    "    y = random.uniform(-10, 10)\n",
    "    nodes.append((x, y))"
   ]
  },
  {
   "cell_type": "markdown",
   "id": "3630186e",
   "metadata": {
    "id": "3630186e"
   },
   "source": [
    "## シミュレーション"
   ]
  },
  {
   "cell_type": "code",
   "execution_count": 9,
   "id": "edc22afc",
   "metadata": {
    "id": "edc22afc"
   },
   "outputs": [],
   "source": [
    "world = pants.World(nodes, euclidean)\n",
    "solver = pants.Solver(limit=1000)\n",
    "solution = solver.solve(world)"
   ]
  },
  {
   "cell_type": "markdown",
   "id": "d4c53450",
   "metadata": {
    "id": "d4c53450"
   },
   "source": [
    "## 求まった中で最適な解を表示\n",
    "\n",
    "経路長\n",
    "\n",
    "経由順"
   ]
  },
  {
   "cell_type": "code",
   "execution_count": 10,
   "id": "4f12e93d",
   "metadata": {
    "colab": {
     "base_uri": "https://localhost:8080/"
    },
    "id": "4f12e93d",
    "outputId": "469553a3-ae83-4935-956a-447d202c449e"
   },
   "outputs": [
    {
     "name": "stdout",
     "output_type": "stream",
     "text": [
      "79.28752973139432\n",
      "19,2,13,10,16,0,4,6,15,12,9,3,7,5,14,8,11,18,17,1,"
     ]
    }
   ],
   "source": [
    "print(solution.distance)\n",
    "for t in solution.tour:\n",
    "    print(nodes.index(t), end=',')"
   ]
  },
  {
   "cell_type": "markdown",
   "id": "5cc93763",
   "metadata": {
    "id": "5cc93763"
   },
   "source": [
    "## グラフで経由を確認"
   ]
  },
  {
   "cell_type": "code",
   "execution_count": 11,
   "id": "83811c1f",
   "metadata": {
    "colab": {
     "base_uri": "https://localhost:8080/",
     "height": 283
    },
    "id": "83811c1f",
    "outputId": "3dbbedf4-9e05-439a-a165-8787c84ef1c0"
   },
   "outputs": [
    {
     "data": {
      "text/plain": [
       "[<matplotlib.lines.Line2D at 0x28d11fbbdc0>]"
      ]
     },
     "execution_count": 11,
     "metadata": {},
     "output_type": "execute_result"
    },
    {
     "data": {
      "image/png": "[encoded data removed]",
      "text/plain": [
       "<Figure size 432x288 with 1 Axes>"
      ]
     },
     "metadata": {
      "needs_background": "light"
     },
     "output_type": "display_data"
    }
   ],
   "source": [
    "px, py = [], []\n",
    "for i in solution.tour:\n",
    "    px.append(i[0])\n",
    "    py.append(i[1])\n",
    "\n",
    "fig, ax = plt.subplots()\n",
    "ax.set_xlim(-12,12)\n",
    "ax.set_ylim(-12,12)\n",
    "ax.set_aspect('equal')\n",
    "ax.plot(px,py, marker=\"o\", color='k', markersize=8)"
   ]
  },
  {
   "cell_type": "code",
   "execution_count": null,
   "id": "80ce4217",
   "metadata": {
    "id": "80ce4217"
   },
   "outputs": [],
   "source": []
  }
 ],
 "metadata": {
  "colab": {
   "collapsed_sections": [],
   "name": "ch06_ACO.ipynb",
   "provenance": []
  },
  "kernelspec": {
   "display_name": "Python 3 (ipykernel)",
   "language": "python",
   "name": "python3"
  },
  "language_info": {
   "codemirror_mode": {
    "name": "ipython",
    "version": 3
   },
   "file_extension": ".py",
   "mimetype": "text/x-python",
   "name": "python",
   "nbconvert_exporter": "python",
   "pygments_lexer": "ipython3",
   "version": "3.8.12"
  }
 },
 "nbformat": 4,
 "nbformat_minor": 5
}
