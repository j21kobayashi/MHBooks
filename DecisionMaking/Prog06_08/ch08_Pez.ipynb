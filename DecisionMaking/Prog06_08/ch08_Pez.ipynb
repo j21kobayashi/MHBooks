{
 "cells": [
  {
   "cell_type": "markdown",
   "metadata": {
    "id": "5YQPJ4x7a0pa"
   },
   "source": [
    "# ペッツを対象とした強化学習"
   ]
  },
  {
   "cell_type": "markdown",
   "metadata": {
    "id": "8Xuw6sR-a0pd"
   },
   "source": [
    "## ライブラリのインポート"
   ]
  },
  {
   "cell_type": "code",
   "execution_count": 1,
   "metadata": {
    "id": "7somX9mSa0pe"
   },
   "outputs": [],
   "source": [
    "import numpy as np"
   ]
  },
  {
   "cell_type": "markdown",
   "metadata": {
    "id": "VArwgJ3Oa0pf"
   },
   "source": [
    "## 環境クラス\n",
    "行動を受け取り状態を遷移させ、報酬を与える"
   ]
  },
  {
   "cell_type": "code",
   "execution_count": 2,
   "metadata": {
    "id": "XX_fn3kga0pg"
   },
   "outputs": [],
   "source": [
    "class Environment():\n",
    "    def __init__(self):\n",
    "        self.Reset()\n",
    "#初期化\n",
    "    def Reset(self):\n",
    "        self.state = 0\n",
    "        return self.state\n",
    "    def Step(self, action):\n",
    "        reward = 0\n",
    "        if self.state==0:#閉じている\n",
    "            if action==0:#開ける\n",
    "                self.state = 1\n",
    "        elif self.state==1:#開いていて，菓子がある\n",
    "            if action==1:#閉じる\n",
    "                self.state = 0\n",
    "            elif action==2:#傾ける\n",
    "                self.state = 2\n",
    "                reward = 1\n",
    "        else:#開いていて，菓子がない\n",
    "            if action==1:\n",
    "                self.state = 0\n",
    "        return self.state, reward"
   ]
  },
  {
   "cell_type": "markdown",
   "metadata": {
    "id": "zk9CHHH7a0pg"
   },
   "source": [
    "## エージェントクラス\n",
    "状態を観測し、行動を決定し、状態・行動・報酬からQ値を更新する"
   ]
  },
  {
   "cell_type": "code",
   "execution_count": 3,
   "metadata": {
    "id": "tBTkMSjga0ph"
   },
   "outputs": [],
   "source": [
    "class Agent():\n",
    "    def __init__(self):\n",
    "        self.QV = np.zeros((3, 3))\n",
    "    def GetAction(self, state, epsilon):\n",
    "        self.state = state\n",
    "        if epsilon > np.random.uniform(0, 1):#徐々に最適行動のみをとる、ε-greedy法\n",
    "            self.action = np.random.choice([0, 1])\n",
    "        else:\n",
    "            a = np.where(self.QV[state]==self.QV[state].max())[0]\n",
    "            self.action = np.random.choice(a)\n",
    "        return self.action\n",
    "    def UpdateQValue(self, next_state, reward):\n",
    "        alpha, gamma = 0.5, 0.9\n",
    "        next_maxQ=max(self.QV[next_state])\n",
    "        self.QV[self.state, self.action] = (1 - alpha) * self.QV[self.state, self.action] + alpha * (reward + gamma * next_maxQ)\n"
   ]
  },
  {
   "cell_type": "markdown",
   "metadata": {
    "id": "_nljlVYta0ph"
   },
   "source": [
    "## 定数の設定"
   ]
  },
  {
   "cell_type": "code",
   "execution_count": 4,
   "metadata": {
    "id": "yX76Fn9ha0pi"
   },
   "outputs": [],
   "source": [
    "num_episodes = 5  #総試行回数\n",
    "num_steps = 10  #1試行の中の行動数"
   ]
  },
  {
   "cell_type": "markdown",
   "metadata": {
    "id": "1gXKUcMNa0pj"
   },
   "source": [
    "## 学習のための試行の繰り返し"
   ]
  },
  {
   "cell_type": "code",
   "execution_count": 5,
   "metadata": {
    "colab": {
     "base_uri": "https://localhost:8080/"
    },
    "id": "N0p5hU1fa0pj",
    "outputId": "371efdae-1b23-4198-db2c-4343634ecd42",
    "scrolled": true
   },
   "outputs": [
    {
     "name": "stdout",
     "output_type": "stream",
     "text": [
      "0 0 0\n",
      "1 1 0\n",
      "0 0 0\n",
      "1 0 0\n",
      "1 1 0\n",
      "0 0 0\n",
      "1 1 0\n",
      "0 0 0\n",
      "1 1 0\n",
      "0 0 0\n",
      "episode : 1 total reward 0\n",
      "[[0. 0. 0.]\n",
      " [0. 0. 0.]\n",
      " [0. 0. 0.]]\n",
      "0 2 0\n",
      "0 1 0\n",
      "0 1 0\n",
      "0 2 0\n",
      "0 0 0\n",
      "1 0 0\n",
      "1 0 0\n",
      "1 2 1\n",
      "2 0 0\n",
      "2 0 0\n",
      "episode : 2 total reward 1\n",
      "[[0.  0.  0. ]\n",
      " [0.  0.  0.5]\n",
      " [0.  0.  0. ]]\n",
      "0 2 0\n",
      "0 0 0\n",
      "1 2 1\n",
      "2 2 0\n",
      "2 1 0\n",
      "0 0 0\n",
      "1 2 1\n",
      "2 1 0\n",
      "0 0 0\n",
      "1 1 0\n",
      "episode : 3 total reward 2\n",
      "[[0.63925312 0.         0.        ]\n",
      " [0.         0.28766391 0.9205625 ]\n",
      " [0.         0.253125   0.        ]]\n",
      "0 1 0\n",
      "0 0 0\n",
      "1 1 0\n",
      "0 0 0\n",
      "1 2 1\n",
      "2 1 0\n",
      "0 0 0\n",
      "1 2 1\n",
      "2 1 0\n",
      "0 0 0\n",
      "episode : 4 total reward 2\n",
      "[[1.00049773 0.28766391 0.        ]\n",
      " [0.         0.47407781 1.25223845]\n",
      " [0.         0.63234105 0.        ]]\n",
      "0 0 0\n",
      "1 2 1\n",
      "2 1 0\n",
      "0 0 0\n",
      "1 2 1\n",
      "2 1 0\n",
      "0 0 0\n",
      "1 2 1\n",
      "2 1 0\n",
      "0 0 0\n",
      "episode : 5 total reward 3\n",
      "[[1.40682431 0.28766391 0.        ]\n",
      " [0.         0.47407781 1.6966084 ]\n",
      " [0.         1.04023386 0.        ]]\n"
     ]
    }
   ],
   "source": [
    "env = Environment()\n",
    "agent = Agent()\n",
    "for episode in range(num_episodes):  #試行数分繰り返す\n",
    "    state = env.Reset()#初期状態に戻す\n",
    "    sum_reward = 0#累積報酬\n",
    "    epsilon = 0.5 * (1 / (episode + 1))\n",
    "    for t in range(num_steps):  #1試行のループ\n",
    "        action = agent.GetAction(state, epsilon)\n",
    "        old_state = state#表示用\n",
    "        state, reward = env.Step(action)\n",
    "        print(old_state, action, reward)\n",
    "        sum_reward += reward  #報酬を追加\n",
    "        agent.UpdateQValue(state, reward)\n",
    "    print('episode : %d total reward %d' %(episode+1, sum_reward))\n",
    "    print(agent.QV)"
   ]
  },
  {
   "cell_type": "code",
   "execution_count": 5,
   "metadata": {
    "id": "_IsvyCoia2kq"
   },
   "outputs": [],
   "source": []
  }
 ],
 "metadata": {
  "colab": {
   "collapsed_sections": [],
   "name": "ch08_Pez.ipynb",
   "provenance": []
  },
  "kernelspec": {
   "display_name": "Python 3",
   "language": "python",
   "name": "python3"
  },
  "language_info": {
   "codemirror_mode": {
    "name": "ipython",
    "version": 3
   },
   "file_extension": ".py",
   "mimetype": "text/x-python",
   "name": "python",
   "nbconvert_exporter": "python",
   "pygments_lexer": "ipython3",
   "version": "3.8.5"
  }
 },
 "nbformat": 4,
 "nbformat_minor": 1
}
