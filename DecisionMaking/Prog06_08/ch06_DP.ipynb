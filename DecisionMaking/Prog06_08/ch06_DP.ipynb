{
 "cells": [
  {
   "cell_type": "markdown",
   "id": "2577c506",
   "metadata": {
    "id": "2577c506"
   },
   "source": [
    "# 動的計画法"
   ]
  },
  {
   "cell_type": "markdown",
   "id": "_sRPQNFukYEc",
   "metadata": {
    "id": "_sRPQNFukYEc"
   },
   "source": [
    "## インストールが必要なライブラリ\n",
    "Anacondaの場合は一度だけ必要となる場合がある"
   ]
  },
  {
   "cell_type": "code",
   "execution_count": 1,
   "id": "Ja95MuolkYEf",
   "metadata": {
    "colab": {
     "base_uri": "https://localhost:8080/"
    },
    "id": "Ja95MuolkYEf",
    "outputId": "d5c42f6e-a888-4e8f-c33e-75b55b23f39c"
   },
   "outputs": [
    {
     "name": "stdout",
     "output_type": "stream",
     "text": [
      "Requirement already satisfied: numpy in c:\\users\\makino\\anaconda3\\envs\\decision\\lib\\site-packages (1.22.1)\n"
     ]
    }
   ],
   "source": [
    "!pip install numpy"
   ]
  },
  {
   "cell_type": "markdown",
   "id": "LnauReH8kYEg",
   "metadata": {
    "id": "LnauReH8kYEg"
   },
   "source": [
    "## ライブラリのインポート\n",
    "\n"
   ]
  },
  {
   "cell_type": "code",
   "execution_count": 2,
   "id": "2v2swkvekYEh",
   "metadata": {
    "id": "2v2swkvekYEh"
   },
   "outputs": [],
   "source": [
    "import numpy as np"
   ]
  },
  {
   "cell_type": "markdown",
   "id": "e246df33",
   "metadata": {
    "id": "e246df33"
   },
   "source": [
    "## 設定"
   ]
  },
  {
   "cell_type": "code",
   "execution_count": 3,
   "id": "6d86cd7b",
   "metadata": {
    "id": "6d86cd7b"
   },
   "outputs": [],
   "source": [
    "w = [1, -3, 3, -1, 2, 4]\n",
    "N = len(w)\n",
    "dp = np.zeros(N+1, dtype=int)"
   ]
  },
  {
   "cell_type": "markdown",
   "id": "BJC59ITVq6SH",
   "metadata": {
    "id": "BJC59ITVq6SH"
   },
   "source": [
    "## 探索"
   ]
  },
  {
   "cell_type": "code",
   "execution_count": 4,
   "id": "-PT7-EzPq302",
   "metadata": {
    "colab": {
     "base_uri": "https://localhost:8080/"
    },
    "id": "-PT7-EzPq302",
    "outputId": "2505d26d-ec99-42cb-a4b5-03764ca1d98b"
   },
   "outputs": [
    {
     "name": "stdout",
     "output_type": "stream",
     "text": [
      "[ 0  1  1  4  4  6 10]\n"
     ]
    }
   ],
   "source": [
    "for i in range(N):\n",
    "    dp[i+1] = max(dp[i],dp[i]+w[i])\n",
    "print(dp)"
   ]
  },
  {
   "cell_type": "markdown",
   "id": "aNKZE8TdqDyA",
   "metadata": {
    "id": "aNKZE8TdqDyA"
   },
   "source": [
    "## 答え"
   ]
  },
  {
   "cell_type": "code",
   "execution_count": 5,
   "id": "279e660a",
   "metadata": {
    "colab": {
     "base_uri": "https://localhost:8080/"
    },
    "id": "279e660a",
    "outputId": "ae9ffb5a-5018-48a0-926a-e01de886c9c3"
   },
   "outputs": [
    {
     "name": "stdout",
     "output_type": "stream",
     "text": [
      "10\n"
     ]
    }
   ],
   "source": [
    "print(dp[N])"
   ]
  },
  {
   "cell_type": "code",
   "execution_count": null,
   "id": "b4fea043",
   "metadata": {
    "id": "b4fea043"
   },
   "outputs": [],
   "source": []
  }
 ],
 "metadata": {
  "colab": {
   "collapsed_sections": [],
   "name": "ch06_DP.ipynb",
   "provenance": []
  },
  "kernelspec": {
   "display_name": "Python 3 (ipykernel)",
   "language": "python",
   "name": "python3"
  },
  "language_info": {
   "codemirror_mode": {
    "name": "ipython",
    "version": 3
   },
   "file_extension": ".py",
   "mimetype": "text/x-python",
   "name": "python",
   "nbconvert_exporter": "python",
   "pygments_lexer": "ipython3",
   "version": "3.8.12"
  }
 },
 "nbformat": 4,
 "nbformat_minor": 5
}
