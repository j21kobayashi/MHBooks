{
 "cells": [
  {
   "cell_type": "markdown",
   "metadata": {},
   "source": [
    "# 囚人のジレンマを対象とした強化学習（エージェントは1つだけ学習）"
   ]
  },
  {
   "cell_type": "markdown",
   "metadata": {},
   "source": [
    "## ライブラリのインストール"
   ]
  },
  {
   "cell_type": "code",
   "execution_count": 1,
   "metadata": {},
   "outputs": [
    {
     "name": "stdout",
     "output_type": "stream",
     "text": [
      "Collecting axelrod\n",
      "  Using cached Axelrod-4.12.0-py2.py3-none-any.whl (191 kB)\n",
      "Requirement already satisfied: dask>=2.9.2 in c:\\users\\makino\\anaconda3\\lib\\site-packages (from axelrod) (2.30.0)\n",
      "Requirement already satisfied: numpy>=1.17.4 in c:\\users\\makino\\anaconda3\\lib\\site-packages (from axelrod) (1.19.2)\n",
      "Requirement already satisfied: docutils<=0.17 in c:\\users\\makino\\anaconda3\\lib\\site-packages (from axelrod) (0.16)\n",
      "Requirement already satisfied: scipy>=1.3.3 in c:\\users\\makino\\anaconda3\\lib\\site-packages (from axelrod) (1.5.2)\n",
      "Requirement already satisfied: matplotlib>=3.0.3 in c:\\users\\makino\\anaconda3\\lib\\site-packages (from axelrod) (3.3.2)\n",
      "Requirement already satisfied: tqdm>=4.39.0 in c:\\users\\makino\\anaconda3\\lib\\site-packages (from axelrod) (4.50.2)\n",
      "Requirement already satisfied: cloudpickle>=0.2.2 in c:\\users\\makino\\anaconda3\\lib\\site-packages (from axelrod) (1.6.0)\n",
      "Requirement already satisfied: pandas>=1.0.0 in c:\\users\\makino\\anaconda3\\lib\\site-packages (from axelrod) (1.1.3)\n",
      "Requirement already satisfied: prompt-toolkit>=3.0 in c:\\users\\makino\\anaconda3\\lib\\site-packages (from axelrod) (3.0.8)\n",
      "Requirement already satisfied: fsspec>=0.6.0 in c:\\users\\makino\\anaconda3\\lib\\site-packages (from axelrod) (0.8.3)\n",
      "Requirement already satisfied: pyyaml>=5.1 in c:\\users\\makino\\anaconda3\\lib\\site-packages (from axelrod) (5.3.1)\n",
      "Requirement already satisfied: toolz>=0.8.2 in c:\\users\\makino\\anaconda3\\lib\\site-packages (from axelrod) (0.11.1)\n",
      "Requirement already satisfied: cycler>=0.10 in c:\\users\\makino\\anaconda3\\lib\\site-packages (from matplotlib>=3.0.3->axelrod) (0.10.0)\n",
      "Requirement already satisfied: pillow>=6.2.0 in c:\\users\\makino\\anaconda3\\lib\\site-packages (from matplotlib>=3.0.3->axelrod) (8.0.1)\n",
      "Requirement already satisfied: python-dateutil>=2.1 in c:\\users\\makino\\anaconda3\\lib\\site-packages (from matplotlib>=3.0.3->axelrod) (2.8.1)\n",
      "Requirement already satisfied: pyparsing!=2.0.4,!=2.1.2,!=2.1.6,>=2.0.3 in c:\\users\\makino\\anaconda3\\lib\\site-packages (from matplotlib>=3.0.3->axelrod) (2.4.7)\n",
      "Requirement already satisfied: kiwisolver>=1.0.1 in c:\\users\\makino\\anaconda3\\lib\\site-packages (from matplotlib>=3.0.3->axelrod) (1.3.0)\n",
      "Requirement already satisfied: certifi>=2020.06.20 in c:\\users\\makino\\anaconda3\\lib\\site-packages (from matplotlib>=3.0.3->axelrod) (2020.6.20)\n",
      "Requirement already satisfied: pytz>=2017.2 in c:\\users\\makino\\anaconda3\\lib\\site-packages (from pandas>=1.0.0->axelrod) (2020.1)\n",
      "Requirement already satisfied: wcwidth in c:\\users\\makino\\anaconda3\\lib\\site-packages (from prompt-toolkit>=3.0->axelrod) (0.2.5)\n",
      "Requirement already satisfied: six in c:\\users\\makino\\anaconda3\\lib\\site-packages (from cycler>=0.10->matplotlib>=3.0.3->axelrod) (1.15.0)\n",
      "Installing collected packages: axelrod\n",
      "Successfully installed axelrod-4.12.0\n"
     ]
    }
   ],
   "source": [
    "!pip install axelrod"
   ]
  },
  {
   "cell_type": "markdown",
   "metadata": {},
   "source": [
    "## ライブラリのインポート"
   ]
  },
  {
   "cell_type": "code",
   "execution_count": 2,
   "metadata": {},
   "outputs": [],
   "source": [
    "import numpy as np\n",
    "import matplotlib.pyplot as plt\n",
    "import matplotlib.animation as animation\n",
    "from IPython.display import HTML\n",
    "import axelrod as axl"
   ]
  },
  {
   "cell_type": "markdown",
   "metadata": {},
   "source": [
    "## 対戦数の設定"
   ]
  },
  {
   "cell_type": "code",
   "execution_count": 3,
   "metadata": {},
   "outputs": [],
   "source": [
    "NUM_MATCH = 5\n",
    "#0:C(協調), 1:D(裏切り)"
   ]
  },
  {
   "cell_type": "markdown",
   "metadata": {},
   "source": [
    "## エージェントクラス\n",
    "状態を観測し、行動を決定し、状態・行動・報酬からQ値を更新する"
   ]
  },
  {
   "cell_type": "code",
   "execution_count": 4,
   "metadata": {},
   "outputs": [],
   "source": [
    "class Agent():\n",
    "    def __init__(self):\n",
    "        self.QV = np.zeros((3**2, 2))\n",
    "    def GetAction(self, epsilon, opponent_history, player_history):\n",
    "        if(len(opponent_history)==0):#1回目の状態は0\n",
    "            self.state = 0\n",
    "        elif(len(opponent_history)==1):#2回目の状態は相手の1手目だけから作成\n",
    "            self.state = 1 if opponent_history[0]==C else 2\n",
    "        else:#3回目以降の状態は相手の最後の2手から作成\n",
    "            self.state = (1 if opponent_history[-1]==C else 2) + (1 if opponent_history[-2]==C else 2)*3\n",
    "\n",
    "        if epsilon > np.random.random():#徐々に最適行動のみをとる、ε-greedy法\n",
    "            self.action = np.random.choice([0, 1])\n",
    "        else:\n",
    "            a = np.where(self.QV[self.state]==self.QV[self.state].max())[0]\n",
    "            self.action = np.random.choice(a)\n",
    "        return self.action\n",
    "    def UpdateQValue(self, state, next_state, action, reward):\n",
    "        alpha, gamma = 0.4, 0.9\n",
    "        next_maxQ=max(self.QV[next_state])\n",
    "        self.QV[state, action] = (1 - alpha) * self.QV[state, action] + alpha * (reward + gamma * next_maxQ)\n",
    "    def Update(self, mp, ms):\n",
    "        for i in range(NUM_MATCH):\n",
    "            if i==0:#1手目を学習するための状態と次の状態の作成\n",
    "                state = 0\n",
    "                next_state = (1 if mp[i][1]==C else 2)\n",
    "            else:#2手目以降を学習するための状態と次の状態の作成\n",
    "                state = next_state\n",
    "                next_state = (1 if mp[i][1]==C else 2) + (1 if mp[i-1][1]==C else 2)*3\n",
    "            action = 0 if mp[i][0]==C else 1\n",
    "            reward = 0\n",
    "            if i==NUM_MATCH-1:\n",
    "                reward = (float(ms[0])/NUM_MATCH)\n",
    "                #reward = (float(ms[0])/NUM\\_MATCH)**3#報酬を3乗する\n",
    "            self.UpdateQValue(state, next_state, action, reward)\n"
   ]
  },
  {
   "cell_type": "markdown",
   "metadata": {},
   "source": [
    "## エージェント戦略の作成"
   ]
  },
  {
   "cell_type": "code",
   "execution_count": 5,
   "metadata": {},
   "outputs": [],
   "source": [
    "from axelrod.strategy_transformers import *\n",
    "\n",
    "A = Agent()\n",
    "class MyStrategy(Player):\n",
    "    name = \"MyStrategy\"\n",
    "    def strategy(self, opponent):\n",
    "        global A, epsilon\n",
    "        act = A.GetAction(epsilon,opponent.history, self.history)\n",
    "        if act == 0:\n",
    "            return C\n",
    "        return D\n"
   ]
  },
  {
   "cell_type": "markdown",
   "metadata": {},
   "source": [
    "## 定数の設定"
   ]
  },
  {
   "cell_type": "code",
   "execution_count": 6,
   "metadata": {},
   "outputs": [],
   "source": [
    "num_episode=1000  #総試行回数"
   ]
  },
  {
   "cell_type": "markdown",
   "metadata": {},
   "source": [
    "## 学習のための試行の繰り返し## ライブラリのインストール"
   ]
  },
  {
   "cell_type": "code",
   "execution_count": 7,
   "metadata": {},
   "outputs": [
    {
     "name": "stdout",
     "output_type": "stream",
     "text": [
      "[(D, C), (D, D), (D, C), (C, D), (D, C)]\n",
      "(16, 6)\n",
      "[[5.98921783 6.00020104]\n",
      " [6.60675105 6.60849787]\n",
      " [0.         0.        ]\n",
      " [0.         0.        ]\n",
      " [0.         0.        ]\n",
      " [6.09022848 7.16761956]\n",
      " [0.         0.        ]\n",
      " [5.9172964  5.90237197]\n",
      " [0.         0.        ]]\n"
     ]
    }
   ],
   "source": [
    "#np.random.seed(1)\n",
    "\n",
    "epsilon = 0\n",
    "for episode in range(num_episode):\n",
    "    epsilon = float(num_episode-episode)*5/num_episode\n",
    "    match = axl.Match([MyStrategy(), axl.Alternator()], NUM_MATCH)#繰り返し戦略\n",
    "#    match = axl.Match([MyStrategy(), axl.TitForTat()], NUM_MATCH)#しっぺ返し戦略\n",
    "    mp = match.play()\n",
    "    ms = match.final_score()\n",
    "    A.Update(mp,ms)\n",
    "\n",
    "#最終結果の確認\n",
    "epsilon=0\n",
    "match = axl.Match([MyStrategy(), axl.Alternator()], NUM_MATCH)#繰り返し戦略\n",
    "#match = axl.Match([MyStrategy(), axl.TitForTat()], NUM_MATCH)#しっぺ返し戦略\n",
    "mp = match.play()\n",
    "ms = match.final_score()\n",
    "print(mp)\n",
    "print(ms)\n",
    "print(A.QV)\n"
   ]
  },
  {
   "cell_type": "markdown",
   "metadata": {},
   "source": [
    "## 学習済みのQ値を用いて11回対戦した場合の結果"
   ]
  },
  {
   "cell_type": "code",
   "execution_count": 8,
   "metadata": {},
   "outputs": [
    {
     "name": "stdout",
     "output_type": "stream",
     "text": [
      "[(D, C), (D, D), (D, C), (C, D), (D, C), (C, D), (D, C), (C, D), (D, C), (C, D), (D, C)]\n",
      "(31, 21)\n"
     ]
    }
   ],
   "source": [
    "epsilon=0\n",
    "match = axl.Match([MyStrategy(), axl.Alternator()], 11)#繰り返し戦略\n",
    "#match = axl.Match([MyStrategy(), axl.TitForTat()], 11)#しっぺ返し戦略\n",
    "mp = match.play()\n",
    "ms = match.final_score()\n",
    "print(mp)\n",
    "print(ms)"
   ]
  },
  {
   "cell_type": "markdown",
   "metadata": {},
   "source": [
    "## 学習を100回行って最大の報酬を得られる結果とQ値を表示"
   ]
  },
  {
   "cell_type": "code",
   "execution_count": 9,
   "metadata": {},
   "outputs": [
    {
     "name": "stdout",
     "output_type": "stream",
     "text": [
      "[(D, C), (C, D), (C, C), (C, D), (C, C)]\n",
      "(11, 16)\n",
      "[(C, C), (D, D), (D, C), (C, D), (D, C)]\n",
      "(14, 9)\n",
      "[(C, C), (C, D), (C, C), (D, D), (C, C)]\n",
      "(10, 15)\n",
      "[(C, C), (D, D), (C, C), (D, D), (C, C)]\n",
      "(11, 11)\n",
      "[(D, C), (C, D), (C, C), (D, D), (C, C)]\n",
      "(12, 12)\n",
      "[(D, C), (C, D), (C, C), (C, D), (C, C)]\n",
      "(11, 16)\n",
      "[(C, C), (D, D), (C, C), (C, D), (C, C)]\n",
      "(10, 15)\n",
      "[(D, C), (D, D), (D, C), (D, D), (D, C)]\n",
      "(17, 2)\n",
      "[(D, C), (C, D), (D, C), (C, D), (D, C)]\n",
      "(15, 10)\n",
      "[(D, C), (C, D), (C, C), (C, D), (C, C)]\n",
      "(11, 16)\n",
      "[(D, C), (C, D), (C, C), (C, D), (C, C)]\n",
      "(11, 16)\n",
      "[(D, C), (C, D), (D, C), (D, D), (D, C)]\n",
      "(16, 6)\n",
      "[(C, C), (D, D), (C, C), (C, D), (C, C)]\n",
      "(10, 15)\n",
      "[(D, C), (D, D), (D, C), (D, D), (D, C)]\n",
      "(17, 2)\n",
      "[(D, C), (C, D), (D, C), (C, D), (D, C)]\n",
      "(15, 10)\n",
      "[(D, C), (D, D), (D, C), (C, D), (D, C)]\n",
      "(16, 6)\n",
      "[(D, C), (C, D), (D, C), (C, D), (D, C)]\n",
      "(15, 10)\n",
      "[(D, C), (D, D), (D, C), (C, D), (D, C)]\n",
      "(16, 6)\n",
      "[(C, C), (D, D), (D, C), (D, D), (D, C)]\n",
      "(15, 5)\n",
      "[(D, C), (C, D), (D, C), (C, D), (D, C)]\n",
      "(15, 10)\n",
      "[(D, C), (D, D), (D, C), (C, D), (D, C)]\n",
      "(16, 6)\n",
      "[(D, C), (D, D), (D, C), (C, D), (D, C)]\n",
      "(16, 6)\n",
      "[(D, C), (D, D), (C, C), (D, D), (C, C)]\n",
      "(13, 8)\n",
      "[(D, C), (D, D), (C, C), (D, D), (C, C)]\n",
      "(13, 8)\n",
      "[(D, C), (D, D), (C, C), (D, D), (C, C)]\n",
      "(13, 8)\n",
      "[(C, C), (C, D), (C, C), (C, D), (C, C)]\n",
      "(9, 19)\n",
      "[(D, C), (D, D), (D, C), (D, D), (D, C)]\n",
      "(17, 2)\n",
      "[(C, C), (D, D), (D, C), (D, D), (D, C)]\n",
      "(15, 5)\n",
      "[(D, C), (D, D), (D, C), (D, D), (D, C)]\n",
      "(17, 2)\n",
      "[(D, C), (C, D), (D, C), (C, D), (D, C)]\n",
      "(15, 10)\n",
      "[(D, C), (C, D), (D, C), (C, D), (D, C)]\n",
      "(15, 10)\n",
      "[(C, C), (D, D), (D, C), (D, D), (D, C)]\n",
      "(15, 5)\n",
      "[(D, C), (D, D), (C, C), (C, D), (C, C)]\n",
      "(12, 12)\n",
      "[(C, C), (C, D), (D, C), (C, D), (D, C)]\n",
      "(13, 13)\n",
      "[(C, C), (C, D), (D, C), (C, D), (D, C)]\n",
      "(13, 13)\n",
      "[(C, C), (D, D), (C, C), (D, D), (C, C)]\n",
      "(11, 11)\n",
      "[(D, C), (D, D), (D, C), (C, D), (D, C)]\n",
      "(16, 6)\n",
      "[(C, C), (C, D), (D, C), (D, D), (D, C)]\n",
      "(14, 9)\n",
      "[(D, C), (D, D), (C, C), (C, D), (C, C)]\n",
      "(12, 12)\n",
      "[(D, C), (C, D), (D, C), (D, D), (D, C)]\n",
      "(16, 6)\n",
      "[(C, C), (D, D), (D, C), (D, D), (D, C)]\n",
      "(15, 5)\n",
      "[(D, C), (D, D), (D, C), (D, D), (D, C)]\n",
      "(17, 2)\n",
      "[(C, C), (C, D), (C, C), (C, D), (C, C)]\n",
      "(9, 19)\n",
      "[(D, C), (D, D), (D, C), (C, D), (D, C)]\n",
      "(16, 6)\n",
      "[(D, C), (C, D), (C, C), (C, D), (C, C)]\n",
      "(11, 16)\n",
      "[(D, C), (D, D), (D, C), (C, D), (D, C)]\n",
      "(16, 6)\n",
      "[(D, C), (D, D), (D, C), (C, D), (D, C)]\n",
      "(16, 6)\n",
      "[(C, C), (D, D), (C, C), (D, D), (C, C)]\n",
      "(11, 11)\n",
      "[(D, C), (C, D), (D, C), (C, D), (D, C)]\n",
      "(15, 10)\n",
      "[(D, C), (D, D), (D, C), (D, D), (D, C)]\n",
      "(17, 2)\n",
      "[(D, C), (D, D), (D, C), (D, D), (D, C)]\n",
      "(17, 2)\n",
      "[(D, C), (C, D), (D, C), (D, D), (D, C)]\n",
      "(16, 6)\n",
      "[(D, C), (C, D), (D, C), (C, D), (D, C)]\n",
      "(15, 10)\n",
      "[(C, C), (C, D), (D, C), (D, D), (D, C)]\n",
      "(14, 9)\n",
      "[(C, C), (D, D), (D, C), (C, D), (D, C)]\n",
      "(14, 9)\n",
      "[(D, C), (C, D), (D, C), (D, D), (D, C)]\n",
      "(16, 6)\n",
      "[(D, C), (D, D), (D, C), (D, D), (D, C)]\n",
      "(17, 2)\n",
      "[(D, C), (D, D), (D, C), (D, D), (D, C)]\n",
      "(17, 2)\n",
      "[(C, C), (D, D), (D, C), (C, D), (D, C)]\n",
      "(14, 9)\n",
      "[(C, C), (C, D), (D, C), (C, D), (D, C)]\n",
      "(13, 13)\n",
      "[(D, C), (C, D), (D, C), (C, D), (D, C)]\n",
      "(15, 10)\n",
      "[(D, C), (D, D), (D, C), (C, D), (D, C)]\n",
      "(16, 6)\n",
      "[(C, C), (C, D), (C, C), (D, D), (C, C)]\n",
      "(10, 15)\n",
      "[(D, C), (D, D), (D, C), (C, D), (D, C)]\n",
      "(16, 6)\n",
      "[(D, C), (C, D), (C, C), (D, D), (C, C)]\n",
      "(12, 12)\n",
      "[(D, C), (D, D), (D, C), (C, D), (D, C)]\n",
      "(16, 6)\n",
      "[(C, C), (D, D), (C, C), (C, D), (C, C)]\n",
      "(10, 15)\n",
      "[(C, C), (C, D), (C, C), (C, D), (C, C)]\n",
      "(9, 19)\n",
      "[(D, C), (C, D), (D, C), (D, D), (D, C)]\n",
      "(16, 6)\n",
      "[(D, C), (D, D), (D, C), (D, D), (D, C)]\n",
      "(17, 2)\n",
      "[(D, C), (D, D), (D, C), (D, D), (D, C)]\n",
      "(17, 2)\n",
      "[(C, C), (C, D), (C, C), (C, D), (C, C)]\n",
      "(9, 19)\n",
      "[(C, C), (D, D), (C, C), (C, D), (C, C)]\n",
      "(10, 15)\n",
      "[(C, C), (D, D), (C, C), (D, D), (C, C)]\n",
      "(11, 11)\n",
      "[(D, C), (C, D), (C, C), (D, D), (C, C)]\n",
      "(12, 12)\n",
      "[(D, C), (D, D), (C, C), (D, D), (C, C)]\n",
      "(13, 8)\n",
      "[(C, C), (C, D), (D, C), (D, D), (D, C)]\n",
      "(14, 9)\n",
      "[(D, C), (D, D), (D, C), (D, D), (D, C)]\n",
      "(17, 2)\n",
      "[(C, C), (D, D), (D, C), (D, D), (D, C)]\n",
      "(15, 5)\n",
      "[(C, C), (C, D), (D, C), (D, D), (D, C)]\n",
      "(14, 9)\n",
      "[(C, C), (D, D), (D, C), (C, D), (D, C)]\n",
      "(14, 9)\n",
      "[(D, C), (C, D), (D, C), (D, D), (D, C)]\n",
      "(16, 6)\n",
      "[(D, C), (D, D), (D, C), (C, D), (D, C)]\n",
      "(16, 6)\n",
      "[(D, C), (D, D), (D, C), (D, D), (D, C)]\n",
      "(17, 2)\n",
      "[(D, C), (D, D), (D, C), (C, D), (D, C)]\n",
      "(16, 6)\n",
      "[(D, C), (D, D), (C, C), (D, D), (C, C)]\n",
      "(13, 8)\n",
      "[(D, C), (D, D), (D, C), (D, D), (D, C)]\n",
      "(17, 2)\n",
      "[(D, C), (D, D), (D, C), (D, D), (D, C)]\n",
      "(17, 2)\n",
      "[(D, C), (D, D), (D, C), (D, D), (D, C)]\n",
      "(17, 2)\n",
      "[(D, C), (C, D), (C, C), (C, D), (C, C)]\n",
      "(11, 16)\n",
      "[(C, C), (C, D), (D, C), (C, D), (D, C)]\n",
      "(13, 13)\n",
      "[(D, C), (C, D), (D, C), (D, D), (D, C)]\n",
      "(16, 6)\n",
      "[(D, C), (D, D), (C, C), (C, D), (C, C)]\n",
      "(12, 12)\n",
      "[(D, C), (C, D), (D, C), (C, D), (D, C)]\n",
      "(15, 10)\n",
      "[(D, C), (C, D), (D, C), (D, D), (D, C)]\n",
      "(16, 6)\n",
      "[(D, C), (D, D), (D, C), (C, D), (D, C)]\n",
      "(16, 6)\n",
      "[(D, C), (D, D), (D, C), (C, D), (D, C)]\n",
      "(16, 6)\n",
      "[(D, C), (D, D), (D, C), (D, D), (D, C)]\n",
      "(17, 2)\n",
      "[(D, C), (C, D), (C, C), (D, D), (C, C)]\n",
      "(12, 12)\n",
      "[(C, C), (D, D), (D, C), (C, D), (D, C)]\n",
      "(14, 9)\n",
      "最大得点\n",
      "[(D, C), (D, D), (D, C), (D, D), (D, C)]\n",
      "(17, 2)\n",
      "[[5.63621787 6.01845489]\n",
      " [6.23631971 6.76061905]\n",
      " [0.         0.        ]\n",
      " [0.         0.        ]\n",
      " [0.         0.        ]\n",
      " [6.35740435 7.53464665]\n",
      " [0.         0.        ]\n",
      " [5.91307218 6.01249855]\n",
      " [0.         0.        ]]\n"
     ]
    }
   ],
   "source": [
    "#np.random.seed(1)\n",
    "max_ms = 0\n",
    "for n in range(100):\n",
    "    A = Agent()\n",
    "    epsilon = 0\n",
    "    for episode in range(num_episode):\n",
    "        epsilon = float(num_episode-episode)*5/num_episode\n",
    "        match = axl.Match([MyStrategy(), axl.Alternator()], NUM_MATCH)#繰り返し戦略\n",
    "#        match = axl.Match([MyStrategy(), axl.TitForTat()], NUM_MATCH)#しっぺ返し戦略\n",
    "        mp = match.play()\n",
    "        ms = match.final_score()\n",
    "        A.Update(mp,ms)\n",
    "\n",
    "    epsilon=0\n",
    "    match = axl.Match([MyStrategy(), axl.Alternator()], NUM_MATCH)#繰り返し戦略\n",
    "#    match = axl.Match([MyStrategy(), axl.TitForTat()], NUM_MATCH)#しっぺ返し戦略\n",
    "    mp = match.play()\n",
    "    ms = match.final_score()\n",
    "    print(mp)\n",
    "    print(ms)\n",
    "    if max_ms<ms[0]:\n",
    "        max_ms = ms[0]\n",
    "        stock_mp = mp\n",
    "        stock_ms = ms\n",
    "        stock_QV = A.QV\n",
    "\n",
    "print('最大得点')\n",
    "print(stock_mp)\n",
    "print(stock_ms)\n",
    "print(stock_QV)\n"
   ]
  },
  {
   "cell_type": "markdown",
   "metadata": {},
   "source": [
    "## 繰り返しの試行で得られた学習済みのQ値を用いて11回対戦した場合の結果"
   ]
  },
  {
   "cell_type": "code",
   "execution_count": 10,
   "metadata": {},
   "outputs": [
    {
     "name": "stdout",
     "output_type": "stream",
     "text": [
      "[(D, C), (D, D), (D, C), (D, D), (D, C), (D, D), (D, C), (D, D), (D, C), (D, D), (D, C)]\n",
      "(35, 5)\n"
     ]
    }
   ],
   "source": [
    "epsilon=0\n",
    "A.QV = stock_QV\n",
    "match = axl.Match([MyStrategy(), axl.Alternator()], 11)\n",
    "#match = axl.Match([MyStrategy(), axl.TitForTat()], 11)\n",
    "mp = match.play()\n",
    "ms = match.final_score()\n",
    "print(mp)\n",
    "print(ms)"
   ]
  },
  {
   "cell_type": "code",
   "execution_count": null,
   "metadata": {},
   "outputs": [],
   "source": []
  }
 ],
 "metadata": {
  "kernelspec": {
   "display_name": "Python 3",
   "language": "python",
   "name": "python3"
  },
  "language_info": {
   "codemirror_mode": {
    "name": "ipython",
    "version": 3
   },
   "file_extension": ".py",
   "mimetype": "text/x-python",
   "name": "python",
   "nbconvert_exporter": "python",
   "pygments_lexer": "ipython3",
   "version": "3.8.5"
  }
 },
 "nbformat": 4,
 "nbformat_minor": 4
}
