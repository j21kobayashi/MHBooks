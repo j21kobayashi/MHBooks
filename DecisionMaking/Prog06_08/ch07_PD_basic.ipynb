{
 "cells": [
  {
   "cell_type": "markdown",
   "id": "021df325",
   "metadata": {
    "id": "021df325"
   },
   "source": [
    "# 囚人のジレンマの対戦の基礎"
   ]
  },
  {
   "cell_type": "markdown",
   "id": "a02c164f",
   "metadata": {
    "id": "a02c164f"
   },
   "source": [
    "## Axelrodパッケージのインストール"
   ]
  },
  {
   "cell_type": "code",
   "execution_count": 4,
   "id": "46958cb9",
   "metadata": {
    "colab": {
     "base_uri": "https://localhost:8080/",
     "height": 1000
    },
    "id": "46958cb9",
    "outputId": "8e79a89d-3cd0-4ca8-e4bd-1736abdaf908",
    "scrolled": true
   },
   "outputs": [
    {
     "name": "stdout",
     "output_type": "stream",
     "text": [
      "Requirement already satisfied: axelrod in c:\\users\\makino\\anaconda3\\envs\\decision\\lib\\site-packages (4.12.0)\n",
      "Requirement already satisfied: numpy>=1.17.4 in c:\\users\\makino\\anaconda3\\envs\\decision\\lib\\site-packages (from axelrod) (1.22.1)\n",
      "Requirement already satisfied: scipy>=1.3.3 in c:\\users\\makino\\anaconda3\\envs\\decision\\lib\\site-packages (from axelrod) (1.7.3)\n",
      "Requirement already satisfied: fsspec>=0.6.0 in c:\\users\\makino\\anaconda3\\envs\\decision\\lib\\site-packages (from axelrod) (2021.11.1)\n",
      "Requirement already satisfied: cloudpickle>=0.2.2 in c:\\users\\makino\\anaconda3\\envs\\decision\\lib\\site-packages (from axelrod) (2.0.0)\n",
      "Requirement already satisfied: pandas>=1.0.0 in c:\\users\\makino\\anaconda3\\envs\\decision\\lib\\site-packages (from axelrod) (1.3.5)\n",
      "Requirement already satisfied: dask>=2.9.2 in c:\\users\\makino\\anaconda3\\envs\\decision\\lib\\site-packages (from axelrod) (2021.12.0)\n",
      "Requirement already satisfied: pyyaml>=5.1 in c:\\users\\makino\\anaconda3\\envs\\decision\\lib\\site-packages (from axelrod) (6.0)\n",
      "Requirement already satisfied: docutils<=0.17 in c:\\users\\makino\\anaconda3\\envs\\decision\\lib\\site-packages (from axelrod) (0.17)\n",
      "Requirement already satisfied: toolz>=0.8.2 in c:\\users\\makino\\anaconda3\\envs\\decision\\lib\\site-packages (from axelrod) (0.11.2)\n",
      "Requirement already satisfied: tqdm>=4.39.0 in c:\\users\\makino\\anaconda3\\envs\\decision\\lib\\site-packages (from axelrod) (4.62.3)\n",
      "Requirement already satisfied: prompt-toolkit>=3.0 in c:\\users\\makino\\anaconda3\\envs\\decision\\lib\\site-packages (from axelrod) (3.0.20)\n",
      "Requirement already satisfied: matplotlib>=3.0.3 in c:\\users\\makino\\anaconda3\\envs\\decision\\lib\\site-packages (from axelrod) (3.5.1)\n",
      "Requirement already satisfied: partd>=0.3.10 in c:\\users\\makino\\anaconda3\\envs\\decision\\lib\\site-packages (from dask>=2.9.2->axelrod) (1.2.0)\n",
      "Requirement already satisfied: packaging>=20.0 in c:\\users\\makino\\anaconda3\\envs\\decision\\lib\\site-packages (from dask>=2.9.2->axelrod) (21.3)\n",
      "Requirement already satisfied: fonttools>=4.22.0 in c:\\users\\makino\\anaconda3\\envs\\decision\\lib\\site-packages (from matplotlib>=3.0.3->axelrod) (4.29.1)\n",
      "Requirement already satisfied: python-dateutil>=2.7 in c:\\users\\makino\\anaconda3\\envs\\decision\\lib\\site-packages (from matplotlib>=3.0.3->axelrod) (2.8.2)\n",
      "Requirement already satisfied: pillow>=6.2.0 in c:\\users\\makino\\anaconda3\\envs\\decision\\lib\\site-packages (from matplotlib>=3.0.3->axelrod) (8.4.0)\n",
      "Requirement already satisfied: pyparsing>=2.2.1 in c:\\users\\makino\\anaconda3\\envs\\decision\\lib\\site-packages (from matplotlib>=3.0.3->axelrod) (3.0.4)\n",
      "Requirement already satisfied: kiwisolver>=1.0.1 in c:\\users\\makino\\anaconda3\\envs\\decision\\lib\\site-packages (from matplotlib>=3.0.3->axelrod) (1.3.2)\n",
      "Requirement already satisfied: cycler>=0.10 in c:\\users\\makino\\anaconda3\\envs\\decision\\lib\\site-packages (from matplotlib>=3.0.3->axelrod) (0.11.0)\n",
      "Requirement already satisfied: pytz>=2017.3 in c:\\users\\makino\\anaconda3\\envs\\decision\\lib\\site-packages (from pandas>=1.0.0->axelrod) (2021.3)\n",
      "Requirement already satisfied: locket in c:\\users\\makino\\anaconda3\\envs\\decision\\lib\\site-packages (from partd>=0.3.10->dask>=2.9.2->axelrod) (0.2.1)\n",
      "Requirement already satisfied: wcwidth in c:\\users\\makino\\anaconda3\\envs\\decision\\lib\\site-packages (from prompt-toolkit>=3.0->axelrod) (0.2.5)\n",
      "Requirement already satisfied: six>=1.5 in c:\\users\\makino\\anaconda3\\envs\\decision\\lib\\site-packages (from python-dateutil>=2.7->matplotlib>=3.0.3->axelrod) (1.16.0)\n",
      "Requirement already satisfied: colorama in c:\\users\\makino\\anaconda3\\envs\\decision\\lib\\site-packages (from tqdm>=4.39.0->axelrod) (0.4.4)\n"
     ]
    }
   ],
   "source": [
    "!pip install axelrod"
   ]
  },
  {
   "cell_type": "markdown",
   "id": "ac53eb32",
   "metadata": {
    "id": "ac53eb32"
   },
   "source": [
    "## Axelrodのインポート"
   ]
  },
  {
   "cell_type": "code",
   "execution_count": 1,
   "id": "c1ff2ad5",
   "metadata": {
    "id": "c1ff2ad5"
   },
   "outputs": [],
   "source": [
    "import axelrod as axl"
   ]
  },
  {
   "cell_type": "markdown",
   "id": "0a61de0c",
   "metadata": {
    "id": "0a61de0c"
   },
   "source": [
    "## 協調戦略と交互戦略の対戦"
   ]
  },
  {
   "cell_type": "code",
   "execution_count": 2,
   "id": "9cc491af",
   "metadata": {
    "colab": {
     "base_uri": "https://localhost:8080/"
    },
    "id": "9cc491af",
    "outputId": "428767dc-2b23-4916-c089-042ee532c097"
   },
   "outputs": [
    {
     "name": "stdout",
     "output_type": "stream",
     "text": [
      "[(C, C), (C, D), (C, C), (C, D), (C, C)]\n",
      "(9, 19)\n"
     ]
    }
   ],
   "source": [
    "match = axl.Match([axl.Cooperator(),axl.Alternator()], 5)\n",
    "print(match.play())\n",
    "print(match.final_score())"
   ]
  },
  {
   "cell_type": "markdown",
   "id": "85cd8474",
   "metadata": {
    "id": "85cd8474"
   },
   "source": [
    "## 裏切り戦略と交互戦略の対戦"
   ]
  },
  {
   "cell_type": "code",
   "execution_count": 3,
   "id": "c551734c",
   "metadata": {
    "colab": {
     "base_uri": "https://localhost:8080/"
    },
    "id": "c551734c",
    "outputId": "70391cd3-b293-4192-e0f7-f342c67972ed"
   },
   "outputs": [
    {
     "name": "stdout",
     "output_type": "stream",
     "text": [
      "[(D, C), (D, D), (D, C), (D, D), (D, C)]\n",
      "(17, 2)\n"
     ]
    }
   ],
   "source": [
    "match = axl.Match([axl.Defector(),axl.Alternator()], 5)\n",
    "print(match.play())\n",
    "print(match.final_score())"
   ]
  },
  {
   "cell_type": "markdown",
   "id": "4f8eec91",
   "metadata": {
    "id": "4f8eec91"
   },
   "source": [
    "## しっぺ返し戦略とランダム戦略の対戦\n",
    "実行のたびに結果が変わる"
   ]
  },
  {
   "cell_type": "code",
   "execution_count": 6,
   "id": "596081b9",
   "metadata": {
    "colab": {
     "base_uri": "https://localhost:8080/"
    },
    "id": "596081b9",
    "outputId": "446d57fe-24fa-4b72-cc27-b17b128ba9b3"
   },
   "outputs": [
    {
     "name": "stdout",
     "output_type": "stream",
     "text": [
      "[(C, D), (D, D), (D, C), (C, D), (D, C)]\n",
      "(11, 11)\n"
     ]
    }
   ],
   "source": [
    "match = axl.Match([axl.TitForTat(),axl.Random()], 5)\n",
    "print(match.play())\n",
    "print(match.final_score())"
   ]
  },
  {
   "cell_type": "code",
   "execution_count": null,
   "id": "Ua3A_Nip7mfM",
   "metadata": {
    "id": "Ua3A_Nip7mfM"
   },
   "outputs": [],
   "source": []
  }
 ],
 "metadata": {
  "colab": {
   "collapsed_sections": [],
   "name": "ch07_PD_basic.ipynb",
   "provenance": []
  },
  "kernelspec": {
   "display_name": "Python 3 (ipykernel)",
   "language": "python",
   "name": "python3"
  },
  "language_info": {
   "codemirror_mode": {
    "name": "ipython",
    "version": 3
   },
   "file_extension": ".py",
   "mimetype": "text/x-python",
   "name": "python",
   "nbconvert_exporter": "python",
   "pygments_lexer": "ipython3",
   "version": "3.8.12"
  }
 },
 "nbformat": 4,
 "nbformat_minor": 5
}
