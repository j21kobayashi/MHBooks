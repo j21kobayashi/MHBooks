{
 "cells": [
  {
   "cell_type": "markdown",
   "metadata": {},
   "source": [
    "# 囚人のジレンマを対象とした強化学習：協調動作（2つのエージェントが学習）"
   ]
  },
  {
   "cell_type": "markdown",
   "metadata": {},
   "source": [
    "## ライブラリのインストール"
   ]
  },
  {
   "cell_type": "code",
   "execution_count": 1,
   "metadata": {},
   "outputs": [
    {
     "name": "stdout",
     "output_type": "stream",
     "text": [
      "Requirement already satisfied: axelrod in c:\\users\\makino\\anaconda3\\lib\\site-packages (4.12.0)\n",
      "Requirement already satisfied: numpy>=1.17.4 in c:\\users\\makino\\anaconda3\\lib\\site-packages (from axelrod) (1.19.2)\n",
      "Requirement already satisfied: docutils<=0.17 in c:\\users\\makino\\anaconda3\\lib\\site-packages (from axelrod) (0.16)\n",
      "Requirement already satisfied: cloudpickle>=0.2.2 in c:\\users\\makino\\anaconda3\\lib\\site-packages (from axelrod) (1.6.0)\n",
      "Requirement already satisfied: pyyaml>=5.1 in c:\\users\\makino\\anaconda3\\lib\\site-packages (from axelrod) (5.3.1)\n",
      "Requirement already satisfied: tqdm>=4.39.0 in c:\\users\\makino\\anaconda3\\lib\\site-packages (from axelrod) (4.50.2)\n",
      "Requirement already satisfied: fsspec>=0.6.0 in c:\\users\\makino\\anaconda3\\lib\\site-packages (from axelrod) (0.8.3)\n",
      "Requirement already satisfied: toolz>=0.8.2 in c:\\users\\makino\\anaconda3\\lib\\site-packages (from axelrod) (0.11.1)\n",
      "Requirement already satisfied: matplotlib>=3.0.3 in c:\\users\\makino\\anaconda3\\lib\\site-packages (from axelrod) (3.3.2)\n",
      "Requirement already satisfied: dask>=2.9.2 in c:\\users\\makino\\anaconda3\\lib\\site-packages (from axelrod) (2.30.0)\n",
      "Requirement already satisfied: scipy>=1.3.3 in c:\\users\\makino\\anaconda3\\lib\\site-packages (from axelrod) (1.5.2)\n",
      "Requirement already satisfied: prompt-toolkit>=3.0 in c:\\users\\makino\\anaconda3\\lib\\site-packages (from axelrod) (3.0.8)\n",
      "Requirement already satisfied: pandas>=1.0.0 in c:\\users\\makino\\anaconda3\\lib\\site-packages (from axelrod) (1.1.3)\n",
      "Requirement already satisfied: pillow>=6.2.0 in c:\\users\\makino\\anaconda3\\lib\\site-packages (from matplotlib>=3.0.3->axelrod) (8.0.1)\n",
      "Requirement already satisfied: certifi>=2020.06.20 in c:\\users\\makino\\anaconda3\\lib\\site-packages (from matplotlib>=3.0.3->axelrod) (2020.6.20)\n",
      "Requirement already satisfied: pyparsing!=2.0.4,!=2.1.2,!=2.1.6,>=2.0.3 in c:\\users\\makino\\anaconda3\\lib\\site-packages (from matplotlib>=3.0.3->axelrod) (2.4.7)\n",
      "Requirement already satisfied: cycler>=0.10 in c:\\users\\makino\\anaconda3\\lib\\site-packages (from matplotlib>=3.0.3->axelrod) (0.10.0)\n",
      "Requirement already satisfied: python-dateutil>=2.1 in c:\\users\\makino\\anaconda3\\lib\\site-packages (from matplotlib>=3.0.3->axelrod) (2.8.1)\n",
      "Requirement already satisfied: kiwisolver>=1.0.1 in c:\\users\\makino\\anaconda3\\lib\\site-packages (from matplotlib>=3.0.3->axelrod) (1.3.0)\n",
      "Requirement already satisfied: wcwidth in c:\\users\\makino\\anaconda3\\lib\\site-packages (from prompt-toolkit>=3.0->axelrod) (0.2.5)\n",
      "Requirement already satisfied: pytz>=2017.2 in c:\\users\\makino\\anaconda3\\lib\\site-packages (from pandas>=1.0.0->axelrod) (2020.1)\n",
      "Requirement already satisfied: six in c:\\users\\makino\\anaconda3\\lib\\site-packages (from cycler>=0.10->matplotlib>=3.0.3->axelrod) (1.15.0)\n"
     ]
    }
   ],
   "source": [
    "!pip install axelrod"
   ]
  },
  {
   "cell_type": "markdown",
   "metadata": {},
   "source": [
    "## ライブラリのインポート"
   ]
  },
  {
   "cell_type": "code",
   "execution_count": 2,
   "metadata": {},
   "outputs": [],
   "source": [
    "import numpy as np\n",
    "import matplotlib.pyplot as plt\n",
    "import matplotlib.animation as animation\n",
    "from IPython.display import HTML\n",
    "import axelrod as axl"
   ]
  },
  {
   "cell_type": "markdown",
   "metadata": {},
   "source": [
    "## 対戦数の設定"
   ]
  },
  {
   "cell_type": "code",
   "execution_count": 3,
   "metadata": {},
   "outputs": [],
   "source": [
    "NUM_MATCH = 5\n",
    "#0:C(協調), 1:D(裏切り)"
   ]
  },
  {
   "cell_type": "markdown",
   "metadata": {},
   "source": [
    "## エージェントクラス\n",
    "状態を観測し、行動を決定し、状態・行動・報酬からQ値を更新する"
   ]
  },
  {
   "cell_type": "code",
   "execution_count": 4,
   "metadata": {},
   "outputs": [],
   "source": [
    "class Agent():\n",
    "    def __init__(self):\n",
    "        self.QV = np.zeros((3**2, 2))\n",
    "    def GetAction(self, epsilon, opponent_history, player_history):\n",
    "        if(len(opponent_history)==0):#1回目の状態は0\n",
    "            self.state = 0\n",
    "        elif(len(opponent_history)==1):#2回目の状態は相手の1手目だけから作成\n",
    "            self.state = 1 if opponent_history[0]==C else 2\n",
    "        else:#3回目以降の状態は相手の最後の2手から作成\n",
    "            self.state = (1 if opponent_history[-1]==C else 2) + (1 if opponent_history[-2]==C else 2)*3\n",
    "\n",
    "        if epsilon > np.random.random():#徐々に最適行動のみをとる、ε-greedy法\n",
    "            self.action = np.random.choice([0, 1])\n",
    "        else:\n",
    "            a = np.where(self.QV[self.state]==self.QV[self.state].max())[0]\n",
    "            self.action = np.random.choice(a)\n",
    "        return self.action\n",
    "    def UpdateQValue(self, state, next_state, action, reward):\n",
    "        alpha, gamma = 0.5, 0.8\n",
    "        next_maxQ=max(self.QV[next_state])\n",
    "        self.QV[state, action] = (1 - alpha) * self.QV[state, action] + alpha * (reward + gamma * next_maxQ)\n",
    "    def Update(self, mp, ms):\n",
    "        for i in range(NUM_MATCH):\n",
    "            if i==0:#1手目を学習するための状態と次の状態の作成\n",
    "                state = 0\n",
    "                next_state = (1 if mp[i][1]==C else 2)\n",
    "            else:#2手目以降を学習するための状態と次の状態の作成\n",
    "                state = next_state\n",
    "                next_state = (1 if mp[i][1]==C else 2) + (1 if mp[i-1][1]==C else 2)*3\n",
    "            action = 0 if mp[i][0]==C else 1\n",
    "            reward = 0\n",
    "            if i==NUM_MATCH-1:\n",
    "#                reward = (float(ms[0]-ms[1])/NUM_MATCH)**3\n",
    "                reward = -np.abs((float(ms[0]-ms[1])/NUM_MATCH)**3)#得点差に比例してマイナスの報酬\n",
    "#                reward = (float(ms[0]+ms[1])/NUM_MATCH)**3#合計点を大きくする\n",
    "#                reward = (float(ms[0])/NUM_MATCH)**3\n",
    "            self.UpdateQValue(state, next_state, action, reward)"
   ]
  },
  {
   "cell_type": "markdown",
   "metadata": {},
   "source": [
    "## 2つのエージェント戦略の作成"
   ]
  },
  {
   "cell_type": "code",
   "execution_count": 5,
   "metadata": {},
   "outputs": [],
   "source": [
    "from axelrod.strategy_transformers import *\n",
    "class MyStrategy1(Player):\n",
    "    name = \"MyStrategy1\"\n",
    "    def strategy(self, opponent):\n",
    "        global A1, epsilon\n",
    "        act = A1.GetAction(epsilon,opponent.history, self.history)\n",
    "        if act == 0:\n",
    "            return C\n",
    "        return D"
   ]
  },
  {
   "cell_type": "code",
   "execution_count": 6,
   "metadata": {},
   "outputs": [],
   "source": [
    "class MyStrategy2(Player):\n",
    "    name = \"MyStrategy2\"\n",
    "    def strategy(self, opponent):\n",
    "        global A2, epsilon\n",
    "        act = A2.GetAction(epsilon,opponent.history, self.history)\n",
    "        if act == 0:\n",
    "            return C\n",
    "        return D"
   ]
  },
  {
   "cell_type": "markdown",
   "metadata": {},
   "source": [
    "## 学習のための試行の繰り返し"
   ]
  },
  {
   "cell_type": "code",
   "execution_count": 7,
   "metadata": {},
   "outputs": [
    {
     "name": "stdout",
     "output_type": "stream",
     "text": [
      "0 (17, 7)\n",
      "1 (12, 12)\n",
      "2 (12, 7)\n",
      "3 (18, 8)\n",
      "4 (12, 12)\n",
      "5 (12, 7)\n",
      "6 (16, 6)\n",
      "7 (11, 11)\n",
      "8 (21, 6)\n",
      "9 (8, 13)\n",
      "10 (6, 11)\n",
      "11 (7, 12)\n",
      "12 (11, 16)\n",
      "13 (6, 11)\n",
      "14 (13, 13)\n",
      "15 (10, 10)\n",
      "16 (16, 11)\n",
      "17 (4, 19)\n",
      "18 (7, 17)\n",
      "19 (16, 11)\n",
      "20 (11, 11)\n",
      "21 (10, 10)\n",
      "22 (11, 16)\n",
      "23 (17, 7)\n",
      "24 (14, 9)\n",
      "25 (14, 9)\n",
      "26 (11, 11)\n",
      "27 (8, 13)\n",
      "28 (16, 11)\n",
      "29 (15, 5)\n",
      "30 (11, 16)\n",
      "31 (19, 4)\n",
      "32 (13, 13)\n",
      "33 (8, 13)\n",
      "34 (7, 12)\n",
      "35 (7, 12)\n",
      "36 (6, 11)\n",
      "37 (11, 6)\n",
      "38 (10, 10)\n",
      "39 (12, 17)\n",
      "40 (7, 17)\n",
      "41 (15, 10)\n",
      "42 (8, 13)\n",
      "43 (9, 14)\n",
      "44 (8, 18)\n",
      "45 (20, 5)\n",
      "46 (15, 5)\n",
      "47 (14, 9)\n",
      "48 (17, 7)\n",
      "49 (11, 11)\n",
      "50 (13, 8)\n",
      "51 (13, 3)\n",
      "52 (12, 12)\n",
      "53 (14, 14)\n",
      "54 (11, 11)\n",
      "55 (5, 15)\n",
      "56 (9, 14)\n",
      "57 (19, 9)\n",
      "58 (12, 12)\n",
      "59 (9, 14)\n",
      "60 (14, 14)\n",
      "61 (11, 11)\n",
      "62 (11, 11)\n",
      "63 (7, 7)\n",
      "64 (12, 12)\n",
      "65 (7, 7)\n",
      "66 (11, 11)\n",
      "67 (14, 9)\n",
      "68 (8, 8)\n",
      "69 (13, 13)\n",
      "70 (14, 14)\n",
      "71 (8, 8)\n",
      "72 (15, 10)\n",
      "73 (9, 14)\n",
      "74 (4, 19)\n",
      "75 (8, 8)\n",
      "76 (13, 8)\n",
      "77 (11, 11)\n",
      "78 (14, 9)\n",
      "79 (8, 8)\n",
      "80 (12, 7)\n",
      "81 (9, 14)\n",
      "82 (15, 15)\n",
      "83 (5, 5)\n",
      "84 (12, 7)\n",
      "85 (15, 10)\n",
      "86 (10, 15)\n",
      "87 (11, 11)\n",
      "88 (15, 15)\n",
      "89 (5, 5)\n",
      "90 (4, 9)\n",
      "91 (3, 13)\n",
      "92 (13, 13)\n",
      "93 (15, 15)\n",
      "94 (11, 11)\n",
      "95 (14, 14)\n",
      "96 (11, 11)\n",
      "97 (13, 13)\n",
      "98 (6, 16)\n",
      "99 (15, 15)\n",
      "[(C, C), (D, D), (C, C), (C, C), (C, C)]\n",
      "(13, 13)\n",
      "[[-7.94698326e-12 -4.08196018e-01]\n",
      " [-4.37431206e-01 -7.94698326e-12]\n",
      " [-1.12070925e+00 -1.07057006e+00]\n",
      " [ 0.00000000e+00  0.00000000e+00]\n",
      " [-7.94698326e-12 -4.00002100e+00]\n",
      " [-7.94698326e-12 -2.06785735e+00]\n",
      " [ 0.00000000e+00  0.00000000e+00]\n",
      " [-7.94698326e-12 -8.23245941e-01]\n",
      " [-1.68021632e+01 -1.02123901e+00]]\n",
      "[[-7.94698326e-12 -4.08196018e-01]\n",
      " [-4.37431206e-01 -7.94698326e-12]\n",
      " [-1.12070925e+00 -1.07057006e+00]\n",
      " [ 0.00000000e+00  0.00000000e+00]\n",
      " [-7.94698326e-12 -4.00002100e+00]\n",
      " [-7.94698326e-12 -2.06785735e+00]\n",
      " [ 0.00000000e+00  0.00000000e+00]\n",
      " [-7.94698326e-12 -8.23245941e-01]\n",
      " [-1.68021632e+01 -1.02123901e+00]]\n"
     ]
    }
   ],
   "source": [
    "np.random.seed(0)\n",
    "A1 = Agent()\n",
    "A2 = Agent()\n",
    "num_episode=100000\n",
    "epsilon = 0\n",
    "result = []\n",
    "for episode in range(num_episode):\n",
    "    epsilon = float(num_episode-episode)/num_episode\n",
    "    match = axl.Match([MyStrategy1(), MyStrategy2()], NUM_MATCH)\n",
    "    mp = match.play()\n",
    "    ms1 = match.final_score()\n",
    "    ms2 = (ms1[1],ms1[0])\n",
    "    A1.Update(mp,ms1)\n",
    "    A2.Update(mp,ms2)\n",
    "    if episode%1000==0:\n",
    "        result.append(ms1[1]-ms1[0])\n",
    "        print(episode//1000,ms1)\n",
    "\n",
    "epsilon=0\n",
    "match = axl.Match([MyStrategy1(), MyStrategy2()], NUM_MATCH)\n",
    "mp = match.play()\n",
    "ms = match.final_score()\n",
    "print(mp)\n",
    "print(ms)\n",
    "print(A1.QV)\n",
    "print(A2.QV)\n"
   ]
  },
  {
   "cell_type": "markdown",
   "metadata": {},
   "source": [
    "## 学習による報酬の変化"
   ]
  },
  {
   "cell_type": "code",
   "execution_count": 8,
   "metadata": {},
   "outputs": [
    {
     "data": {
      "image/png": "[encoded data removed]",
      "text/plain": [
       "<Figure size 432x288 with 1 Axes>"
      ]
     },
     "metadata": {
      "needs_background": "light"
     },
     "output_type": "display_data"
    }
   ],
   "source": [
    "import matplotlib.pyplot as plt\n",
    "\n",
    "plt.plot(result, color='k')\n",
    "plt.xlabel(\"Episode (x1000)\")\n",
    "plt.ylabel(\"Reward\")\n",
    "plt.xlim(0, 100)\n",
    "plt.ylim(-40, 40)\n",
    "plt.savefig(\"PD2coop1.pdf\")\n",
    "plt.savefig('PD2coop1.png')\n",
    "plt.show()\n"
   ]
  },
  {
   "cell_type": "code",
   "execution_count": null,
   "metadata": {},
   "outputs": [],
   "source": []
  }
 ],
 "metadata": {
  "kernelspec": {
   "display_name": "Python 3",
   "language": "python",
   "name": "python3"
  },
  "language_info": {
   "codemirror_mode": {
    "name": "ipython",
    "version": 3
   },
   "file_extension": ".py",
   "mimetype": "text/x-python",
   "name": "python",
   "nbconvert_exporter": "python",
   "pygments_lexer": "ipython3",
   "version": "3.8.5"
  }
 },
 "nbformat": 4,
 "nbformat_minor": 4
}
