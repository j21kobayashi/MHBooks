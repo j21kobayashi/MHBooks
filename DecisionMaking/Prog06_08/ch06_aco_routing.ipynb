{
 "cells": [
  {
   "cell_type": "markdown",
   "id": "ab0ee54a",
   "metadata": {
    "id": "ab0ee54a"
   },
   "source": [
    "## アントコロニー最適化（経路問題）"
   ]
  },
  {
   "cell_type": "markdown",
   "id": "b0409fb0",
   "metadata": {
    "id": "b0409fb0"
   },
   "source": [
    "## インストールが必要なライブラリ"
   ]
  },
  {
   "cell_type": "code",
   "execution_count": 1,
   "id": "12846b09",
   "metadata": {
    "colab": {
     "base_uri": "https://localhost:8080/"
    },
    "id": "12846b09",
    "outputId": "dd1d155b-5708-448b-af82-b30f4ad7bd1b"
   },
   "outputs": [
    {
     "name": "stdout",
     "output_type": "stream",
     "text": [
      "Requirement already satisfied: aco_routing in c:\\users\\makino\\anaconda3\\envs\\decision\\lib\\site-packages (1.0.2)\n"
     ]
    }
   ],
   "source": [
    "!pip install aco_routing"
   ]
  },
  {
   "cell_type": "markdown",
   "id": "f7d1cfd9",
   "metadata": {
    "id": "f7d1cfd9"
   },
   "source": [
    "## ライブラリのインポート"
   ]
  },
  {
   "cell_type": "code",
   "execution_count": 2,
   "id": "4c48a635",
   "metadata": {
    "id": "4c48a635"
   },
   "outputs": [],
   "source": [
    "from aco_routing.utils.graph import Graph\n",
    "from aco_routing.dijkstra import Dijkstra\n",
    "from aco_routing.utils.simulator import Simulator\n",
    "from aco_routing.aco import ACO"
   ]
  },
  {
   "cell_type": "markdown",
   "id": "74b35e4b",
   "metadata": {
    "id": "74b35e4b"
   },
   "source": [
    "## 経路の設定"
   ]
  },
  {
   "cell_type": "code",
   "execution_count": 3,
   "id": "1b4f63c8",
   "metadata": {
    "id": "1b4f63c8"
   },
   "outputs": [],
   "source": [
    "graph = Graph()\n",
    "graph.add_edge(\"0\", \"1\", travel_time=2)\n",
    "graph.add_edge(\"0\", \"2\", travel_time=3)\n",
    "graph.add_edge(\"1\", \"2\", travel_time=3)\n",
    "graph.add_edge(\"1\", \"3\", travel_time=1)\n",
    "graph.add_edge(\"1\", \"4\", travel_time=2)\n",
    "graph.add_edge(\"2\", \"4\", travel_time=2)\n",
    "graph.add_edge(\"3\", \"4\", travel_time=2)\n",
    "graph.add_edge(\"3\", \"5\", travel_time=3)\n",
    "graph.add_edge(\"4\", \"5\", travel_time=1)"
   ]
  },
  {
   "cell_type": "markdown",
   "id": "8b0d31d2",
   "metadata": {
    "id": "8b0d31d2"
   },
   "source": [
    "## スタートとゴールの設定\n",
    "\n",
    "source:スタート、destination:ゴール"
   ]
  },
  {
   "cell_type": "code",
   "execution_count": 4,
   "id": "5de7b65e",
   "metadata": {
    "id": "5de7b65e"
   },
   "outputs": [],
   "source": [
    "source = \"0\"\n",
    "destination = \"5\""
   ]
  },
  {
   "cell_type": "markdown",
   "id": "d3150f07",
   "metadata": {
    "id": "d3150f07"
   },
   "source": [
    "## アントコロニー最適化により求めた経路"
   ]
  },
  {
   "cell_type": "code",
   "execution_count": 5,
   "id": "53eb845c",
   "metadata": {
    "colab": {
     "base_uri": "https://localhost:8080/"
    },
    "id": "53eb845c",
    "outputId": "68bad2b3-c74d-44a9-bbde-c5dbfc292694"
   },
   "outputs": [
    {
     "name": "stdout",
     "output_type": "stream",
     "text": [
      "ACO - path: ['0', '2', '4', '5'], cost: 6.0\n"
     ]
    }
   ],
   "source": [
    "aco = ACO(graph)\n",
    "#aco.max_iterations = 100\n",
    "aco_path, aco_cost = aco.find_shortest_path(source, destination)\n",
    "print(f\"ACO - path: {aco_path}, cost: {aco_cost}\")"
   ]
  },
  {
   "cell_type": "markdown",
   "id": "85e31f8b",
   "metadata": {
    "id": "85e31f8b"
   },
   "source": [
    "## ダイクストラ法により求めた経路"
   ]
  },
  {
   "cell_type": "code",
   "execution_count": 6,
   "id": "f6c024e9",
   "metadata": {
    "colab": {
     "base_uri": "https://localhost:8080/"
    },
    "id": "f6c024e9",
    "outputId": "7e00e09a-3b90-4ad5-eed3-6269a8499499"
   },
   "outputs": [
    {
     "name": "stdout",
     "output_type": "stream",
     "text": [
      "Dijkstra - path: ['0', '1', '4', '5'], cost: 5.0\n"
     ]
    }
   ],
   "source": [
    "dijkstra = Dijkstra(graph)\n",
    "dijkstra_path, dijkstra_cost = dijkstra.find_shortest_path(source, destination)\n",
    "print(f\"Dijkstra - path: {dijkstra_path}, cost: {dijkstra_cost}\")"
   ]
  },
  {
   "cell_type": "code",
   "execution_count": null,
   "id": "307d420a",
   "metadata": {
    "id": "307d420a"
   },
   "outputs": [],
   "source": []
  }
 ],
 "metadata": {
  "colab": {
   "collapsed_sections": [],
   "name": "ch06_aco-routing.ipynb",
   "provenance": []
  },
  "kernelspec": {
   "display_name": "Python 3 (ipykernel)",
   "language": "python",
   "name": "python3"
  },
  "language_info": {
   "codemirror_mode": {
    "name": "ipython",
    "version": 3
   },
   "file_extension": ".py",
   "mimetype": "text/x-python",
   "name": "python",
   "nbconvert_exporter": "python",
   "pygments_lexer": "ipython3",
   "version": "3.8.12"
  }
 },
 "nbformat": 4,
 "nbformat_minor": 5
}
