{
 "cells": [
  {
   "cell_type": "markdown",
   "id": "2577c506",
   "metadata": {
    "id": "2577c506"
   },
   "source": [
    "# 動的計画法によるナップザック問題"
   ]
  },
  {
   "cell_type": "markdown",
   "id": "_sRPQNFukYEc",
   "metadata": {
    "id": "_sRPQNFukYEc"
   },
   "source": [
    "## インストールが必要なライブラリ\n",
    "Anacondaの場合は一度だけ必要となる場合がある"
   ]
  },
  {
   "cell_type": "code",
   "execution_count": 1,
   "id": "Ja95MuolkYEf",
   "metadata": {
    "colab": {
     "base_uri": "https://localhost:8080/"
    },
    "id": "Ja95MuolkYEf",
    "outputId": "32478f43-585b-4657-d265-9e7f0efec46a"
   },
   "outputs": [
    {
     "name": "stdout",
     "output_type": "stream",
     "text": [
      "Requirement already satisfied: numpy in c:\\users\\makino\\anaconda3\\envs\\decision\\lib\\site-packages (1.22.1)\n"
     ]
    }
   ],
   "source": [
    "!pip install numpy"
   ]
  },
  {
   "cell_type": "markdown",
   "id": "LnauReH8kYEg",
   "metadata": {
    "id": "LnauReH8kYEg"
   },
   "source": [
    "## ライブラリのインポート\n",
    "\n"
   ]
  },
  {
   "cell_type": "code",
   "execution_count": 2,
   "id": "2v2swkvekYEh",
   "metadata": {
    "id": "2v2swkvekYEh"
   },
   "outputs": [],
   "source": [
    "import numpy as np"
   ]
  },
  {
   "cell_type": "markdown",
   "id": "e246df33",
   "metadata": {
    "id": "e246df33"
   },
   "source": [
    "## 設定"
   ]
  },
  {
   "cell_type": "code",
   "execution_count": 3,
   "id": "49fa4667",
   "metadata": {
    "id": "49fa4667"
   },
   "outputs": [],
   "source": [
    "w = [8,7,6,5,4,3,2,1]\n",
    "v = [10,13,7,4,9,3,3,2]\n",
    "N = len(w)\n",
    "dp = np.zeros((N+1,10+1), dtype=int)"
   ]
  },
  {
   "cell_type": "markdown",
   "id": "OvA2AN7ArGwO",
   "metadata": {
    "id": "OvA2AN7ArGwO"
   },
   "source": [
    "## 探索"
   ]
  },
  {
   "cell_type": "code",
   "execution_count": 4,
   "id": "93feb76d",
   "metadata": {
    "colab": {
     "base_uri": "https://localhost:8080/"
    },
    "id": "93feb76d",
    "outputId": "0b7e6b69-f9e2-40e6-d508-2bc1e5d6dc0b"
   },
   "outputs": [
    {
     "name": "stdout",
     "output_type": "stream",
     "text": [
      "[[ 0  0  0  0  0  0  0  0  0  0  0]\n",
      " [ 0  0  0  0  0  0  0  0 10 10 10]\n",
      " [ 0  0  0  0  0  0  0 13 13 13 13]\n",
      " [ 0  0  0  0  0  0  7 13 13 13 13]\n",
      " [ 0  0  0  0  0  4  7 13 13 13 13]\n",
      " [ 0  0  0  0  9  9  9 13 13 13 16]\n",
      " [ 0  0  0  3  9  9  9 13 13 13 16]\n",
      " [ 0  0  3  3  9  9 12 13 13 16 16]\n",
      " [ 0  2  3  5  9 11 12 14 15 16 18]]\n"
     ]
    }
   ],
   "source": [
    "for i in range(N):\n",
    "    for j in range(10+1):\n",
    "        if j >= w[i]:\n",
    "            dp[i+1][j] = max(dp[i][j-w[i]]+v[i],dp[i][j])\n",
    "        else:\n",
    "            dp[i+1][j] = dp[i][j]\n",
    "print(dp)"
   ]
  },
  {
   "cell_type": "markdown",
   "id": "Xtr70L8CrJGW",
   "metadata": {
    "id": "Xtr70L8CrJGW"
   },
   "source": [
    "## 答え"
   ]
  },
  {
   "cell_type": "code",
   "execution_count": 5,
   "id": "eed45ae2",
   "metadata": {
    "colab": {
     "base_uri": "https://localhost:8080/"
    },
    "id": "eed45ae2",
    "outputId": "3a67d66b-96d0-44fa-8d60-32026892584f"
   },
   "outputs": [
    {
     "name": "stdout",
     "output_type": "stream",
     "text": [
      "18\n"
     ]
    }
   ],
   "source": [
    "print(dp[N][10])"
   ]
  },
  {
   "cell_type": "code",
   "execution_count": null,
   "id": "c44b354b",
   "metadata": {
    "id": "c44b354b"
   },
   "outputs": [],
   "source": []
  }
 ],
 "metadata": {
  "colab": {
   "collapsed_sections": [],
   "name": "ch06_DP_knapsack.ipynb",
   "provenance": []
  },
  "kernelspec": {
   "display_name": "Python 3 (ipykernel)",
   "language": "python",
   "name": "python3"
  },
  "language_info": {
   "codemirror_mode": {
    "name": "ipython",
    "version": 3
   },
   "file_extension": ".py",
   "mimetype": "text/x-python",
   "name": "python",
   "nbconvert_exporter": "python",
   "pygments_lexer": "ipython3",
   "version": "3.8.12"
  }
 },
 "nbformat": 4,
 "nbformat_minor": 5
}
