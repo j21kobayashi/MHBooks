{
 "cells": [
  {
   "cell_type": "markdown",
   "metadata": {},
   "source": [
    "### 不完全情報ゲームの例: ジジ抜き\n",
    "- ジジ抜きとはババ抜きに類似したゲームであり，違う部分は\n",
    "  ペアにならないカード（ジジ）が事前に各プレイヤーに知らされないことにある。\n",
    "    - 簡略化のため，プレイヤー1がカードを2枚，プレイヤー2がカードを1枚持っている状態からゲームを始めるものとする。\n",
    "    - このとき，ジジにするカードは，ゲームの開始前にランダムに決定される。\n",
    "      - この分布の確率質量関数を $P(a_0)$ で表す。\n",
    "    - プレイヤー1のカード2枚のうち，どれか1枚がジジであり，ペアにはなっていない。\n",
    "    - プレイヤー1は，どのカードがジジなのかわかってない。\n",
    "    - 一方，プレイヤー1のカードがペアにならないことから，プレイヤー2は自身の\n",
    "       カードがジジでないことがわかっている。\n",
    "    - プレイヤー1 の行動は P ${}_0$ ，または P ${}_1$ のいずれかのパターンでカードを並べて持つこと\n",
    "    - プレイヤー2 の行動は L (左のカードをとる)，または R (右のカードをとる)\n",
    "    - プレイヤー $i$ の混合戦略に対応する確率分布を $s_i(a_i)$ で表す。\n",
    "- 以下では，$P(a_0)$, $s_1(a_1)$, $s_2(a_2)$ の確率分布の標本からジジ抜きにおけるプレイヤー1の期待効用の推定値を計算する\n",
    "    - プレイヤー1 の期待効用の定義\n",
    "      $$\n",
    "        E[u_1(a_0, a_1, a_2)] = \\sum_{a_0 \\in A_0} \\sum_{a_1 \\in A_1} \\sum_{a_2 \\in A_2} u_1(a_0, a_1, a_2) P(a_0) s_1(a_1) s_2(a_2)\n",
    "      $$\n",
    "    - K 個の標本値 $(a_{0,k})_{k=1}^{K}$, $(a_{1,k})_{k=1}^{K}$, $(a_{2,k})_{k=1}^{K}$ について，\n",
    "      $u_1(a_{0,k}, a_{1, k}, a_{2, k})$ の算術平均の期待値，分散は次のとおり。\n",
    "      $$\n",
    "        E\\left[ \\dfrac{1}{K} \\sum_{k=1}^K u_1(a_{0,k}, a_{1, k}, a_{2, k})\\right] = E[u(a_0, a_1, a_2)]\n",
    "      $$\n",
    "      $$\n",
    "        V\\left[ \\dfrac{1}{K} \\sum_{k=1}^K u_1(a_{0,k}, a_{1, k}, a_{2, k})\\right] = \\dfrac{1}{K} V[u(a_0, a_1, a_2)]\n",
    "      $$\n",
    "    - したがって，$u_1(a_{0,k}, a_{1, k}, a_{2, k})$ の算術平均は期待効用 $E[u(a_0, a_1, a_2)]$ の推定値となる。(大数の法則)\n",
    "    - ただし，前提として，\n",
    "      - $a_0$，$a_1$，$a_2$ は独立であり\n",
    "      - それぞれの標本値 $(a_{i,k})_{k=1}^{K}$ は，独立かつ同一分布に従う。すなわち，i. i. d. (independent and identically distributed) である。 \n"
   ]
  },
  {
   "cell_type": "code",
   "execution_count": 2,
   "metadata": {},
   "outputs": [
    {
     "name": "stdout",
     "output_type": "stream",
     "text": [
      "Sample expected utility (of player 1): 0.5032\n"
     ]
    }
   ],
   "source": [
    "import itertools \n",
    "import numpy as np\n",
    "import scipy.stats\n",
    "\n",
    "cards = ('L', 'R')\n",
    "patterns = ('P0', 'P1')\n",
    "dict_u_1 = {('L', 'P0', 'L'): 1, # utility of player 1, given outcome (a0, a1, a2)\n",
    "            ('L', 'P0', 'R'): 0,\n",
    "            ('L', 'P1', 'L'): 0,\n",
    "            ('L', 'P1', 'R'): 1,\n",
    "            ('R', 'P0', 'L'): 0,\n",
    "            ('R', 'P0', 'R'): 1,\n",
    "            ('R', 'P1', 'L'): 1,\n",
    "            ('R', 'P1', 'R'): 0}\n",
    "num_repeat = 10000\n",
    "pure_strategy = False # True\n",
    "p0 = 0.6    # probability for R to be Jiji\n",
    "idx_jiji = scipy.stats.bernoulli.rvs(p0, size=num_repeat)\n",
    "a0 = (cards[i] for i in idx_jiji) # chance move\n",
    "\n",
    "if pure_strategy:\n",
    "    a1 = itertools.repeat('P0', num_repeat) # pure strategy\n",
    "    a2 = itertools.repeat('L', num_repeat) # pure strategy\n",
    "else:\n",
    "    s1_P1 = 0.5 # = s_1(a_1 = P_1)\n",
    "    s2_R  = 0.5 # = s_2(a_2 = R)\n",
    "    idx_patt = scipy.stats.bernoulli.rvs(s1_P1, size=num_repeat)\n",
    "    idx_draw = scipy.stats.bernoulli.rvs(s2_R, size=num_repeat)\n",
    "    a1 = (patterns[i] for i in idx_patt) # mixed strategy\n",
    "    a2 = (cards[i] for i in idx_draw) # mixed strategy\n",
    "\n",
    "u = [dict_u_1[c] for c in zip(a0, a1, a2)]\n",
    "print('Sample expected utility (of player 1):', np.mean(u))"
   ]
  },
  {
   "cell_type": "markdown",
   "metadata": {},
   "source": [
    "大数の法則の確認\n",
    "- モデル（母集団 = population の確率分布）に基づく期待効用と標本から求めた期待効用の推定値(sample)を比較する\n",
    "- 以下のセルを正常に実行するには Notebook の最初から順にセルを実行しておく必要がある。"
   ]
  },
  {
   "cell_type": "code",
   "execution_count": 4,
   "metadata": {},
   "outputs": [
    {
     "data": {
      "image/png": "[encoded data removed]",
      "text/plain": [
       "<Figure size 432x288 with 1 Axes>"
      ]
     },
     "metadata": {
      "needs_background": "light"
     },
     "output_type": "display_data"
    }
   ],
   "source": [
    "import matplotlib.pyplot as plt\n",
    "from math import fsum\n",
    "\n",
    "# 純粋/混合戦略の切替\n",
    "pure_strategy = True #False\n",
    "\n",
    "# 偶然手番の確率分布\n",
    "s0 = {'L': 0.4,\n",
    "      'R': 0.6}\n",
    "\n",
    "# プレイヤー1 の混合戦略の確率分布\n",
    "s1 = {'P0': 0.5, \n",
    "      'P1': 0.5}\n",
    "\n",
    "# プレイヤー2 の混合戦略の確率分布\n",
    "s2 = {'L': 0.5,\n",
    "      'R': 0.5}\n",
    "\n",
    "pure_st_a1 = 'P0'\n",
    "pure_st_a2 = 'L'\n",
    "\n",
    "smp_exp_util1_data = []\n",
    "arr_smp_sz = 10**np.arange(7) # 標本のサイズの配列\n",
    "\n",
    "for sz in arr_smp_sz:\n",
    "    idx_jiji = scipy.stats.bernoulli.rvs(s0['R'], size=sz)\n",
    "    a0 = (cards[i] for i in idx_jiji) # chance move\n",
    "\n",
    "    if pure_strategy:\n",
    "        a1 = itertools.repeat(pure_st_a1, sz) # pure strategy\n",
    "        a2 = itertools.repeat(pure_st_a2, sz) # pure strategy\n",
    "    else:\n",
    "        idx_patt = scipy.stats.bernoulli.rvs(s1['P1'], size=sz)\n",
    "        idx_draw = scipy.stats.bernoulli.rvs(s2['R'], size=sz)\n",
    "        a1 = (patterns[i] for i in idx_patt) # mixed strategy\n",
    "        a2 = (cards[i] for i in idx_draw) # mixed strategy\n",
    "\n",
    "    u1_sample = [dict_u_1[c] for c in zip(a0, a1, a2)]\n",
    "    smp_exp_util1_data.append(np.mean(u1_sample))\n",
    "\n",
    "if pure_strategy:\n",
    "    pop_exp_util1 = fsum(dict_u_1[(a0, pure_st_a1, pure_st_a2)]*s0[a0]\n",
    "                        for a0 in s0.keys())\n",
    "\n",
    "else:\n",
    "    pop_exp_util1 = fsum(dict_u_1[(a0, a1, a2)]*s0[a0]*s1[a1]*s2[a2] \n",
    "                        for a0 in s0.keys()\n",
    "                        for a1 in s1.keys()\n",
    "                        for a2 in s2.keys())\n",
    "                        \n",
    "plt.plot(arr_smp_sz, np.full_like(smp_exp_util1_data, pop_exp_util1), linestyle='dashed')\n",
    "plt.plot(arr_smp_sz, smp_exp_util1_data) \n",
    "plt.legend(('population', 'sample'))\n",
    "\n",
    "plt.xlabel('sample size')\n",
    "plt.ylabel('expected util')\n",
    "ax = plt.gca()\n",
    "ax.set_xscale('log')\n",
    "plt.grid(linestyle=':')\n",
    "plt.show()"
   ]
  },
  {
   "cell_type": "markdown",
   "metadata": {},
   "source": [
    "#### 解説\n",
    "- 以下の解説のセルを正常に実行するには Notebook の最初から順にセルを実行しておく必要がある。"
   ]
  },
  {
   "cell_type": "markdown",
   "metadata": {},
   "source": [
    "[`itertools.repeat(v, n)`](https://docs.python.org/ja/3/library/itertools.html#itertools.repeat) は v を n 回だけ出力するイテレータを作る"
   ]
  },
  {
   "cell_type": "code",
   "execution_count": null,
   "metadata": {},
   "outputs": [
    {
     "name": "stdout",
     "output_type": "stream",
     "text": [
      "('Bow-wow', 'Bow-wow', 'Bow-wow')\n"
     ]
    }
   ],
   "source": [
    "import itertools\n",
    "print(tuple(itertools.repeat('Bow-wow', 3)))"
   ]
  },
  {
   "cell_type": "markdown",
   "metadata": {},
   "source": [
    "[`scipy.stats.bernoulli.rvs(q, size=n)`](https://docs.scipy.org/doc/scipy/reference/generated/scipy.stats.bernoulli.html) は ベルヌーイ分布 $P(X| q) = q^X (1 - q)^{1-X}$ \n",
    "に従う確率変数 $X$ の標本値 n 個からなる配列を生成する。ただし， $X \\in \\{0, 1\\}$ 。"
   ]
  },
  {
   "cell_type": "code",
   "execution_count": 5,
   "metadata": {},
   "outputs": [
    {
     "name": "stdout",
     "output_type": "stream",
     "text": [
      "array([1, 1, 1, 1, 0])\n",
      "<generator object <genexpr> at 0x0000027F2DF6D120>\n",
      "('裏', '裏', '裏', '裏', '表')\n"
     ]
    },
    {
     "data": {
      "image/png": "[encoded data removed]",
      "text/plain": [
       "<Figure size 432x288 with 1 Axes>"
      ]
     },
     "metadata": {
      "needs_background": "light"
     },
     "output_type": "display_data"
    }
   ],
   "source": [
    "from scipy.stats import bernoulli\n",
    "\n",
    "outcomes = ('表', '裏') # コイントスの結果\n",
    "q = 0.6 # 歪んだコインを想定する  \n",
    "rnd_idx = bernoulli.rvs(q, size=5) # パラメータが q のベルヌーイ分布に従う標本値の生成\n",
    "print(repr(rnd_idx))\n",
    "gen = (outcomes[i] for i in rnd_idx)\n",
    "print(repr(gen))\n",
    "print(tuple(gen))\n",
    "\n",
    "x = bernoulli.rvs(q, size=10000)\n",
    "ret = plt.hist(x, bins=np.arange(len(outcomes) + 1), align='left', rwidth=0.25)\n",
    "plt.ylabel('Frequency')\n",
    "retval = plt.xlabel('x')"
   ]
  },
  {
   "cell_type": "markdown",
   "metadata": {},
   "source": [
    "[`zip()`](https://docs.python.org/ja/3.9/library/functions.html#zip) は，異なる複数のシーケンスの要素を一斉に取り出して tuple にまとめるイテレータを作る"
   ]
  },
  {
   "cell_type": "code",
   "execution_count": 6,
   "metadata": {},
   "outputs": [
    {
     "name": "stdout",
     "output_type": "stream",
     "text": [
      "['ant, 0, 0xfeed', 'bee, 1, 0xcafe', 'cat, 2, 0xbeef']\n",
      "['ant, 0, 0xfeed', 'bee, 1, 0xcafe', 'cat, 2, 0xbeef']\n",
      "['ant, 0, 0xfeed', 'bee, 1, 0xcafe', 'cat, 2, 0xbeef']\n"
     ]
    }
   ],
   "source": [
    "t0 = ('ant', 'bee', 'cat')\n",
    "t1 = (0, 1, 2)\n",
    "t2 = (0xfeed, 0xcafe, 0xbeef)\n",
    "print([f'{x}, {y}, 0x{z:x}' for x, y, z in zip(t0, t1, t2)])\n",
    "\n",
    "# 等価な他の表現\n",
    "print([f'{x}, {y}, 0x{z:x}' for (x, y, z) in zip(t0, t1, t2)])\n",
    "print([f'{c[0]}, {c[1]}, 0x{c[2]:x}' for c in zip(t0, t1, t2)])"
   ]
  },
  {
   "cell_type": "markdown",
   "metadata": {},
   "source": [
    "[`numpy.full_like(x, val)`](https://numpy.org/doc/stable/reference/generated/numpy.full_like.html) \n",
    "は `x` と同じ shape で，全ての要素が `val` となった配列を作る"
   ]
  },
  {
   "cell_type": "code",
   "execution_count": 7,
   "metadata": {},
   "outputs": [
    {
     "name": "stdout",
     "output_type": "stream",
     "text": [
      "x == array([0, 1, 2, 3, 4])\n",
      "x.shape == (5,)\n",
      "y == array([99, 99, 99, 99, 99])\n",
      "y.shape == (5,)\n"
     ]
    }
   ],
   "source": [
    "x = np.arange(5)\n",
    "y = np.full_like(x, 99)\n",
    "print('x ==', repr(x))\n",
    "print('x.shape ==', repr(x.shape))\n",
    "print('y ==', repr(y))\n",
    "print('y.shape ==', repr(y.shape))"
   ]
  },
  {
   "cell_type": "markdown",
   "metadata": {},
   "source": [
    "\n",
    "[`math.fsum()`](https://docs.python.org/ja/3.9/library/math.html#math.fsum) の引数に\n",
    "[ジェネレータ式](https://docs.python.org/ja/3.8/howto/functional.html#generator-expressions-and-list-comprehensions)\n",
    "を指定すれば総和の式 $\\displaystyle \\sum_{a \\in A} f(a)$ を表現できる。"
   ]
  },
  {
   "cell_type": "code",
   "execution_count": null,
   "metadata": {},
   "outputs": [
    {
     "data": {
      "text/markdown": [
       " $A = $  {0, 1, 2, 3, 4} "
      ]
     },
     "metadata": {},
     "output_type": "display_data"
    },
    {
     "data": {
      "text/markdown": [
       " $\\displaystyle \\sum_{a \\in A} a = $ 10.0"
      ]
     },
     "metadata": {},
     "output_type": "display_data"
    },
    {
     "data": {
      "text/markdown": [
       " $\\displaystyle \\sum_{a \\in A} f(a) = $ 20.0"
      ]
     },
     "metadata": {},
     "output_type": "display_data"
    }
   ],
   "source": [
    "from IPython.display import display_markdown\n",
    "from math import fsum\n",
    "\n",
    "def f(x):\n",
    "    return 2*x\n",
    "\n",
    "A = set(range(5))\n",
    "\n",
    "display_markdown(r' $A = $ ' + f' {A} ', raw=True)\n",
    "\n",
    "display_markdown(r' $\\displaystyle \\sum_{a \\in A} a = $ ' + \n",
    "                f'{ fsum(a for a in A) }', raw=True)\n",
    "\n",
    "display_markdown(r' $\\displaystyle \\sum_{a \\in A} f(a) = $ ' + \n",
    "                f'{ fsum(f(a) for a in A) }', raw=True)"
   ]
  }
 ],
 "metadata": {
  "kernelspec": {
   "display_name": "Python 3.8.13 ('base')",
   "language": "python",
   "name": "python3"
  },
  "language_info": {
   "codemirror_mode": {
    "name": "ipython",
    "version": 3
   },
   "file_extension": ".py",
   "mimetype": "text/x-python",
   "name": "python",
   "nbconvert_exporter": "python",
   "pygments_lexer": "ipython3",
   "version": "3.8.13"
  },
  "orig_nbformat": 4,
  "vscode": {
   "interpreter": {
    "hash": "a077222d77dfe082b8f1dd562ad70e458ac2ab76993a0b248ab0476e32e9e8dd"
   }
  }
 },
 "nbformat": 4,
 "nbformat_minor": 2
}
