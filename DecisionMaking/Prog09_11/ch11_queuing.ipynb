{
 "cells": [
  {
   "cell_type": "markdown",
   "metadata": {},
   "source": [
    "#### 申告額に応じて参加者の順序を決める状況のシミュレーション\n",
    "- 各参加者の真の評価額 $v_i$ が区間 $[v_{\\min}, v_{\\max}]$ 上の一様分布に従って発生すると仮定する。\n",
    "\n",
    "- 参加者全員が申告額 $\\hat{v}_i$ を正直に真の評価額 $v_i$ そのものとする。\n",
    "  $$\n",
    "      \\hat{v}_i = v_i\n",
    "  $$\n",
    "\n",
    "- 整列後の順序を示す番号 $k = \\sigma(i)$ は 申告額 $a_i = \\hat{v}_i$ の大小関係に応じたものとなる。\n",
    "  $$\n",
    "  \\begin{aligned}\n",
    "      \\hat{v}_{(1)} < \\hat{v}_{(2)} < \\cdots < \\hat{v}_{(k)} < \\cdots < \\hat{v}_{(n)} \\\\\n",
    "  \\end{aligned}\n",
    "  $$\n"
   ]
  },
  {
   "cell_type": "code",
   "execution_count": 1,
   "metadata": {},
   "outputs": [
    {
     "data": {
      "text/markdown": [
       "$\\hat{v}_i$: array([7.94960894, 4.58636232, 6.42718392, 8.68756151, 5.53368073])"
      ]
     },
     "metadata": {},
     "output_type": "display_data"
    },
    {
     "name": "stdout",
     "output_type": "stream",
     "text": [
      "original index: [0 1 2 3 4]\n",
      "sorted index: [1 4 2 0 3]\n"
     ]
    },
    {
     "data": {
      "text/markdown": [
       "$\\hat{v}_{(k)}$: array([4.58636232, 5.53368073, 6.42718392, 7.94960894, 8.68756151])"
      ]
     },
     "metadata": {},
     "output_type": "display_data"
    },
    {
     "data": {
      "text/markdown": [
       "$\\sigma(i)$: array([3, 0, 2, 4, 1])"
      ]
     },
     "metadata": {},
     "output_type": "display_data"
    },
    {
     "data": {
      "image/png": "[encoded data removed]",
      "text/plain": [
       "<Figure size 432x288 with 1 Axes>"
      ]
     },
     "metadata": {
      "needs_background": "light"
     },
     "output_type": "display_data"
    }
   ],
   "source": [
    "import numpy as np\n",
    "from scipy.stats import uniform\n",
    "import matplotlib.pyplot as plt\n",
    "from IPython.display import display_markdown\n",
    "\n",
    "num_bidders = 5 \n",
    "vmin, vmax = (0, 10)\n",
    "v = uniform.rvs(loc=vmin, scale=(vmax - vmin), size=num_bidders)\n",
    "v_hat = v # 正直な申告\n",
    "sort_axis = 0\n",
    "idx = np.argsort(v_hat, axis=sort_axis)\n",
    "v_hat_k = np.take_along_axis(v_hat, idx, axis=sort_axis)\n",
    "\n",
    "display_markdown(r'$\\hat{v}_i$: ' + repr(v_hat), raw=True)\n",
    "print('original index:', np.arange(num_bidders))\n",
    "print('sorted index:', idx)\n",
    "display_markdown(r'$\\hat{v}_{(k)}$: ' + repr(v_hat_k), raw=True)\n",
    "\n",
    "sigma = {idx[k]: k for k in range(num_bidders)}\n",
    "sigma_arr = np.array([sigma[i] for i in range(num_bidders)])\n",
    "display_markdown(r'$\\sigma(i)$: ' + repr(sigma_arr), raw=True)\n",
    "\n",
    "plt.rcParams['mathtext.fontset'] = 'stix'\n",
    "plt.rcParams['ytick.labelsize'] = 'xx-large' #'large'\n",
    "plt.rcParams['xtick.labelsize'] = 'xx-large' #'large'\n",
    "plt.rcParams['axes.labelsize']  = 'xx-large' #'large'\n",
    "\n",
    "h = np.full_like(v, fill_value=1)\n",
    "plt.stem(v, h)\n",
    "ax = plt.gca()\n",
    "\n",
    "x_margin = (vmax - vmin)*0.1\n",
    "ax.set_xlim(vmin - x_margin, vmax+vmin + x_margin)\n",
    "ax.set_ylim(0, 1.2*h[0])\n",
    "\n",
    "# ax.set_xlim(vmin, vmax+vmin)\n",
    "# ax.set_ylim(0, 1.2*h[0])\n",
    "arrowprops = dict(mutation_scale=20,\n",
    "                  linewidth=2,\n",
    "                  arrowstyle='-|>',\n",
    "                  color='k',\n",
    "                  zorder=5)\n",
    "\n",
    "for i, (vi, hi) in enumerate(zip(v, h), start=0):\n",
    "    ax.annotate('$\\hat{v}_{'+ f'{i}'+ '}$', xy=(vi, hi),\n",
    "                xytext=(-3, 3), textcoords=\"offset points\",\n",
    "                horizontalalignment=\"right\",\n",
    "                verticalalignment=\"bottom\", fontsize='xx-large')\n",
    "\n",
    "for v, s in zip((vmin, vmax), (r'\\min', r'\\max')):\n",
    "    ax.annotate('$\\hat{v}_{' + s + '}$', xy=(v, 0),\n",
    "                xytext=(0, 30), textcoords=\"offset points\",\n",
    "                horizontalalignment=\"center\",\n",
    "                verticalalignment=\"bottom\", fontsize='xx-large',\n",
    "                arrowprops=arrowprops)\n",
    "\n",
    "plt.xlabel('value')\n",
    "ax.yaxis.set_visible(False)\n",
    "plt.savefig('queuing_values.pdf', bbox_inches='tight')\n",
    "plt.show()"
   ]
  },
  {
   "cell_type": "markdown",
   "metadata": {},
   "source": [
    "#### 解説\n",
    "- 以下の解説のセルを正常に実行するには Notebook の最初から順にセルを実行しておく必要がある。"
   ]
  },
  {
   "cell_type": "markdown",
   "metadata": {},
   "source": [
    "[`uniform.rvs(loc=vmin, scale=(vmax - vmin), size=n)`](https://docs.scipy.org/doc/scipy/reference/generated/scipy.stats.uniform.html)\n",
    "は区間 $[v_{\\min}, v_{\\max}]$ 上の一様分布  \n",
    "\n",
    "$$\n",
    "f(v) = \\dfrac{1}{v_{\\max} - v_{\\min}} \n",
    "$$ \n",
    "\n",
    "に独立に従う `n` 個の標本値の配列を作る。"
   ]
  },
  {
   "cell_type": "code",
   "execution_count": 2,
   "metadata": {},
   "outputs": [
    {
     "data": {
      "image/png": "[encoded data removed]",
      "text/plain": [
       "<Figure size 432x288 with 1 Axes>"
      ]
     },
     "metadata": {
      "needs_background": "light"
     },
     "output_type": "display_data"
    }
   ],
   "source": [
    "from scipy.stats import uniform\n",
    "import matplotlib.pyplot as plt\n",
    "\n",
    "n = 10000\n",
    "vmin, vmax = (0, 10)\n",
    "v = uniform.rvs(loc=vmin, scale=(vmax - vmin), size=n)\n",
    "retval = plt.hist(v, bins=15, density=True, histtype='stepfilled', alpha=0.2)"
   ]
  },
  {
   "cell_type": "markdown",
   "metadata": {},
   "source": [
    "配列の要素の昇順への並べ替えは，\n",
    "[`numpy.argsort()`](https://numpy.org/doc/stable/reference/generated/numpy.argsort.html)\n",
    "と \n",
    "[`numpy.take_along_axis()`](https://numpy.org/doc/stable/reference/generated/numpy.take_along_axis.html)\n",
    "の組合せで実現できる。"
   ]
  },
  {
   "cell_type": "code",
   "execution_count": 3,
   "metadata": {},
   "outputs": [
    {
     "name": "stdout",
     "output_type": "stream",
     "text": [
      "idx == array([4, 3, 2, 1, 0], dtype=int64)\n",
      "v_hat == array([99, 77, 55, 33, 11])\n",
      "v_hat_k == array([11, 33, 55, 77, 99])\n"
     ]
    }
   ],
   "source": [
    "import numpy as np\n",
    "v_hat = np.array([99, 77, 55, 33, 11])\n",
    "idx = np.argsort(v_hat, axis=0)\n",
    "print('idx ==', repr(idx))\n",
    "v_hat_k = np.take_along_axis(v_hat, idx, axis=0)\n",
    "print('v_hat ==', repr(v_hat))\n",
    "print('v_hat_k ==', repr(v_hat_k))\n"
   ]
  }
 ],
 "metadata": {
  "interpreter": {
   "hash": "a077222d77dfe082b8f1dd562ad70e458ac2ab76993a0b248ab0476e32e9e8dd"
  },
  "kernelspec": {
   "display_name": "Python 3.8.5 ('base')",
   "language": "python",
   "name": "python3"
  },
  "language_info": {
   "codemirror_mode": {
    "name": "ipython",
    "version": 3
   },
   "file_extension": ".py",
   "mimetype": "text/x-python",
   "name": "python",
   "nbconvert_exporter": "python",
   "pygments_lexer": "ipython3",
   "version": "3.8.13"
  },
  "orig_nbformat": 4
 },
 "nbformat": 4,
 "nbformat_minor": 2
}
