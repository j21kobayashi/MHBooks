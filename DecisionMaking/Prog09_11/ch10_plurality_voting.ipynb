{
 "cells": [
  {
   "cell_type": "markdown",
   "metadata": {},
   "source": [
    "### 単純多数決(単記投票)による選好プロファイルの集約\n",
    "- 選択肢の集合を $O = \\{a, b, c\\}$ とする。\n",
    "- 各投票者は自身の選好順序において最上位の選択肢に対して，1票だけ投票する。\n",
    "- 結果として得票数が多い順に選択肢を並べたときの順序を社会選好順序とする。"
   ]
  },
  {
   "cell_type": "code",
   "execution_count": 1,
   "metadata": {},
   "outputs": [
    {
     "data": {
      "text/markdown": [
       "voter 0: &emsp;a $\\succ$ b $\\succ$ c  \n",
       "voter 1: &emsp;a $\\succ$ b $\\succ$ c  \n",
       "voter 2: &emsp;a $\\succ$ b $\\succ$ c  \n",
       "voter 3: &emsp;a $\\succ$ b $\\succ$ c  \n",
       "voter 4: &emsp;a $\\succ$ b $\\succ$ c  \n",
       "$\\quad \\vdots$"
      ]
     },
     "metadata": {},
     "output_type": "display_data"
    },
    {
     "name": "stdout",
     "output_type": "stream",
     "text": [
      "votes:  {'a': 86, 'b': 77, 'c': 35}\n"
     ]
    },
    {
     "data": {
      "text/markdown": [
       "a $\\succ$ b $\\succ$ c:&emsp; 30 voters  \n",
       "a $\\succ$ c $\\succ$ b:&emsp; 56 voters  \n",
       "c $\\succ$ a $\\succ$ b:&emsp; 7 voters  \n",
       "c $\\succ$ b $\\succ$ a:&emsp; 28 voters  \n",
       "b $\\succ$ c $\\succ$ a:&emsp; 62 voters  \n",
       "b $\\succ$ a $\\succ$ c:&emsp; 15 voters"
      ]
     },
     "metadata": {},
     "output_type": "display_data"
    },
    {
     "data": {
      "text/markdown": [
       "social order: &emsp;a $\\succ$ b $\\succ$ c"
      ]
     },
     "metadata": {},
     "output_type": "display_data"
    },
    {
     "data": {
      "image/png": "[encoded data removed]",
      "text/plain": [
       "<Figure size 432x288 with 1 Axes>"
      ]
     },
     "metadata": {
      "needs_background": "light"
     },
     "output_type": "display_data"
    },
    {
     "data": {
      "image/png": "[encoded data removed]",
      "text/plain": [
       "<Figure size 432x288 with 1 Axes>"
      ]
     },
     "metadata": {
      "needs_background": "light"
     },
     "output_type": "display_data"
    }
   ],
   "source": [
    "import itertools as it\n",
    "import numpy as np\n",
    "# from scipy.stats import randint\n",
    "import scipy.stats\n",
    "import matplotlib.pyplot as plt\n",
    "from IPython.display import display_markdown\n",
    "\n",
    "plt.rcParams['ytick.labelsize'] = 'xx-large' #'large'\n",
    "plt.rcParams['xtick.labelsize'] = 'xx-large' #'large'\n",
    "plt.rcParams['axes.labelsize'] = 'xx-large' #'large'\n",
    "\n",
    "alternatives = ('a', 'b', 'c') \n",
    "prefs = np.array(tuple(it.permutations(alternatives)))\n",
    "\n",
    "if True: # 選好タイプごとの集計に従ってプロファイルを生成する場合\n",
    "    # tally = {('a', 'b', 'c'): 37,\n",
    "    #          ('a', 'c', 'b'): 37,\n",
    "    #          ('c', 'a', 'b'): 24,\n",
    "    #          ('c', 'b', 'a'): 23,\n",
    "    #          ('b', 'c', 'a'): 41,\n",
    "    #          ('b', 'a', 'c'): 18}\n",
    "\n",
    "    tally = {('a', 'b', 'c'): 30,\n",
    "             ('a', 'c', 'b'): 56,\n",
    "             ('c', 'a', 'b'): 7,\n",
    "             ('c', 'b', 'a'): 28,\n",
    "             ('b', 'c', 'a'): 62,\n",
    "             ('b', 'a', 'c'): 15}\n",
    "\n",
    "    profile = np.array(tuple(it.chain.from_iterable(it.repeat(p, v) for p, v in tally.items())))\n",
    "\n",
    "else: # 一様分布に従う確率変数によってプロファイルを生成する場合\n",
    "    num_voters = 100 #5 #0\n",
    "    profile_idx = scipy.stats.randint.rvs(0, len(prefs), size=num_voters)\n",
    "    profile = prefs[profile_idx]\n",
    "\n",
    "    tally = {tuple(p): 0 for p in prefs}\n",
    "    for p in profile:\n",
    "        tally[tuple(p)] += 1\n",
    "\n",
    "pref_str = lambda p: r' $\\succ$ '.join(p)\n",
    "display_markdown('  \\n'.join(f'voter {i}: &emsp;' + pref_str(p) for i, p in enumerate(profile) if i < 5)\n",
    "                 + '  \\n' + r'$\\quad \\vdots$', raw=True)\n",
    "votes = {x: 0 for x in alternatives}\n",
    "pos = 0 #\n",
    "for x in profile[:, pos]:\n",
    "    votes[x] += 1\n",
    "print('votes: ', votes)\n",
    "\n",
    "display_markdown('  \\n'.join(pref_str(k) + f':&emsp;{v: 2d} voters' for k,v in tally.items()), raw=True)\n",
    "\n",
    "\n",
    "idx = np.argsort(tuple(votes.values()))\n",
    "display_markdown('social order: &emsp;' + pref_str(np.array(tuple(votes.keys()))[idx[::-1]]), raw=True)\n",
    "# 単純化のため，得票数が等しい場合は考慮しない\n",
    "\n",
    "plt.figure()\n",
    "plt.bar(votes.keys(), votes.values())\n",
    "\n",
    "plt.figure()\n",
    "plt.barh(np.arange(len(tally.keys()))[::-1], \n",
    "         np.array(tuple(tally.values())),\n",
    "         tick_label=[pref_str(k) for k in tally.keys()])\n",
    "lb = plt.xlabel('num. vorters, $n$')"
   ]
  },
  {
   "cell_type": "markdown",
   "metadata": {},
   "source": [
    "#### 解説\n",
    "- 以下の解説のセルを正常に実行するには Notebook の最初から順にセルを実行しておく必要がある。\n"
   ]
  },
  {
   "cell_type": "markdown",
   "metadata": {},
   "source": [
    "選択肢を並べたシーケンス  `('a', 'b', 'c')` で選好順序を表現する。シーケンスにおける要素のインデックスが小さいほど，その要素の優先度が高いことを示すものとする。"
   ]
  },
  {
   "cell_type": "code",
   "execution_count": 51,
   "metadata": {},
   "outputs": [
    {
     "data": {
      "text/markdown": [
       "a $\\succ$ b $\\succ$ c"
      ]
     },
     "metadata": {},
     "output_type": "display_data"
    }
   ],
   "source": [
    "display_markdown(pref_str(('a', 'b', 'c')), raw=True)"
   ]
  },
  {
   "cell_type": "markdown",
   "metadata": {},
   "source": [
    "選好の記号 $\\succ$ は `print()` では表示できないため，\n",
    "[LaTeX の数式表記](https://colab.research.google.com/notebooks/markdown_guide.ipynb)\n",
    "を含む\n",
    "[Markdown](https://ja.wikipedia.org/wiki/Markdown)  \n",
    "の文字列を生成し，\n",
    "[`display_markdown()`](https://ipython.readthedocs.io/en/stable/api/generated/IPython.display.html#IPython.display.display_markdown)\n",
    "で表示する。\n"
   ]
  },
  {
   "cell_type": "markdown",
   "metadata": {},
   "source": [
    "選好タイプごとの集計データ `tally` からのプロファイルの生成\n",
    "```Python\n",
    "    profile = np.array(tuple(it.chain.from_iterable(it.repeat(p, v) for p, v in tally.items())))\n",
    "```\n",
    "は次のように分解でき，`tally` の各 `key` ( `('a', 'b', 'c')`, `('a', 'c', 'b')`, ...) が，対応する `value` の値の個数 (30，56, ...)の分だけ並んだ配列となる。"
   ]
  },
  {
   "cell_type": "code",
   "execution_count": 2,
   "metadata": {},
   "outputs": [
    {
     "name": "stdout",
     "output_type": "stream",
     "text": [
      "r ==  (repeat(('a', 'b', 'c'), 30), repeat(('a', 'c', 'b'), 56), repeat(('c', 'a', 'b'), 7), repeat(('c', 'b', 'a'), 28), repeat(('b', 'c', 'a'), 62), repeat(('b', 'a', 'c'), 15))\n",
      "r[0] ==  repeat(('a', 'b', 'c'), 30)\n",
      "t == (('a', 'b', 'c'), ('a', 'b', 'c'), ('a', 'b', 'c'), ('a', 'b', 'c'), ('a', 'b', 'c'), ('a', 'b', 'c'), ('a', 'b', 'c'), ('a', 'b', 'c'), ('a', 'b', 'c'), ('a', 'b', 'c'), ('a', 'b', 'c'), ('a', 'b', 'c'), ('a', 'b', 'c'), ('a', 'b', 'c'), ('a', 'b', 'c'), ('a', 'b', 'c'), ('a', 'b', 'c'), ('a', 'b', 'c'), ('a', 'b', 'c'), ('a', 'b', 'c'), ('a', 'b', 'c'), ('a', 'b', 'c'), ('a', 'b', 'c'), ('a', 'b', 'c'), ('a', 'b', 'c'), ('a', 'b', 'c'), ('a', 'b', 'c'), ('a', 'b', 'c'), ('a', 'b', 'c'), ('a', 'b', 'c'))\n",
      "len(t) == 30\n",
      "profile.shape == (198, 3)\n",
      "sum(tally.values()) == 198\n"
     ]
    }
   ],
   "source": [
    "tally = {('a', 'b', 'c'): 30,\n",
    "         ('a', 'c', 'b'): 56,\n",
    "         ('c', 'a', 'b'): 7,\n",
    "         ('c', 'b', 'a'): 28,\n",
    "         ('b', 'c', 'a'): 62,\n",
    "         ('b', 'a', 'c'): 15}\n",
    "\n",
    "profile = np.array(tuple(it.chain.from_iterable(it.repeat(p, v) for p, v in tally.items())))\n",
    "\n",
    "r = tuple(it.repeat(p, v) for p, v in tally.items())\n",
    "print('r == ', r) # イテレータの tuple\n",
    "print('r[0] == ', r[0]) # イテレータ\n",
    "t = tuple(r[0])\n",
    "print('t ==', t) # イテレータから得られた要素を並べた tuple\n",
    "print('len(t) ==', len(t)) # \n",
    "print('profile.shape ==', profile.shape)\n",
    "print('sum(tally.values()) ==', sum(tally.values()))"
   ]
  },
  {
   "cell_type": "markdown",
   "metadata": {},
   "source": [
    "ありうる全ての選好タイプは，選択肢を並べて作れる全ての順列に対応する。"
   ]
  },
  {
   "cell_type": "code",
   "execution_count": 3,
   "metadata": {},
   "outputs": [
    {
     "name": "stdout",
     "output_type": "stream",
     "text": [
      "array([['a', 'b', 'c'],\n",
      "       ['a', 'c', 'b'],\n",
      "       ['b', 'a', 'c'],\n",
      "       ['b', 'c', 'a'],\n",
      "       ['c', 'a', 'b'],\n",
      "       ['c', 'b', 'a']], dtype='<U1')\n"
     ]
    }
   ],
   "source": [
    "prefs = np.array(tuple(it.permutations(alternatives)))\n",
    "print(repr(prefs))"
   ]
  },
  {
   "cell_type": "markdown",
   "metadata": {},
   "source": [
    "numpy 配列の \n",
    "[integer array indexing](https://numpy.org/doc/stable/user/basics.indexing.html#integer-array-indexing)\n",
    "を利用すれば，一様分布に従う確率変数によって，ランダムに配列の要素を並べた配列を作れる\n"
   ]
  },
  {
   "cell_type": "code",
   "execution_count": 4,
   "metadata": {},
   "outputs": [
    {
     "name": "stdout",
     "output_type": "stream",
     "text": [
      "prefs[idx] == \n",
      "array([['a', 'b', 'c'],\n",
      "       ['a', 'b', 'c'],\n",
      "       ['a', 'b', 'c'],\n",
      "       ['b', 'a', 'c'],\n",
      "       ['b', 'a', 'c']], dtype='<U1')\n",
      "prefs[idx].shape == (5, 3)\n",
      "len(idx) == 5\n",
      "\n",
      "prefs[rnd_idx] == \n",
      "array([['a', 'c', 'b'],\n",
      "       ['a', 'c', 'b'],\n",
      "       ['a', 'c', 'b'],\n",
      "       ['b', 'c', 'a'],\n",
      "       ['a', 'c', 'b'],\n",
      "       ['c', 'a', 'b'],\n",
      "       ['c', 'a', 'b'],\n",
      "       ['b', 'c', 'a'],\n",
      "       ['b', 'c', 'a'],\n",
      "       ['c', 'a', 'b']], dtype='<U1')\n",
      "prefs[rnd_idx].shape == (10, 3)\n",
      "len(rnd_idx) == 10\n",
      "\n",
      "toss_out[rnd_idx2] == \n",
      "array(['表', '裏', '裏', '表', '裏', '表', '裏', '裏'], dtype='<U1')\n"
     ]
    }
   ],
   "source": [
    "from scipy.stats import randint\n",
    "\n",
    "idx = np.array((0, 0, 0,  2, 2))\n",
    "print('prefs[idx] == \\n' + repr(prefs[idx]))\n",
    "print('prefs[idx].shape ==', prefs[idx].shape)\n",
    "print('len(idx) ==', len(idx))\n",
    "\n",
    "print()\n",
    "rnd_idx = randint.rvs(0, len(prefs), size=10)\n",
    "print('prefs[rnd_idx] == \\n' + repr(prefs[rnd_idx]))\n",
    "print('prefs[rnd_idx].shape ==', prefs[rnd_idx].shape)\n",
    "print('len(rnd_idx) ==', len(rnd_idx))\n",
    "\n",
    "print()\n",
    "toss_out = np.array(('表', '裏'))\n",
    "rnd_idx2 = randint.rvs(0, len(toss_out), size=8)\n",
    "print('toss_out[rnd_idx2] == \\n' +  repr(toss_out[rnd_idx2]))"
   ]
  },
  {
   "cell_type": "markdown",
   "metadata": {},
   "source": [
    "集計データ\n",
    "```Python\n",
    "votes = {x: 0 for x in alternatives}\n",
    "```\n",
    "について，[辞書内包表記](https://docs.python.org/ja/3/glossary.html#term-dictionary-comprehension)\n",
    "によって，初期化を行っている。"
   ]
  },
  {
   "cell_type": "code",
   "execution_count": 2,
   "metadata": {},
   "outputs": [
    {
     "name": "stdout",
     "output_type": "stream",
     "text": [
      "{'a': 0, 'b': 0, 'c': 0}\n"
     ]
    }
   ],
   "source": [
    "votes = {x: 0 for x in ('a', 'b', 'c')}\n",
    "print(votes)"
   ]
  },
  {
   "cell_type": "markdown",
   "metadata": {},
   "source": [
    "上記のプログラムにおいて，社会選好順序を表示する処理\n",
    "```Python\n",
    "    idx = np.argsort(tuple(votes.values()))\n",
    "    display_markdown('social order: &emsp;' + pref_str(np.array(tuple(votes.keys()))[idx[::-1]]), raw=True)\n",
    "```\n",
    "では，得票数が多い順に選択肢を並べるために，\n",
    "[`numpy.argsort`](https://numpy.org/doc/stable/reference/generated/numpy.argsort.html)\n",
    "と \n",
    "[integer array indexing](https://numpy.org/doc/stable/user/basics.indexing.html#integer-array-indexing)\n",
    "を利用している。"
   ]
  },
  {
   "cell_type": "code",
   "execution_count": 25,
   "metadata": {},
   "outputs": [
    {
     "name": "stdout",
     "output_type": "stream",
     "text": [
      "votes.values() ==  dict_values([11, 33, 22])\n",
      "votes.keys() ==  dict_keys(['a', 'b', 'c'])\n",
      "arr_vals ==  array([11, 33, 22])\n",
      "arr_keys ==  array(['a', 'b', 'c'], dtype='<U1')\n",
      "\n",
      "idx ==  array([0, 2, 1], dtype=int64)\n",
      "idx[::-1] ==  array([1, 2, 0], dtype=int64)\n",
      "\n",
      "昇順に並べる\n",
      "arr_vals[idx] ==  array([11, 22, 33])\n",
      "arr_keys[idx] ==  array(['a', 'c', 'b'], dtype='<U1')\n",
      "\n",
      "降順に並べる\n",
      "arr_vals[idx[::-1]] ==  array([33, 22, 11])\n",
      "arr_keys[idx[::-1]] ==  array(['b', 'c', 'a'], dtype='<U1')\n"
     ]
    }
   ],
   "source": [
    "import numpy as np\n",
    "\n",
    "votes = {'a': 11, 'b': 33, 'c': 22}\n",
    "print('votes.values() == ', votes.values())\n",
    "print('votes.keys() == ', votes.keys())\n",
    "arr_keys = np.array(tuple(votes.keys()))\n",
    "arr_vals = np.array(tuple(votes.values()))\n",
    "print('arr_vals == ', repr(arr_vals))\n",
    "print('arr_keys == ', repr(arr_keys))\n",
    "print()\n",
    "\n",
    "idx = np.argsort(arr_vals)\n",
    "print('idx == ', repr(idx))\n",
    "print('idx[::-1] == ', repr(idx[::-1]))\n",
    "\n",
    "print('\\n昇順に並べる')\n",
    "print('arr_vals[idx] == ', repr(arr_vals[idx])) # 昇順\n",
    "print('arr_keys[idx] == ', repr(arr_keys[idx])) # 昇順\n",
    "\n",
    "print('\\n降順に並べる')\n",
    "print('arr_vals[idx[::-1]] == ', repr(arr_vals[idx[::-1]])) # 降順\n",
    "print('arr_keys[idx[::-1]] == ', repr(arr_keys[idx[::-1]])) # 降順\n",
    "\n"
   ]
  }
 ],
 "metadata": {
  "kernelspec": {
   "display_name": "Python 3.8.13 ('base')",
   "language": "python",
   "name": "python3"
  },
  "language_info": {
   "codemirror_mode": {
    "name": "ipython",
    "version": 3
   },
   "file_extension": ".py",
   "mimetype": "text/x-python",
   "name": "python",
   "nbconvert_exporter": "python",
   "pygments_lexer": "ipython3",
   "version": "3.8.13"
  },
  "orig_nbformat": 4,
  "vscode": {
   "interpreter": {
    "hash": "a077222d77dfe082b8f1dd562ad70e458ac2ab76993a0b248ab0476e32e9e8dd"
   }
  }
 },
 "nbformat": 4,
 "nbformat_minor": 2
}
