{
 "cells": [
  {
   "cell_type": "markdown",
   "metadata": {},
   "source": [
    "#### 基本的な論理演算子に関する真理値表の生成"
   ]
  },
  {
   "cell_type": "code",
   "execution_count": 1,
   "metadata": {},
   "outputs": [
    {
     "data": {
      "text/html": [
       "\n",
       "    <html><style> \n",
       "    table, th, tr, td { \n",
       "        border-collapse: collapse; border: 2px; border-style: solid; \n",
       "    }\n",
       "    </style></html>\n",
       "    "
      ]
     },
     "metadata": {},
     "output_type": "display_data"
    },
    {
     "data": {
      "text/markdown": [
       "|$A$|$B$|$\\lnot A$|$A \\land B$|$A \\lor B$|$A \\oplus B$ |$A \\Rightarrow B$|$A \\Leftrightarrow B$|\n",
       "|---|---|---|---|---|---|---|---|\n",
       "|T|T|F|T|T|F|T|T|\n",
       "|T|F|F|F|T|T|F|F|\n",
       "|F|T|T|F|T|T|T|F|\n",
       "|F|F|T|F|F|F|T|T|"
      ]
     },
     "metadata": {},
     "output_type": "display_data"
    }
   ],
   "source": [
    "import itertools as it\n",
    "from IPython.display import display_markdown\n",
    "from IPython.display import display_html\n",
    "\n",
    "display_html('''\n",
    "    <html><style> \n",
    "    table, th, tr, td { \n",
    "        border-collapse: collapse; border: 2px; border-style: solid; \n",
    "    }\n",
    "    </style></html>\n",
    "    ''', raw=True)\n",
    "\n",
    "imply = lambda x, y: (not x) or y\n",
    "equiv = lambda x, y: x == y\n",
    "s_repr = lambda x: repr(x)[0:1] # 'T' for True, 'F' for False\n",
    "\n",
    "headings = ('$A$', '$B$', r'$\\lnot A$', r'$A \\land B$', \n",
    "            r'$A \\lor B$', r'$A \\oplus B$ ', \n",
    "            r'$A \\Rightarrow B$', r'$A \\Leftrightarrow B$')\n",
    "\n",
    "display_markdown(\n",
    "    '|' + '|'.join(headings) + '|\\n' + \n",
    "    '|' + '|'.join('---' for h in headings) + '|\\n' + \n",
    "    '|\\n'.join(\n",
    "        '|' + s_repr(a) + '|' + s_repr(b) + \n",
    "        '|' + s_repr(not a) +\n",
    "        '|' + s_repr(a and b) +\n",
    "        '|' + s_repr(a or  b) +\n",
    "        '|' + s_repr(a ^ b) +\n",
    "        '|' + s_repr(imply(a, b)) +\n",
    "        '|' + s_repr(equiv(a, b)) \n",
    "        for a, b in it.product((True, False), repeat=2)) + \n",
    "    '|', raw=True)"
   ]
  }
 ],
 "metadata": {
  "kernelspec": {
   "display_name": "Python 3.8.13 ('base')",
   "language": "python",
   "name": "python3"
  },
  "language_info": {
   "codemirror_mode": {
    "name": "ipython",
    "version": 3
   },
   "file_extension": ".py",
   "mimetype": "text/x-python",
   "name": "python",
   "nbconvert_exporter": "python",
   "pygments_lexer": "ipython3",
   "version": "3.8.13"
  },
  "orig_nbformat": 4,
  "vscode": {
   "interpreter": {
    "hash": "a077222d77dfe082b8f1dd562ad70e458ac2ab76993a0b248ab0476e32e9e8dd"
   }
  }
 },
 "nbformat": 4,
 "nbformat_minor": 2
}
