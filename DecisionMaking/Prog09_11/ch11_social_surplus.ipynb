{
 "cells": [
  {
   "cell_type": "markdown",
   "metadata": {},
   "source": [
    "#### 準線形効用設定の下でのパレート効率性 (社会的余剰)\n",
    "- 財が2個あり，必ず参加者のうちの誰か2人に1個ずつ財を配分する場合を想定する。\n",
    "  - したがって，あり得る財の配分は $x_{\\alpha} = (0, 1, 1), x_{\\beta} = (1, 0, 1), x_{\\gamma} = (1, 1, 0)$ \n",
    "    となる。\n",
    "- 各参加者による財の評価額は，一様分布に従って決まると仮定する。\n",
    "- 社会的余剰 $\\displaystyle \\sum_{i \\in N} v_i(x) $ が最大となる配分 $x$ がパレート効率的な財の配分となる。"
   ]
  },
  {
   "cell_type": "code",
   "execution_count": 1,
   "metadata": {},
   "outputs": [
    {
     "data": {
      "text/markdown": [
       "v = array([8.53151112, 4.2420706 , 3.79402908])  \n",
       "social surplus:  \n",
       " &emsp; $\\displaystyle \\sum_{i \\in N} v_i(x_\\alpha) = 8.036099678735042$  \n",
       " &emsp; $\\displaystyle \\sum_{i \\in N} v_i(x_\\beta) = 12.325540192974701$  \n",
       " &emsp; $\\displaystyle \\sum_{i \\in N} v_i(x_\\gamma) = 12.773581718484484$  \n",
       "winner (Pareto-efficient allocation): $x_\\gamma$  \n"
      ]
     },
     "metadata": {},
     "output_type": "display_data"
    }
   ],
   "source": [
    "import numpy as np\n",
    "from scipy.stats import uniform\n",
    "import matplotlib.pyplot as plt\n",
    "from IPython.display import display_markdown\n",
    "\n",
    "num_bidders = 3 # 参加者人数\n",
    "alternatives = (r'\\alpha', r'\\beta', r'\\gamma')\n",
    "\n",
    "# 財の配分, possible allocations of goods (num. of goods = 2)\n",
    "# x[i] == 1 であれば，参加者 i に配分あり\n",
    "x_al = (0, 1, 1) \n",
    "x_bt = (1, 0, 1)\n",
    "x_gm = (1, 1, 0)\n",
    "X = (x_al, x_bt, x_gm)\n",
    "\n",
    "# 各参加者による財の評価額（一様分布に従って発生するものと仮定する）\n",
    "vmin, vmax = (0, 10)\n",
    "v = uniform.rvs(loc=vmin, scale=(vmax - vmin), size=num_bidders)\n",
    "\n",
    "# 社会的余剰 (social surplus)\n",
    "sp = np.array([np.sum([v[i] if x_i == 1 else 0 for i, x_i in enumerate(x)]) for x in X])\n",
    "sort_axis = 0\n",
    "idx = np.argsort(sp, axis=sort_axis)\n",
    "\n",
    "md_txt = f'v = {repr(v)}  \\n'  \n",
    "md_txt += 'social surplus:  \\n'\n",
    "\n",
    "for i, a in enumerate(alternatives):\n",
    "    md_txt += r' &emsp; $\\displaystyle \\sum_{i \\in N} v_i(x_' + f'{a}) = {sp[i]}$  \\n'\n",
    "md_txt += 'winner (Pareto-efficient allocation): $x_' + alternatives[idx[-1]] + '$  \\n'\n",
    "display_markdown(md_txt, raw=True)\n"
   ]
  }
 ],
 "metadata": {
  "interpreter": {
   "hash": "a077222d77dfe082b8f1dd562ad70e458ac2ab76993a0b248ab0476e32e9e8dd"
  },
  "kernelspec": {
   "display_name": "Python 3.8.5 ('base')",
   "language": "python",
   "name": "python3"
  },
  "language_info": {
   "codemirror_mode": {
    "name": "ipython",
    "version": 3
   },
   "file_extension": ".py",
   "mimetype": "text/x-python",
   "name": "python",
   "nbconvert_exporter": "python",
   "pygments_lexer": "ipython3",
   "version": "3.8.13"
  },
  "orig_nbformat": 4
 },
 "nbformat": 4,
 "nbformat_minor": 2
}
