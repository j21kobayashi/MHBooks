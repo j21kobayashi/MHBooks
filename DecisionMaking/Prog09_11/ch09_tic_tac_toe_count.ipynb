{
 "cells": [
  {
   "cell_type": "markdown",
   "metadata": {},
   "source": [
    "### 完全情報ゲームの例: $\\circ \\times$ ゲーム (Tic-tac-toe)\n",
    "#### 前提\n",
    "- $\\times$ のプレイヤーが先手，$\\circ$ のプレイヤーが後手とする\n",
    "- 各マスを次の番号で区別する  \n",
    "\n",
    "\n",
    "  |<!-- -->  |<!-- -->  |<!-- -->  |\n",
    "  |---|---|---|\n",
    "  |0  |1  |2  |\n",
    "  |3  |4  |5  |\n",
    "  |6  |7  |8  |  \n",
    "   \n",
    "\n",
    "- 各プレイヤーの手番をマスの番号の list/set で表現する。  \n",
    "  例えば， X のプレイヤーの手番が [0, 1, 2] であれば次の状態に対応する。  \n",
    "  (ただし，\"*\" は X，O，空白のいずれかを表すものとする)\n",
    "\n",
    "\n",
    "  \n",
    "  |<!-- -->  |<!-- -->  |<!-- -->  |\n",
    "  |---|---|---|\n",
    "  |X  |X  |X  |\n",
    "  |*  |*  |*  |\n",
    "  |*  |*  |*  |"
   ]
  },
  {
   "cell_type": "markdown",
   "metadata": {},
   "source": [
    "#### 引き分け状態の個数を数える\n",
    "- 引き分け(draw)とは，9マスすべてが埋まった状態にも関わらず，X も O も勝利していない状態である\n",
    "- 最終的なボードの状態が同じでも、途中の手番が異なれば別の結果として数える"
   ]
  },
  {
   "cell_type": "code",
   "execution_count": 1,
   "metadata": {},
   "outputs": [
    {
     "name": "stdout",
     "output_type": "stream",
     "text": [
      "Draws:  46080\n"
     ]
    }
   ],
   "source": [
    "import itertools\n",
    "import numpy as np\n",
    "\n",
    "NUM_PLAYERS = 2\n",
    "win_seq = [{0, 1, 2}, {3, 4, 5}, {6, 7, 8}, # horizontal\n",
    "           {0, 3, 6}, {1, 4, 7}, {2, 5, 8}, # vertical\n",
    "           {0, 4, 8}, {2, 4, 6},] # diagonal \n",
    "histories = [p for p in itertools.permutations(range(9))]\n",
    "moves_by_x = (set(h[0::NUM_PLAYERS]) for h in histories)\n",
    "moves_by_o = (set(h[1::NUM_PLAYERS]) for h in histories)\n",
    "idx_won_by_x = [any(s.issubset(m) for s in win_seq) for m in moves_by_x]\n",
    "idx_won_by_o = [any(s.issubset(m) for s in win_seq) for m in moves_by_o]\n",
    "idx_won_by_x_or_o = np.logical_or(idx_won_by_x, idx_won_by_o)\n",
    "\n",
    "print('Draws: ', len(histories) - np.count_nonzero(idx_won_by_x_or_o))\n",
    "# print('Draws: ', len(histories) - len(np.array(histories)[idx_won_by_x_or_o]))"
   ]
  },
  {
   "cell_type": "markdown",
   "metadata": {},
   "source": [
    "##### 解説:\n",
    "- 以下の解説のセルを正常に実行するには Notebook の最初から順にセルを実行しておく必要がある。"
   ]
  },
  {
   "cell_type": "markdown",
   "metadata": {},
   "source": [
    "[`itertools.permutations(t)`](https://docs.python.org/ja/3/library/itertools.html#itertools.permutations) で `t` の要素を全て並べるときにありうる全ての順列を生成できる"
   ]
  },
  {
   "cell_type": "code",
   "execution_count": 2,
   "metadata": {},
   "outputs": [
    {
     "data": {
      "text/plain": [
       "(('A', 'B', 'C'),\n",
       " ('A', 'C', 'B'),\n",
       " ('B', 'A', 'C'),\n",
       " ('B', 'C', 'A'),\n",
       " ('C', 'A', 'B'),\n",
       " ('C', 'B', 'A'))"
      ]
     },
     "execution_count": 2,
     "metadata": {},
     "output_type": "execute_result"
    }
   ],
   "source": [
    "import itertools as it\n",
    "\n",
    "tuple(it.permutations(('A', 'B', 'C')))"
   ]
  },
  {
   "cell_type": "markdown",
   "metadata": {},
   "source": [
    "`itertools.permutations(range(9))` で，9マスすべてが埋まるまでにありうる全ての手番を生成できる。  \n",
    "\n",
    "（ただし，その中には，途中で決着がついているものも含まれる）"
   ]
  },
  {
   "cell_type": "code",
   "execution_count": 3,
   "metadata": {},
   "outputs": [
    {
     "name": "stdout",
     "output_type": "stream",
     "text": [
      "h =  (0, 1, 2, 3, 4, 5, 6, 7, 8)\n",
      "m_by_x =  (0, 2, 4, 6, 8)\n",
      "m_by_o =  (1, 3, 5, 7)\n",
      "X O X \n",
      "O X O \n",
      "X O X \n",
      "\n",
      "h =  (0, 1, 3, 7, 4, 5, 8, 2, 6)\n",
      "m_by_x =  (0, 3, 4, 8, 6)\n",
      "m_by_o =  (1, 7, 5, 2)\n",
      "X O O \n",
      "X X O \n",
      "X O X \n",
      "\n"
     ]
    }
   ],
   "source": [
    "NUM_CELLS = 9\n",
    "NUM_COLS = 3\n",
    "\n",
    "def print_board(histories):\n",
    "    txt = ''\n",
    "    for i in range(NUM_CELLS):\n",
    "        symbol = ' '\n",
    "        if i in histories[0]:\n",
    "            symbol = 'X'\n",
    "        elif i in histories[1]:\n",
    "            symbol = 'O'\n",
    "        txt += symbol + ' '\n",
    "        if i % NUM_COLS == (NUM_COLS - 1):\n",
    "            txt += '\\n'\n",
    "    print(txt)\n",
    "\n",
    "def separate_and_print_board(h):\n",
    "    print('h = ', h)\n",
    "    m_by_x = h[0::NUM_PLAYERS]\n",
    "    m_by_o = h[1::NUM_PLAYERS]\n",
    "    print('m_by_x = ', m_by_x)\n",
    "    print('m_by_o = ', m_by_o)\n",
    "    print_board([m_by_x, m_by_o])\n",
    "\n",
    "\n",
    "histories = [p for p in itertools.permutations(range(9))]\n",
    "separate_and_print_board(histories[0])\n",
    "separate_and_print_board(histories[1234])"
   ]
  },
  {
   "cell_type": "markdown",
   "metadata": {},
   "source": [
    "シーケンス `a` に対して `a[start:end:step]` は スライス表記([slicing](https://docs.python.org/ja/3/reference/expressions.html#slicings))であり，インデックスが start, start + step, start + 2*step, $\\ldots$\n",
    "である要素を取り出して，新たなシーケンスを作る。ここで end は省略可能。"
   ]
  },
  {
   "cell_type": "code",
   "execution_count": 4,
   "metadata": {},
   "outputs": [
    {
     "name": "stdout",
     "output_type": "stream",
     "text": [
      "a == (0, 1, 2, 3, 4, 5, 6, 7, 8)\n",
      "a[0::2] == (0, 2, 4, 6, 8)\n",
      "a[1::2] == (1, 3, 5, 7)\n"
     ]
    }
   ],
   "source": [
    "a = tuple(range(9))\n",
    "print('a ==', repr(a))\n",
    "print('a[0::2] ==', repr(a[0::2]))\n",
    "print('a[1::2] ==', repr(a[1::2]))"
   ]
  },
  {
   "cell_type": "markdown",
   "metadata": {},
   "source": [
    "- 最終状態までの X  の一連の手番に，勝利条件を満たす一連の手番(win_seq) のどれか一つが含まれていれば X が勝利している。\n",
    "  - O についても同様のことがいえる。\n",
    "- これを確認するには [set 型](https://docs.python.org/ja/3/library/stdtypes.html#set-types-set-frozenset)を用いて，包含関係を [`issubset()`](https://docs.python.org/ja/3/library/stdtypes.html#frozenset.issubset) で調べる。\n",
    "  - ただし，この場合，最終状態だけで評価しているので，途中で決着がついているものも含まれる。"
   ]
  },
  {
   "cell_type": "code",
   "execution_count": 5,
   "metadata": {},
   "outputs": [
    {
     "data": {
      "text/plain": [
       "True"
      ]
     },
     "execution_count": 5,
     "metadata": {},
     "output_type": "execute_result"
    }
   ],
   "source": [
    "s = {0, 1, 2} # 勝利条件の一つ\n",
    "m = {0, 1, 2, 3, 4} # X の一連の手番 (moves by X)\n",
    "s.issubset(m)"
   ]
  },
  {
   "cell_type": "markdown",
   "metadata": {},
   "source": [
    "{0, 1, 2} は set((0, 1, 2)) と同等"
   ]
  },
  {
   "cell_type": "code",
   "execution_count": 6,
   "metadata": {},
   "outputs": [
    {
     "data": {
      "text/plain": [
       "True"
      ]
     },
     "execution_count": 6,
     "metadata": {},
     "output_type": "execute_result"
    }
   ],
   "source": [
    "{0, 1, 2} == set((0, 1, 2))"
   ]
  },
  {
   "cell_type": "markdown",
   "metadata": {},
   "source": [
    "シーケンス seq に一つでも True があれば [`any(seq)`](https://docs.python.org/ja/3/library/functions.html#any) は True"
   ]
  },
  {
   "cell_type": "code",
   "execution_count": 7,
   "metadata": {},
   "outputs": [
    {
     "data": {
      "text/plain": [
       "True"
      ]
     },
     "execution_count": 7,
     "metadata": {},
     "output_type": "execute_result"
    }
   ],
   "source": [
    "seq = [False, True, False] \n",
    "any(seq)"
   ]
  },
  {
   "cell_type": "markdown",
   "metadata": {},
   "source": [
    "`np.logical_or(a, b)` は bool 型の配列 `a`，`b` について要素ごとの論理和をとった結果の配列を作る。"
   ]
  },
  {
   "cell_type": "code",
   "execution_count": 8,
   "metadata": {},
   "outputs": [
    {
     "name": "stdout",
     "output_type": "stream",
     "text": [
      "array([False,  True,  True,  True])\n"
     ]
    }
   ],
   "source": [
    "a = np.array([False, False, True, True])\n",
    "b = np.array([False, True, False, True])\n",
    "c = np.logical_or(a, b)\n",
    "print(repr(c))"
   ]
  },
  {
   "cell_type": "markdown",
   "metadata": {},
   "source": [
    "bool型の配列 x に対して [`np.count_nonzero(x)`](https://numpy.org/doc/stable/reference/generated/numpy.count_nonzero.html) は 評価値が True である x の要素の個数を返す。"
   ]
  },
  {
   "cell_type": "code",
   "execution_count": 9,
   "metadata": {},
   "outputs": [
    {
     "name": "stdout",
     "output_type": "stream",
     "text": [
      "Number of elements of x with their value being True:  2\n"
     ]
    }
   ],
   "source": [
    "import numpy as np\n",
    "x = np.array([True, True, False, False, False, False])\n",
    "print('Number of elements of x with their value being True: ', np.count_nonzero(x))"
   ]
  },
  {
   "cell_type": "markdown",
   "metadata": {},
   "source": [
    "[any(s.issubset(m) for s in win_seq) for m in moves_by_x] は[ジェネレータ式とリスト内包表記](https://docs.python.org/ja/3.8/howto/functional.html#generator-expressions-and-list-comprehensions)の両方を使っている"
   ]
  },
  {
   "cell_type": "code",
   "execution_count": 10,
   "metadata": {},
   "outputs": [
    {
     "data": {
      "text/plain": [
       "True"
      ]
     },
     "execution_count": 10,
     "metadata": {},
     "output_type": "execute_result"
    }
   ],
   "source": [
    "any((not b) for b in (True, True, False))"
   ]
  },
  {
   "cell_type": "markdown",
   "metadata": {},
   "source": [
    "- リスト内包表記(list comprehension)"
   ]
  },
  {
   "cell_type": "code",
   "execution_count": 11,
   "metadata": {},
   "outputs": [
    {
     "data": {
      "text/plain": [
       "['<A>', '<B>', '<C>']"
      ]
     },
     "execution_count": 11,
     "metadata": {},
     "output_type": "execute_result"
    }
   ],
   "source": [
    "['<' + s + '>' for s in ('A', 'B', 'C')]"
   ]
  },
  {
   "cell_type": "markdown",
   "metadata": {},
   "source": [
    "```Python\n",
    "idx_won_by_x = [any(s.issubset(m) for s in win_seq) for m in moves_by_x]\n",
    "idx_won_by_o = [any(s.issubset(m) for s in win_seq) for m in moves_by_o]\n",
    "```\n",
    "の結果として，`idx_won_by_x` は `histories` と同じサイズを持ち，\n",
    "\n",
    "任意の i $\\in \\{0, \\ldots, n \\}$ ($n = $ `len(histories)`) について  \n",
    "  「`idx_won_by_x[i]` が `True`」 ならば 「`histories[i]` は X が勝利している状態」\n",
    "\n",
    "が成立する。"
   ]
  },
  {
   "cell_type": "code",
   "execution_count": 12,
   "metadata": {},
   "outputs": [
    {
     "name": "stdout",
     "output_type": "stream",
     "text": [
      "h =  (0, 1, 2, 3, 4, 5, 6, 7, 8)\n",
      "m_by_x =  (0, 2, 4, 6, 8)\n",
      "m_by_o =  (1, 3, 5, 7)\n",
      "X O X \n",
      "O X O \n",
      "X O X \n",
      "\n",
      "h =  (0, 1, 2, 3, 5, 4, 6, 7, 8)\n",
      "m_by_x =  (0, 2, 5, 6, 8)\n",
      "m_by_o =  (1, 3, 4, 7)\n",
      "X O X \n",
      "O O X \n",
      "X O X \n",
      "\n"
     ]
    }
   ],
   "source": [
    "for i, won_by_x in enumerate(idx_won_by_x):\n",
    "    if won_by_x:\n",
    "        separate_and_print_board(histories[i])\n",
    "        break\n",
    "\n",
    "for i, won_by_o in enumerate(idx_won_by_o):\n",
    "    if won_by_o:\n",
    "        separate_and_print_board(histories[i])\n",
    "        break"
   ]
  },
  {
   "cell_type": "markdown",
   "metadata": {},
   "source": [
    "上記は，numpy.ndarray の [boolean array indexing](https://numpy.org/doc/stable/user/basics.indexing.html#boolean-array-indexing) 機能を用いれば，より短く記述できる。"
   ]
  },
  {
   "cell_type": "code",
   "execution_count": 13,
   "metadata": {},
   "outputs": [
    {
     "name": "stdout",
     "output_type": "stream",
     "text": [
      "h =  [0 1 2 3 4 5 6 7 8]\n",
      "m_by_x =  [0 2 4 6 8]\n",
      "m_by_o =  [1 3 5 7]\n",
      "X O X \n",
      "O X O \n",
      "X O X \n",
      "\n",
      "h =  [0 1 2 3 5 4 6 7 8]\n",
      "m_by_x =  [0 2 5 6 8]\n",
      "m_by_o =  [1 3 4 7]\n",
      "X O X \n",
      "O O X \n",
      "X O X \n",
      "\n"
     ]
    }
   ],
   "source": [
    "arr_hist = np.array(histories)\n",
    "separate_and_print_board(arr_hist[idx_won_by_x][0])\n",
    "separate_and_print_board(arr_hist[idx_won_by_o][0])"
   ]
  },
  {
   "cell_type": "markdown",
   "metadata": {},
   "source": [
    "[boolean array indexing](https://numpy.org/doc/stable/user/basics.indexing.html#boolean-array-indexing) \n",
    "の他の例"
   ]
  },
  {
   "cell_type": "code",
   "execution_count": 14,
   "metadata": {},
   "outputs": [
    {
     "name": "stdout",
     "output_type": "stream",
     "text": [
      "array([1, 2, 3, 4, 5, 6])\n",
      "array([False,  True, False,  True, False,  True])\n",
      "array([2, 4, 6])\n"
     ]
    }
   ],
   "source": [
    "a = np.arange(1, 7)\n",
    "idx_even = ((a % 2) == 0) # 偶数ならば True，奇数ならば False\n",
    "print(repr(a))\n",
    "print(repr(idx_even))\n",
    "print(repr(a[idx_even]))"
   ]
  },
  {
   "cell_type": "markdown",
   "metadata": {},
   "source": [
    "---"
   ]
  },
  {
   "cell_type": "markdown",
   "metadata": {},
   "source": [
    "#### ありうる全てのゲームの結果の個数を数える\n",
    "- 最終的なボードの状態が同じでも、途中の手番が異なれば別の結果として数える\n",
    "- ゲームのルールに適合する状態を全て列挙するため，再帰呼び出しを利用する (以下の `play()` を参照)\n",
    "- ゲームの結果を全て記録し，GUI で表示する。表示に関しては，最終的なボードの状態が同じであれば，\n",
    "  途中の手番が異なっていても同一視する"
   ]
  },
  {
   "cell_type": "code",
   "execution_count": 29,
   "metadata": {},
   "outputs": [
    {
     "data": {
      "application/vnd.jupyter.widget-view+json": {
       "model_id": "74d434fc22d84ae0b010fa0ba86fd860",
       "version_major": 2,
       "version_minor": 0
      },
      "text/plain": [
       "IntProgress(value=0, bar_style='info', description='Counting:', max=255168)"
      ]
     },
     "metadata": {},
     "output_type": "display_data"
    },
    {
     "name": "stdout",
     "output_type": "stream",
     "text": [
      "{'won by X': 131184, 'won by O': 77904, 'draw': 46080}\n"
     ]
    },
    {
     "data": {
      "application/vnd.jupyter.widget-view+json": {
       "model_id": "6d4e0004471948d296de9a0cb76b9a23",
       "version_major": 2,
       "version_minor": 0
      },
      "text/plain": [
       "HBox(children=(VBox(children=(Label(value='won by X: 626 distinct outcomes'), BoundedIntText(value=0, descript…"
      ]
     },
     "metadata": {},
     "output_type": "display_data"
    }
   ],
   "source": [
    "import itertools as it\n",
    "import functools\n",
    "import copy\n",
    "import ipywidgets\n",
    "import IPython.display\n",
    "\n",
    "\n",
    "NUM_CELLS = 9\n",
    "NUM_COLS = 3\n",
    "statistics = {'won by X': 0, 'won by O': 0, 'draw': 0}\n",
    "board_dict = {'won by X': [], 'won by O': [], 'draw': []}\n",
    "\n",
    "GAME_OVER = 0\n",
    "ABNORMAL_GAME = 1\n",
    "GAME_CONTINUED = 2\n",
    "\n",
    "LEAST_NUM_MOVES_TO_WIN = 5\n",
    "MAX_NUM_EMPTY_CELLS_TO_WIN = NUM_CELLS - LEAST_NUM_MOVES_TO_WIN\n",
    "\n",
    "# {'won by X': 131184, 'won by O': 77904, 'draw': 46080}\n",
    "NUM_OUTCOMES = 131184 + 77904 + 46080\n",
    "progress_count = it.count()\n",
    "progress_bar = ipywidgets.IntProgress(\n",
    "    value=0,\n",
    "    min=0,\n",
    "    max=NUM_OUTCOMES,\n",
    "    description='Counting:',\n",
    "    bar_style='info', # 'success', 'info', 'warning', 'danger' or ''\n",
    "    orientation='horizontal'\n",
    ")\n",
    "PROG_BAR_UPDATE_PERIOD = 1000\n",
    "\n",
    "# progress bar の状態を更新する\n",
    "def update_progress_bar():\n",
    "    count = next(progress_count)\n",
    "    if count % PROG_BAR_UPDATE_PERIOD == 0: # to avoid delay due to GUI updates\n",
    "        progress_bar.value = count\n",
    "\n",
    "    if count == NUM_OUTCOMES:\n",
    "        progress_bar.value = progress_bar.max\n",
    "\n",
    "\n",
    "# ゲームの決着がついているか判定する\n",
    "def game_status(histories):\n",
    "    final_states = [ \n",
    "        {0, 1, 2}, # horizontal\n",
    "        {3, 4, 5},\n",
    "        {6, 7, 8},\n",
    "\n",
    "        {0, 3, 6}, # vertical\n",
    "        {1, 4, 7},\n",
    "        {2, 5, 8},\n",
    "\n",
    "        {0, 4, 8}, # diagonal\n",
    "        {2, 4, 6},\n",
    "    ]\n",
    "    symbol = ['X', 'O']\n",
    "    if len(histories[0]) == len(histories[1]):\n",
    "        last_move = 1\n",
    "        next_move = 0\n",
    "    else:\n",
    "        last_move = 0\n",
    "        next_move = 1\n",
    "\n",
    "    for s in final_states:\n",
    "        if s.issubset(histories[last_move]):\n",
    "            # print(f'{symbol[last_move]} won the game')\n",
    "            statistics[f'won by {symbol[last_move]}'] += 1\n",
    "            list_hist = [list(h) for h in histories]\n",
    "            board_dict[f'won by {symbol[last_move]}'].append(list_hist)\n",
    "\n",
    "            return GAME_OVER\n",
    "        if s.issubset(histories[next_move]):\n",
    "            print('abnormal game status was detected')\n",
    "            raise RuntimeError('abnormal game status was detected')\n",
    "            # return ABNORMAL_GAME\n",
    "\n",
    "    # draw\n",
    "    if (len(histories[0]) + len(histories[1])) == NUM_CELLS:\n",
    "        # print('Draw')\n",
    "        statistics['draw'] += 1\n",
    "        board_dict['draw'].append(histories)\n",
    "        return GAME_OVER\n",
    "\n",
    "    return GAME_CONTINUED\n",
    "\n",
    "\n",
    "\n",
    "# histories に対応するゲームの状態を表示する\n",
    "def print_board(histories):\n",
    "    # print(histories[0])\n",
    "    # print(histories[1])\n",
    "    txt = ''\n",
    "    for i in range(NUM_CELLS):\n",
    "        symbol = ' '\n",
    "        if i in histories[0]:\n",
    "            symbol = 'X'\n",
    "        elif i in histories[1]:\n",
    "            symbol = 'O'\n",
    "        txt += symbol + ' '\n",
    "        if i % NUM_COLS == (NUM_COLS - 1):\n",
    "            txt += '\\n'\n",
    "    print(txt)\n",
    "\n",
    "\n",
    "\n",
    "# ありうる全てのゲームの結果を列挙する\n",
    "def play(histories, empty_cells):\n",
    "    n_empty_cells = len(empty_cells)\n",
    "\n",
    "    if n_empty_cells <= MAX_NUM_EMPTY_CELLS_TO_WIN:\n",
    "        if game_status(histories) == GAME_OVER:\n",
    "            # print_board(histories) \n",
    "            update_progress_bar()\n",
    "            return\n",
    "\n",
    "    if True: # to iterate over all the possible moves (including duplicate states)\n",
    "        n_cells_to_play = 1\n",
    "        move = (n_empty_cells + 1) % 2\n",
    "\n",
    "    else: # quick way to count unique terminal states\n",
    "        if n_empty_cells == NUM_CELLS:\n",
    "            n_cells_to_play = 3\n",
    "            move = 0\n",
    "        elif n_empty_cells == NUM_CELLS - 3:\n",
    "            n_cells_to_play = 2\n",
    "            move = 1\n",
    "        else:\n",
    "            n_cells_to_play = 1\n",
    "            # move = (len(empty_cells) + 1) % 2\n",
    "            move = (n_empty_cells + 1) % 2\n",
    "\n",
    "    for c in it.combinations(empty_cells, n_cells_to_play):\n",
    "        tmp_histories = copy.deepcopy(histories)\n",
    "        tmp_histories[move] = tmp_histories[move].union(c)\n",
    "        tmp_empty_cells = empty_cells - set(c)\n",
    "\n",
    "        play(tmp_histories, tmp_empty_cells)\n",
    "\n",
    "\n",
    "\n",
    "# 'Show' ボタンまたは 'Board ID' ボックスの値が増減されたときのコールバック関数\n",
    "def on_click(board_list, txt_box, output, btn):\n",
    "    output.clear_output(wait=True)\n",
    "    id = txt_box.value\n",
    "    with output:\n",
    "        # print(btn.description)\n",
    "        print(board_list[id])\n",
    "        print_board(board_list[id])\n",
    "\n",
    "\n",
    "if __name__ == '__main__':\n",
    "    histories = [set(), set()] # for player 'X' and 'O'\n",
    "    empty_cells = set(range(NUM_CELLS))\n",
    "\n",
    "    IPython.display.display(progress_bar)\n",
    "\n",
    "    play(histories, empty_cells)\n",
    "\n",
    "    print(statistics) # This will show {'won by X': 131184, 'won by O': 77904, 'draw': 46080}\n",
    "\n",
    "\n",
    "    # 途中の手番のみが異なるが最終状態としては重複している結果を除去する\n",
    "    # (回転や鏡映の関係にある結果は別々の結果として扱う)\n",
    "    unique_board_dict = {}\n",
    "    for k in board_dict.keys():\n",
    "        if False:\n",
    "            sorted_hist = [[sorted(h[0]), sorted(h[1])] for h in board_dict[k]]\n",
    "            unique_board_dict[k] = list({str(v): v for v in sorted_hist}.values())\n",
    "        else:\n",
    "            sorted_hist = tuple((tuple(sorted(h[0])), tuple(sorted(h[1]))) for h in board_dict[k])\n",
    "            unique_board_dict[k] = list(set(sorted_hist))\n",
    "\n",
    "\n",
    "    if True:\n",
    "        bd = unique_board_dict\n",
    "    else:\n",
    "        bd = board_dict\n",
    "\n",
    "    vboxes = []\n",
    "    for k in bd.keys():\n",
    "        max_id = len(bd[k]) - 1\n",
    "        lbl = ipywidgets.Label(value=k + f': {max_id + 1} distinct outcomes')\n",
    "        txt = ipywidgets.BoundedIntText(value=0, min=0, max=max_id, description='Board ID')\n",
    "        btn = ipywidgets.Button(description='Show')\n",
    "        out = ipywidgets.Output()\n",
    "        vboxes.append(ipywidgets.VBox((lbl, txt, btn, out)))\n",
    "\n",
    "        on_click_n = functools.partial(on_click, bd[k], txt, out)\n",
    "        btn.on_click(on_click_n)\n",
    "        txt.observe(on_click_n)\n",
    "\n",
    "\n",
    "    IPython.display.display(ipywidgets.HBox(vboxes)) \n",
    "\n"
   ]
  },
  {
   "cell_type": "markdown",
   "metadata": {},
   "source": [
    "##### 解説 \n",
    "- 以下の解説のセルを正常に実行するには Notebook の最初から順にセルを実行しておく必要がある。"
   ]
  },
  {
   "cell_type": "markdown",
   "metadata": {},
   "source": [
    "`histories[0]` は X のプレイヤーの手番， `histories[1]` は O のプレイヤーの手番を表す。"
   ]
  },
  {
   "cell_type": "code",
   "execution_count": 16,
   "metadata": {},
   "outputs": [
    {
     "name": "stdout",
     "output_type": "stream",
     "text": [
      "O   X \n",
      "O   X \n",
      "    X \n",
      "\n"
     ]
    }
   ],
   "source": [
    "histories = [set(), set()]\n",
    "histories[0] = {2, 5, 8}\n",
    "histories[1] = {0, 3}\n",
    "print_board(histories)"
   ]
  },
  {
   "cell_type": "markdown",
   "metadata": {},
   "source": [
    "`game_status()` はゲームの決着がついているか判別する"
   ]
  },
  {
   "cell_type": "code",
   "execution_count": 17,
   "metadata": {},
   "outputs": [
    {
     "data": {
      "text/plain": [
       "True"
      ]
     },
     "execution_count": 17,
     "metadata": {},
     "output_type": "execute_result"
    }
   ],
   "source": [
    "game_status(histories) == GAME_OVER"
   ]
  },
  {
   "cell_type": "markdown",
   "metadata": {},
   "source": [
    "itertools.combinations(t, r) でシーケンスt から r 個の要素を取り出すときにありうる2項組合せを全て生成できる"
   ]
  },
  {
   "cell_type": "code",
   "execution_count": 18,
   "metadata": {},
   "outputs": [
    {
     "name": "stdout",
     "output_type": "stream",
     "text": [
      "(('A', 'B'), ('A', 'C'), ('B', 'C'))\n"
     ]
    }
   ],
   "source": [
    "import itertools as it\n",
    "t = ('A', 'B', 'C') \n",
    "print(tuple(it.combinations(t, 2)))"
   ]
  },
  {
   "cell_type": "markdown",
   "metadata": {},
   "source": [
    "[`set` 型](https://docs.python.org/ja/3/library/stdtypes.html#set-types-set-frozenset)に対して 演算子 `-` を用いて部分集合の除去を行える"
   ]
  },
  {
   "cell_type": "code",
   "execution_count": 19,
   "metadata": {},
   "outputs": [
    {
     "name": "stdout",
     "output_type": "stream",
     "text": [
      "{1, 4, 5}\n"
     ]
    }
   ],
   "source": [
    "s1 = {1, 2, 3, 4, 5}\n",
    "s2 = {2, 3}\n",
    "print(repr(s1 - s2))"
   ]
  },
  {
   "cell_type": "markdown",
   "metadata": {},
   "source": [
    "set型の s1, s2 について s1.union(s2) で s1 と s2 の和集合を作成できる"
   ]
  },
  {
   "cell_type": "code",
   "execution_count": 20,
   "metadata": {},
   "outputs": [
    {
     "name": "stdout",
     "output_type": "stream",
     "text": [
      "{1, 2, 99, 100, 101}\n",
      "{1, 2}\n"
     ]
    }
   ],
   "source": [
    "s1 = {1, 2}\n",
    "s2 = {99, 100, 101}\n",
    "print(repr(s1.union(s2)))\n",
    "print(repr(s1)) # s1 自体は変更されない"
   ]
  },
  {
   "cell_type": "markdown",
   "metadata": {},
   "source": [
    "[`copy.deepcopy(t)`](https://docs.python.org/ja/3/library/copy.html) は代入と異なり，t の要素が参照であれば参照先のオブジェクトをコピーする。\n",
    "したがって，\n",
    "```\n",
    "    tmp_histories = copy.deepcopy(histories)\n",
    "```\n",
    "の後に，`tmp_histories` に対する操作を行っても，`histories` には影響しない。"
   ]
  },
  {
   "cell_type": "code",
   "execution_count": 21,
   "metadata": {},
   "outputs": [
    {
     "name": "stdout",
     "output_type": "stream",
     "text": [
      "Before modification\n",
      "t1:  ({1, 2, 3}, {4, 5, 6})\n",
      "t2:  ({1, 2, 3}, {4, 5, 6})\n",
      "t3:  ({1, 2, 3}, {4, 5, 6})\n",
      "After modification\n",
      "t1:  ({99, 1, 2, 3}, {4, 5, 6})\n",
      "t2:  ({99, 1, 2, 3}, {4, 5, 6})\n",
      "t3:  ({1, 2, 3}, {4, 5, 6})\n"
     ]
    }
   ],
   "source": [
    "import copy\n",
    "s1 = {1, 2, 3}\n",
    "s2 = {4, 5, 6}\n",
    "t1 = (s1, s2)\n",
    "t2 = t1\n",
    "t3 = copy.deepcopy(t1)\n",
    "\n",
    "print('Before modification')\n",
    "print('t1: ', repr(t2))\n",
    "print('t2: ', repr(t2))\n",
    "print('t3: ', repr(t3))\n",
    "\n",
    "s1.add(99)\n",
    "print('After modification')\n",
    "print('t1: ', repr(t2))\n",
    "print('t2: ', repr(t2))\n",
    "print('t3: ', repr(t3))"
   ]
  },
  {
   "cell_type": "markdown",
   "metadata": {},
   "source": [
    "board_dict は列挙したゲームの結果を保持する"
   ]
  },
  {
   "cell_type": "code",
   "execution_count": 22,
   "metadata": {},
   "outputs": [
    {
     "name": "stdout",
     "output_type": "stream",
     "text": [
      "X O X \n",
      "O X X \n",
      "X O O \n",
      "\n",
      "X O X \n",
      "O X   \n",
      "X   O \n",
      "\n",
      "X O X \n",
      "O X O \n",
      "X X O \n",
      "\n",
      "X O X \n",
      "O X O \n",
      "    X \n",
      "\n",
      "X O X \n",
      "O X O \n",
      "X     \n",
      "\n"
     ]
    }
   ],
   "source": [
    "# 先頭の5種類の結果を表示する\n",
    "for board in it.islice(board_dict['won by X'], 5):\n",
    "    print_board(board)\n"
   ]
  },
  {
   "cell_type": "markdown",
   "metadata": {},
   "source": [
    "[`sorted(t)`](https://docs.python.org/ja/3/howto/sorting.html) は t の要素を昇順に並べなおした `list` となる。"
   ]
  },
  {
   "cell_type": "code",
   "execution_count": 23,
   "metadata": {},
   "outputs": [
    {
     "name": "stdout",
     "output_type": "stream",
     "text": [
      "[1, 2, 3, 4, 5]\n"
     ]
    }
   ],
   "source": [
    "t = (5, 2, 4, 1, 3)\n",
    "print(repr(sorted(t)))"
   ]
  },
  {
   "cell_type": "markdown",
   "metadata": {},
   "source": [
    "set によって重複したデータを除去できる。"
   ]
  },
  {
   "cell_type": "code",
   "execution_count": 24,
   "metadata": {},
   "outputs": [
    {
     "name": "stdout",
     "output_type": "stream",
     "text": [
      "{(1, 2), (3, 4)}\n"
     ]
    }
   ],
   "source": [
    "t = ((1, 2), (3, 4), (1, 2), (3, 4))\n",
    "print(repr(set(t)))"
   ]
  },
  {
   "cell_type": "markdown",
   "metadata": {},
   "source": [
    "- set の要素が tuple の場合，tuple の構成要素が同じでも，並び順が異なれば，別の tuple として扱われる。\n",
    "- set の構築において要素が重複しているか否か(等価性)の判定は，要素の [ハッシュ値](https://docs.python.org/ja/3.8/reference/datamodel.html#object.__hash__) によって行われる。 \n",
    "- ある二つの tuple の構成要素が同じでも，並び順が異なれば，それぞれに異なるハッシュ値を持つ。\n",
    "- ハッシュ値を算出できるオブジェクトは [ハッシュ可能](https://docs.python.org/ja/3/glossary.html#term-hashable) と呼ばれる。"
   ]
  },
  {
   "cell_type": "code",
   "execution_count": 25,
   "metadata": {},
   "outputs": [
    {
     "name": "stdout",
     "output_type": "stream",
     "text": [
      "{(2, 3), (1, 1), (3, 3), (3, 2)}\n",
      "t2[0]: (1, 1), hash(t2[0]) == 8389048192121911274\n",
      "t2[1]: (1, 1), hash(t2[1]) == 8389048192121911274\n",
      "t2[2]: (2, 3), hash(t2[2]) == 8409376899596376432\n",
      "t2[3]: (3, 2), hash(t2[3]) == 3863035679738500442\n",
      "t2[4]: (3, 3), hash(t2[4]) == 5972319052856130739\n",
      "True\n",
      "False\n"
     ]
    }
   ],
   "source": [
    "t2 = ((1, 1), \n",
    "      (1, 1), \n",
    "      (2, 3),\n",
    "      (3, 2), \n",
    "      (3, 3))\n",
    "\n",
    "s2 = set(t2) \n",
    "print(s2)\n",
    "\n",
    "print('\\n'.join(f't2[{i}]: {e}, hash(t2[{i}]) == {hash(e)}' for i, e in enumerate(t2)))\n",
    "print(hash(t2[0]) == hash(t2[1]))\n",
    "print(hash(t2[2]) == hash(t2[3]))"
   ]
  },
  {
   "cell_type": "markdown",
   "metadata": {},
   "source": [
    "list は[ハッシュ不可能 (unhashable)](https://docs.python.org/ja/3/glossary.html#term-hashable) なので，set によってデータの重複を除去する方法には使えない。"
   ]
  },
  {
   "cell_type": "code",
   "execution_count": 26,
   "metadata": {},
   "outputs": [
    {
     "name": "stdout",
     "output_type": "stream",
     "text": [
      "[[1, 2], [3, 4], [1, 2], [3, 4]]\n"
     ]
    },
    {
     "ename": "TypeError",
     "evalue": "unhashable type: 'list'",
     "output_type": "error",
     "traceback": [
      "\u001b[1;31m---------------------------------------------------------------------------\u001b[0m",
      "\u001b[1;31mTypeError\u001b[0m                                 Traceback (most recent call last)",
      "\u001b[1;32m~\\AppData\\Local\\Temp\\ipykernel_22804\\3376312197.py\u001b[0m in \u001b[0;36m<cell line: 4>\u001b[1;34m()\u001b[0m\n\u001b[0;32m      2\u001b[0m \u001b[0ml\u001b[0m \u001b[1;33m=\u001b[0m \u001b[1;33m[\u001b[0m\u001b[0mlist\u001b[0m\u001b[1;33m(\u001b[0m\u001b[0me\u001b[0m\u001b[1;33m)\u001b[0m \u001b[1;32mfor\u001b[0m \u001b[0me\u001b[0m \u001b[1;32min\u001b[0m \u001b[0mt\u001b[0m\u001b[1;33m]\u001b[0m\u001b[1;33m\u001b[0m\u001b[1;33m\u001b[0m\u001b[0m\n\u001b[0;32m      3\u001b[0m \u001b[0mprint\u001b[0m\u001b[1;33m(\u001b[0m\u001b[0ml\u001b[0m\u001b[1;33m)\u001b[0m\u001b[1;33m\u001b[0m\u001b[1;33m\u001b[0m\u001b[0m\n\u001b[1;32m----> 4\u001b[1;33m \u001b[0mprint\u001b[0m\u001b[1;33m(\u001b[0m\u001b[0mrepr\u001b[0m\u001b[1;33m(\u001b[0m\u001b[0mset\u001b[0m\u001b[1;33m(\u001b[0m\u001b[0ml\u001b[0m\u001b[1;33m)\u001b[0m\u001b[1;33m)\u001b[0m\u001b[1;33m)\u001b[0m \u001b[1;31m# set(l) は TypeError を起こす\u001b[0m\u001b[1;33m\u001b[0m\u001b[1;33m\u001b[0m\u001b[0m\n\u001b[0m",
      "\u001b[1;31mTypeError\u001b[0m: unhashable type: 'list'"
     ]
    }
   ],
   "source": [
    "t = ((1, 2), (3, 4), (1, 2), (3, 4))\n",
    "l = [list(e) for e in t]\n",
    "print(l)\n",
    "print(repr(set(l))) # set(l) は TypeError を起こす"
   ]
  },
  {
   "cell_type": "markdown",
   "metadata": {},
   "source": [
    "順序を無視してデータの重複を除外するには，sorted と set を組み合わせる。"
   ]
  },
  {
   "cell_type": "code",
   "execution_count": null,
   "metadata": {},
   "outputs": [
    {
     "name": "stdout",
     "output_type": "stream",
     "text": [
      "{(1, 2), (2, 1), (3, 4), (4, 3)}\n",
      "((1, 2), (1, 2), (3, 4), (3, 4))\n",
      "{(1, 2), (3, 4)}\n"
     ]
    }
   ],
   "source": [
    "t = ((1, 2), (2, 1), (3, 4), (4, 3))\n",
    "print(repr(set(t)))\n",
    "t2 = tuple(tuple(sorted(e)) for e in t)\n",
    "print(repr(t2))\n",
    "print(repr(set(t2)))"
   ]
  },
  {
   "cell_type": "markdown",
   "metadata": {},
   "source": [
    "VBox, HBox による widget (GUI の部品)の配置\n",
    "\n",
    "[ipywidgets.Output](https://ipywidgets.readthedocs.io/en/latest/examples/Output%20Widget.html) を\n",
    "[コンテキストマネージャ](https://docs.python.org/ja/3/reference/compound_stmts.html#with)\n",
    "として使うと，print() の結果は Output の領域に表示される。"
   ]
  },
  {
   "cell_type": "code",
   "execution_count": null,
   "metadata": {},
   "outputs": [
    {
     "data": {
      "application/vnd.jupyter.widget-view+json": {
       "model_id": "25f13dcf7aa64e6298096972eb05adc2",
       "version_major": 2,
       "version_minor": 0
      },
      "text/plain": [
       "HBox(children=(VBox(children=(BoundedIntText(value=0, description='ID', max=10), Button(description='Show', st…"
      ]
     },
     "metadata": {},
     "output_type": "display_data"
    }
   ],
   "source": [
    "import ipywidgets\n",
    "import functools\n",
    "import numpy as np\n",
    "import matplotlib.pyplot as plt\n",
    "\n",
    "out1 = ipywidgets.Output()\n",
    "out2 = ipywidgets.Output()\n",
    "btn1 = ipywidgets.Button(description='Show')\n",
    "btn2 = ipywidgets.Button(description='Show')\n",
    "txt1 = ipywidgets.BoundedIntText(value=0, min=0, max=10, description='ID')\n",
    "txt2 = ipywidgets.BoundedIntText(value=0, min=0, max=10, description='ID')\n",
    "\n",
    "th = np.linspace(0, 2*np.pi, 100)\n",
    "px = np.cos(th)\n",
    "py = np.sin(th)\n",
    "\n",
    "def on_click(txtbox, output, btn):\n",
    "    output.clear_output(wait=True) # wait=True でちらつき防止\n",
    "\n",
    "    # output をコンテキストマネージャとして使うと，print() の結果や\n",
    "    # matplotlib による plot の結果は output の領域に表示される\n",
    "    with output:\n",
    "    # if True:\n",
    "        # print(btn.description)\n",
    "        print(txtbox.value)\n",
    "        plt.plot(px, py)\n",
    "        plt.gca().set_aspect('equal')\n",
    "        plt.show()\n",
    "\n",
    "on_click1 = functools.partial(on_click, txt1, out1)\n",
    "on_click2 = functools.partial(on_click, txt2, out2)\n",
    "btn1.on_click(on_click1)\n",
    "btn2.on_click(on_click2)\n",
    "\n",
    "box1 = ipywidgets.VBox((txt1, btn1, out1))\n",
    "box2 = ipywidgets.VBox((txt2, btn2, out2))\n",
    "ipywidgets.HBox((box1, box2))"
   ]
  },
  {
   "cell_type": "markdown",
   "metadata": {},
   "source": [
    "進捗状況を示すバーの表示方法"
   ]
  },
  {
   "cell_type": "code",
   "execution_count": null,
   "metadata": {},
   "outputs": [
    {
     "data": {
      "application/vnd.jupyter.widget-view+json": {
       "model_id": "d759036c5762480fb021bcff501c4f75",
       "version_major": 2,
       "version_minor": 0
      },
      "text/plain": [
       "IntProgress(value=7, bar_style='info', description='Counting:', max=10)"
      ]
     },
     "metadata": {},
     "output_type": "display_data"
    }
   ],
   "source": [
    "import ipywidgets\n",
    "import IPython.display\n",
    "\n",
    "progress_bar = ipywidgets.IntProgress(\n",
    "    value=7,\n",
    "    min=0,\n",
    "    max=10,\n",
    "    description='Counting:',\n",
    "    # bar_style='', # 'success', 'info', 'warning', 'danger' or ''\n",
    "    bar_style='info', # 'success', 'info', 'warning', 'danger' or ''\n",
    "    # style={'bar_color': 'maroon'},\n",
    "    # orientation='horizontal'\n",
    ")\n",
    "IPython.display.display(progress_bar)\n",
    "\n",
    "progress_bar.value = 5 "
   ]
  },
  {
   "cell_type": "markdown",
   "metadata": {},
   "source": [
    "[`functools.partial()`](https://docs.python.org/ja/3/howto/functional.html#the-functools-module) で関数の一部の引数を固定した関数を作成できる"
   ]
  },
  {
   "cell_type": "code",
   "execution_count": null,
   "metadata": {},
   "outputs": [
    {
     "data": {
      "text/plain": [
       "3"
      ]
     },
     "execution_count": 5,
     "metadata": {},
     "output_type": "execute_result"
    }
   ],
   "source": [
    "import functools\n",
    "\n",
    "def foo(a, b):\n",
    "    return a + b\n",
    "\n",
    "f1 = functools.partial(foo, 1)\n",
    "f1(2) # foo(1, 2) を呼び出すことと同等\n"
   ]
  },
  {
   "cell_type": "markdown",
   "metadata": {},
   "source": [
    "itertools.count() は 0, 1, 2, ... を順に返す[イテレータ](https://docs.python.org/ja/3/glossary.html#term-iterator)を作る。  \n",
    "イテレータから順に要素を取り出すには組み込み関数の [next()](https://docs.python.org/ja/3/library/functions.html#next) を用いる"
   ]
  },
  {
   "cell_type": "code",
   "execution_count": null,
   "metadata": {},
   "outputs": [
    {
     "name": "stdout",
     "output_type": "stream",
     "text": [
      "0\n",
      "1\n",
      "2\n",
      "3\n"
     ]
    }
   ],
   "source": [
    "import itertools as it\n",
    "gen = it.count()\n",
    "print(next(gen))\n",
    "print(next(gen))\n",
    "print(next(gen))\n",
    "print(next(gen))"
   ]
  },
  {
   "cell_type": "markdown",
   "metadata": {},
   "source": [
    "#### 参考文献\n",
    "- [ipywidgets のドキュメント](https://ipywidgets.readthedocs.io/en/stable/index.html)\n",
    "- [functools のドキュメント](https://docs.python.org/3/library/functools.html)"
   ]
  }
 ],
 "metadata": {
  "kernelspec": {
   "display_name": "Python 3.8.13 ('base')",
   "language": "python",
   "name": "python3"
  },
  "language_info": {
   "codemirror_mode": {
    "name": "ipython",
    "version": 3
   },
   "file_extension": ".py",
   "mimetype": "text/x-python",
   "name": "python",
   "nbconvert_exporter": "python",
   "pygments_lexer": "ipython3",
   "version": "3.8.13"
  },
  "orig_nbformat": 4,
  "vscode": {
   "interpreter": {
    "hash": "a077222d77dfe082b8f1dd562ad70e458ac2ab76993a0b248ab0476e32e9e8dd"
   }
  }
 },
 "nbformat": 4,
 "nbformat_minor": 2
}
