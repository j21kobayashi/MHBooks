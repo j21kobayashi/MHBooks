{
 "cells": [
  {
   "cell_type": "markdown",
   "metadata": {},
   "source": [
    "#### 第1価格秘密入札のシミュレーション\n",
    "##### 第1価格秘密入札のプロトコル\n",
    "- 主催者が開始時点での最低の価格を参加者全員に通知する。\n",
    "- 各参加者は主催者に自身の価格を申告する。この価格はほかの参加者には知らされない。\n",
    "- 最高の価格（第1価格）を申告した参加者が財を取得し，自身の申告額を支払う。\n",
    "\n",
    "##### シミュレーション上の設定\n",
    "- 各参加者の真の評価額$v_i$についてIPV設定を採用する。  \n",
    "  $ v_i $ は独立に区間 $ [v_{\\min}, v_{\\max}] $ 上の一様分布に従う\n",
    "\n",
    "- 参加者の申告額（入札額）$\\hat{v}_i$は，評価額$v_i$と同様に連続型の変数であり，\n",
    "  $ \\hat{v}_i \\in [v_{\\min}, v_{\\max}] $。\n",
    "\n",
    "- 戦略は，以下のいずれかとする。\n",
    "  - 第1価格秘密入札におけるナッシュ均衡戦略:  &emsp; $ \\hat{v}_i = \\dfrac{n-1}{n} v_i $\n",
    "  - 正直な申告:  &emsp; $ \\hat{v}_i = v_i $\n",
    "  - 混合戦略: &emsp; 区間 $[v_{\\min}, v_i]$ 上の一様分布に従う $\\hat{v}_i$ の標本値を申告額とする。"
   ]
  },
  {
   "cell_type": "code",
   "execution_count": 36,
   "metadata": {},
   "outputs": [
    {
     "name": "stdout",
     "output_type": "stream",
     "text": [
      "sample exp. util.: [0.12940062 0.36406649 0.37496706 0.37580655 0.37117112]\n"
     ]
    },
    {
     "data": {
      "image/png": "[encoded data removed]",
      "text/plain": [
       "<Figure size 432x288 with 1 Axes>"
      ]
     },
     "metadata": {
      "needs_background": "light"
     },
     "output_type": "display_data"
    },
    {
     "data": {
      "image/png": "[encoded data removed]",
      "text/plain": [
       "<Figure size 432x288 with 1 Axes>"
      ]
     },
     "metadata": {
      "needs_background": "light"
     },
     "output_type": "display_data"
    }
   ],
   "source": [
    "import numpy as np\n",
    "from scipy.stats import uniform\n",
    "import matplotlib.pyplot as plt\n",
    "\n",
    "num_bidders = 5; num_repeat = 10000 #3 #\n",
    "vmin, vmax = (0, 10)\n",
    "\n",
    "v = uniform.rvs(loc=vmin, scale=(vmax - vmin), size=(num_repeat, num_bidders))\n",
    "\n",
    "st_nash_eql = lambda v, n: (n-1)*v/n\n",
    "st_truthful = lambda v, n: v\n",
    "st_rand_uni = lambda v, n: uniform.rvs(loc=vmin, scale=(v - vmin), size=v.shape)\n",
    "stg_name = {\n",
    "    st_nash_eql: 'strategy in Nash Eql. (of 1st-price auction)', \n",
    "    st_truthful: 'truthful strategy',\n",
    "    st_rand_uni: 'mixed strategy (uniform dist. over [vmin, v])'}\n",
    "\n",
    "\n",
    "if False:\n",
    "    # 全員が同じ戦略をとる場合\n",
    "\n",
    "    strategy_list = [st_nash_eql for dummy in range(num_bidders)]\n",
    "    # strategy_list = [st_truthful for dummy in range(num_bidders)]\n",
    "\n",
    "else:\n",
    "    # 一人だけ異なる戦略をとる場合\n",
    "\n",
    "    # strategy_list = [st_truthful, *(st_nash_eql for dummy in range(num_bidders-1))]\n",
    "    # strategy_list = [st_truthful, *(st_nash_eql for dummy in range(num_bidders-1))]\n",
    "    # strategy_list = [st_nash_eql, *(st_truthful for dummy in range(num_bidders-1))]\n",
    "    strategy_list = [st_rand_uni, *(st_nash_eql for dummy in range(num_bidders-1))]\n",
    "    # strategy_list = [st_rand_uni, *(st_truthful for dummy in range(num_bidders-1))]\n",
    "\n",
    "v_hat = np.vstack([strategy_list[i](v[:, i], num_bidders) for i in range(num_bidders)]).T\n",
    "\n",
    "sort_axis = 1\n",
    "idx = np.argsort(v_hat, axis=sort_axis)\n",
    "idx_winner = np.expand_dims(idx[:,-1], axis=-1)\n",
    "payment = np.take_along_axis(v_hat, idx_winner, axis=sort_axis)\n",
    "true_value = np.take_along_axis(v, idx_winner, axis=sort_axis)\n",
    "win_count = np.array([np.count_nonzero(idx_winner == i) for i in range(num_bidders)])\n",
    "win_rate = win_count/num_repeat\n",
    "util = np.zeros_like(v_hat)\n",
    "np.put_along_axis(util, idx_winner, true_value - payment, axis=sort_axis) \n",
    "smp_exp_util = np.mean(util, axis=0)\n",
    "print('sample exp. util.:', smp_exp_util)\n",
    "\n",
    "plt.rcParams['mathtext.fontset'] = 'stix'\n",
    "plt.rcParams['ytick.labelsize'] = 'xx-large' #'large'\n",
    "plt.rcParams['xtick.labelsize'] = 'xx-large' #'large'\n",
    "plt.rcParams['axes.labelsize']  = 'xx-large' #'large'\n",
    "\n",
    "plt.figure()\n",
    "plt.bar(np.arange(num_bidders), win_rate)\n",
    "plt.xlabel('bidder')\n",
    "plt.ylabel('win rate')\n",
    "plt.savefig('win_rate_1st-pr_auction.pdf', bbox_inches='tight')\n",
    "\n",
    "plt.figure()\n",
    "plt.bar(np.arange(num_bidders), smp_exp_util)\n",
    "plt.xlabel('bidder')\n",
    "plt.ylabel('sample exp. util.')\n",
    "plt.savefig('smp_exp_util_1st-pr_auction.pdf', bbox_inches='tight')\n"
   ]
  },
  {
   "cell_type": "markdown",
   "metadata": {},
   "source": [
    "#### 解説\n",
    "- 以下の解説のセルを正常に実行するには Notebook の最初から順にセルを実行しておく必要がある。"
   ]
  },
  {
   "cell_type": "markdown",
   "metadata": {},
   "source": [
    "一様分布に従う確率変数の標本値は\n",
    "```Python\n",
    "    v = uniform.rvs(loc=vmin, scale=(vmax - vmin), size=(num_repeat, num_bidders))\n",
    "```\n",
    "で作られる。ここで，配列 `v` について，以下のことが成立する。\n",
    "- `v.shape == (num_repeat, num_bidders)`\n",
    "- 各要素は区間 $ [v_{\\min}, v_{\\max}] $ 上の一様分布 $p(v) = 1$ に独立に従う"
   ]
  },
  {
   "cell_type": "code",
   "execution_count": 37,
   "metadata": {},
   "outputs": [
    {
     "name": "stdout",
     "output_type": "stream",
     "text": [
      "(10000, 5)\n"
     ]
    }
   ],
   "source": [
    "v = uniform.rvs(loc=vmin, scale=(vmax - vmin), size=(num_repeat, num_bidders))\n",
    "print(v.shape)"
   ]
  },
  {
   "cell_type": "markdown",
   "metadata": {},
   "source": [
    "戦略は真の評価額 $v$ の関数であり，\n",
    "```Python\n",
    "    strategy_list = [st_rand_uni, *(st_nash_eql for dummy in range(num_bidders-1))]\n",
    "```\n",
    "は関数の参照の list となる。`*(genexp)` はジェネレータ式 `genexp` で生成した要素を展開([unpack](https://docs.python.org/ja/3/reference/expressions.html#expression-lists))する。"
   ]
  },
  {
   "cell_type": "code",
   "execution_count": 38,
   "metadata": {},
   "outputs": [
    {
     "name": "stdout",
     "output_type": "stream",
     "text": [
      "[1234, 1234, 5678, 5678, 5678]\n",
      "1001\n",
      "1002\n",
      "2003\n",
      "2004\n",
      "2005\n"
     ]
    }
   ],
   "source": [
    "def f(x):\n",
    "    return x + 1000\n",
    "\n",
    "def g(x):\n",
    "    return x + 2000\n",
    "\n",
    "l = [*(1234 for dummy in range(2)), *(5678 for dummy in range(3))]\n",
    "print(l)\n",
    "\n",
    "f_list = [*(f for dummy in range(2)), *(g for dummy in range(3))]\n",
    "print(f_list[0](1))\n",
    "print(f_list[1](2))\n",
    "print(f_list[2](3))\n",
    "print(f_list[3](4))\n",
    "print(f_list[4](5))\n"
   ]
  },
  {
   "cell_type": "markdown",
   "metadata": {},
   "source": [
    "[`numpy.vstack([arr0, arr1, ...])`](https://numpy.org/doc/stable/reference/generated/numpy.vstack.html?highlight=vstack) \n",
    "は `arr0`, `arr1`, `...` を並べた配列を作る。"
   ]
  },
  {
   "cell_type": "code",
   "execution_count": 39,
   "metadata": {},
   "outputs": [
    {
     "name": "stdout",
     "output_type": "stream",
     "text": [
      "array([[1, 2, 3, 4],\n",
      "       [5, 6, 7, 8]])\n"
     ]
    }
   ],
   "source": [
    "arr0 = np.array([1, 2, 3, 4])\n",
    "arr1 = np.array([5, 6, 7, 8])\n",
    "arr_stacked = np.vstack([arr0, arr1])\n",
    "print(repr(arr_stacked))"
   ]
  },
  {
   "cell_type": "markdown",
   "metadata": {},
   "source": [
    "[`arr.T`](https://numpy.org/doc/stable/reference/generated/numpy.ndarray.T.html) \n",
    "は `arr` を転置した配列を作る"
   ]
  },
  {
   "cell_type": "code",
   "execution_count": 40,
   "metadata": {},
   "outputs": [
    {
     "name": "stdout",
     "output_type": "stream",
     "text": [
      "array([[11, 44],\n",
      "       [22, 55],\n",
      "       [33, 66]])\n"
     ]
    }
   ],
   "source": [
    "arr = np.array([[11, 22, 33],\n",
    "                [44, 55, 66]])\n",
    "print(repr(arr.T))"
   ]
  },
  {
   "cell_type": "markdown",
   "metadata": {},
   "source": [
    "2次元配列 `arr` について，\n",
    "```Python\n",
    "    idx = np.argsort(arr, axis=1)\n",
    "``` \n",
    "の結果として，\n",
    "```Python\n",
    "    sorted_arr = np.take_along_axis(arr, idx, axis=1)\n",
    "``` \n",
    "は，各行の要素を昇順に並べなおした配列を作る。"
   ]
  },
  {
   "cell_type": "code",
   "execution_count": 41,
   "metadata": {},
   "outputs": [
    {
     "name": "stdout",
     "output_type": "stream",
     "text": [
      "array([[2, 1, 0],\n",
      "       [2, 0, 1]], dtype=int64)\n",
      "array([[ 3,  4, 10],\n",
      "       [ 0,  2, 10]])\n"
     ]
    }
   ],
   "source": [
    "arr = np.array([[10, 4, 3],\n",
    "                [2, 10, 0]])\n",
    "idx = np.argsort(arr)\n",
    "print(repr(idx))\n",
    "sorted_arr = np.take_along_axis(arr, idx, axis=1) \n",
    "print(repr(sorted_arr))\n"
   ]
  },
  {
   "cell_type": "markdown",
   "metadata": {},
   "source": [
    "2次元配列 `arr` について，\n",
    "```Python\n",
    "    idx = np.argsort(arr, axis=1)\n",
    "``` \n",
    "の結果として，\n",
    "```Python\n",
    "    idx_winner = np.expand_dims(idx[:,-1], axis=-1)\n",
    "    sorted_arr = np.take_along_axis(arr, idx_winner, axis=1)\n",
    "``` \n",
    "は，各行の最大値の要素のみを取り出した配列を作る。"
   ]
  },
  {
   "cell_type": "code",
   "execution_count": 42,
   "metadata": {},
   "outputs": [
    {
     "name": "stdout",
     "output_type": "stream",
     "text": [
      "array([[2, 1, 0],\n",
      "       [2, 0, 1]], dtype=int64)\n",
      "array([[0],\n",
      "       [1]], dtype=int64)\n",
      "array([[10],\n",
      "       [10]])\n"
     ]
    }
   ],
   "source": [
    "arr = np.array([[10, 4, 3],\n",
    "                [1, 10, 0]])\n",
    "idx = np.argsort(arr)\n",
    "idx_winner = np.expand_dims(idx[:,-1], axis=-1)\n",
    "print(repr(idx))\n",
    "print(repr(idx_winner))\n",
    "arr_winner = np.take_along_axis(arr, idx_winner, axis=1)\n",
    "print(repr(arr_winner))\n"
   ]
  },
  {
   "cell_type": "markdown",
   "metadata": {},
   "source": [
    "[`numpy.put_along_axis(arr_replaced, idx, vals, axis)`](https://numpy.org/doc/stable/reference/generated/numpy.put_along_axis.html) は   \n",
    "[`numpy.take_along_axis(arr, idx, axis)`](https://numpy.org/doc/stable/reference/generated/numpy.take_along_axis.html)\n",
    "と逆に，`idx` で指定された要素を対応する `vals` の要素で置き換える。"
   ]
  },
  {
   "cell_type": "code",
   "execution_count": 43,
   "metadata": {},
   "outputs": [
    {
     "name": "stdout",
     "output_type": "stream",
     "text": [
      "[[999]\n",
      " [999]]\n",
      "array([[999,   4,   3],\n",
      "       [  1, 999,   0]])\n"
     ]
    }
   ],
   "source": [
    "arr = np.array([[10, 4, 3],\n",
    "                [1, 10, 0]])\n",
    "idx = np.argsort(arr)\n",
    "idx_winner = np.expand_dims(idx[:,-1], axis=-1)\n",
    "arr_winner = np.take_along_axis(arr, idx_winner, axis=1)\n",
    "fill_vals = np.full_like(arr_winner, 999)\n",
    "print(fill_vals)\n",
    "arr_replaced = arr.copy()\n",
    "np.put_along_axis(arr_replaced, idx_winner, fill_vals, axis=1)\n",
    "print(repr(arr_replaced))"
   ]
  }
 ],
 "metadata": {
  "kernelspec": {
   "display_name": "Python 3.8.13 ('base')",
   "language": "python",
   "name": "python3"
  },
  "language_info": {
   "codemirror_mode": {
    "name": "ipython",
    "version": 3
   },
   "file_extension": ".py",
   "mimetype": "text/x-python",
   "name": "python",
   "nbconvert_exporter": "python",
   "pygments_lexer": "ipython3",
   "version": "3.8.13"
  },
  "orig_nbformat": 4,
  "vscode": {
   "interpreter": {
    "hash": "a077222d77dfe082b8f1dd562ad70e458ac2ab76993a0b248ab0476e32e9e8dd"
   }
  }
 },
 "nbformat": 4,
 "nbformat_minor": 2
}
