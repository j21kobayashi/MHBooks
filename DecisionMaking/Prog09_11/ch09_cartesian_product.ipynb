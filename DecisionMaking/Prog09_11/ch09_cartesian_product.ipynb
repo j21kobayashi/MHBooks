{
 "cells": [
  {
   "cell_type": "markdown",
   "metadata": {},
   "source": [
    "[`itertools.product()`](https://docs.python.org/ja/3/library/itertools.html#itertools.product) \n",
    "で二つの集合 $A_1 = \\{\\text{L}, \\text{R}\\}$，$A_2 = \\{\\text{L}, \\text{R}\\}$ の\n",
    "直積集合 (Cartesian product) $A_1 \\times A_2$ の要素を列挙できる。"
   ]
  },
  {
   "cell_type": "code",
   "execution_count": 2,
   "metadata": {},
   "outputs": [
    {
     "name": "stdout",
     "output_type": "stream",
     "text": [
      "[('L', 'L'), ('L', 'R'), ('R', 'L'), ('R', 'R')]\n"
     ]
    }
   ],
   "source": [
    "import itertools\n",
    "A1 = ('L', 'R'); A2 = ('L', 'R')\n",
    "A = itertools.product(A1, A2)\n",
    "print([a for a in A])"
   ]
  }
 ],
 "metadata": {
  "kernelspec": {
   "display_name": "Python 3.8.13 ('base')",
   "language": "python",
   "name": "python3"
  },
  "language_info": {
   "codemirror_mode": {
    "name": "ipython",
    "version": 3
   },
   "file_extension": ".py",
   "mimetype": "text/x-python",
   "name": "python",
   "nbconvert_exporter": "python",
   "pygments_lexer": "ipython3",
   "version": "3.8.13"
  },
  "orig_nbformat": 4,
  "vscode": {
   "interpreter": {
    "hash": "a077222d77dfe082b8f1dd562ad70e458ac2ab76993a0b248ab0476e32e9e8dd"
   }
  }
 },
 "nbformat": 4,
 "nbformat_minor": 2
}
