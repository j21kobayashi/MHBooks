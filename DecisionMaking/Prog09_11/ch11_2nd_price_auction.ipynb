{
 "cells": [
  {
   "cell_type": "markdown",
   "metadata": {},
   "source": [
    "#### 第2価格秘密入札のシミュレーション\n",
    "##### 第2価格秘密入札のプロトコル\n",
    "- 主催者が開始時点での最低の価格を参加者全員に通知する。\n",
    "- 各参加者は主催者に自身の価格（入札額）を通知する。この価格はほかの参加者には知らされない。\n",
    "- 最高額の価格を通知した参加者が財を取得し，2番目に高い価格（第2価格）を支払う。\n",
    "\n",
    "##### シミュレーション上の設定\n",
    "- 各参加者の真の評価額$v_i$についてIPV設定を採用する。  \n",
    "  $v_i$は独立に区間 $[v_{\\min}, v_{\\max}]$ 上の一様分布に従う\n",
    "\n",
    "- 参加者の申告額（入札額）$\\hat{v}_i$は，評価額$v_i$と同様に連続型の変数であり，\n",
    "  $\\hat{v}_i \\in [v_{\\min}, v_{\\max}]$。\n",
    "\n",
    "- 戦略は，以下のいずれかとする。\n",
    "  - 第1価格秘密入札におけるナッシュ均衡戦略:  &emsp; $ \\hat{v}_i = \\dfrac{n-1}{n} v_i $\n",
    "  - 正直な申告(第1価格秘密入札における支配戦略):  &emsp; $ \\hat{v}_i = v_i $\n",
    "  - 混合戦略: &emsp; 区間 $[v_{\\min}, v_i]$ 上の一様分布に従う $\\hat{v}_i$ の標本値を申告額とする。"
   ]
  },
  {
   "cell_type": "code",
   "execution_count": 2,
   "metadata": {},
   "outputs": [
    {
     "name": "stdout",
     "output_type": "stream",
     "text": [
      "0: mixed strategy (uniform dist. over [vmin, v])\n",
      "1: truthful strategy\n",
      "2: truthful strategy\n",
      "3: truthful strategy\n",
      "4: truthful strategy\n",
      "sample exp. util.: [0.1137511  0.46740611 0.44401599 0.46930087 0.43910472]\n"
     ]
    },
    {
     "data": {
      "image/png": "[encoded data removed]",
      "text/plain": [
       "<Figure size 432x288 with 1 Axes>"
      ]
     },
     "metadata": {
      "needs_background": "light"
     },
     "output_type": "display_data"
    },
    {
     "data": {
      "image/png": "[encoded data removed]",
      "text/plain": [
       "<Figure size 432x288 with 1 Axes>"
      ]
     },
     "metadata": {
      "needs_background": "light"
     },
     "output_type": "display_data"
    }
   ],
   "source": [
    "import numpy as np\n",
    "from scipy.stats import uniform\n",
    "import matplotlib.pyplot as plt\n",
    "\n",
    "num_bidders = 5 ; num_repeat = 10000 #3 #\n",
    "vmin, vmax = (0, 10)\n",
    "\n",
    "v = uniform.rvs(loc=vmin, scale=(vmax - vmin), size=(num_repeat, num_bidders))\n",
    "# h = np.full_like(v, fill_value=1)\n",
    "\n",
    "st_nash_eql = lambda v, n: (n-1)*v/n\n",
    "st_truthful = lambda v, n: v\n",
    "st_rand_uni = lambda v, n: uniform.rvs(loc=vmin, scale=(v - vmin), size=v.shape)\n",
    "stg_name = {\n",
    "    st_nash_eql: 'strategy in Nash Eql. (of 1st-price auction)', \n",
    "    st_truthful: 'truthful strategy',\n",
    "    st_rand_uni: 'mixed strategy (uniform dist. over [vmin, v])'}\n",
    "\n",
    "\n",
    "if False:\n",
    "    # 全員が同じ戦略をとる場合\n",
    "\n",
    "    # strategy_list = [st_nash_eql for dummy in range(num_bidders)]\n",
    "    strategy_list = [st_truthful for dummy in range(num_bidders)]\n",
    "\n",
    "else:\n",
    "    # 一人だけ異なる戦略をとる場合\n",
    "\n",
    "    # strategy_list = [st_truthful, *tuple(st_nash_eql for _ in range(num_bidders-1))]\n",
    "    # strategy_list = [st_truthful, *(st_nash_eql for dummy in range(num_bidders-1))]\n",
    "    # strategy_list = [st_nash_eql, *(st_truthful for dummy in range(num_bidders-1))]\n",
    "    strategy_list = [st_rand_uni, *(st_truthful for dummy in range(num_bidders-1))]\n",
    "\n",
    "print('\\n'.join(f'{i}: {stg_name[s]}' for i, s in enumerate(strategy_list)))\n",
    "\n",
    "v_hat = np.vstack([strategy_list[i](v[:, i], num_bidders) for i in range(num_bidders)]).T\n",
    "\n",
    "sort_axis = 1\n",
    "idx = np.argsort(v_hat, axis=sort_axis)\n",
    "idx_winner = np.expand_dims(idx[:,-1], axis=-1)\n",
    "idx_2nd_price = np.expand_dims(idx[:,-2], axis=-1)\n",
    "payment = np.take_along_axis(v_hat, idx_2nd_price, axis=sort_axis)\n",
    "true_value = np.take_along_axis(v, idx_winner, axis=sort_axis)\n",
    "win_count = np.array([np.count_nonzero(idx_winner == i) for i in range(num_bidders)])\n",
    "win_rate = win_count/num_repeat\n",
    "util = np.zeros_like(v_hat)\n",
    "np.put_along_axis(util, idx_winner, true_value - payment, axis=sort_axis) \n",
    "smp_exp_util = np.mean(util, axis=0)\n",
    "print('sample exp. util.:', smp_exp_util)\n",
    "\n",
    "\n",
    "plt.rcParams['mathtext.fontset'] = 'stix'\n",
    "plt.rcParams['ytick.labelsize'] = 'xx-large' #'large'\n",
    "plt.rcParams['xtick.labelsize'] = 'xx-large' #'large'\n",
    "plt.rcParams['axes.labelsize']  = 'xx-large' #'large'\n",
    "\n",
    "plt.figure()\n",
    "plt.bar(np.arange(num_bidders), win_rate)\n",
    "plt.xlabel('bidder')\n",
    "plt.ylabel('win rate')\n",
    "plt.savefig('win_rate_2nd-pr_auction.pdf', bbox_inches='tight')\n",
    "\n",
    "plt.figure()\n",
    "plt.bar(np.arange(num_bidders), smp_exp_util)\n",
    "plt.xlabel('bidder')\n",
    "plt.ylabel('sample exp. util.')\n",
    "plt.savefig('smp_exp_util_2nd-pr_auction.pdf', bbox_inches='tight')\n"
   ]
  },
  {
   "cell_type": "markdown",
   "metadata": {},
   "source": [
    "#### 解説\n",
    "第2価格秘密入札のシミュレーションを構成する関数・文法事項は，第1価格秘密入札のそれとほぼ同様なので，\n",
    "解説については，`ch11_1st_price_auction.ipynb` の解説を参照されたい。"
   ]
  }
 ],
 "metadata": {
  "kernelspec": {
   "display_name": "Python 3.8.13 ('base')",
   "language": "python",
   "name": "python3"
  },
  "language_info": {
   "codemirror_mode": {
    "name": "ipython",
    "version": 3
   },
   "file_extension": ".py",
   "mimetype": "text/x-python",
   "name": "python",
   "nbconvert_exporter": "python",
   "pygments_lexer": "ipython3",
   "version": "3.8.13"
  },
  "orig_nbformat": 4,
  "vscode": {
   "interpreter": {
    "hash": "a077222d77dfe082b8f1dd562ad70e458ac2ab76993a0b248ab0476e32e9e8dd"
   }
  }
 },
 "nbformat": 4,
 "nbformat_minor": 2
}
