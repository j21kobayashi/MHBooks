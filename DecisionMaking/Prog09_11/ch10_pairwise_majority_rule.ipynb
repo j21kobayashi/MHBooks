{
 "cells": [
  {
   "cell_type": "markdown",
   "metadata": {},
   "source": [
    "### ペア多数決 (pairwise majority rule) による選好プロファイルの集約\n",
    "- あり得るすべての選択肢のペア $\\forall o_1, o_2 \\in O$ について，\n",
    "  各投票者は自身の選好順序において順位が高いほうの選択肢に 1票だけ投票する。\n",
    "  \n",
    "- $\\#(o_1 \\succ o_2)$によって，$o_1 \\succ_i o_2$となっている投票者\n",
    "  の人数を表現するとき，集計結果に応じて，\n",
    "\n",
    "  $$\n",
    "  \\begin{aligned}\n",
    "      o_1 \\succ_W o_2 \\quad \\text{if} \\quad \\#(o_1 \\succ o_2) > \\#(o_2 \\succ o_1)  \\\\\n",
    "      o_1 \\sim_W  o_2 \\quad \\text{if} \\quad \\#(o_1 \\succ o_2) = \\#(o_2 \\succ o_1) \\\\\n",
    "      o_1 \\prec_W o_2 \\quad \\text{if} \\quad \\#(o_1 \\succ o_2) < \\#(o_2 \\succ o_1) \n",
    "  \\end{aligned}\n",
    "  $$\n",
    "\n",
    "  のいずれかの順序を選ぶ。\n",
    "\n",
    "- 選択肢$o_1, o_2, \\ldots o_m$の全体についての一連の順序を決定するには，\n",
    "  選好の推移性に従う。\n",
    "\n",
    "- 選好の推移性だけでは，順序が循環的となってしまう選好プロファイルへの対処については\n",
    "  コンドルセ-ヤング・ルール `ch10_condorcet_young_rule.ipynb` を参照。"
   ]
  },
  {
   "cell_type": "code",
   "execution_count": 13,
   "metadata": {},
   "outputs": [
    {
     "data": {
      "text/markdown": [
       "voter 0: &emsp;a $\\succ$ b $\\succ$ c  \n",
       "voter 1: &emsp;a $\\succ$ b $\\succ$ c  \n",
       "voter 2: &emsp;a $\\succ$ b $\\succ$ c  \n",
       "voter 3: &emsp;a $\\succ$ b $\\succ$ c  \n",
       "voter 4: &emsp;a $\\succ$ b $\\succ$ c  \n",
       "$\\quad \\vdots$"
      ]
     },
     "metadata": {},
     "output_type": "display_data"
    },
    {
     "data": {
      "text/markdown": [
       "$\\#$(a $\\succ$ b) == 102, &emsp; $\\#$(b $\\succ$ a) == 96  \n",
       "$\\#$(a $\\succ$ c) == 100, &emsp; $\\#$(c $\\succ$ a) == 98  \n",
       "$\\#$(b $\\succ$ c) == 112, &emsp; $\\#$(c $\\succ$ b) == 86"
      ]
     },
     "metadata": {},
     "output_type": "display_data"
    },
    {
     "name": "stdout",
     "output_type": "stream",
     "text": [
      "p.m.r. winner: {'a': True, 'b': False, 'c': False}\n"
     ]
    }
   ],
   "source": [
    "import itertools as it\n",
    "import numpy as np\n",
    "# from scipy.stats import randint\n",
    "import scipy.stats\n",
    "from IPython.display import display_markdown\n",
    "\n",
    "# alternatives = ('a', 'b', 'c', 'd') \n",
    "alternatives = ('a', 'b', 'c') \n",
    "prefs = np.array(tuple(it.permutations(alternatives)))\n",
    "\n",
    "if False:\n",
    "    num_voters = 100 #5 #6\n",
    "    profile_idx = scipy.stats.randint.rvs(0, len(prefs), size=num_voters)\n",
    "    profile = prefs[profile_idx]\n",
    "\n",
    "elif True:\n",
    "    # tally = {('a', 'b', 'c'): 30,\n",
    "    #          ('a', 'c', 'b'): 56,\n",
    "    #          ('c', 'a', 'b'): 7,\n",
    "    #          ('c', 'b', 'a'): 28,\n",
    "    #          ('b', 'c', 'a'): 62,\n",
    "    #          ('b', 'a', 'c'): 15}\n",
    "\n",
    "    # tally = {('a', 'b', 'c'): 17,\n",
    "    #          ('a', 'c', 'b'): 18,\n",
    "    #          ('c', 'a', 'b'): 8,\n",
    "    #          ('c', 'b', 'a'): 9,\n",
    "    #          ('b', 'c', 'a'): 26,\n",
    "    #          ('b', 'a', 'c'): 0}\n",
    "\n",
    "    # tally = {('a', 'b', 'c'): 18,\n",
    "    #          ('a', 'c', 'b'): 19,\n",
    "    #          ('c', 'a', 'b'): 8,\n",
    "    #          ('c', 'b', 'a'): 8,\n",
    "    #          ('b', 'c', 'a'): 25,\n",
    "    #          ('b', 'a', 'c'): 0}\n",
    "\n",
    "    tally = {('a', 'b', 'c'): 37,\n",
    "             ('a', 'c', 'b'): 53,\n",
    "             ('c', 'a', 'b'): 12,\n",
    "             ('c', 'b', 'a'): 21,\n",
    "             ('b', 'c', 'a'): 65,\n",
    "             ('b', 'a', 'c'): 10}\n",
    "\n",
    "    profile = np.array(tuple(it.chain.from_iterable(it.repeat(p, v) for p, v in tally.items())))\n",
    "    num_voters = len(profile) \n",
    "\n",
    "else:\n",
    "    profile = prefs\n",
    "    num_voters = len(profile) \n",
    "\n",
    "pref_str = lambda p: r' $\\succ$ '.join(p)\n",
    "display_markdown('  \\n'.join(f'voter {i}: &emsp;' + pref_str(p) for i, p in enumerate(profile) if i < 5)\n",
    "+ '  \\n' + r'$\\quad \\vdots$', raw=True)\n",
    "\n",
    "\n",
    "def is_preferred_to(pref, x, y):\n",
    "    \"\"\"\n",
    "    選好順序 pref において x が y よりも上位にあれば True,\n",
    "    そうでなければ False を返す。\n",
    "    \"\"\"\n",
    "    pos_x = np.flatnonzero(pref == x)[0]\n",
    "    pos_y = np.flatnonzero(pref == y)[0]\n",
    "    return pos_x < pos_y\n",
    "\n",
    "pairwise_tally = {\n",
    "    cp: np.count_nonzero([is_preferred_to(p, *cp) for p in profile])\n",
    "        for cp in it.combinations(alternatives, 2)}  \n",
    "\n",
    "display_markdown('  \\n'.join(\n",
    "    f'$\\#$({pref_str(c)}) == {s}, &emsp; ' + \n",
    "    f'$\\#$({pref_str(c[::-1])}) == {num_voters - s}' \n",
    "        for c, s in pairwise_tally.items()), raw=True)\n",
    "\n",
    "winner = {a: True for a in alternatives}\n",
    "\n",
    "for a in alternatives:\n",
    "    for (x, y),s in pairwise_tally.items():\n",
    "        if ((x == a and s < num_voters - s) or\n",
    "            (y == a and num_voters - s < s)):\n",
    "                winner[a] = False\n",
    "\n",
    "print(f'p.m.r. winner: {winner}') # p.m.r.: pairwise majority rule "
   ]
  },
  {
   "cell_type": "markdown",
   "metadata": {},
   "source": [
    "#### 解説\n",
    "- 以下の解説のセルを正常に実行するには Notebook の最初から順にセルを実行しておく必要がある。\n",
    "- 選好プロファイルの生成については，`ch10_plurality_voting.ipynb` を参照。"
   ]
  },
  {
   "cell_type": "markdown",
   "metadata": {},
   "source": [
    "配列 `x` に対して\n",
    " [`numpy.flatnonzero(x)`](https://numpy.org/doc/stable/reference/generated/numpy.flatnonzero.html) \n",
    "は値が True となる `x` の要素のインデックスを並べた配列を返す。  "
   ]
  },
  {
   "cell_type": "code",
   "execution_count": 14,
   "metadata": {},
   "outputs": [
    {
     "name": "stdout",
     "output_type": "stream",
     "text": [
      "x ==  [ True False  True]\n",
      "np.flatnonzero(x) == [0 2]\n",
      "(pref == 'b') == [ True False False]\n",
      "np.flatnonzero(pref == 'b') == [0]\n",
      "(pref == 'c') == [False  True False]\n",
      "np.flatnonzero(pref == 'c') == [1]\n"
     ]
    }
   ],
   "source": [
    "x = np.array([True, False, True])\n",
    "print('x == ', x)\n",
    "print('np.flatnonzero(x) ==', np.flatnonzero(x))\n",
    "pref = np.array(['b', 'c', 'a'])\n",
    "print(\"(pref == 'b') ==\", pref == 'b')\n",
    "print(\"np.flatnonzero(pref == 'b') ==\", np.flatnonzero(pref == 'b'))\n",
    "print(\"(pref == 'c') ==\", pref == 'c')\n",
    "print(\"np.flatnonzero(pref == 'c') ==\", np.flatnonzero(pref == 'c'))"
   ]
  },
  {
   "cell_type": "markdown",
   "metadata": {},
   "source": [
    "配列 `x` に対して [`np.count_nonzero(x)`](https://numpy.org/doc/stable/reference/generated/numpy.count_nonzero.html) は 評価結果が True となる `x` の要素の個数を返す。"
   ]
  },
  {
   "cell_type": "code",
   "execution_count": 15,
   "metadata": {},
   "outputs": [
    {
     "name": "stdout",
     "output_type": "stream",
     "text": [
      "np.count_nonzero(x) == 2\n"
     ]
    }
   ],
   "source": [
    "x = np.array([True, True, False, False, False, False])\n",
    "print('np.count_nonzero(x) ==', np.count_nonzero(x))"
   ]
  },
  {
   "cell_type": "markdown",
   "metadata": {},
   "source": [
    "`is_preferred_to(p, *cp)` は `is_preferred_to(p, cp[0], cp[1])` と同等な関数呼び出しとなる。"
   ]
  },
  {
   "cell_type": "code",
   "execution_count": 16,
   "metadata": {},
   "outputs": [
    {
     "name": "stdout",
     "output_type": "stream",
     "text": [
      "f(*t) ==  3\n"
     ]
    }
   ],
   "source": [
    "def f(x, y):\n",
    "    return x + y\n",
    "\n",
    "t = (1, 2)\n",
    "print('f(*t) == ', f(*t))"
   ]
  },
  {
   "cell_type": "markdown",
   "metadata": {},
   "source": [
    "選択肢の集合 $O$ について， あり得るすべての選択肢のペア $o_1, o_2 \\in O$ は\n",
    "[`it.combinations()`](https://docs.python.org/ja/3/library/itertools.html#itertools.combinations)\n",
    "で列挙できる。"
   ]
  },
  {
   "cell_type": "code",
   "execution_count": 17,
   "metadata": {},
   "outputs": [
    {
     "data": {
      "text/plain": [
       "[('a', 'b'), ('a', 'c'), ('b', 'c')]"
      ]
     },
     "execution_count": 17,
     "metadata": {},
     "output_type": "execute_result"
    }
   ],
   "source": [
    "[cp for cp in it.combinations(alternatives, 2)]"
   ]
  }
 ],
 "metadata": {
  "interpreter": {
   "hash": "a077222d77dfe082b8f1dd562ad70e458ac2ab76993a0b248ab0476e32e9e8dd"
  },
  "kernelspec": {
   "display_name": "Python 3.8.5 ('base')",
   "language": "python",
   "name": "python3"
  },
  "language_info": {
   "codemirror_mode": {
    "name": "ipython",
    "version": 3
   },
   "file_extension": ".py",
   "mimetype": "text/x-python",
   "name": "python",
   "nbconvert_exporter": "python",
   "pygments_lexer": "ipython3",
   "version": "3.8.13"
  },
  "orig_nbformat": 4
 },
 "nbformat": 4,
 "nbformat_minor": 2
}
