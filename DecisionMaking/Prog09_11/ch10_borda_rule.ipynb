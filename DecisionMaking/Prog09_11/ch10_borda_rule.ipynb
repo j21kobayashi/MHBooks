{
 "cells": [
  {
   "cell_type": "markdown",
   "metadata": {},
   "source": [
    "### ボルダルールによる選好プロファイルの集約\n",
    "- スコアリングルール:  \n",
    "  各投票者は自身の選好順序全体を申告する。\n",
    "  各選択肢 $o \\in O$ について，\n",
    "  $o$ を第 $k$ 位に位置づける投票者の人数を $X_k(o)$，\n",
    "  第 $k$ 位の選択肢に与える得点係数を $w_k$\n",
    "  と置き，総得点を次式により求める（$m = |O|$）。\n",
    "  \n",
    "  $$\n",
    "  \\begin{aligned}\n",
    "      \\zeta(o) = \\sum_{k=1}^{m} w_k X_k(o) \n",
    "  \\end{aligned}\n",
    "  $$\n",
    "\n",
    "  $\\zeta(o)$ が大きい順に選択肢を並べた順序を\n",
    "  社会選好順序として採択する。\n",
    "\n",
    "- ボルダルール:  \n",
    "  スコアリングルールにおいて個人の選好順序で上から第 $k$ 位の選択肢に\n",
    "  与える得点係数 $w_k$ について，\n",
    "\n",
    "  $$\n",
    "      \\begin{aligned}\n",
    "          w_k - w_{k+1} = w_{k+1} - w_{k+2} = \\text{const.}\n",
    "      \\end{aligned}\n",
    "  $$\n",
    "\n",
    "  が成立するとき，そのルールをボルダルールと呼ぶ。\n",
    "  \n",
    "  特に $w_k - w_{k+1} = 1$ かつ $w_m = 0$\n",
    "  とすると， $w_k = m - k$ となる（$m = |O|$）。"
   ]
  },
  {
   "cell_type": "code",
   "execution_count": 15,
   "metadata": {},
   "outputs": [
    {
     "name": "stdout",
     "output_type": "stream",
     "text": [
      "borda_score: {'a': 202, 'b': 208, 'c': 184}\n"
     ]
    },
    {
     "data": {
      "text/markdown": [
       "tally:  \n",
       "a $\\succ$ b $\\succ$ c: &emsp; 37  \n",
       "a $\\succ$ c $\\succ$ b: &emsp; 53  \n",
       "b $\\succ$ a $\\succ$ c: &emsp; 10  \n",
       "b $\\succ$ c $\\succ$ a: &emsp; 65  \n",
       "c $\\succ$ a $\\succ$ b: &emsp; 12  \n",
       "c $\\succ$ b $\\succ$ a: &emsp; 21  \n"
      ]
     },
     "metadata": {},
     "output_type": "display_data"
    },
    {
     "data": {
      "text/markdown": [
       "social order: &emsp;b $\\succ$ a $\\succ$ c"
      ]
     },
     "metadata": {},
     "output_type": "display_data"
    },
    {
     "data": {
      "image/png": "[encoded data removed]",
      "text/plain": [
       "<Figure size 432x288 with 1 Axes>"
      ]
     },
     "metadata": {
      "needs_background": "light"
     },
     "output_type": "display_data"
    },
    {
     "data": {
      "image/png": "[encoded data removed]",
      "text/plain": [
       "<Figure size 432x288 with 1 Axes>"
      ]
     },
     "metadata": {
      "needs_background": "light"
     },
     "output_type": "display_data"
    }
   ],
   "source": [
    "import itertools as it\n",
    "import numpy as np\n",
    "# from scipy.stats import randint\n",
    "import scipy.stats\n",
    "from IPython.display import display_markdown\n",
    "import matplotlib.pyplot as plt\n",
    "\n",
    "plt.rcParams['ytick.labelsize'] = 'xx-large' #'large'\n",
    "plt.rcParams['xtick.labelsize'] = 'xx-large' #'large'\n",
    "plt.rcParams['axes.labelsize'] = 'xx-large' #'large'\n",
    "\n",
    "alternatives = ('a', 'b', 'c') \n",
    "preferences = np.array(tuple(it.permutations(alternatives)))\n",
    "if False:\n",
    "    num_voters = 100 # 5 #6\n",
    "    profile_idx = scipy.stats.randint.rvs(0, len(preferences), size=num_voters)\n",
    "    profile = preferences[profile_idx]\n",
    "\n",
    "elif True:\n",
    "    # tally = {('a', 'b', 'c'): 30,\n",
    "    #          ('a', 'c', 'b'): 56,\n",
    "    #          ('c', 'a', 'b'): 7,\n",
    "    #          ('c', 'b', 'a'): 28,\n",
    "    #          ('b', 'c', 'a'): 62,\n",
    "    #          ('b', 'a', 'c'): 15}\n",
    "\n",
    "    tally = {('a', 'b', 'c'): 37,\n",
    "             ('a', 'c', 'b'): 53,\n",
    "             ('c', 'a', 'b'): 12,\n",
    "             ('c', 'b', 'a'): 21,\n",
    "             ('b', 'c', 'a'): 65,\n",
    "             ('b', 'a', 'c'): 10}\n",
    "\n",
    "    # tally = {('a', 'b', 'c'): 17,\n",
    "    #          ('a', 'c', 'b'): 18,\n",
    "    #          ('c', 'a', 'b'): 8,\n",
    "    #          ('c', 'b', 'a'): 9,\n",
    "    #          ('b', 'c', 'a'): 26,\n",
    "    #          ('b', 'a', 'c'): 0}\n",
    "\n",
    "    # tally = {('a', 'b', 'c'): 18,\n",
    "    #          ('a', 'c', 'b'): 19,\n",
    "    #          ('c', 'a', 'b'): 8,\n",
    "    #          ('c', 'b', 'a'): 8,\n",
    "    #          ('b', 'c', 'a'): 25,\n",
    "    #          ('b', 'a', 'c'): 0}\n",
    "\n",
    "    profile = np.array(tuple(it.chain.from_iterable(it.repeat(p, v) for p, v in tally.items())))\n",
    "    num_voters = len(profile) \n",
    "elif False:\n",
    "    profile = np.array((('a', 'b', 'c'),\n",
    "                        ('b', 'c', 'a'),\n",
    "                        ('c', 'a', 'b')))\n",
    "    num_voters = len(profile) \n",
    "else:\n",
    "    profile = preferences\n",
    "    num_voters = len(profile) \n",
    "\n",
    "pref_str = lambda p: r' $\\succ$ '.join(p)\n",
    "# display_markdown('  \\n'.join(f'voter {i}: &emsp;' + pref_str(p) for i, p in enumerate(profile)), raw=True)\n",
    "\n",
    "m = len(alternatives)\n",
    "borda_score = {a: 0 for a in alternatives}\n",
    "for pref in profile:\n",
    "    for a in alternatives:\n",
    "        bs = m - (np.flatnonzero(pref == a)[0] + 1)\n",
    "        borda_score[a] += bs\n",
    "print(f'borda_score: {borda_score}')\n",
    "\n",
    "# randint.rvs() で profile を生成した場合を想定して選好タイプについての集計を行う\n",
    "tally = {tuple(p): 0 for p in preferences}\n",
    "for p in profile:\n",
    "    tally[tuple(p)] += 1\n",
    "\n",
    "\n",
    "# print(f'tally: {repr(tally)}')\n",
    "md_txt = 'tally:  \\n'\n",
    "for k, v in tally.items():\n",
    "    # print(f'{k}: {v}')\n",
    "    md_txt += f'{pref_str(k)}: &emsp; {v}  \\n'\n",
    "display_markdown(md_txt, raw=True)\n",
    "\n",
    "idx = np.argsort(tuple(borda_score.values()))\n",
    "display_markdown('social order: &emsp;' + pref_str(np.array(tuple(borda_score.keys()))[idx[::-1]]), raw=True)\n",
    "plt.figure()\n",
    "plt.barh(np.arange(len(tally.keys()))[::-1], \n",
    "         tuple(tally.values()),\n",
    "         tick_label=[pref_str(k) for k in tally.keys()])\n",
    "plt.xlabel('num. vorters, $n$')\n",
    "plt.savefig('generated_preferences.pdf', bbox_inches='tight')\n",
    "\n",
    "plt.figure()\n",
    "plt.barh(np.arange(len(borda_score.keys()))[::-1],\n",
    "        tuple(borda_score.values()),\n",
    "        tick_label=tuple(borda_score.keys()))\n",
    "plt.xlabel('Borda score')\n",
    "plt.savefig('borda_score.pdf', bbox_inches='tight')"
   ]
  },
  {
   "cell_type": "markdown",
   "metadata": {},
   "source": [
    "#### 解説\n",
    "- 以下の解説のセルを正常に実行するには Notebook の最初から順にセルを実行しておく必要がある。\n",
    "- 選好プロファイルの生成については，`ch10_plurality_voting.ipynb` を参照。"
   ]
  },
  {
   "cell_type": "markdown",
   "metadata": {},
   "source": [
    "選好順序に応じた得点係数 $w_k = m - k$ ，すなわち，\n",
    "```Python\n",
    "        bs = m - (np.flatnonzero(pref == a)[0] + 1)\n",
    "```\n",
    "について，\n",
    "[`numpy.flatnonzero(arr)`](https://numpy.org/doc/stable/reference/generated/numpy.flatnonzero.html) \n",
    "は `arr` が bool型の配列の場合，True に対応する要素のインデックスを並べた配列を返す\n",
    "(ただし，このときのインデックスは，`arr` を1次元の配列に変換したときのインデックスとなる)。\n",
    "結果として， `(np.flatnonzero(pref == a)[0] + 1)` は選好順序 `pref` における選択肢 `a` の順位 $k$ となる。"
   ]
  },
  {
   "cell_type": "code",
   "execution_count": 16,
   "metadata": {},
   "outputs": [
    {
     "name": "stdout",
     "output_type": "stream",
     "text": [
      "array(['a', 'b', 'c'], dtype='<U1')\n",
      "(pref == 'a') == [ True False False]\n",
      "(pref == 'a').shape == (3,)\n",
      "np.flatnonzero(pref == 'a') ==  [0]\n",
      "np.flatnonzero(pref == 'a')[0] ==  0\n",
      "\n"
     ]
    }
   ],
   "source": [
    "pref = profile[0]\n",
    "print(repr(pref))\n",
    "\n",
    "arr = (pref == 'a')\n",
    "print(\"(pref == 'a') ==\", arr)\n",
    "print(\"(pref == 'a').shape ==\", arr.shape)\n",
    "print(\"np.flatnonzero(pref == 'a') == \", np.flatnonzero(arr))\n",
    "print(\"np.flatnonzero(pref == 'a')[0] == \", np.flatnonzero(arr)[0])\n",
    "print()\n"
   ]
  },
  {
   "cell_type": "markdown",
   "metadata": {},
   "source": [
    "`for pref in profile:` について，`pref` は `profile` の各行，すなわち，各選好順序に対応する。"
   ]
  },
  {
   "cell_type": "code",
   "execution_count": 17,
   "metadata": {},
   "outputs": [
    {
     "name": "stdout",
     "output_type": "stream",
     "text": [
      "profile.shape == (198, 3)\n",
      "pref.shape == (3,)\n",
      "pref == ['a' 'b' 'c']\n"
     ]
    }
   ],
   "source": [
    "print('profile.shape ==', profile.shape)\n",
    "\n",
    "for pref in profile:\n",
    "    print('pref.shape ==', pref.shape)\n",
    "    print('pref ==', pref)\n",
    "    break"
   ]
  },
  {
   "cell_type": "markdown",
   "metadata": {},
   "source": [
    "[`numpy.argsort()`](https://numpy.org/doc/stable/reference/generated/numpy.argsort.html)\n",
    "による整列\n",
    "```Python\n",
    "    idx = np.argsort(tuple(borda_score.values()))\n",
    "```\n",
    "の結果の `idx` は配列の要素を昇順に並べる。\n",
    "[スライス表記](https://docs.python.org/ja/3/reference/expressions.html#slicings) \n",
    " `idx[::-1]` で逆順にすれば，降順になる。"
   ]
  },
  {
   "cell_type": "code",
   "execution_count": 25,
   "metadata": {},
   "outputs": [
    {
     "name": "stdout",
     "output_type": "stream",
     "text": [
      "dict_values([202, 208, 184])\n",
      "dict_keys(['a', 'b', 'c'])\n",
      "('a', 'b', 'c')\n",
      "昇順:  ['c' 'a' 'b']\n",
      "降順:  ['b' 'a' 'c']\n"
     ]
    }
   ],
   "source": [
    "print(borda_score.values())\n",
    "print(borda_score.keys())\n",
    "print(tuple(borda_score.keys()))\n",
    "print('昇順: ', np.array(tuple(borda_score.keys()))[idx])\n",
    "print('降順: ', np.array(tuple(borda_score.keys()))[idx[::-1]])"
   ]
  }
 ],
 "metadata": {
  "interpreter": {
   "hash": "a077222d77dfe082b8f1dd562ad70e458ac2ab76993a0b248ab0476e32e9e8dd"
  },
  "kernelspec": {
   "display_name": "Python 3.8.5 ('base')",
   "language": "python",
   "name": "python3"
  },
  "language_info": {
   "codemirror_mode": {
    "name": "ipython",
    "version": 3
   },
   "file_extension": ".py",
   "mimetype": "text/x-python",
   "name": "python",
   "nbconvert_exporter": "python",
   "pygments_lexer": "ipython3",
   "version": "3.8.13"
  },
  "orig_nbformat": 4
 },
 "nbformat": 4,
 "nbformat_minor": 2
}
