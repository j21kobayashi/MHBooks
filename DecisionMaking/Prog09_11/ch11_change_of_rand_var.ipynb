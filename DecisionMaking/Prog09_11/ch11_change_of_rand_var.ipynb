{
 "cells": [
  {
   "cell_type": "markdown",
   "metadata": {},
   "source": [
    "#### 累積分布関数 $F_X(x)$に従う確率変数 $X$ から一様分布に従う確率変数$U$ への変換\n",
    "- 確率変数 $X$ を，それが従う確率分布の累積分布関数(CDF)で $U = F_X(X)$ と変換すると，\n",
    "  $U$ は一様分布に従う確率変数となる\n",
    "- 以下のグラフでは，2種類の確率分布（正規分布，$\\chi^2$ 分布）に従う標本を，それぞれの累積分布関数\n",
    "  (`norm.cdf`, `ch2_f.cdf`) で変換して，その結果のヒストグラムを一様分布の確率密度関数と比較している"
   ]
  },
  {
   "cell_type": "code",
   "execution_count": 1,
   "metadata": {},
   "outputs": [
    {
     "data": {
      "image/png": "[encoded data removed]",
      "text/plain": [
       "<Figure size 432x288 with 1 Axes>"
      ]
     },
     "metadata": {
      "needs_background": "light"
     },
     "output_type": "display_data"
    }
   ],
   "source": [
    "import numpy as np\n",
    "from scipy.stats import uniform, norm, chi2\n",
    "import matplotlib.pyplot as plt\n",
    "\n",
    "n = 10000\n",
    "x = norm.rvs(size=n)\n",
    "u = norm.cdf(x) # 累積分布関数(cumulative distribution function)\n",
    "\n",
    "chi2_f = chi2.freeze(df=10)\n",
    "x2 = chi2_f.rvs(size=n)\n",
    "u2 = chi2_f.cdf(x2) # 累積分布関数(cumulative distribution function)\n",
    "\n",
    "v = np.linspace(0.0, 1.0, 100)\n",
    "pdf_v = uniform.pdf(v)\n",
    "\n",
    "plt.rcParams['mathtext.fontset'] = 'stix'\n",
    "plt.rcParams['ytick.labelsize'] = 'xx-large' #'large'\n",
    "plt.rcParams['xtick.labelsize'] = 'xx-large' #'large'\n",
    "plt.rcParams['axes.labelsize']  = 'xx-large' #'large'\n",
    "plt.rcParams['legend.fontsize'] = 'xx-large'\n",
    "\n",
    "plt.hist(u, bins=15, density=True, histtype='stepfilled', alpha=0.2, label='sampling from norm')\n",
    "plt.hist(u2, bins=15, density=True, histtype='stepfilled', alpha=0.2, label='sampling from chi2')\n",
    "\n",
    "plt.plot(v, pdf_v, 'r-', lw=3, alpha=0.6, label='PDF of uniform dist')\n",
    "\n",
    "plt.legend(loc='best', frameon=False)\n",
    "plt.savefig('change_of_rand_var.pdf', bbox_inches='tight')"
   ]
  },
  {
   "cell_type": "markdown",
   "metadata": {},
   "source": [
    "##### 解説\n",
    "一般に，変換$Y = g(X)$で対応づけられる確率変数$X$，$Y$が従う分布の\n",
    "確率密度関数をそれぞれ，$f_X(x)$，$f_Y(y)$とすると，\n",
    "両者の関係は\n",
    "\n",
    "$$\n",
    "f_Y(y) = f_X(x) \\bigg/ \\left|\\dfrac{d g(x)}{d x}\\right|\n",
    "$$\n",
    "\n",
    "となる。\n",
    "\n",
    "したがって，$U = F_X(X)$で示される変換について，\n",
    "\n",
    "$$\n",
    "\\begin{aligned}\n",
    "    f_U(u) \n",
    "      = f_X(x) \\bigg/ \\left|\\dfrac{d F_X(x)}{d x}\\right|\n",
    "      = f_X(x) / |f_X(x)| = 1\n",
    "\\end{aligned}\n",
    "$$\n",
    "\n",
    "が成立する（ $f_X(x)$ は $F_X(x)$ に対応する確率密度関数であり，$f_X(x) \\geq 0$）。\n",
    "\n",
    "一方で，累積分布関数(cumulative distribution function; CDF)の定義から \n",
    "$U = F_X(X)$ の値の範囲は $[0, 1]$ なので，\n",
    "$U$ が従う確率分布が区間 $[0, 1]$ 上の一様分布であることが確かめられる。\n",
    "\n",
    "上記の仕組みは，$F_X(x)$ が表す確率分布が正規分布でも $\\chi^2$ 分布でも通用する。"
   ]
  }
 ],
 "metadata": {
  "interpreter": {
   "hash": "a077222d77dfe082b8f1dd562ad70e458ac2ab76993a0b248ab0476e32e9e8dd"
  },
  "kernelspec": {
   "display_name": "Python 3.8.5 ('base')",
   "language": "python",
   "name": "python3"
  },
  "language_info": {
   "codemirror_mode": {
    "name": "ipython",
    "version": 3
   },
   "file_extension": ".py",
   "mimetype": "text/x-python",
   "name": "python",
   "nbconvert_exporter": "python",
   "pygments_lexer": "ipython3",
   "version": "3.8.13"
  },
  "orig_nbformat": 4
 },
 "nbformat": 4,
 "nbformat_minor": 2
}
