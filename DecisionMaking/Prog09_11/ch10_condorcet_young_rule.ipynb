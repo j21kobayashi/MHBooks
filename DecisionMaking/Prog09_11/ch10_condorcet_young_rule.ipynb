{
 "cells": [
  {
   "cell_type": "markdown",
   "metadata": {},
   "source": [
    "### コンドルセ-ヤング・ルールによる選好プロファイルの集約\n",
    "- ペア多数決と同様に，あり得るすべての選択肢のペア $o_1, o_2 \\in O$ について，\n",
    "  各投票者が考える選好順序で上位にある選択肢に1票だけ投票する。\n",
    "- 次に，あり得るすべての選好タイプ $\\theta \\in \\Theta = \\{(a \\succ b \\succ c), \\ldots \\}$\n",
    "  について，次の $M(\\theta)$ を計算する。\n",
    "\n",
    "  $$\n",
    "  \\begin{aligned}\n",
    "      M(\\theta) = \\#(o_1 \\succ o_2) + \\#(o_2 \\succ o_3) + \\#(o_1 \\succ o_3) \n",
    "  \\end{aligned}\n",
    "  $$\n",
    "\n",
    "  ここで，$o_1$，$o_2$，$o_3$は$\\theta$に整合するように選択する\n",
    "  （$\\theta = (a \\succ b \\succ c)$であれば， $(o_1, o_2, o_3) = (a, b, c)$ ）。\n",
    "  結果として $M(\\theta)$ の最大値を与える選好タイプ $\\hat{\\theta}$ の順序を\n",
    "  社会選好順序として採択する。\n",
    "\n",
    "  $$\n",
    "  \\begin{aligned}\n",
    "      \\hat{\\theta} = \\underset{\\theta \\in \\Theta}{\\arg \\max} M(\\theta)\n",
    "  \\end{aligned}\n",
    "  $$\n",
    "\n",
    "  ただし，同じ最大値を与える$\\theta$が複数ある場合は，ペア比較が\n",
    "  引き分けとなっているペアが存在するので，該当するペアの間の関係は\n",
    "  無差別とする。\n",
    "\n",
    "- 任意の投票者 $i \\in N$ の選好順序において，ペア順序が無差別となる選択肢のペアは存在しないので，次式が成立する。\n",
    "\n",
    "  $$\n",
    "  \\forall o_1, o_2:  \\#(o_1 \\succ o_2) + \\#(o_2 \\succ o_1) = |N| \n",
    "  $$"
   ]
  },
  {
   "cell_type": "code",
   "execution_count": 25,
   "metadata": {},
   "outputs": [
    {
     "data": {
      "text/markdown": [
       "voter 0: &emsp;a $\\succ$ b $\\succ$ c  \n",
       "voter 1: &emsp;a $\\succ$ b $\\succ$ c  \n",
       "voter 2: &emsp;a $\\succ$ b $\\succ$ c  \n",
       "voter 3: &emsp;a $\\succ$ b $\\succ$ c  \n",
       "voter 4: &emsp;a $\\succ$ b $\\succ$ c  \n",
       "$\\quad \\vdots$"
      ]
     },
     "metadata": {},
     "output_type": "display_data"
    },
    {
     "data": {
      "text/markdown": [
       "$\\#$(a $\\succ$ b) == 39, &emsp; $\\#$(b $\\succ$ a) == 39  \n",
       "$\\#$(a $\\succ$ c) == 37, &emsp; $\\#$(c $\\succ$ a) == 41  \n",
       "$\\#$(b $\\succ$ c) == 37, &emsp; $\\#$(c $\\succ$ b) == 41"
      ]
     },
     "metadata": {},
     "output_type": "display_data"
    },
    {
     "data": {
      "text/markdown": [
       "M(a $\\succ$ b $\\succ$ c) == 113  \n",
       "M(a $\\succ$ c $\\succ$ b) == 117  \n",
       "M(b $\\succ$ a $\\succ$ c) == 113  \n",
       "M(b $\\succ$ c $\\succ$ a) == 117  \n",
       "M(c $\\succ$ a $\\succ$ b) == 121  \n",
       "M(c $\\succ$ b $\\succ$ a) == 121"
      ]
     },
     "metadata": {},
     "output_type": "display_data"
    },
    {
     "data": {
      "text/markdown": [
       "Condorcet-Young rule: &emsp; c $\\succ$ a $\\sim$ b  \n"
      ]
     },
     "metadata": {},
     "output_type": "display_data"
    }
   ],
   "source": [
    "import numpy as np\n",
    "import itertools as it\n",
    "import matplotlib.pyplot as plt\n",
    "import scipy.stats\n",
    "from IPython.display import display_markdown\n",
    "\n",
    "alternatives = ('a', 'b', 'c') \n",
    "prefs = np.array(tuple(it.permutations(alternatives)))\n",
    "\n",
    "if False:\n",
    "    num_voters = 100 #5 #6\n",
    "    profile_idx = scipy.stats.randint.rvs(0, len(prefs), size=num_voters)\n",
    "    profile = prefs[profile_idx]\n",
    "\n",
    "elif True:\n",
    "    # tally = {('a', 'b', 'c'): 37,\n",
    "    #          ('a', 'c', 'b'): 53,\n",
    "    #          ('c', 'a', 'b'): 12,\n",
    "    #          ('c', 'b', 'a'): 21,\n",
    "    #          ('b', 'c', 'a'): 65,\n",
    "    #          ('b', 'a', 'c'): 10}\n",
    "\n",
    "    # tally = {('a', 'b', 'c'): 15,\n",
    "    #          ('a', 'c', 'b'): 22,\n",
    "    #          ('c', 'a', 'b'): 2,\n",
    "    #          ('c', 'b', 'a'): 11,\n",
    "    #          ('b', 'c', 'a'): 22,\n",
    "    #          ('b', 'a', 'c'): 6}\n",
    "\n",
    "    # tally = {('a', 'b', 'c'): 13,\n",
    "    #          ('a', 'c', 'b'): 21,\n",
    "    #          ('c', 'a', 'b'): 3,\n",
    "    #          ('c', 'b', 'a'): 13,\n",
    "    #          ('b', 'c', 'a'): 23,\n",
    "    #          ('b', 'a', 'c'): 5}\n",
    "\n",
    "    # cycle: (a > b > c > a...) \n",
    "    # tally = {('a', 'b', 'c'): 18,\n",
    "    #          ('a', 'c', 'b'): 19,\n",
    "    #          ('c', 'a', 'b'): 8,\n",
    "    #          ('c', 'b', 'a'): 8,\n",
    "    #          ('b', 'c', 'a'): 25,\n",
    "    #          ('b', 'a', 'c'): 0}\n",
    "\n",
    "    v = [12, 22,  5, 14, 22,  3] # a-b tie\n",
    "    # v = [1, 1, 1, 1, 1, 1] # a-b-c tie\n",
    "    # v = [8, 8, 8, 8, 8, 8] # a-b-c tie\n",
    "\n",
    "    tally = {('a', 'b', 'c'): v[0],\n",
    "             ('a', 'c', 'b'): v[1],\n",
    "             ('c', 'a', 'b'): v[2],\n",
    "             ('c', 'b', 'a'): v[3],\n",
    "             ('b', 'c', 'a'): v[4],\n",
    "             ('b', 'a', 'c'): v[5]}\n",
    "\n",
    "    profile = np.array(tuple(it.chain.from_iterable(it.repeat(p, v) for p, v in tally.items())))\n",
    "    num_voters = len(profile) \n",
    "\n",
    "else:\n",
    "    profile = prefs\n",
    "    num_voters = len(profile) \n",
    "\n",
    "pref_str = lambda p: r' $\\succ$ '.join(p)\n",
    "# display_markdown('  \\n'.join(f'voter {i}: &emsp;' + pref_str(p) for i, p in enumerate(profile)), raw=True)\n",
    "display_markdown('  \\n'.join(f'voter {i}: &emsp;' + pref_str(p) for i, p in enumerate(profile) if i < 5)\n",
    "+ '  \\n' + r'$\\quad \\vdots$', raw=True)\n",
    "\n",
    "def is_preferred_to(pref, x, y):\n",
    "    pos_x = np.flatnonzero(pref == x)[0]\n",
    "    pos_y = np.flatnonzero(pref == y)[0]\n",
    "    return pos_x < pos_y\n",
    "\n",
    "pairwise_tally = {\n",
    "    cp: np.count_nonzero([is_preferred_to(p, *cp) for p in profile])\n",
    "        for cp in it.combinations(alternatives, 2)}  \n",
    "\n",
    "display_markdown('  \\n'.join(\n",
    "    f'$\\#$({pref_str(c)}) == {s}, &emsp; ' +  \n",
    "    f'$\\#$({pref_str(c[::-1])}) == {num_voters - s}' \n",
    "        for c, s in pairwise_tally.items()), raw=True)\n",
    "\n",
    "M = {tuple(th): 0 for th in prefs}\n",
    "\n",
    "# Note: #(o_1 \\succ o_2) + #(o_2 \\succ o_1) == num_voters for any o_1, o_2\n",
    "for th in M.keys():\n",
    "    for p in it.combinations(th, 2):\n",
    "        nv_p = pairwise_tally.get(p)\n",
    "        if nv_p == None:\n",
    "            nv_p = num_voters - pairwise_tally.get(p[::-1])\n",
    "        M[th] += nv_p\n",
    "    \n",
    "M_arr = np.array(tuple(M.values()))\n",
    "max_M = np.max(M_arr)\n",
    "idx = np.flatnonzero(M_arr == max_M) # There can be multiple occurrences of the max value\n",
    "\n",
    "if len(idx) > 1:\n",
    "    # ペア比較に引き分けがある場合の処理\n",
    "    md_txt = ''\n",
    "    prev_all_eq = False\n",
    "    for i, x in enumerate(prefs[idx].T):\n",
    "        all_eq = np.all(x[0] == x[1:])\n",
    "        if i > 0:\n",
    "            if (not all_eq) and (not prev_all_eq):\n",
    "                md_txt += r' $\\sim$ '\n",
    "            else: \n",
    "                md_txt += r' $\\succ$ '\n",
    "        prev_all_eq = all_eq\n",
    "        md_txt += x[0]\n",
    "else:\n",
    "    md_txt = pref_str(prefs[idx[0]])\n",
    "\n",
    "display_markdown('  \\n'.join(\n",
    "    f'M({pref_str(th)}) == {v}' for th, v in M.items()), raw=True)\n",
    "\n",
    "display_markdown(f'Condorcet-Young rule: &emsp; {md_txt}  \\n', raw=True)\n"
   ]
  },
  {
   "cell_type": "markdown",
   "metadata": {},
   "source": [
    "#### 解説\n",
    "- 以下の解説のセルを正常に実行するには Notebook の最初から順にセルを実行しておく必要がある。\n",
    "- 選好プロファイルの生成については，`ch10_plurality_voting.ipynb` を参照。\n",
    "- コンドルセ-ヤング・ルールの前半部分の処理はペア多数決\n",
    "  `ch10_pairwise_majority_rule.ipynb` と同様となっている。"
   ]
  },
  {
   "cell_type": "markdown",
   "metadata": {},
   "source": [
    "$M(\\theta)$ の最大値に関する処理\n",
    "```Python\n",
    "    M_arr = np.array(tuple(M.values()))\n",
    "    max_M = np.max(M_arr)\n",
    "    idx = np.flatnonzero(M_arr == max_M) \n",
    "```\n",
    "において，`idx` は `M_arr` の最大値に該当する要素のインデックスを全て含む配列となる。\n",
    "\n",
    "`len(idx) > 1` であれば，$M(\\theta)$ の比較で引き分けとなる選好タイプ\n",
    "$\\theta \\in \\Theta = \\{(a \\succ b \\succ c), \\ldots \\}$\n",
    "が存在する。"
   ]
  },
  {
   "cell_type": "code",
   "execution_count": 7,
   "metadata": {},
   "outputs": [
    {
     "name": "stdout",
     "output_type": "stream",
     "text": [
      "max_M == 121\n",
      "idx == array([4, 5], dtype=int64)\n",
      "M_arr[idx] == array([121, 121])\n",
      "prefs[idx] ==\n",
      " array([['c', 'a', 'b'],\n",
      "       ['c', 'b', 'a']], dtype='<U1')\n",
      "prefs[idx].T ==\n",
      " array([['c', 'c'],\n",
      "       ['a', 'b'],\n",
      "       ['b', 'a']], dtype='<U1')\n",
      "\n",
      "iterating over prefs[idx].T...\n",
      "i == 0\n",
      "x == array(['c', 'c'], dtype='<U1')\n",
      "i == 1\n",
      "x == array(['a', 'b'], dtype='<U1')\n",
      "i == 2\n",
      "x == array(['b', 'a'], dtype='<U1')\n"
     ]
    }
   ],
   "source": [
    "import numpy as np\n",
    "\n",
    "M = {('a', 'b', 'c'): 113,\n",
    "     ('a', 'c', 'b'): 117,\n",
    "     ('b', 'a', 'c'): 113,\n",
    "     ('b', 'c', 'a'): 117,\n",
    "     ('c', 'a', 'b'): 121,\n",
    "     ('c', 'b', 'a'): 121}\n",
    "\n",
    "# M = {('a', 'b', 'c'): 72,\n",
    "#      ('a', 'c', 'b'): 72,\n",
    "#      ('b', 'a', 'c'): 72,\n",
    "#      ('b', 'c', 'a'): 72,\n",
    "#      ('c', 'a', 'b'): 72,\n",
    "#      ('c', 'b', 'a'): 72}\n",
    "\n",
    "M_arr = np.array(tuple(M.values()))\n",
    "max_M = np.max(M_arr)\n",
    "print('max_M ==', max_M)\n",
    "\n",
    "idx = np.flatnonzero(M_arr == max_M) \n",
    "print('idx ==', repr(idx))\n",
    "print('M_arr[idx] ==', repr(M_arr[idx]))\n",
    "\n",
    "prefs = np.array(tuple(M.keys()))\n",
    "print('prefs[idx] ==\\n', repr(prefs[idx]))\n",
    "print('prefs[idx].T ==\\n', repr(prefs[idx].T))\n",
    "\n",
    "print('\\niterating over prefs[idx].T...')\n",
    "for i, x in enumerate(prefs[idx].T):\n",
    "    print('i ==', i)\n",
    "    print('x ==', repr(x))"
   ]
  },
  {
   "cell_type": "markdown",
   "metadata": {},
   "source": [
    "[`numpy.all(arr)`](https://numpy.org/doc/stable/reference/generated/numpy.all.html) は `arr` の要素が全て `True` であれば `True`，そうでなければ `False` を返す。"
   ]
  },
  {
   "cell_type": "code",
   "execution_count": 23,
   "metadata": {},
   "outputs": [
    {
     "name": "stdout",
     "output_type": "stream",
     "text": [
      "False\n",
      "True\n"
     ]
    }
   ],
   "source": [
    "import numpy as np\n",
    "\n",
    "print(np.all([True, False, False]))\n",
    "print(np.all([True, True, True]))"
   ]
  },
  {
   "cell_type": "markdown",
   "metadata": {},
   "source": [
    "コンドルセ-ヤング・ルールに関わる対数尤度の式（書籍10章参照）\n",
    "\n",
    "$$\n",
    "\\begin{aligned}\n",
    "L(\\theta) & = \\ln \\ell(\\theta)  = \\ln P( \\{k_j\\}_{j=1}^{J} \\mid \\theta) \n",
    "= \\sum_{j=1}^J \\ln P(k_j \\mid \\theta) \\\\\n",
    "& = \\underbrace{\\sum_{j=1}^J \\ln {}_n C_{k_j} + J n}_{\\text{const.}}+\n",
    "    \\underbrace{\\ln \\dfrac{\\mu}{1 - \\mu}}_{\\text{const.}}\n",
    "    \\sum_{j=1}^J {k_j} \n",
    "\\end{aligned}\n",
    "$$\n",
    "\n",
    "に現れる\n",
    "$\\ln \\dfrac{\\mu}{1-\\mu}$\n",
    "は対数オッズと呼ばれ，\n",
    "その値が正となるための条件は，$\\mu > \\dfrac{1}{2}$ となる。"
   ]
  },
  {
   "cell_type": "code",
   "execution_count": 26,
   "metadata": {},
   "outputs": [
    {
     "data": {
      "image/png": "[encoded data removed]",
      "text/plain": [
       "<Figure size 432x288 with 1 Axes>"
      ]
     },
     "metadata": {
      "needs_background": "light"
     },
     "output_type": "display_data"
    }
   ],
   "source": [
    "import numpy as np\n",
    "# import itertools as it\n",
    "import matplotlib.pyplot as plt\n",
    "\n",
    "plt.rcParams['mathtext.fontset'] = 'stix'\n",
    "plt.rcParams['ytick.labelsize'] = 'xx-large' #'large'\n",
    "plt.rcParams['xtick.labelsize'] = 'xx-large' #'large'\n",
    "plt.rcParams['axes.labelsize']  = 'xx-large' #'large'\n",
    "\n",
    "mu = np.linspace(0.1, 0.9, 100)\n",
    "fig, ax = plt.subplots(nrows=1, ncols=1)\n",
    "ax.plot(mu, np.log(mu) - np.log(1 - mu))\n",
    "ax.set_xlim(0, 1)\n",
    "ax.set_ylim(-2, 2)\n",
    "ax.set_xlabel('$\\mu$', fontsize='xx-large')\n",
    "ax.set_ylabel('$\\ln \\dfrac{\\mu}{1-\\mu}$', fontsize='xx-large')\n",
    "ax.grid()\n",
    "plt.savefig('log_odds.pdf', bbox_inches='tight')"
   ]
  },
  {
   "cell_type": "markdown",
   "metadata": {},
   "source": [
    "#### 参考文献\n",
    "- H.P. Young, ``Condorcet's Theory of Voting,'' American Political Science Review, Vol. 82, No. 4, 1988"
   ]
  }
 ],
 "metadata": {
  "interpreter": {
   "hash": "a077222d77dfe082b8f1dd562ad70e458ac2ab76993a0b248ab0476e32e9e8dd"
  },
  "kernelspec": {
   "display_name": "Python 3.8.5 ('base')",
   "language": "python",
   "name": "python3"
  },
  "language_info": {
   "codemirror_mode": {
    "name": "ipython",
    "version": 3
   },
   "file_extension": ".py",
   "mimetype": "text/x-python",
   "name": "python",
   "nbconvert_exporter": "python",
   "pygments_lexer": "ipython3",
   "version": "3.8.13"
  },
  "orig_nbformat": 4
 },
 "nbformat": 4,
 "nbformat_minor": 2
}
