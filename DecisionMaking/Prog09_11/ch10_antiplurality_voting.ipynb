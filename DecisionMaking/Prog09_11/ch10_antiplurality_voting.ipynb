{
 "cells": [
  {
   "cell_type": "markdown",
   "metadata": {},
   "source": [
    "### 反対多数決(反対単記投票)による選好プロファイルの集約\n",
    "- 各投票者は自身の選好順序において最下位の選択肢に対して，1票だけ投票する。\n",
    "- 結果として得票数が少ない順に選択肢を並べたときの順序を社会選好順序とする。\n",
    "- プログラムの実装上は，最下位の選択肢に -1 票を投票するものとして，得票数が多い順に並べる"
   ]
  },
  {
   "cell_type": "code",
   "execution_count": 1,
   "metadata": {},
   "outputs": [
    {
     "data": {
      "text/markdown": [
       "voter 0: &emsp;a $\\succ$ b $\\succ$ c  \n",
       "voter 1: &emsp;a $\\succ$ b $\\succ$ c  \n",
       "voter 2: &emsp;a $\\succ$ b $\\succ$ c  \n",
       "voter 3: &emsp;a $\\succ$ b $\\succ$ c  \n",
       "voter 4: &emsp;a $\\succ$ b $\\succ$ c  \n",
       "$\\quad \\vdots$"
      ]
     },
     "metadata": {},
     "output_type": "display_data"
    },
    {
     "name": "stdout",
     "output_type": "stream",
     "text": [
      "votes:  {'a': -90, 'b': -63, 'c': -45}\n"
     ]
    },
    {
     "data": {
      "text/markdown": [
       "a $\\succ$ b $\\succ$ c:&emsp; 30 voters  \n",
       "a $\\succ$ c $\\succ$ b:&emsp; 56 voters  \n",
       "c $\\succ$ a $\\succ$ b:&emsp; 7 voters  \n",
       "c $\\succ$ b $\\succ$ a:&emsp; 28 voters  \n",
       "b $\\succ$ c $\\succ$ a:&emsp; 62 voters  \n",
       "b $\\succ$ a $\\succ$ c:&emsp; 15 voters"
      ]
     },
     "metadata": {},
     "output_type": "display_data"
    },
    {
     "data": {
      "text/plain": [
       "Text(0.5, 0, 'num. vorters, $n$')"
      ]
     },
     "execution_count": 1,
     "metadata": {},
     "output_type": "execute_result"
    },
    {
     "data": {
      "image/png": "[encoded data removed]",
      "text/plain": [
       "<Figure size 432x288 with 1 Axes>"
      ]
     },
     "metadata": {
      "needs_background": "light"
     },
     "output_type": "display_data"
    }
   ],
   "source": [
    "import itertools as it\n",
    "import numpy as np\n",
    "# from scipy.stats import randint\n",
    "import scipy.stats\n",
    "import matplotlib.pyplot as plt\n",
    "from IPython.display import display_markdown\n",
    "\n",
    "plt.rcParams['ytick.labelsize'] = 'xx-large' #'large'\n",
    "plt.rcParams['xtick.labelsize'] = 'xx-large' #'large'\n",
    "plt.rcParams['axes.labelsize'] = 'xx-large' #'large'\n",
    "\n",
    "alternatives = ('a', 'b', 'c') \n",
    "prefs = np.array(tuple(it.permutations(alternatives)))\n",
    "\n",
    "if True:\n",
    "    # tally = {('a', 'b', 'c'): 37,\n",
    "    #          ('a', 'c', 'b'): 37,\n",
    "    #          ('c', 'a', 'b'): 24,\n",
    "    #          ('c', 'b', 'a'): 23,\n",
    "    #          ('b', 'c', 'a'): 41,\n",
    "    #          ('b', 'a', 'c'): 18}\n",
    "\n",
    "    tally = {('a', 'b', 'c'): 30,\n",
    "             ('a', 'c', 'b'): 56,\n",
    "             ('c', 'a', 'b'): 7,\n",
    "             ('c', 'b', 'a'): 28,\n",
    "             ('b', 'c', 'a'): 62,\n",
    "             ('b', 'a', 'c'): 15}\n",
    "\n",
    "    profile = np.array(tuple(it.chain.from_iterable(it.repeat(p, v) for p, v in tally.items())))\n",
    "\n",
    "else:\n",
    "    num_voters = 100 #5 #0\n",
    "    profile_idx = scipy.stats.randint.rvs(0, len(prefs), size=num_voters)\n",
    "    profile = prefs[profile_idx]\n",
    "\n",
    "    tally = {tuple(p): 0 for p in prefs}\n",
    "    for p in profile:\n",
    "        tally[tuple(p)] += 1\n",
    "\n",
    "pref_str = lambda p: r' $\\succ$ '.join(p)\n",
    "display_markdown('  \\n'.join(f'voter {i}: &emsp;' + pref_str(p) for i, p in enumerate(profile) if i < 5)\n",
    "                 + '  \\n' + r'$\\quad \\vdots$', raw=True)\n",
    "votes = {x: 0 for x in alternatives}\n",
    "pos = -1 #0 #\n",
    "for x in profile[:, pos]:\n",
    "    votes[x] -= 1\n",
    "print('votes: ', votes)\n",
    "\n",
    "display_markdown('  \\n'.join(pref_str(k) + f':&emsp;{v: 2d} voters' for k,v in tally.items()), raw=True)\n",
    "\n",
    "plt.figure()\n",
    "plt.barh(np.arange(len(tally.keys()))[::-1], \n",
    "         np.array(tuple(tally.values())),\n",
    "         tick_label=[pref_str(k) for k in tally.keys()])\n",
    "plt.xlabel('num. vorters, $n$')"
   ]
  },
  {
   "cell_type": "markdown",
   "metadata": {},
   "source": [
    "#### 解説\n",
    "- 反対多数決は，ほぼ単純多数決(単記投票)と同じなので，解説については単純多数決の Notebook \n",
    "(`ch10_plurality_voting.ipynb`) を参照されたい。"
   ]
  }
 ],
 "metadata": {
  "kernelspec": {
   "display_name": "Python 3.8.13 ('base')",
   "language": "python",
   "name": "python3"
  },
  "language_info": {
   "codemirror_mode": {
    "name": "ipython",
    "version": 3
   },
   "file_extension": ".py",
   "mimetype": "text/x-python",
   "name": "python",
   "nbconvert_exporter": "python",
   "pygments_lexer": "ipython3",
   "version": "3.8.13"
  },
  "orig_nbformat": 4,
  "vscode": {
   "interpreter": {
    "hash": "a077222d77dfe082b8f1dd562ad70e458ac2ab76993a0b248ab0476e32e9e8dd"
   }
  }
 },
 "nbformat": 4,
 "nbformat_minor": 2
}
